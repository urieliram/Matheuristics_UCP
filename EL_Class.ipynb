{
  "cells": [
    {
      "cell_type": "markdown",
      "metadata": {
        "id": "view-in-github",
        "colab_type": "text"
      },
      "source": [
        "<a href=\"https://colab.research.google.com/github/urieliram/tc_uc/blob/main/EL_Class.ipynb\" target=\"_parent\"><img src=\"https://colab.research.google.com/assets/colab-badge.svg\" alt=\"Open In Colab\"/></a>"
      ]
    },
    {
      "cell_type": "code",
      "execution_count": 1,
      "metadata": {
        "id": "WUfiFBByvlqS",
        "colab": {
          "resources": {
            "http://localhost:8080/nbextensions/google.colab/files.js": {
              "data": "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",
              "ok": true,
              "headers": [
                [
                  "content-type",
                  "application/javascript"
                ]
              ],
              "status": 200,
              "status_text": ""
            }
          },
          "base_uri": "https://localhost:8080/",
          "height": 91
        },
        "outputId": "4fc127c2-c748-47d7-e8a0-8d247187f66f"
      },
      "outputs": [
        {
          "output_type": "display_data",
          "data": {
            "text/plain": [
              "<IPython.core.display.HTML object>"
            ],
            "text/html": [
              "\n",
              "     <input type=\"file\" id=\"files-1c294822-6d8e-4a11-8dcb-b8207322ccfa\" name=\"files[]\" multiple disabled\n",
              "        style=\"border:none\" />\n",
              "     <output id=\"result-1c294822-6d8e-4a11-8dcb-b8207322ccfa\">\n",
              "      Upload widget is only available when the cell has been executed in the\n",
              "      current browser session. Please rerun this cell to enable.\n",
              "      </output>\n",
              "      <script src=\"/nbextensions/google.colab/files.js\"></script> "
            ]
          },
          "metadata": {}
        },
        {
          "output_type": "stream",
          "name": "stdout",
          "text": [
            "Saving dirdat.rar to dirdat (1).rar\n",
            "User uploaded file \"dirdat.rar\" with length 680934 bytes\n"
          ]
        }
      ],
      "source": [
        "from google.colab import files\n",
        "\n",
        "uploaded = files.upload()\n",
        "\n",
        "for fn in uploaded.keys():\n",
        "  print('User uploaded file \"{name}\" with length {length} bytes'.format(\n",
        "      name=fn, length=len(uploaded[fn])))"
      ]
    },
    {
      "cell_type": "code",
      "source": [
        "!pip install unrar\n",
        "!unrar x \"/content/dirdat.rar\""
      ],
      "metadata": {
        "id": "NXqkJKwZiCRJ"
      },
      "execution_count": null,
      "outputs": []
    },
    {
      "cell_type": "code",
      "execution_count": null,
      "metadata": {
        "id": "B5smbxR4vWb8"
      },
      "outputs": [],
      "source": [
        "!unzip \"dirdat_2_sept-20220608T234128Z-001.zip\" -d \"/content\""
      ]
    },
    {
      "cell_type": "code",
      "source": [
        "from os import listdir\n",
        "from os.path import isfile, join\n",
        "import numpy as np"
      ],
      "metadata": {
        "id": "_IwFYTDCEQmg"
      },
      "execution_count": 9,
      "outputs": []
    },
    {
      "cell_type": "markdown",
      "source": [
        "##Testing"
      ],
      "metadata": {
        "id": "AaV3dao8mon5"
      }
    },
    {
      "cell_type": "code",
      "source": [
        "def validateFiles():\n",
        "  f = open(\"/content/catalogo.txt\",\"r\")\n",
        "  validFiles = [i.replace(\"\\n\",\"\") for i in f]\n",
        "  f.close()\n",
        "  onlyfiles = [f.split(\".\")[0] for f in listdir(\"/content/output\") if isfile(join(\"/content/output\", f))]\n",
        "  for i in validFiles:\n",
        "    if i not in onlyfiles:\n",
        "      return False\n",
        "  return True"
      ],
      "metadata": {
        "id": "y50hHgO5L8gE"
      },
      "execution_count": null,
      "outputs": []
    },
    {
      "cell_type": "code",
      "source": [
        "def docSumByColum(fileName):\n",
        "  data = np.transpose(np.genfromtxt('/content/output/{}.csv'.format(fileName), delimiter=','))\n",
        "  return [sum(i) for i in data][:-1]"
      ],
      "metadata": {
        "id": "qfgSth4RO6Ga"
      },
      "execution_count": null,
      "outputs": []
    },
    {
      "cell_type": "code",
      "source": [
        "def extractFromFile(generator,file,method=\"col\",col=None):\n",
        "  if method == \"min\":\n",
        "    return min(np.genfromtxt(\"/content/output/{}.csv\".format(file), delimiter=',')[generator])\n",
        "  if method == \"max\":\n",
        "    return max(np.genfromtxt(\"/content/output/{}.csv\".format(file), delimiter=',')[generator])\n",
        "  if method == \"col\":\n",
        "    return np.genfromtxt(\"/content/output/{}.csv\".format(file), delimiter=',')[generator][col]"
      ],
      "metadata": {
        "id": "wYIwGharPGdx"
      },
      "execution_count": null,
      "outputs": []
    },
    {
      "cell_type": "code",
      "source": [
        "def extractFromFileByRange(generator,file,rang,pos1=0,pos2=1):\n",
        "  data = np.genfromtxt(\"/content/output/{}.csv\".format(file), delimiter=',')\n",
        "  lag = [0]\n",
        "  cost = [0]\n",
        "  for i,j in enumerate(data[generator*rang:(generator*rang)+rang]):\n",
        "    if j[pos1] != 0 and j[pos2] != 0:\n",
        "      if i == 0:\n",
        "        lag[0] = j[pos1]\n",
        "        cost[0] = j[pos2]\n",
        "      else:\n",
        "        lag.append(lag[-1]+j[pos1])\n",
        "        cost.append(j[pos2])\n",
        "  return lag,cost"
      ],
      "metadata": {
        "id": "hwjujtAuZNmI"
      },
      "execution_count": null,
      "outputs": []
    },
    {
      "cell_type": "code",
      "source": [
        "gRCNum = len(np.genfromtxt(\"/content/output/UNITRC.csv\", delimiter=','))\n",
        "gHNum = len(np.genfromtxt(\"/content/output/UNIHMDA.csv\", delimiter=','))\n",
        "gRNum = len(np.genfromtxt(\"/content/output/UNITRE.csv\", delimiter=','))\n",
        "gCarNum = len(np.genfromtxt(\"/content/output/CARGAS.csv\", delimiter=','))\n",
        "\n",
        "result = {\n",
        "    \"time_periods\" : np.genfromtxt('/content/output/HORIZOMDA.csv', delimiter=',')[0],\n",
        "    \"demand\": docSumByColum(\"PRODEM\"),\n",
        "    \"reserves\": docSumByColum(\"RRESUS\")\n",
        "}"
      ],
      "metadata": {
        "id": "8Zpp2RMDMeEo",
        "colab": {
          "base_uri": "https://localhost:8080/",
          "height": 396
        },
        "outputId": "5bb6302e-3ea7-4b92-fb2e-df29536215c4"
      },
      "execution_count": null,
      "outputs": [
        {
          "output_type": "error",
          "ename": "OSError",
          "evalue": "ignored",
          "traceback": [
            "\u001b[0;31m---------------------------------------------------------------------------\u001b[0m",
            "\u001b[0;31mOSError\u001b[0m                                   Traceback (most recent call last)",
            "\u001b[0;32m<ipython-input-9-db9afceff286>\u001b[0m in \u001b[0;36m<module>\u001b[0;34m()\u001b[0m\n\u001b[0;32m----> 1\u001b[0;31m \u001b[0mgRCNum\u001b[0m \u001b[0;34m=\u001b[0m \u001b[0mlen\u001b[0m\u001b[0;34m(\u001b[0m\u001b[0mnp\u001b[0m\u001b[0;34m.\u001b[0m\u001b[0mgenfromtxt\u001b[0m\u001b[0;34m(\u001b[0m\u001b[0;34m\"/content/output/UNITRC.csv\"\u001b[0m\u001b[0;34m,\u001b[0m \u001b[0mdelimiter\u001b[0m\u001b[0;34m=\u001b[0m\u001b[0;34m','\u001b[0m\u001b[0;34m)\u001b[0m\u001b[0;34m)\u001b[0m\u001b[0;34m\u001b[0m\u001b[0;34m\u001b[0m\u001b[0m\n\u001b[0m\u001b[1;32m      2\u001b[0m \u001b[0mgHNum\u001b[0m \u001b[0;34m=\u001b[0m \u001b[0mlen\u001b[0m\u001b[0;34m(\u001b[0m\u001b[0mnp\u001b[0m\u001b[0;34m.\u001b[0m\u001b[0mgenfromtxt\u001b[0m\u001b[0;34m(\u001b[0m\u001b[0;34m\"/content/output/UNIHMDA.csv\"\u001b[0m\u001b[0;34m,\u001b[0m \u001b[0mdelimiter\u001b[0m\u001b[0;34m=\u001b[0m\u001b[0;34m','\u001b[0m\u001b[0;34m)\u001b[0m\u001b[0;34m)\u001b[0m\u001b[0;34m\u001b[0m\u001b[0;34m\u001b[0m\u001b[0m\n\u001b[1;32m      3\u001b[0m \u001b[0mgRNum\u001b[0m \u001b[0;34m=\u001b[0m \u001b[0mlen\u001b[0m\u001b[0;34m(\u001b[0m\u001b[0mnp\u001b[0m\u001b[0;34m.\u001b[0m\u001b[0mgenfromtxt\u001b[0m\u001b[0;34m(\u001b[0m\u001b[0;34m\"/content/output/UNITRE.csv\"\u001b[0m\u001b[0;34m,\u001b[0m \u001b[0mdelimiter\u001b[0m\u001b[0;34m=\u001b[0m\u001b[0;34m','\u001b[0m\u001b[0;34m)\u001b[0m\u001b[0;34m)\u001b[0m\u001b[0;34m\u001b[0m\u001b[0;34m\u001b[0m\u001b[0m\n\u001b[1;32m      4\u001b[0m \u001b[0mgCarNum\u001b[0m \u001b[0;34m=\u001b[0m \u001b[0mlen\u001b[0m\u001b[0;34m(\u001b[0m\u001b[0mnp\u001b[0m\u001b[0;34m.\u001b[0m\u001b[0mgenfromtxt\u001b[0m\u001b[0;34m(\u001b[0m\u001b[0;34m\"/content/output/CARGAS.csv\"\u001b[0m\u001b[0;34m,\u001b[0m \u001b[0mdelimiter\u001b[0m\u001b[0;34m=\u001b[0m\u001b[0;34m','\u001b[0m\u001b[0;34m)\u001b[0m\u001b[0;34m)\u001b[0m\u001b[0;34m\u001b[0m\u001b[0;34m\u001b[0m\u001b[0m\n\u001b[1;32m      5\u001b[0m \u001b[0;34m\u001b[0m\u001b[0m\n",
            "\u001b[0;32m/usr/local/lib/python3.7/dist-packages/numpy/lib/npyio.py\u001b[0m in \u001b[0;36mgenfromtxt\u001b[0;34m(fname, dtype, comments, delimiter, skip_header, skip_footer, converters, missing_values, filling_values, usecols, names, excludelist, deletechars, replace_space, autostrip, case_sensitive, defaultfmt, unpack, usemask, loose, invalid_raise, max_rows, encoding, like)\u001b[0m\n\u001b[1;32m   1791\u001b[0m             \u001b[0mfname\u001b[0m \u001b[0;34m=\u001b[0m \u001b[0mos_fspath\u001b[0m\u001b[0;34m(\u001b[0m\u001b[0mfname\u001b[0m\u001b[0;34m)\u001b[0m\u001b[0;34m\u001b[0m\u001b[0;34m\u001b[0m\u001b[0m\n\u001b[1;32m   1792\u001b[0m         \u001b[0;32mif\u001b[0m \u001b[0misinstance\u001b[0m\u001b[0;34m(\u001b[0m\u001b[0mfname\u001b[0m\u001b[0;34m,\u001b[0m \u001b[0mstr\u001b[0m\u001b[0;34m)\u001b[0m\u001b[0;34m:\u001b[0m\u001b[0;34m\u001b[0m\u001b[0;34m\u001b[0m\u001b[0m\n\u001b[0;32m-> 1793\u001b[0;31m             \u001b[0mfid\u001b[0m \u001b[0;34m=\u001b[0m \u001b[0mnp\u001b[0m\u001b[0;34m.\u001b[0m\u001b[0mlib\u001b[0m\u001b[0;34m.\u001b[0m\u001b[0m_datasource\u001b[0m\u001b[0;34m.\u001b[0m\u001b[0mopen\u001b[0m\u001b[0;34m(\u001b[0m\u001b[0mfname\u001b[0m\u001b[0;34m,\u001b[0m \u001b[0;34m'rt'\u001b[0m\u001b[0;34m,\u001b[0m \u001b[0mencoding\u001b[0m\u001b[0;34m=\u001b[0m\u001b[0mencoding\u001b[0m\u001b[0;34m)\u001b[0m\u001b[0;34m\u001b[0m\u001b[0;34m\u001b[0m\u001b[0m\n\u001b[0m\u001b[1;32m   1794\u001b[0m             \u001b[0mfid_ctx\u001b[0m \u001b[0;34m=\u001b[0m \u001b[0mcontextlib\u001b[0m\u001b[0;34m.\u001b[0m\u001b[0mclosing\u001b[0m\u001b[0;34m(\u001b[0m\u001b[0mfid\u001b[0m\u001b[0;34m)\u001b[0m\u001b[0;34m\u001b[0m\u001b[0;34m\u001b[0m\u001b[0m\n\u001b[1;32m   1795\u001b[0m         \u001b[0;32melse\u001b[0m\u001b[0;34m:\u001b[0m\u001b[0;34m\u001b[0m\u001b[0;34m\u001b[0m\u001b[0m\n",
            "\u001b[0;32m/usr/local/lib/python3.7/dist-packages/numpy/lib/_datasource.py\u001b[0m in \u001b[0;36mopen\u001b[0;34m(path, mode, destpath, encoding, newline)\u001b[0m\n\u001b[1;32m    191\u001b[0m \u001b[0;34m\u001b[0m\u001b[0m\n\u001b[1;32m    192\u001b[0m     \u001b[0mds\u001b[0m \u001b[0;34m=\u001b[0m \u001b[0mDataSource\u001b[0m\u001b[0;34m(\u001b[0m\u001b[0mdestpath\u001b[0m\u001b[0;34m)\u001b[0m\u001b[0;34m\u001b[0m\u001b[0;34m\u001b[0m\u001b[0m\n\u001b[0;32m--> 193\u001b[0;31m     \u001b[0;32mreturn\u001b[0m \u001b[0mds\u001b[0m\u001b[0;34m.\u001b[0m\u001b[0mopen\u001b[0m\u001b[0;34m(\u001b[0m\u001b[0mpath\u001b[0m\u001b[0;34m,\u001b[0m \u001b[0mmode\u001b[0m\u001b[0;34m,\u001b[0m \u001b[0mencoding\u001b[0m\u001b[0;34m=\u001b[0m\u001b[0mencoding\u001b[0m\u001b[0;34m,\u001b[0m \u001b[0mnewline\u001b[0m\u001b[0;34m=\u001b[0m\u001b[0mnewline\u001b[0m\u001b[0;34m)\u001b[0m\u001b[0;34m\u001b[0m\u001b[0;34m\u001b[0m\u001b[0m\n\u001b[0m\u001b[1;32m    194\u001b[0m \u001b[0;34m\u001b[0m\u001b[0m\n\u001b[1;32m    195\u001b[0m \u001b[0;34m\u001b[0m\u001b[0m\n",
            "\u001b[0;32m/usr/local/lib/python3.7/dist-packages/numpy/lib/_datasource.py\u001b[0m in \u001b[0;36mopen\u001b[0;34m(self, path, mode, encoding, newline)\u001b[0m\n\u001b[1;32m    531\u001b[0m                                       encoding=encoding, newline=newline)\n\u001b[1;32m    532\u001b[0m         \u001b[0;32melse\u001b[0m\u001b[0;34m:\u001b[0m\u001b[0;34m\u001b[0m\u001b[0;34m\u001b[0m\u001b[0m\n\u001b[0;32m--> 533\u001b[0;31m             \u001b[0;32mraise\u001b[0m \u001b[0mIOError\u001b[0m\u001b[0;34m(\u001b[0m\u001b[0;34m\"%s not found.\"\u001b[0m \u001b[0;34m%\u001b[0m \u001b[0mpath\u001b[0m\u001b[0;34m)\u001b[0m\u001b[0;34m\u001b[0m\u001b[0;34m\u001b[0m\u001b[0m\n\u001b[0m\u001b[1;32m    534\u001b[0m \u001b[0;34m\u001b[0m\u001b[0m\n\u001b[1;32m    535\u001b[0m \u001b[0;34m\u001b[0m\u001b[0m\n",
            "\u001b[0;31mOSError\u001b[0m: /content/output/UNITRC.csv not found."
          ]
        }
      ]
    },
    {
      "cell_type": "code",
      "source": [
        "gen = {}\n",
        "for i in range(gRCNum):\n",
        "  tmp = {\n",
        "    \"must_run\": 0,\n",
        "    \"name\": \"G{}\".format(str(i+1))\n",
        "  }\n",
        "  tmp[\"power_output_minimum\"] = extractFromFile(generator=i,file=\"LIUNITRC\",method=\"min\")\n",
        "  tmp[\"power_output_maximum\"] = extractFromFile(generator=i,file=\"LSUNITRC\",method=\"max\")\n",
        "  tmp[\"ramp_up_limit\"] = extractFromFile(generator=i,file=\"RAMPASRC\",col = 0)\n",
        "  tmp[\"ramp_down_limit\"] = extractFromFile(generator=i,file=\"RAMPASRC\",col = 1)\n",
        "  tmp[\"ramp_startup_limit\"] = extractFromFile(generator=i,file=\"ARRARC\",col = 3)\n",
        "  tmp[\"ramp_shutdown_limit\"] = extractFromFile(generator=i,file=\"RAMPASRC\",col = 1)\n",
        "  tmp[\"time_up_minimum\"] = int(extractFromFile(generator=i,file=\"OPPARORC\",col = 1))\n",
        "  tmp[\"time_down_minimum\"] = int(extractFromFile(generator=i,file=\"OPPARORC\",col = 0))\n",
        "  tmp[\"power_output_t0\"] = extractFromFile(generator=i,file=\"UNITRCCI\",col = 2)\n",
        "  tmp[\"unit_on_t0\"] = 0 if extractFromFile(generator=i,file=\"UNITRCCI\",col = 0) == 0 else 1\n",
        "  tmp[\"time_up_t0\"] = 0 if extractFromFile(generator=i,file=\"UNITRCCI\",col = 0) == 0 else 1\n",
        "  tmp[\"time_down_t0\"] = 1 if tmp[\"unit_on_t0\"] == 0 else 0\n",
        "  tmp[\"fixed_cost\"] = extractFromFile(generator=i,file=\"CGMRC\", method = \"max\")\n",
        "  lag,cost = extractFromFileByRange(i,\"COVAARRC\",7)\n",
        "  tmp_lc = []\n",
        "  for j,k in zip(lag,cost):\n",
        "    tmp_lc.append({\"lag\":int(j),\"cost\":k})\n",
        "  mw,_ = extractFromFileByRange(i,\"POTVERC\",11)\n",
        "  cst,_ = extractFromFileByRange(i,\"PREVERC\",11)\n",
        "  mw[0] = mw[0] + tmp[\"power_output_minimum\"]\n",
        "  tmp_mc = []\n",
        "  for j,k in enumerate(zip(mw,cst)):\n",
        "    tmp_mc.append({\"mw\":j,\"cost\":k[1]})\n",
        "  tmp[\"startup\"] = tmp_lc\n",
        "  tmp[\"piecewise_production\"] = tmp_mc\n",
        "  gen[\"G\"+str(i+1)] = tmp\n",
        "result[\"thermal_generators\"] = gen"
      ],
      "metadata": {
        "id": "JNsw8q6JO060"
      },
      "execution_count": null,
      "outputs": []
    },
    {
      "cell_type": "code",
      "source": [
        "gen = {}\n",
        "for i in range(gHNum):\n",
        "  tmp = {\n",
        "    \"must_run\": 0,\n",
        "    \"name\": \"H{}\".format(str(i+1))\n",
        "  }\n",
        "  tmp[\"power_output_minimum\"] = extractFromFile(generator=i,file=\"LIUNIH\",method=\"min\")\n",
        "  tmp[\"power_output_maximum\"] = extractFromFile(generator=i,file=\"LSUNIH\",method=\"max\")\n",
        "  tmp[\"ramp_up_limit\"] = extractFromFile(generator=i,file=\"RAMPASH\",col = 0)\n",
        "  tmp[\"ramp_down_limit\"] = extractFromFile(generator=i,file=\"RAMPASH\",col = 1)\n",
        "  tmp[\"ramp_startup_limit\"] = 0\n",
        "  tmp[\"ramp_shutdown_limit\"] = 0\n",
        "  tmp[\"time_up_minimum\"] = 0\n",
        "  tmp[\"time_down_minimum\"] = 0\n",
        "  tmp[\"power_output_t0\"] = 0\n",
        "  tmp[\"unit_on_t0\"] = 0 if extractFromFile(generator=i,file=\"UNIHCI\",col = 0) == 0 else 1\n",
        "  tmp[\"unit_up_t0\"] = 0 if extractFromFile(generator=i,file=\"UNIHCI\",col = 0) == 0 else 1\n",
        "  tmp[\"time_down_t0\"] = 1 if tmp[\"unit_on_t0\"] == 0 else 0\n",
        "  tmp[\"startup\"] = [{\"lag\":0,\"cost\":0}]\n",
        "  tmp[\"piecewise_production\"] = [{\"mw\":0,\"cost\":0}]\n",
        "  gen[\"H\"+str(i+1)] = tmp\n",
        "result[\"hydro_generators\"] = gen"
      ],
      "metadata": {
        "id": "SOJ3LdVBgozG"
      },
      "execution_count": null,
      "outputs": []
    },
    {
      "cell_type": "code",
      "source": [
        "gen = {}\n",
        "for i in range(gRNum):\n",
        "  tmp = {\n",
        "    \"must_run\": 0,\n",
        "    \"name\": \"E{}\".format(str(i+1))\n",
        "  }\n",
        "  tmp[\"power_output_minimum\"] = extractFromFile(generator=i,file=\"LIUNITRE\",method=\"min\")\n",
        "  tmp[\"power_output_maximum\"] = extractFromFile(generator=i,file=\"LIUNITRE\",method=\"max\")\n",
        "  mw,_ = extractFromFileByRange(i,\"POTVERE\",11)\n",
        "  cst,_ = extractFromFileByRange(i,\"PREVERE\",11)\n",
        "  mw[0] = mw[0] + tmp[\"power_output_minimum\"]\n",
        "  tmp_mc = []\n",
        "  for j,k in enumerate(zip(mw,cst)):\n",
        "    tmp_mc.append({\"mw\":sum(mw[:j]),\"cost\":k[1]})\n",
        "  tmp[\"piecewise_production\"] = tmp_mc\n",
        "  gen[\"E\"+str(i+1)] = tmp\n",
        "result[\"renewable_generators\"] = gen"
      ],
      "metadata": {
        "id": "KiofQGTvj1D3"
      },
      "execution_count": null,
      "outputs": []
    },
    {
      "cell_type": "code",
      "source": [
        "gen = {}\n",
        "for i in range(gCarNum):\n",
        "  tmp = {\n",
        "    \"must_run\": 0,\n",
        "    \"name\": \"l{}\".format(str(i+1))\n",
        "  }\n",
        "  tmp[\"fixed_load\"] = extractFromFile(generator=i,file=\"CARFIJA\",method=\"col\",col=0)\n",
        "  mw,_ = extractFromFileByRange(i,\"POTCOCAR\",11)\n",
        "  cst,_ = extractFromFileByRange(i,\"PRECOCAR\",11)\n",
        "  mw[0] = mw[0] + tmp[\"fixed_load\"]\n",
        "  tmp_mc = []\n",
        "  for j,k in enumerate(zip(mw,cst)):\n",
        "    tmp_mc.append({\"mw\":sum(mw[:j]),\"cost\":k[1]})\n",
        "  tmp[\"piecewise_production\"] = tmp_mc\n",
        "  gen[\"l\"+str(i+1)] = tmp\n",
        "result[\"loads\"] = gen"
      ],
      "metadata": {
        "id": "kcOEAgwVkmU3"
      },
      "execution_count": null,
      "outputs": []
    },
    {
      "cell_type": "markdown",
      "source": [
        "##Final"
      ],
      "metadata": {
        "id": "z1r1-kchmu64"
      }
    },
    {
      "cell_type": "code",
      "source": [
        "from os import listdir\n",
        "from os.path import isfile, join\n",
        "import numpy as np\n",
        "\n",
        "class Generators:\n",
        "  def __init__(self,path,catalogo):\n",
        "    self.path = path\n",
        "    self.cat = catalogo\n",
        "\n",
        "  def validateFiles(self):\n",
        "    returnable = True\n",
        "    f = open(\"{}\".format(self.cat),\"r\")\n",
        "    validFiles = [i.replace(\"\\n\",\"\") for i in f]\n",
        "    f.close()\n",
        "    onlyfiles = [f.split(\".\")[0] for f in listdir(\"{}\".format(self.path)) if isfile(join(\"{}\".format(self.path), f))]\n",
        "    for i in validFiles:\n",
        "      if i not in onlyfiles:\n",
        "        print(i)\n",
        "        returnable = False\n",
        "    return returnable\n",
        "\n",
        "  def docSumByColum(self,fileName):\n",
        "    data = np.transpose(np.genfromtxt('{}/{}.csv'.format(self.path,fileName), delimiter=','))\n",
        "    return [sum(i) for i in data][:-1]\n",
        "\n",
        "  def extractFromFile(self,generator,file,method=\"col\",col=None):\n",
        "    if method == \"min\":\n",
        "      return min(file[generator])\n",
        "    if method == \"max\":\n",
        "      return max(file[generator])\n",
        "    if method == \"col\":\n",
        "      return file[generator][col]  \n",
        "\n",
        "  def extractFromFileByRange(self,generator,file,rang,min_val=0,pos1=0,pos2=1,method=\"mw\"):\n",
        "    lag = [min_val]\n",
        "    cost = [0]\n",
        "    for i,j in enumerate(file[generator*rang:(generator*rang)+rang]):\n",
        "      if j[pos1] != 0 and j[pos2] != 0:\n",
        "        if i == 0:\n",
        "          lag[0] = min_val\n",
        "          cost[0] = j[pos2]\n",
        "        else:\n",
        "          if method == \"lag\":\n",
        "            lag.append(j[pos1])\n",
        "          else:\n",
        "            lag.append(lag[-1]+j[pos1])\n",
        "          cost.append(j[pos2])\n",
        "    return lag,cost\n",
        "\n",
        "  def start(self):\n",
        "    if self.validateFiles() is False:\n",
        "      return \"Faltan archivos\"\n",
        "\n",
        "    gRCNum  = len(np.genfromtxt(\"{}/UNITRC.csv\".format(self.path), delimiter=','))\n",
        "    gHNum   = len(np.genfromtxt(\"{}/UNIHMDA.csv\".format(self.path), delimiter=','))\n",
        "    gRNum   = len(np.genfromtxt(\"{}/UNITRE.csv\".format(self.path), delimiter=','))\n",
        "    gCarNum = len(np.genfromtxt(\"{}/CARGAS.csv\".format(self.path), delimiter=','))\n",
        "\n",
        "    result = {\n",
        "        \"time_periods\" : int(np.genfromtxt('{}/HORIZOMDA.csv'.format(self.path), delimiter=',')[0]),\n",
        "        \"demand\": self.docSumByColum(\"PRODEM\"),\n",
        "        \"reserves\": self.docSumByColum(\"RRESUS\")\n",
        "    }\n",
        "\n",
        "    gen = {}\n",
        "    print(\"Generando datos de generadores térmicos\")\n",
        "    LIUNITRC = np.genfromtxt(\"{}/LIUNITRC.csv\".format(self.path), delimiter=',')\n",
        "    LSUNITRC = np.genfromtxt(\"{}/LSUNITRC.csv\".format(self.path), delimiter=',')\n",
        "    RAMPASRC = np.genfromtxt(\"{}/RAMPASRC.csv\".format(self.path), delimiter=',')\n",
        "    ARRARC   = np.genfromtxt(\"{}/ARRARC.csv\".format(self.path),   delimiter=',')\n",
        "    OPPARORC = np.genfromtxt(\"{}/OPPARORC.csv\".format(self.path), delimiter=',')\n",
        "    UNITRCCI = np.genfromtxt(\"{}/UNITRCCI.csv\".format(self.path), delimiter=',')\n",
        "    CGMRC    = np.genfromtxt(\"{}/CGMRC.csv\".format(self.path),    delimiter=',')\n",
        "    COVAARRC = np.genfromtxt(\"{}/COVAARRC.csv\".format(self.path), delimiter=',')\n",
        "    POTVERC  = np.genfromtxt(\"{}/POTVERC.csv\".format(self.path),  delimiter=',')\n",
        "    PREVERC  = np.genfromtxt(\"{}/PREVERC.csv\".format(self.path),  delimiter=',')\n",
        "\n",
        "    for i in range(gRCNum):\n",
        "      if self.extractFromFile(generator=i,file=LIUNITRC,method=\"min\") != self.extractFromFile(generator=i,file=LSUNITRC,method=\"max\"):\n",
        "        if self.extractFromFile(generator=i,file=LSUNITRC,method=\"max\") != 0:\n",
        "          tmp = {\n",
        "            \"must_run\": 0,\n",
        "            \"name\": \"G{}\".format(str(i+1))\n",
        "          }\n",
        "          tmp[\"power_output_minimum\"] = self.extractFromFile(generator=i,file=LIUNITRC,method=\"min\")\n",
        "          tmp[\"power_output_maximum\"] = self.extractFromFile(generator=i,file=LSUNITRC,method=\"max\")\n",
        "          tmp[\"ramp_up_limit\"       ] = self.extractFromFile(generator=i,file=RAMPASRC,col = 0)\n",
        "          tmp[\"ramp_down_limit\"     ] = self.extractFromFile(generator=i,file=RAMPASRC,col = 1)\n",
        "          tmp[\"ramp_startup_limit\"  ] = self.extractFromFile(generator=i,file=ARRARC,col = 3)\n",
        "          tmp[\"ramp_shutdown_limit\" ] =  self.extractFromFile(generator=i,file=ARRARC,col = 3) #self.extractFromFile(generator=i,file=RAMPASRC,col = 1)\n",
        "          tmp[\"time_up_minimum\"     ] = int(self.extractFromFile(generator=i,file=OPPARORC,col = 1))\n",
        "          tmp[\"time_down_minimum\"   ] = int(self.extractFromFile(generator=i,file=OPPARORC,col = 0))\n",
        "          tmp[\"power_output_t0\"     ] = self.extractFromFile(generator=i,file=UNITRCCI,col = 2)\n",
        "          tmp[\"unit_on_t0\"          ] = 0 if self.extractFromFile(generator=i,file=UNITRCCI,col = 0) == 0 else 1\n",
        "          if tmp[\"unit_on_t0\"       ] == 0:\n",
        "              tmp[\"time_up_t0\"      ] = 0\n",
        "              tmp[\"time_down_t0\"    ] = self.extractFromFile(generator=i,file=UNITRCCI,col = 1)\n",
        "          else:\n",
        "              tmp[\"time_up_t0\"] = self.extractFromFile(generator=i,file=UNITRCCI,col = 1)\n",
        "              tmp[\"time_down_t0\"] = 0\n",
        "\n",
        "          tmp[\"fixed_cost\"] = self.extractFromFile(generator=i,file=CGMRC, method = \"max\")\n",
        "\n",
        "          lag,cost = self.extractFromFileByRange(i,COVAARRC,7,min_val= tmp['time_down_minimum'], method = \"lag\")\n",
        "          tmp_lc = []\n",
        "          if len(lag)==1:\n",
        "              tmp_lc.append({\"lag\":lag[0],\"cost\":cost[0]})\n",
        "              tmp_lc.append({\"lag\":lag[0]+1,\"cost\":cost[0]})\n",
        "          else:\n",
        "              last_=0\n",
        "              ii=0\n",
        "              \n",
        "              for j,k in zip(lag,cost):\n",
        "                  if ii==0:\n",
        "                      tmp_lc.append({\"lag\":j,\"cost\":k})    \n",
        "                      #print(i,ii,j,k)    \n",
        "                      last_=j\n",
        "                  else:            \n",
        "                      if j<=last_:\n",
        "                          j=last_+1\n",
        "                          last_=j\n",
        "                      #print(i,ii,j,k)               \n",
        "                      tmp_lc.append({\"lag\":j,\"cost\":k})\n",
        "                  ii=ii+1\n",
        "\n",
        "          mw,_   = self.extractFromFileByRange(i,POTVERC,11,min_val=tmp[\"power_output_minimum\"])\n",
        "          cst,_  = self.extractFromFileByRange(i,PREVERC,11)\n",
        "          tmp_mc = []\n",
        "          if len(mw)==1:\n",
        "              tmp_mc.append({\"mw\":self.extractFromFile(generator=i,file=LIUNITRC,method=\"min\"),\"cost\":cst[0]})\n",
        "              tmp_mc.append({\"mw\":self.extractFromFile(generator=i,file=LSUNITRC,method=\"max\"),\"cost\":cst[0]})\n",
        "          else:  \n",
        "            for j,k in zip(mw,cst):\n",
        "              tmp_mc.append({\"mw\":j,\"cost\":k})\n",
        "          if tmp_mc[0]['mw'] != self.extractFromFile(generator=i,file=LIUNITRC,method=\"min\"):\n",
        "              cst = tmp_mc[0]['cost']\n",
        "              tmp_mc[0]={\"mw\":self.extractFromFile(generator=i,file=LIUNITRC,method=\"min\"),\"cost\":cst}\n",
        "          if tmp_mc[len(tmp_mc)-1]['mw'] != self.extractFromFile(generator=i,file=LSUNITRC,method=\"max\"):\n",
        "              cst = tmp_mc[len(tmp_mc)-1]['cost']\n",
        "              tmp_mc[len(tmp_mc)-1]={\"mw\":self.extractFromFile(generator=i,file=LSUNITRC,method=\"max\"),\"cost\":cst}\n",
        "\n",
        "          tmp[\"startup\"] = tmp_lc\n",
        "          tmp[\"piecewise_production\"] = tmp_mc\n",
        "          gen[\"G\"+str(i+1)] = tmp\n",
        "\n",
        "    result[\"thermal_generators\"] = gen\n",
        "    del LIUNITRC,LSUNITRC,RAMPASRC,ARRARC,OPPARORC,UNITRCCI,CGMRC,COVAARRC,POTVERC,PREVERC\n",
        "    print(\"Finalizado datos de generadores termicos\")\n",
        "\n",
        "    if False:\n",
        "        print(\"Generando datos de generadores hidraulicos\")\n",
        "        gen = {}\n",
        "        LIUNIH  = np.genfromtxt(\"{}/LIUNIH.csv\".format(self.path) , delimiter=',')\n",
        "        LSUNIH  = np.genfromtxt(\"{}/LSUNIH.csv\".format(self.path) , delimiter=',')\n",
        "        RAMPASH = np.genfromtxt(\"{}/RAMPASH.csv\".format(self.path), delimiter=',')\n",
        "        UNIHCI  = np.genfromtxt(\"{}/UNIHCI.csv\".format(self.path) , delimiter=',')\n",
        "        for i in range(gHNum):\n",
        "          if self.extractFromFile(generator=i,file=LIUNIH,method=\"min\") != self.extractFromFile(generator=i,file=LSUNIH,method=\"max\"):\n",
        "            if self.extractFromFile(generator=i,file=LSUNIH,method=\"max\") != 0:\n",
        "              tmp = {\n",
        "                \"must_run\": 0,\n",
        "                \"name\": \"H{}\".format(str(i+1))\n",
        "              }\n",
        "              tmp[\"power_output_minimum\"] = self.extractFromFile(generator=i,file=LIUNIH,method=\"min\")\n",
        "              tmp[\"power_output_maximum\"] = self.extractFromFile(generator=i,file=LSUNIH,method=\"max\")\n",
        "              tmp[\"ramp_up_limit\"       ] = self.extractFromFile(generator=i,file=RAMPASH,col = 0)\n",
        "              tmp[\"ramp_down_limit\"     ] = self.extractFromFile(generator=i,file=RAMPASH,col = 1)\n",
        "              tmp[\"ramp_startup_limit\"  ] = 0\n",
        "              tmp[\"ramp_shutdown_limit\" ] = 0\n",
        "              tmp[\"time_up_minimum\"     ] = 0\n",
        "              tmp[\"time_down_minimum\"   ] = 0\n",
        "              tmp[\"power_output_t0\"     ] = 0\n",
        "              tmp[\"unit_on_t0\"          ] = 0 if self.extractFromFile(generator=i,file=UNIHCI,col = 0) == 0 else 1\n",
        "              tmp[\"unit_up_t0\"          ] = 0 if self.extractFromFile(generator=i,file=UNIHCI,col = 0) == 0 else self.extractFromFile(generator=i,file=UNIHCI,col = 0)\n",
        "              tmp[\"time_down_t0\"        ] = 1 if tmp[\"unit_on_t0\"] == 0 else tmp[\"unit_on_t0\"]\n",
        "              tmp[\"startup\"             ] = [{\"lag\":1,\"cost\":0}]\n",
        "              tmp[\"piecewise_production\"] = [{\"mw\":0,\"cost\":0}]\n",
        "              gen[\"H\"+str(i+1)          ] = tmp\n",
        "        result[\"hydro_generators\"] = gen\n",
        "        del LIUNIH,LSUNIH,RAMPASH,UNIHCI\n",
        "        print(\"Finalizado datos de generadores hidraulicos\")\n",
        "\n",
        "    if False:    \n",
        "        print(\"Generando datos de generadores renovables\")\n",
        "        LIUNITRE = np.genfromtxt(\"{}/LIUNITRE.csv\".format(self.path), delimiter=',')\n",
        "        POTVERE  = np.genfromtxt(\"{}/POTVERE.csv\".format(self.path) , delimiter=',')\n",
        "        PREVERE  = np.genfromtxt(\"{}/PREVERE.csv\".format(self.path) , delimiter=',')\n",
        "        gen = {}\n",
        "        for i in range(gRNum):\n",
        "          tmp = {\n",
        "            \"must_run\": 0,\n",
        "            \"name\": \"E{}\".format(str(i+1))\n",
        "          }\n",
        "          tmp[\"power_output_minimum\"] = self.extractFromFile(generator=i,file=LIUNITRE,method=\"min\")\n",
        "          tmp[\"power_output_maximum\"] = self.extractFromFile(generator=i,file=LIUNITRE,method=\"max\")\n",
        "          mw,_  = self.extractFromFileByRange(i,POTVERE,11,min_val=tmp[\"power_output_minimum\"])\n",
        "          cst,_ = self.extractFromFileByRange(i,PREVERE,11)\n",
        "          tmp_mc = []\n",
        "          for j,k in zip(mw,cst):\n",
        "            tmp_mc.append({\"mw\":j,\"cost\":k})\n",
        "          tmp[\"piecewise_production\"] = tmp_mc\n",
        "          gen[\"E\"+str(i+1)] = tmp\n",
        "        result[\"renewable_generators\"] = gen\n",
        "        del LIUNITRE,POTVERE,PREVERE\n",
        "        gen = {}\n",
        "        print(\"Finalizado datos de generadores renovables\")\n",
        "        print(\"Generando datos de cargas\")\n",
        "        CARFIJA  = np.genfromtxt(\"{}/CARFIJA.csv\".format(self.path) , delimiter=',')\n",
        "        POTCOCAR = np.genfromtxt(\"{}/POTCOCAR.csv\".format(self.path), delimiter=',')\n",
        "        PRECOCAR = np.genfromtxt(\"{}/PRECOCAR.csv\".format(self.path), delimiter=',')\n",
        "        for i in range(gCarNum):\n",
        "          tmp = {\n",
        "            \"must_run\": 0,\n",
        "            \"name\": \"l{}\".format(str(i+1))\n",
        "          }\n",
        "          tmp[\"fixed_load\"] = self.extractFromFile(generator=i,file=CARFIJA,method=\"col\",col=0)\n",
        "          mw,_  = self.extractFromFileByRange(i,POTCOCAR,11)\n",
        "          cst,_ = self.extractFromFileByRange(i,PRECOCAR,11)\n",
        "          tmp_mc = []\n",
        "          for j,k in zip(mw,cst):\n",
        "            tmp_mc.append({\"mw\":j,\"cost\":k})\n",
        "          tmp[\"piecewise_production\"] = tmp_mc\n",
        "          gen[\"l\"+str(i+1)] = tmp\n",
        "        result[\"loads\"] = gen\n",
        "        del CARFIJA,POTCOCAR,PRECOCAR\n",
        "        print(\"Finalizado datos de cargas\")\n",
        "        \n",
        "    f = open(\"{}/output.json\".format(self.path), \"w\")\n",
        "    f.write(str(result).replace(\"\\'\",\"\\\"\"))\n",
        "    f.close()\n",
        "    return \"Archivo {}/output.json creado\".format(self.path)"
      ],
      "metadata": {
        "id": "ugIngqItlli8"
      },
      "execution_count": 30,
      "outputs": []
    },
    {
      "cell_type": "code",
      "source": [
        "g = Generators(\"/content/dirdat\",\"/content/catalogo.txt\")\n",
        "g.start()"
      ],
      "metadata": {
        "id": "AMXFFj3TmRCt",
        "colab": {
          "base_uri": "https://localhost:8080/",
          "height": 72
        },
        "outputId": "f8a0d4ef-0501-4e7a-ace8-7099543b78ae"
      },
      "execution_count": 31,
      "outputs": [
        {
          "output_type": "stream",
          "name": "stdout",
          "text": [
            "Generando datos de generadores térmicos\n",
            "Finalizado datos de generadores termicos\n"
          ]
        },
        {
          "output_type": "execute_result",
          "data": {
            "text/plain": [
              "'Archivo /content/dirdat/output.json creado'"
            ],
            "application/vnd.google.colaboratory.intrinsic+json": {
              "type": "string"
            }
          },
          "metadata": {},
          "execution_count": 31
        }
      ]
    },
    {
      "cell_type": "markdown",
      "source": [
        "HORIZOMDA\n",
        "PRODEM\n",
        "RRESUS\n",
        "UNITRC\n",
        "ASIGNRC\n",
        "LIUNITRC\n",
        "LSUNITRC\n",
        "RAMPASRC\n",
        "ARRARC\n",
        "OPPARORC\n",
        "UNITRCCI\n",
        "CGMRC\n",
        "COVAARRC\n",
        "POTVERC\n",
        "PREVERC\n",
        "UNIHMDA\n",
        "ASIGNH\n",
        "LIUNIH\n",
        "LSUNIH\n",
        "RAMPASH\n",
        "UNIHCI\n",
        "COSTOPHID\n",
        "PLNOPRMDA\n",
        "UNITRE\n",
        "ASIGNRE\n",
        "LIUNITRE\n",
        "LSUNITRE\n",
        "POTVERE\n",
        "PREVERE\n",
        "CARGAS\n",
        "CARFIJA\n",
        "POTCOCAR\n",
        "PRECOCAR"
      ],
      "metadata": {
        "id": "KRFTqKFdN6lZ"
      }
    }
  ],
  "metadata": {
    "colab": {
      "name": "EL-Class.ipynb",
      "provenance": [],
      "collapsed_sections": [
        "AaV3dao8mon5"
      ],
      "include_colab_link": true
    },
    "kernelspec": {
      "display_name": "Python 3",
      "name": "python3"
    },
    "language_info": {
      "name": "python"
    }
  },
  "nbformat": 4,
  "nbformat_minor": 0
}