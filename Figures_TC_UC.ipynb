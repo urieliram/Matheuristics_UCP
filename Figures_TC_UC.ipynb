{
  "nbformat": 4,
  "nbformat_minor": 0,
  "metadata": {
    "colab": {
      "provenance": [],
      "authorship_tag": "ABX9TyMuT1QMMXIo7jQEY8rKzChK",
      "include_colab_link": true
    },
    "kernelspec": {
      "name": "python3",
      "display_name": "Python 3"
    },
    "language_info": {
      "name": "python"
    }
  },
  "cells": [
    {
      "cell_type": "markdown",
      "metadata": {
        "id": "view-in-github",
        "colab_type": "text"
      },
      "source": [
        "<a href=\"https://colab.research.google.com/github/urieliram/tc_uc/blob/main/Figures_TC_UC.ipynb\" target=\"_parent\"><img src=\"https://colab.research.google.com/assets/colab-badge.svg\" alt=\"Open In Colab\"/></a>"
      ]
    },
    {
      "cell_type": "code",
      "execution_count": 1,
      "metadata": {
        "id": "grzyvyw38-UX"
      },
      "outputs": [],
      "source": [
        "# load packages\n",
        "import matplotlib as mpl\n",
        "import matplotlib.pyplot as plt\n",
        "import numpy as np\n",
        "import pandas as pd\n",
        "from os import listdir\n",
        "from os.path import isfile, join\n",
        "import re\n",
        "from matplotlib.ticker import (MultipleLocator, AutoMinorLocator)\n",
        "cm = 1/2.54"
      ]
    },
    {
      "cell_type": "markdown",
      "source": [
        "# GRÁFICOS DE CONVERGENCIA milp, milp2, hard3, harjk lbc, ks, \n"
      ],
      "metadata": {
        "id": "MdVaYxkv5LNX"
      }
    },
    {
      "cell_type": "markdown",
      "source": [
        "## Lectura de archivos log"
      ],
      "metadata": {
        "id": "rJMRbTfUqPRw"
      }
    },
    {
      "cell_type": "code",
      "source": [
        "## Lectura de datos\n",
        "from google.colab import files\n",
        "\n",
        "uploaded = files.upload()\n",
        "\n",
        "for fn in uploaded.keys():\n",
        "  print('User uploaded file \"{name}\" with length {length} bytes'.format(\n",
        "      name=fn, length=len(uploaded[fn])))"
      ],
      "metadata": {
        "id": "_VBW1elDnJTD",
        "outputId": "188616e3-748e-4dc5-d564-735857f1be1a",
        "colab": {
          "base_uri": "https://localhost:8080/",
          "height": 90
        }
      },
      "execution_count": 2,
      "outputs": [
        {
          "output_type": "display_data",
          "data": {
            "text/plain": [
              "<IPython.core.display.HTML object>"
            ],
            "text/html": [
              "\n",
              "     <input type=\"file\" id=\"files-835ca295-fb7c-448e-a39a-6623861560e6\" name=\"files[]\" multiple disabled\n",
              "        style=\"border:none\" />\n",
              "     <output id=\"result-835ca295-fb7c-448e-a39a-6623861560e6\">\n",
              "      Upload widget is only available when the cell has been executed in the\n",
              "      current browser session. Please rerun this cell to enable.\n",
              "      </output>\n",
              "      <script>// Copyright 2017 Google LLC\n",
              "//\n",
              "// Licensed under the Apache License, Version 2.0 (the \"License\");\n",
              "// you may not use this file except in compliance with the License.\n",
              "// You may obtain a copy of the License at\n",
              "//\n",
              "//      http://www.apache.org/licenses/LICENSE-2.0\n",
              "//\n",
              "// Unless required by applicable law or agreed to in writing, software\n",
              "// distributed under the License is distributed on an \"AS IS\" BASIS,\n",
              "// WITHOUT WARRANTIES OR CONDITIONS OF ANY KIND, either express or implied.\n",
              "// See the License for the specific language governing permissions and\n",
              "// limitations under the License.\n",
              "\n",
              "/**\n",
              " * @fileoverview Helpers for google.colab Python module.\n",
              " */\n",
              "(function(scope) {\n",
              "function span(text, styleAttributes = {}) {\n",
              "  const element = document.createElement('span');\n",
              "  element.textContent = text;\n",
              "  for (const key of Object.keys(styleAttributes)) {\n",
              "    element.style[key] = styleAttributes[key];\n",
              "  }\n",
              "  return element;\n",
              "}\n",
              "\n",
              "// Max number of bytes which will be uploaded at a time.\n",
              "const MAX_PAYLOAD_SIZE = 100 * 1024;\n",
              "\n",
              "function _uploadFiles(inputId, outputId) {\n",
              "  const steps = uploadFilesStep(inputId, outputId);\n",
              "  const outputElement = document.getElementById(outputId);\n",
              "  // Cache steps on the outputElement to make it available for the next call\n",
              "  // to uploadFilesContinue from Python.\n",
              "  outputElement.steps = steps;\n",
              "\n",
              "  return _uploadFilesContinue(outputId);\n",
              "}\n",
              "\n",
              "// This is roughly an async generator (not supported in the browser yet),\n",
              "// where there are multiple asynchronous steps and the Python side is going\n",
              "// to poll for completion of each step.\n",
              "// This uses a Promise to block the python side on completion of each step,\n",
              "// then passes the result of the previous step as the input to the next step.\n",
              "function _uploadFilesContinue(outputId) {\n",
              "  const outputElement = document.getElementById(outputId);\n",
              "  const steps = outputElement.steps;\n",
              "\n",
              "  const next = steps.next(outputElement.lastPromiseValue);\n",
              "  return Promise.resolve(next.value.promise).then((value) => {\n",
              "    // Cache the last promise value to make it available to the next\n",
              "    // step of the generator.\n",
              "    outputElement.lastPromiseValue = value;\n",
              "    return next.value.response;\n",
              "  });\n",
              "}\n",
              "\n",
              "/**\n",
              " * Generator function which is called between each async step of the upload\n",
              " * process.\n",
              " * @param {string} inputId Element ID of the input file picker element.\n",
              " * @param {string} outputId Element ID of the output display.\n",
              " * @return {!Iterable<!Object>} Iterable of next steps.\n",
              " */\n",
              "function* uploadFilesStep(inputId, outputId) {\n",
              "  const inputElement = document.getElementById(inputId);\n",
              "  inputElement.disabled = false;\n",
              "\n",
              "  const outputElement = document.getElementById(outputId);\n",
              "  outputElement.innerHTML = '';\n",
              "\n",
              "  const pickedPromise = new Promise((resolve) => {\n",
              "    inputElement.addEventListener('change', (e) => {\n",
              "      resolve(e.target.files);\n",
              "    });\n",
              "  });\n",
              "\n",
              "  const cancel = document.createElement('button');\n",
              "  inputElement.parentElement.appendChild(cancel);\n",
              "  cancel.textContent = 'Cancel upload';\n",
              "  const cancelPromise = new Promise((resolve) => {\n",
              "    cancel.onclick = () => {\n",
              "      resolve(null);\n",
              "    };\n",
              "  });\n",
              "\n",
              "  // Wait for the user to pick the files.\n",
              "  const files = yield {\n",
              "    promise: Promise.race([pickedPromise, cancelPromise]),\n",
              "    response: {\n",
              "      action: 'starting',\n",
              "    }\n",
              "  };\n",
              "\n",
              "  cancel.remove();\n",
              "\n",
              "  // Disable the input element since further picks are not allowed.\n",
              "  inputElement.disabled = true;\n",
              "\n",
              "  if (!files) {\n",
              "    return {\n",
              "      response: {\n",
              "        action: 'complete',\n",
              "      }\n",
              "    };\n",
              "  }\n",
              "\n",
              "  for (const file of files) {\n",
              "    const li = document.createElement('li');\n",
              "    li.append(span(file.name, {fontWeight: 'bold'}));\n",
              "    li.append(span(\n",
              "        `(${file.type || 'n/a'}) - ${file.size} bytes, ` +\n",
              "        `last modified: ${\n",
              "            file.lastModifiedDate ? file.lastModifiedDate.toLocaleDateString() :\n",
              "                                    'n/a'} - `));\n",
              "    const percent = span('0% done');\n",
              "    li.appendChild(percent);\n",
              "\n",
              "    outputElement.appendChild(li);\n",
              "\n",
              "    const fileDataPromise = new Promise((resolve) => {\n",
              "      const reader = new FileReader();\n",
              "      reader.onload = (e) => {\n",
              "        resolve(e.target.result);\n",
              "      };\n",
              "      reader.readAsArrayBuffer(file);\n",
              "    });\n",
              "    // Wait for the data to be ready.\n",
              "    let fileData = yield {\n",
              "      promise: fileDataPromise,\n",
              "      response: {\n",
              "        action: 'continue',\n",
              "      }\n",
              "    };\n",
              "\n",
              "    // Use a chunked sending to avoid message size limits. See b/62115660.\n",
              "    let position = 0;\n",
              "    do {\n",
              "      const length = Math.min(fileData.byteLength - position, MAX_PAYLOAD_SIZE);\n",
              "      const chunk = new Uint8Array(fileData, position, length);\n",
              "      position += length;\n",
              "\n",
              "      const base64 = btoa(String.fromCharCode.apply(null, chunk));\n",
              "      yield {\n",
              "        response: {\n",
              "          action: 'append',\n",
              "          file: file.name,\n",
              "          data: base64,\n",
              "        },\n",
              "      };\n",
              "\n",
              "      let percentDone = fileData.byteLength === 0 ?\n",
              "          100 :\n",
              "          Math.round((position / fileData.byteLength) * 100);\n",
              "      percent.textContent = `${percentDone}% done`;\n",
              "\n",
              "    } while (position < fileData.byteLength);\n",
              "  }\n",
              "\n",
              "  // All done.\n",
              "  yield {\n",
              "    response: {\n",
              "      action: 'complete',\n",
              "    }\n",
              "  };\n",
              "}\n",
              "\n",
              "scope.google = scope.google || {};\n",
              "scope.google.colab = scope.google.colab || {};\n",
              "scope.google.colab._files = {\n",
              "  _uploadFiles,\n",
              "  _uploadFilesContinue,\n",
              "};\n",
              "})(self);\n",
              "</script> "
            ]
          },
          "metadata": {}
        },
        {
          "output_type": "stream",
          "name": "stdout",
          "text": [
            "Saving Log1.zip to Log1.zip\n",
            "User uploaded file \"Log1.zip\" with length 10227 bytes\n"
          ]
        }
      ]
    },
    {
      "cell_type": "code",
      "source": [
        "# !pip install unrar\n",
        "# !unrar x \"/content/Logs1.rar\""
      ],
      "metadata": {
        "id": "ubD5mcSYo2p_"
      },
      "execution_count": null,
      "outputs": []
    },
    {
      "cell_type": "code",
      "source": [
        "!unzip \"Log1.zip\" -d \"/content\""
      ],
      "metadata": {
        "id": "WLmdjGzdp6ej",
        "outputId": "16e08a0d-f43b-4a38-94b4-6a07eae23c19",
        "colab": {
          "base_uri": "https://localhost:8080/"
        }
      },
      "execution_count": 3,
      "outputs": [
        {
          "output_type": "stream",
          "name": "stdout",
          "text": [
            "Archive:  Log1.zip\n",
            "  inflating: /content/Logs.txt       \n",
            "  inflating: /content/Log_071.log    \n",
            "  inflating: /content/Log_072.log    \n",
            "  inflating: /content/Log_073.log    \n"
          ]
        }
      ]
    },
    {
      "cell_type": "code",
      "source": [
        "def validateFiles():\n",
        "  list=[]\n",
        "  f = open(\"/content/Logs.txt\",\"r\")\n",
        "  validFiles = [i.replace(\"\\n\",\"\") for i in f]\n",
        "  #print(validFiles)\n",
        "  f.close()\n",
        "  onlyfiles = [f.split(\".\")[0] for f in listdir(\"/content\") if isfile(join(\"/content\", f))]\n",
        "  for i in validFiles:\n",
        "    list.append(i)\n",
        "    if i not in onlyfiles:\n",
        "      return False\n",
        "  return True, list\n",
        "list=[]\n",
        "if validateFiles() is False:\n",
        "   print(\"!!! Faltan archivos\")   \n",
        "   temp, list = validateFiles()\n",
        "   print(list)\n",
        "else:\n",
        "   temp, list = validateFiles()\n",
        "   print(\"Archivos completos\")\n",
        "   "
      ],
      "metadata": {
        "id": "SZWH0tkRsk0S",
        "outputId": "5146e34f-1cc8-49bc-83cb-f7512a50c696",
        "colab": {
          "base_uri": "https://localhost:8080/"
        }
      },
      "execution_count": 4,
      "outputs": [
        {
          "output_type": "stream",
          "name": "stdout",
          "text": [
            "Archivos completos\n"
          ]
        }
      ]
    },
    {
      "cell_type": "markdown",
      "source": [
        "## Extrae información de los logs"
      ],
      "metadata": {
        "id": "m7bbxKz9qYKi"
      }
    },
    {
      "cell_type": "code",
      "source": [
        "class Extract:\n",
        "  def __init__(self,log):\n",
        "    self.log = log\n",
        " \n",
        "  def getFilelog(self,f):\n",
        "    with open(f, 'r') as file:\n",
        "      data = file.read().replace('\\n', '')\n",
        "    tmp = []\n",
        "    for i in re.findall(r\"\\w*\"+self.log+\"\\s*\\'*[a-zA-z.+]*\\'\",data):\n",
        "      print(i)\n",
        "      tmp.append(i.replace(\"'\",\"\").split(\" \")[1])\n",
        "    return tmp\n",
        "\n",
        "  def extract(self):\n",
        "    fn= \"/content/\"+self.log+\".log\"\n",
        "    variables = {}\n",
        "    variables[\"logFile\"] = self.log.replace(\"Log\",\"uc\")\n",
        "    f = open(fn, \"r\")  \n",
        "    line = 1 \n",
        "    for i in f:\n",
        "      if(\"lbc1 results\" in i):\n",
        "        variables[\"lbc1_a\"]  = line\n",
        "      if(\"lbc1 end\" in i):\n",
        "        variables[\"lbc1_b\"]  = line\n",
        "      if(\"lbc2 results\" in i):\n",
        "        variables[\"lbc2_a\"]  = line\n",
        "      if(\"lbc2 end\" in i):\n",
        "        variables[\"lbc2_b\"]  = line\n",
        "      if(\"lbc3 results\" in i):\n",
        "        variables[\"lbc3_a\"]  = line\n",
        "      if(\"lbc3 end\" in i):\n",
        "        variables[\"lbc3_b\"]  = line\n",
        "      if(\"lbc4 results\" in i):\n",
        "        variables[\"lbc4_a\"]  = line\n",
        "      if(\"lbc4 end\" in i):\n",
        "        variables[\"lbc4_b\"]  = line\n",
        "      if(\"KS results\" in i):\n",
        "        variables[\"KS_a\"]    = line\n",
        "      if(\"KS end\" in i):\n",
        "        variables[\"KS_b\"]    = line\n",
        "      if(\"z_milp=\" in i):\n",
        "        variables[\"z_milp\"]  = float(i.replace(\" \",\"\").replace(\"\\n\",\"\").split(\"=\")[1])\n",
        "      if(\"z_milp2=\" in i):\n",
        "        variables[\"z_milp2\"] = float(i.replace(\" \",\"\").replace(\"\\n\",\"\").split(\"=\")[1])\n",
        "      if(\"z_harjk=\" in i):\n",
        "        variables[\"z_harjk\"] = float(i.replace(\" \",\"\").replace(\"\\n\",\"\").split(\"=\")[1])\n",
        "      if(\"z_hard3=\" in i):\n",
        "        variables[\"z_hard3\"] = float(i.replace(\" \",\"\").replace(\"\\n\",\"\").split(\"=\")[1])        \n",
        "      if(\"t_milp=\" in i):\n",
        "        variables[\"t_milp\"]  = float(i.replace(\" \",\"\").replace(\"\\n\",\"\").split(\"=\")[1])\n",
        "      if(\"t_milp2=\" in i):\n",
        "        variables[\"t_milp2\"] = float(i.replace(\" \",\"\").replace(\"\\n\",\"\").split(\"=\")[1])\n",
        "      if(\"t_harjk=\" in i):\n",
        "        variables[\"t_harjk\"] = float(i.replace(\" \",\"\").replace(\"\\n\",\"\").split(\"=\")[1])\n",
        "      if(\"t_hard3=\" in i):\n",
        "        variables[\"t_hard3\"] = float(i.replace(\" \",\"\").replace(\"\\n\",\"\").split(\"=\")[1])\n",
        "      if(\"z_lp=\" in i):\n",
        "        variables[\"z_lp\"]   = float(i.replace(\" \",\"\").replace(\"\\n\",\"\").split(\"=\")[1])\n",
        "      if(\"t_lp=\" in i):\n",
        "        variables[\"t_lp\"]   = float(i.replace(\" \",\"\").replace(\"\\n\",\"\").split(\"=\")[1])\n",
        "      line = line + 1\n",
        "    return variables"
      ],
      "metadata": {
        "id": "caTKOCID0KvG"
      },
      "execution_count": 5,
      "outputs": []
    },
    {
      "cell_type": "code",
      "source": [
        "cat_z = ['z_milp','z_milp2','z_harjk','z_hard3']\n",
        "cat_t = ['t_milp','t_milp2','t_harjk','t_hard3']\n",
        "list2 = []\n",
        "for item in list:\n",
        "    try:\n",
        "      e         = Extract(item)\n",
        "      variables = e.extract()\n",
        "      print(variables['t_milp'],variables['z_milp'])\n",
        "      list2.append(variables)\n",
        "    except Exception as err:\n",
        "      print(\"Fail in \", item+\".log\"+ \" file\")\n",
        "      print(str(err))"
      ],
      "metadata": {
        "id": "st05UPVm3yQu",
        "outputId": "e3442d3c-69dc-4570-e649-9b82fd8c5936",
        "colab": {
          "base_uri": "https://localhost:8080/"
        }
      },
      "execution_count": 14,
      "outputs": [
        {
          "output_type": "stream",
          "name": "stdout",
          "text": [
            "7267.9 1e+75\n",
            "7281.9 1e+75\n",
            "Fail in  Log_073.log file\n",
            "'t_milp'\n"
          ]
        }
      ]
    },
    {
      "cell_type": "code",
      "source": [
        "print(list2)"
      ],
      "metadata": {
        "id": "2dXr3radrAgn",
        "outputId": "291af40c-a1c5-4327-913a-3fc26ed8917a",
        "colab": {
          "base_uri": "https://localhost:8080/"
        }
      },
      "execution_count": 12,
      "outputs": [
        {
          "output_type": "stream",
          "name": "stdout",
          "text": [
            "[{'logFile': 'uc_071', 't_milp': 7267.9, 'z_milp': 1e+75, 't_lp': 133.0, 'z_lp': 102725895.3, 't_hard3': 1273.7, 'z_hard3': 102805929.9, 't_harjk': 1274.4, 'z_harjk': 102805159.2, 'lbc1_a': 86, 'lbc1_b': 94, 'lbc2_a': 150, 'lbc2_b': 158, 'lbc3_a': 212, 'lbc3_b': 220, 'lbc4_a': 283, 'lbc4_b': 291, 'KS_a': 541, 'KS_b': 584, 't_milp2': 7520.8, 'z_milp2': 102805929.9}, {'logFile': 'uc_072', 't_milp': 7281.9, 'z_milp': 1e+75, 't_lp': 162.5, 'z_lp': 111938139.1, 't_hard3': 1290.0, 'z_hard3': 111990388.6, 't_harjk': 1292.5, 'z_harjk': 112035397.0, 'lbc1_a': 85, 'lbc1_b': 93, 'lbc2_a': 147, 'lbc2_b': 155, 'lbc3_a': 208, 'lbc3_b': 216, 'lbc4_a': 268, 'lbc4_b': 275, 't_milp2': 7295.5, 'z_milp2': 111990341.4}, {'logFile': 'uc_073', 't_hard3': 1287.5, 'z_hard3': 109840106.9, 't_harjk': 1284.8, 'z_harjk': 1e+75, 'lbc1_a': 87, 'lbc1_b': 95, 'lbc2_a': 151, 'lbc2_b': 159, 'lbc3_a': 212, 'lbc3_b': 220, 'lbc4_a': 273, 'lbc4_b': 280, 'KS_a': 435, 'KS_b': 461}]\n"
          ]
        }
      ]
    },
    {
      "cell_type": "markdown",
      "source": [
        "## Despliega gráficas"
      ],
      "metadata": {
        "id": "FbMdYZdZrqF1"
      }
    },
    {
      "cell_type": "code",
      "source": [
        "title = 'instance uc_071'\n",
        "plt.figure()\n",
        "models = ['MILP','MILP2','Harjk','Harduc','LB1','LB2','LB3','LB4','KS']\n",
        "for i in range(6):\n",
        "  # define data values\n",
        "  x = np.arange(10)                                                # X-axis points\n",
        "  y = np.random.randint(low = 20000000, high = 22000000, size=10)  # Y-axis points\n",
        "  plt.plot(x, y, '.-', label = models[i])\n",
        "\n",
        "plt.xlabel(\"Time (seconds)\")\n",
        "plt.ylabel(\"$z$\")\n",
        "plt.title(title)\n",
        "plt.legend(bbox_to_anchor=(1, 0.75))\n",
        "plt.tight_layout()\n",
        "plt.savefig('test.pdf')\n",
        "plt.show()"
      ],
      "metadata": {
        "colab": {
          "base_uri": "https://localhost:8080/",
          "height": 297
        },
        "id": "0CaDNDtj5Ktu",
        "outputId": "a9b7562b-1ecd-49ba-b0a0-9ef8001bd9ca"
      },
      "execution_count": 49,
      "outputs": [
        {
          "output_type": "display_data",
          "data": {
            "text/plain": [
              "<Figure size 432x288 with 1 Axes>"
            ],
            "image/png": "[encoded data removed]"
          },
          "metadata": {
            "needs_background": "light"
          }
        }
      ]
    },
    {
      "cell_type": "markdown",
      "source": [
        "# GRAFICOS DE BOXPLOT\n"
      ],
      "metadata": {
        "id": "-O6z-YGJm-HN"
      }
    },
    {
      "cell_type": "markdown",
      "source": [
        "## Ejemplo boxplot"
      ],
      "metadata": {
        "id": "4fe2A0YEmeGs"
      }
    },
    {
      "cell_type": "code",
      "source": [
        "#https://drive.google.com/drive/folders/1Gj3XK9kM-lE18uBMe3qrZOGEm8yAI8i9\n",
        "#https://www.codegrepper.com/code-examples/python/how+to+read+csv+file+from+google+drive+on+google+colab+\n",
        "path = 'https://drive.google.com/uc?export=download&id=' \n",
        "URL  = 'https://drive.google.com/file/d/1ySF5y3FdEZrEAu1jZ_P1PdBJSk64TQvt/view?usp=share_link'\n",
        "df   = pd.read_csv(path+URL.split('/')[-2],header=0)\n",
        "                #  dtype={'SERIE11':float,'SERIE12':float,'SERIE13':float,'SERIE14':float,'SERIE15':float,'SERIE16':float,'SERIE17':float})\n",
        "#names=['MILP','FP','Harjk','Hard','LB1','LB2','LB3','KS']\n",
        "#dtype={'MEM1':float,'MEM2':float,'MEM3':float,'MEM4':float}\n",
        "\n",
        "##      z_milp\tz_feas\tz_harjk\t z_hard3\tz_lbc1\tz_lbc2\tz_lbc3\tz_ks    (09-16)\n",
        "##    \tt_milp\tt_feas\tt_harjk  t_hard3\tt_lbc1\tt_lbc2\tt_lbc3\tt_ks    (18-26)\n",
        "##      g_milp\tg_feas\tg_harjk\t g_hard3\tg_lbc1\tg_lbc2\tg_lbc3\tg_ks    (28-35)\n",
        "df.dropna(inplace=True)"
      ],
      "metadata": {
        "id": "VPYCprJlrHYa"
      },
      "execution_count": 32,
      "outputs": []
    },
    {
      "cell_type": "code",
      "source": [
        "##Imprimir GAP\n",
        "data1  = df.g_milp.to_numpy()\n",
        "data2  = df.g_milp2.to_numpy()\n",
        "data3  = df.g_harjk.to_numpy()\n",
        "data4  = df.g_hard3.to_numpy()\n",
        "data5  = df.g_lbc1.to_numpy()\n",
        "data6  = df.g_lbc2.to_numpy()\n",
        "data7  = df.g_lbc3.to_numpy()\n",
        "data8  = df.g_lbc4.to_numpy()\n",
        "data9  = df.g_ks.to_numpy()\n",
        "labels = ['MILP','MILP2','Harjk','Harduc','LB1','LB2','LB3','LB4','KS']\n",
        "x=[data1,data2,data3,data4,data5,data6,data7,data8,data9]\n",
        "fig,ax = plt.subplots()\n",
        "ax.set_title('gap')\n",
        "bp = ax.boxplot(x,           \n",
        "positions=[1,2,3,4,5,6,7,8,9],      # where to put these arrays\n",
        "labels = labels, patch_artist=True)  # allow filling the box with colors\n",
        "# ax.legend()\n",
        "namefile = 'fig:boxplotgap'+'.pdf'\n",
        "plt.savefig(namefile, transparent=True)\n",
        "plt.show()"
      ],
      "metadata": {
        "colab": {
          "base_uri": "https://localhost:8080/",
          "height": 298
        },
        "id": "IqsCfW-H-4pA",
        "outputId": "be609650-f77b-427f-8235-647d03482cab"
      },
      "execution_count": 46,
      "outputs": [
        {
          "output_type": "stream",
          "name": "stderr",
          "text": [
            "WARNING:matplotlib.legend:No handles with labels found to put in legend.\n"
          ]
        },
        {
          "output_type": "display_data",
          "data": {
            "text/plain": [
              "<Figure size 432x288 with 1 Axes>"
            ],
            "image/png": "[encoded data removed]"
          },
          "metadata": {
            "needs_background": "light"
          }
        }
      ]
    },
    {
      "cell_type": "code",
      "source": [
        "##Imprimir TIME\n",
        "data1  = df.t_milp.to_numpy()\n",
        "data2  = df.t_milp2.to_numpy()\n",
        "data3  = df.t_harjk.to_numpy()\n",
        "data4  = df.t_hard3.to_numpy()\n",
        "data5  = df.t_lbc1.to_numpy()\n",
        "data6  = df.t_lbc2.to_numpy()\n",
        "data7  = df.t_lbc3.to_numpy()\n",
        "data8  = df.t_lbc4.to_numpy()\n",
        "data9  = df.t_ks.to_numpy()\n",
        "labels = ['MILP','MILP2','Harjk','Harduc','LB1','LB2','LB3','LB4','KS']\n",
        "x=[data1,data2,data3,data4,data5,data6,data7,data8,data9]\n",
        "fig,ax = plt.subplots()\n",
        "ax.set_title('time (seconds)')\n",
        "bp = ax.boxplot(x,           \n",
        "positions=[1,2,3,4,5,6,7,8,9],      # where to put these arrays\n",
        "labels = labels, patch_artist=True)  # allow filling the box with colors\n",
        "# ax.legend()\n",
        "namefile = 'fig:boxplottime'+'.pdf'\n",
        "plt.savefig(namefile, transparent=True)\n",
        "plt.show()"
      ],
      "metadata": {
        "id": "YUy7phrgMLrQ",
        "outputId": "6f2ea79a-7d0e-4465-9a8d-7916dcf3159b",
        "colab": {
          "base_uri": "https://localhost:8080/",
          "height": 281
        }
      },
      "execution_count": 47,
      "outputs": [
        {
          "output_type": "display_data",
          "data": {
            "text/plain": [
              "<Figure size 432x288 with 1 Axes>"
            ],
            "image/png": "[encoded data removed]"
          },
          "metadata": {
            "needs_background": "light"
          }
        }
      ]
    },
    {
      "cell_type": "code",
      "source": [
        "\n",
        "#https://towardsdatascience.com/making-publication-quality-figures-in-python-part-iii-box-plot-bar-plot-scatter-plot-407fa457449\n",
        "# prepare some data\n",
        "np.random.seed(42)\n",
        "data1 = np.random.randn(100)\n",
        "data2 = np.random.randn(100)\n",
        "data3 = np.random.randn(100)\n",
        "data4 = np.random.randn(100)\n",
        "\n",
        "fig,ax = plt.subplots()\n",
        "bp = ax.boxplot(x=[data1,data2,data3,data4],  # sequence of arrays\n",
        "positions=[1,2,3,4],   # where to put these arrays\n",
        "patch_artist=True)  # allow filling the box with colors\n",
        "# ax.legend()\n",
        "namefile = 'boxplot_'+'.pdf'\n",
        "plt.savefig(namefile, transparent=True)\n",
        "plt.show()"
      ],
      "metadata": {
        "id": "lr7KtKqGmiHa",
        "outputId": "356d8267-fc6d-4d5a-8b56-f4b6cf3cfdb8",
        "colab": {
          "base_uri": "https://localhost:8080/",
          "height": 265
        }
      },
      "execution_count": 48,
      "outputs": [
        {
          "output_type": "display_data",
          "data": {
            "text/plain": [
              "<Figure size 432x288 with 1 Axes>"
            ],
            "image/png": "[encoded data removed]"
          },
          "metadata": {
            "needs_background": "light"
          }
        }
      ]
    }
  ]
}