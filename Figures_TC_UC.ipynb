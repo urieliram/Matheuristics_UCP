{
  "nbformat": 4,
  "nbformat_minor": 0,
  "metadata": {
    "colab": {
      "provenance": [],
      "authorship_tag": "ABX9TyNuXCIKPyvhQn1z2esovT64",
      "include_colab_link": true
    },
    "kernelspec": {
      "name": "python3",
      "display_name": "Python 3"
    },
    "language_info": {
      "name": "python"
    }
  },
  "cells": [
    {
      "cell_type": "markdown",
      "metadata": {
        "id": "view-in-github",
        "colab_type": "text"
      },
      "source": [
        "<a href=\"https://colab.research.google.com/github/urieliram/tc_uc/blob/main/Figures_TC_UC.ipynb\" target=\"_parent\"><img src=\"https://colab.research.google.com/assets/colab-badge.svg\" alt=\"Open In Colab\"/></a>"
      ]
    },
    {
      "cell_type": "code",
      "execution_count": 11,
      "metadata": {
        "colab": {
          "base_uri": "https://localhost:8080/",
          "height": 282
        },
        "id": "grzyvyw38-UX",
        "outputId": "44aeeb01-ff7f-42a6-d070-95341301b096"
      },
      "outputs": [
        {
          "output_type": "stream",
          "name": "stderr",
          "text": [
            "WARNING:matplotlib.legend:No handles with labels found to put in legend.\n"
          ]
        },
        {
          "output_type": "display_data",
          "data": {
            "text/plain": [
              "<Figure size 432x288 with 1 Axes>"
            ],
            "image/png": "[encoded data removed]"
          },
          "metadata": {
            "needs_background": "light"
          }
        }
      ],
      "source": [
        "# load packages\n",
        "import matplotlib as mpl\n",
        "import matplotlib.pyplot as plt\n",
        "import numpy as np\n",
        "import pandas as pd\n",
        "\n",
        "from matplotlib.ticker import (MultipleLocator, AutoMinorLocator)\n",
        "cm = 1/2.54\n",
        "\n",
        "#https://towardsdatascience.com/making-publication-quality-figures-in-python-part-iii-box-plot-bar-plot-scatter-plot-407fa457449\n",
        "# prepare some data\n",
        "np.random.seed(42)\n",
        "data1 = np.random.randn(100)\n",
        "data2 = np.random.randn(100)\n",
        "data3 = np.random.randn(100)\n",
        "data4 = np.random.randn(100)\n",
        "\n",
        "fig,ax = plt.subplots()\n",
        "bp = ax.boxplot(x=[data1,data2,data3,data4],  # sequence of arrays\n",
        "positions=[1,2,3,4],   # where to put these arrays\n",
        "patch_artist=True)  # allow filling the box with colors\n",
        "ax.legend()\n",
        "namefile = 'boxplot_'+'.pdf'\n",
        "plt.savefig(namefile, transparent=True)\n",
        "plt.show()"
      ]
    },
    {
      "cell_type": "code",
      "source": [
        "df = pd.read_csv('stat.csv',usecols=[9,10,11,12,13,14,15,16],header=0 ,  )#names=['MILP','FP','Harjk','Hard','LB1','LB2','LB3','KS']\n",
        "                                                                        #dtype={'MEM1':float,'MEM2':float,'MEM3':float,'MEM4':float}\n",
        "\n",
        "##      z_milp\tz_feas\tz_harjk\tz_hard3\tz_lbc1\tz_lbc2\tz_lbc3\tz_ks    (09-16)\n",
        "##    \tt_milp\tt_feas\tt_harjk\tt_hard3\tt_lbc1\tt_lbc2\tt_lbc3\tt_ks    (18-26)\n",
        "##      g_milp\tg_feas\tg_harjk\tg_hard3\tg_lbc1\tg_lbc2\tg_lbc3\tg_ks    (28-35)"
      ],
      "metadata": {
        "id": "NQ_cy2cBM1DV"
      },
      "execution_count": 12,
      "outputs": []
    },
    {
      "cell_type": "code",
      "source": [
        "df"
      ],
      "metadata": {
        "colab": {
          "base_uri": "https://localhost:8080/",
          "height": 488
        },
        "id": "KFTOOihqi7jW",
        "outputId": "c797da75-363f-4e34-fb63-6fb509e950ae"
      },
      "execution_count": 13,
      "outputs": [
        {
          "output_type": "execute_result",
          "data": {
            "text/plain": [
              "          z_milp        z_feas       z_harjk       z_hard3        z_lbc1  \\\n",
              "0   3.016007e+07  1.000000e+75  3.017386e+07  3.018884e+07  3.017591e+07   \n",
              "1   2.821402e+07  1.000000e+75  2.822161e+07  2.822110e+07  2.821585e+07   \n",
              "2   1.000000e+75  1.000000e+75  1.000000e+75  2.822110e+07  2.822110e+07   \n",
              "3   1.000000e+75  1.000000e+75  1.000000e+75  2.822110e+07  2.822110e+07   \n",
              "4   1.000000e+75  1.000000e+75  1.000000e+75  2.822110e+07  2.821413e+07   \n",
              "5   3.171840e+07  1.000000e+75  3.174306e+07  3.174072e+07  3.172738e+07   \n",
              "6   2.581821e+07  1.000000e+75  2.582693e+07  2.582082e+07  2.581582e+07   \n",
              "7   3.042545e+07  1.000000e+75  3.043368e+07  3.044534e+07  3.042877e+07   \n",
              "8   3.313514e+07  1.000000e+75  1.000000e+75  3.315209e+07  3.313865e+07   \n",
              "9   2.981556e+07  1.000000e+75  2.983154e+07  2.982189e+07  2.981679e+07   \n",
              "10  1.000000e+75  1.000000e+75  1.028099e+08  1.028189e+08  1.028002e+08   \n",
              "11  1.000000e+75  1.000000e+75  1.000000e+75  1.119942e+08  1.000000e+75   \n",
              "12  1.000000e+75  1.000000e+75  1.000000e+75  1.098401e+08  1.000000e+75   \n",
              "13  1.000000e+75  1.000000e+75  1.000000e+75  1.000000e+75  1.000000e+75   \n",
              "\n",
              "          z_lbc2        z_lbc3         z_ks  \n",
              "0   3.017672e+07           NaN   30180844.2  \n",
              "1   2.821396e+07           NaN   28215870.6  \n",
              "2   1.000000e+75           NaN          0.0  \n",
              "3   1.000000e+75           NaN          0.0  \n",
              "4   1.000000e+75           NaN          0.0  \n",
              "5   3.172497e+07           NaN    4163640.0  \n",
              "6   2.581796e+07           NaN   25820534.7  \n",
              "7   3.043259e+07           NaN   30444232.6  \n",
              "8   3.313865e+07           NaN   33151131.3  \n",
              "9   2.981698e+07           NaN   29817899.5  \n",
              "10  1.027995e+08           NaN  102806332.6  \n",
              "11  1.000000e+75  1.119878e+08  111987283.6  \n",
              "12  1.000000e+75  1.000000e+75  109826735.3  \n",
              "13  1.000000e+75  1.000000e+75          0.0  "
            ],
            "text/html": [
              "\n",
              "  <div id=\"df-19365b60-8e5f-4ecf-88fe-d6046c52e3a2\">\n",
              "    <div class=\"colab-df-container\">\n",
              "      <div>\n",
              "<style scoped>\n",
              "    .dataframe tbody tr th:only-of-type {\n",
              "        vertical-align: middle;\n",
              "    }\n",
              "\n",
              "    .dataframe tbody tr th {\n",
              "        vertical-align: top;\n",
              "    }\n",
              "\n",
              "    .dataframe thead th {\n",
              "        text-align: right;\n",
              "    }\n",
              "</style>\n",
              "<table border=\"1\" class=\"dataframe\">\n",
              "  <thead>\n",
              "    <tr style=\"text-align: right;\">\n",
              "      <th></th>\n",
              "      <th>z_milp</th>\n",
              "      <th>z_feas</th>\n",
              "      <th>z_harjk</th>\n",
              "      <th>z_hard3</th>\n",
              "      <th>z_lbc1</th>\n",
              "      <th>z_lbc2</th>\n",
              "      <th>z_lbc3</th>\n",
              "      <th>z_ks</th>\n",
              "    </tr>\n",
              "  </thead>\n",
              "  <tbody>\n",
              "    <tr>\n",
              "      <th>0</th>\n",
              "      <td>3.016007e+07</td>\n",
              "      <td>1.000000e+75</td>\n",
              "      <td>3.017386e+07</td>\n",
              "      <td>3.018884e+07</td>\n",
              "      <td>3.017591e+07</td>\n",
              "      <td>3.017672e+07</td>\n",
              "      <td>NaN</td>\n",
              "      <td>30180844.2</td>\n",
              "    </tr>\n",
              "    <tr>\n",
              "      <th>1</th>\n",
              "      <td>2.821402e+07</td>\n",
              "      <td>1.000000e+75</td>\n",
              "      <td>2.822161e+07</td>\n",
              "      <td>2.822110e+07</td>\n",
              "      <td>2.821585e+07</td>\n",
              "      <td>2.821396e+07</td>\n",
              "      <td>NaN</td>\n",
              "      <td>28215870.6</td>\n",
              "    </tr>\n",
              "    <tr>\n",
              "      <th>2</th>\n",
              "      <td>1.000000e+75</td>\n",
              "      <td>1.000000e+75</td>\n",
              "      <td>1.000000e+75</td>\n",
              "      <td>2.822110e+07</td>\n",
              "      <td>2.822110e+07</td>\n",
              "      <td>1.000000e+75</td>\n",
              "      <td>NaN</td>\n",
              "      <td>0.0</td>\n",
              "    </tr>\n",
              "    <tr>\n",
              "      <th>3</th>\n",
              "      <td>1.000000e+75</td>\n",
              "      <td>1.000000e+75</td>\n",
              "      <td>1.000000e+75</td>\n",
              "      <td>2.822110e+07</td>\n",
              "      <td>2.822110e+07</td>\n",
              "      <td>1.000000e+75</td>\n",
              "      <td>NaN</td>\n",
              "      <td>0.0</td>\n",
              "    </tr>\n",
              "    <tr>\n",
              "      <th>4</th>\n",
              "      <td>1.000000e+75</td>\n",
              "      <td>1.000000e+75</td>\n",
              "      <td>1.000000e+75</td>\n",
              "      <td>2.822110e+07</td>\n",
              "      <td>2.821413e+07</td>\n",
              "      <td>1.000000e+75</td>\n",
              "      <td>NaN</td>\n",
              "      <td>0.0</td>\n",
              "    </tr>\n",
              "    <tr>\n",
              "      <th>5</th>\n",
              "      <td>3.171840e+07</td>\n",
              "      <td>1.000000e+75</td>\n",
              "      <td>3.174306e+07</td>\n",
              "      <td>3.174072e+07</td>\n",
              "      <td>3.172738e+07</td>\n",
              "      <td>3.172497e+07</td>\n",
              "      <td>NaN</td>\n",
              "      <td>4163640.0</td>\n",
              "    </tr>\n",
              "    <tr>\n",
              "      <th>6</th>\n",
              "      <td>2.581821e+07</td>\n",
              "      <td>1.000000e+75</td>\n",
              "      <td>2.582693e+07</td>\n",
              "      <td>2.582082e+07</td>\n",
              "      <td>2.581582e+07</td>\n",
              "      <td>2.581796e+07</td>\n",
              "      <td>NaN</td>\n",
              "      <td>25820534.7</td>\n",
              "    </tr>\n",
              "    <tr>\n",
              "      <th>7</th>\n",
              "      <td>3.042545e+07</td>\n",
              "      <td>1.000000e+75</td>\n",
              "      <td>3.043368e+07</td>\n",
              "      <td>3.044534e+07</td>\n",
              "      <td>3.042877e+07</td>\n",
              "      <td>3.043259e+07</td>\n",
              "      <td>NaN</td>\n",
              "      <td>30444232.6</td>\n",
              "    </tr>\n",
              "    <tr>\n",
              "      <th>8</th>\n",
              "      <td>3.313514e+07</td>\n",
              "      <td>1.000000e+75</td>\n",
              "      <td>1.000000e+75</td>\n",
              "      <td>3.315209e+07</td>\n",
              "      <td>3.313865e+07</td>\n",
              "      <td>3.313865e+07</td>\n",
              "      <td>NaN</td>\n",
              "      <td>33151131.3</td>\n",
              "    </tr>\n",
              "    <tr>\n",
              "      <th>9</th>\n",
              "      <td>2.981556e+07</td>\n",
              "      <td>1.000000e+75</td>\n",
              "      <td>2.983154e+07</td>\n",
              "      <td>2.982189e+07</td>\n",
              "      <td>2.981679e+07</td>\n",
              "      <td>2.981698e+07</td>\n",
              "      <td>NaN</td>\n",
              "      <td>29817899.5</td>\n",
              "    </tr>\n",
              "    <tr>\n",
              "      <th>10</th>\n",
              "      <td>1.000000e+75</td>\n",
              "      <td>1.000000e+75</td>\n",
              "      <td>1.028099e+08</td>\n",
              "      <td>1.028189e+08</td>\n",
              "      <td>1.028002e+08</td>\n",
              "      <td>1.027995e+08</td>\n",
              "      <td>NaN</td>\n",
              "      <td>102806332.6</td>\n",
              "    </tr>\n",
              "    <tr>\n",
              "      <th>11</th>\n",
              "      <td>1.000000e+75</td>\n",
              "      <td>1.000000e+75</td>\n",
              "      <td>1.000000e+75</td>\n",
              "      <td>1.119942e+08</td>\n",
              "      <td>1.000000e+75</td>\n",
              "      <td>1.000000e+75</td>\n",
              "      <td>1.119878e+08</td>\n",
              "      <td>111987283.6</td>\n",
              "    </tr>\n",
              "    <tr>\n",
              "      <th>12</th>\n",
              "      <td>1.000000e+75</td>\n",
              "      <td>1.000000e+75</td>\n",
              "      <td>1.000000e+75</td>\n",
              "      <td>1.098401e+08</td>\n",
              "      <td>1.000000e+75</td>\n",
              "      <td>1.000000e+75</td>\n",
              "      <td>1.000000e+75</td>\n",
              "      <td>109826735.3</td>\n",
              "    </tr>\n",
              "    <tr>\n",
              "      <th>13</th>\n",
              "      <td>1.000000e+75</td>\n",
              "      <td>1.000000e+75</td>\n",
              "      <td>1.000000e+75</td>\n",
              "      <td>1.000000e+75</td>\n",
              "      <td>1.000000e+75</td>\n",
              "      <td>1.000000e+75</td>\n",
              "      <td>1.000000e+75</td>\n",
              "      <td>0.0</td>\n",
              "    </tr>\n",
              "  </tbody>\n",
              "</table>\n",
              "</div>\n",
              "      <button class=\"colab-df-convert\" onclick=\"convertToInteractive('df-19365b60-8e5f-4ecf-88fe-d6046c52e3a2')\"\n",
              "              title=\"Convert this dataframe to an interactive table.\"\n",
              "              style=\"display:none;\">\n",
              "        \n",
              "  <svg xmlns=\"http://www.w3.org/2000/svg\" height=\"24px\"viewBox=\"0 0 24 24\"\n",
              "       width=\"24px\">\n",
              "    <path d=\"M0 0h24v24H0V0z\" fill=\"none\"/>\n",
              "    <path d=\"M18.56 5.44l.94 2.06.94-2.06 2.06-.94-2.06-.94-.94-2.06-.94 2.06-2.06.94zm-11 1L8.5 8.5l.94-2.06 2.06-.94-2.06-.94L8.5 2.5l-.94 2.06-2.06.94zm10 10l.94 2.06.94-2.06 2.06-.94-2.06-.94-.94-2.06-.94 2.06-2.06.94z\"/><path d=\"M17.41 7.96l-1.37-1.37c-.4-.4-.92-.59-1.43-.59-.52 0-1.04.2-1.43.59L10.3 9.45l-7.72 7.72c-.78.78-.78 2.05 0 2.83L4 21.41c.39.39.9.59 1.41.59.51 0 1.02-.2 1.41-.59l7.78-7.78 2.81-2.81c.8-.78.8-2.07 0-2.86zM5.41 20L4 18.59l7.72-7.72 1.47 1.35L5.41 20z\"/>\n",
              "  </svg>\n",
              "      </button>\n",
              "      \n",
              "  <style>\n",
              "    .colab-df-container {\n",
              "      display:flex;\n",
              "      flex-wrap:wrap;\n",
              "      gap: 12px;\n",
              "    }\n",
              "\n",
              "    .colab-df-convert {\n",
              "      background-color: #E8F0FE;\n",
              "      border: none;\n",
              "      border-radius: 50%;\n",
              "      cursor: pointer;\n",
              "      display: none;\n",
              "      fill: #1967D2;\n",
              "      height: 32px;\n",
              "      padding: 0 0 0 0;\n",
              "      width: 32px;\n",
              "    }\n",
              "\n",
              "    .colab-df-convert:hover {\n",
              "      background-color: #E2EBFA;\n",
              "      box-shadow: 0px 1px 2px rgba(60, 64, 67, 0.3), 0px 1px 3px 1px rgba(60, 64, 67, 0.15);\n",
              "      fill: #174EA6;\n",
              "    }\n",
              "\n",
              "    [theme=dark] .colab-df-convert {\n",
              "      background-color: #3B4455;\n",
              "      fill: #D2E3FC;\n",
              "    }\n",
              "\n",
              "    [theme=dark] .colab-df-convert:hover {\n",
              "      background-color: #434B5C;\n",
              "      box-shadow: 0px 1px 3px 1px rgba(0, 0, 0, 0.15);\n",
              "      filter: drop-shadow(0px 1px 2px rgba(0, 0, 0, 0.3));\n",
              "      fill: #FFFFFF;\n",
              "    }\n",
              "  </style>\n",
              "\n",
              "      <script>\n",
              "        const buttonEl =\n",
              "          document.querySelector('#df-19365b60-8e5f-4ecf-88fe-d6046c52e3a2 button.colab-df-convert');\n",
              "        buttonEl.style.display =\n",
              "          google.colab.kernel.accessAllowed ? 'block' : 'none';\n",
              "\n",
              "        async function convertToInteractive(key) {\n",
              "          const element = document.querySelector('#df-19365b60-8e5f-4ecf-88fe-d6046c52e3a2');\n",
              "          const dataTable =\n",
              "            await google.colab.kernel.invokeFunction('convertToInteractive',\n",
              "                                                     [key], {});\n",
              "          if (!dataTable) return;\n",
              "\n",
              "          const docLinkHtml = 'Like what you see? Visit the ' +\n",
              "            '<a target=\"_blank\" href=https://colab.research.google.com/notebooks/data_table.ipynb>data table notebook</a>'\n",
              "            + ' to learn more about interactive tables.';\n",
              "          element.innerHTML = '';\n",
              "          dataTable['output_type'] = 'display_data';\n",
              "          await google.colab.output.renderOutput(dataTable, element);\n",
              "          const docLink = document.createElement('div');\n",
              "          docLink.innerHTML = docLinkHtml;\n",
              "          element.appendChild(docLink);\n",
              "        }\n",
              "      </script>\n",
              "    </div>\n",
              "  </div>\n",
              "  "
            ]
          },
          "metadata": {},
          "execution_count": 13
        }
      ]
    },
    {
      "cell_type": "code",
      "source": [
        "##Imprimir Z\n",
        "data1  = df.z_milp[1:5].to_numpy()\n",
        "data2  = df.z_feas[1:5].to_numpy()\n",
        "data3  = df.z_harjk[1:5].to_numpy()\n",
        "data4  = df.z_hard3[1:5].to_numpy()\n",
        "data5  = df.z_lbc1[1:5].to_numpy()\n",
        "data6  = df.z_lbc2[1:5].to_numpy()\n",
        "data7  = df.z_lbc3[1:5].to_numpy()\n",
        "data8  = df.z_ks[1:5].to_numpy()\n",
        "labels = ['MILP','FP','Harjk','Hard','LB1','LB2','LB3','KS']\n",
        "x=[data1,data2,data3,data4,data5,data6,data7,data8]\n",
        "fig,ax = plt.subplots()\n",
        "ax.set_title('z')\n",
        "bp = ax.boxplot(x,           \n",
        "positions=[1,2,3,4,5,6,7,8],   # where to put these arrays\n",
        "labels = labels, patch_artist=True)  # allow filling the box with colors\n",
        "ax.legend()\n",
        "namefile = 'fig:z'+'.pdf'\n",
        "plt.savefig(namefile, transparent=True)\n",
        "plt.show()"
      ],
      "metadata": {
        "colab": {
          "base_uri": "https://localhost:8080/",
          "height": 298
        },
        "id": "IqsCfW-H-4pA",
        "outputId": "9a9fe667-f2bb-4e09-8cb8-84393cce1e90"
      },
      "execution_count": 14,
      "outputs": [
        {
          "output_type": "stream",
          "name": "stderr",
          "text": [
            "WARNING:matplotlib.legend:No handles with labels found to put in legend.\n"
          ]
        },
        {
          "output_type": "display_data",
          "data": {
            "text/plain": [
              "<Figure size 432x288 with 1 Axes>"
            ],
            "image/png": "[encoded data removed]"
          },
          "metadata": {
            "needs_background": "light"
          }
        }
      ]
    },
    {
      "cell_type": "markdown",
      "source": [
        "## GRÁFICOS DE CONVERGENCIA\n"
      ],
      "metadata": {
        "id": "MdVaYxkv5LNX"
      }
    },
    {
      "cell_type": "code",
      "source": [
        "# define data values\n",
        "x = np.array([1, 2, 3, 4])  # X-axis points\n",
        "y = np.array([5, 7, 3, 5])  # Y-axis points\n",
        "  \n",
        "plt.plot(x, y)  # Plot the chart\n",
        "plt.show()  # display"
      ],
      "metadata": {
        "id": "0CaDNDtj5Ktu",
        "outputId": "ef5c2746-de1b-4e83-8760-caa503de4174",
        "colab": {
          "base_uri": "https://localhost:8080/",
          "height": 265
        }
      },
      "execution_count": 18,
      "outputs": [
        {
          "output_type": "display_data",
          "data": {
            "text/plain": [
              "<Figure size 432x288 with 1 Axes>"
            ],
            "image/png": "[encoded data removed]"
          },
          "metadata": {
            "needs_background": "light"
          }
        }
      ]
    },
    {
      "cell_type": "code",
      "source": [
        "    data1=df.loc[(df['instance'] == mem) & (df['percent'] == 70)][graph].to_numpy()\n",
        "    data2=df.loc[(df['instance'] == mem) & (df['percent'] == 80)][graph].to_numpy()\n",
        "    data3=df.loc[(df['instance'] == mem) & (df['percent'] == 90)][graph].to_numpy()\n",
        "    data4=df.loc[(df['instance'] == mem) & (df['percent'] == 95)][graph].to_numpy()\n",
        "    x.append([data1,data2,data3,data4])\n",
        "\n",
        "  fig,axs = plt.subplots(nrows=2,ncols=2,figsize=(12*cm,11.5*cm),gridspec_kw={'wspace':0.5,'hspace':0.5})\n",
        "  labels = ['70%', '80%', '90%', '95%']\n",
        "  axs[0, 0].boxplot(x=x[0],labels = labels,patch_artist=True)\n",
        "  axs[0, 0].set_title('Profit')\n",
        "  axs[0, 1].boxplot(x=x[1],labels = labels,patch_artist=True)\n",
        "  axs[0, 1].set_title('CPU time')\n",
        "  axs[1, 0].boxplot(x=x[2],labels = labels,patch_artist=True)\n",
        "  axs[1, 0].set_title('MP-SP iterations')\n",
        "  axs[1, 1].boxplot(x=x[3],labels = labels,patch_artist=True)\n",
        "  axs[1, 1].set_title('Tie-line violated')\n",
        "\n",
        "  namefile = mem+'.pdf'\n",
        "  plt.savefig(namefile, transparent=True)\n",
        "  plt.show()"
      ],
      "metadata": {
        "id": "wtQUOVD8nw6D",
        "outputId": "c1b92179-053a-489c-8e74-7c3e2c438121",
        "colab": {
          "base_uri": "https://localhost:8080/",
          "height": 130
        }
      },
      "execution_count": 15,
      "outputs": [
        {
          "output_type": "error",
          "ename": "IndentationError",
          "evalue": "ignored",
          "traceback": [
            "\u001b[0;36m  File \u001b[0;32m\"<ipython-input-15-98e7fb875ec4>\"\u001b[0;36m, line \u001b[0;32m7\u001b[0m\n\u001b[0;31m    fig,axs = plt.subplots(nrows=2,ncols=2,figsize=(12*cm,11.5*cm),gridspec_kw={'wspace':0.5,'hspace':0.5})\u001b[0m\n\u001b[0m    ^\u001b[0m\n\u001b[0;31mIndentationError\u001b[0m\u001b[0;31m:\u001b[0m unexpected indent\n"
          ]
        }
      ]
    }
  ]
}