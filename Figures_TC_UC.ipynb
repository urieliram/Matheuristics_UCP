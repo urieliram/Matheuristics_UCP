{
  "nbformat": 4,
  "nbformat_minor": 0,
  "metadata": {
    "colab": {
      "provenance": [],
      "authorship_tag": "ABX9TyM9FAk2eGgr2JPoIkZ+k9ti",
      "include_colab_link": true
    },
    "kernelspec": {
      "name": "python3",
      "display_name": "Python 3"
    },
    "language_info": {
      "name": "python"
    }
  },
  "cells": [
    {
      "cell_type": "markdown",
      "metadata": {
        "id": "view-in-github",
        "colab_type": "text"
      },
      "source": [
        "<a href=\"https://colab.research.google.com/github/urieliram/tc_uc/blob/main/Figures_TC_UC.ipynb\" target=\"_parent\"><img src=\"https://colab.research.google.com/assets/colab-badge.svg\" alt=\"Open In Colab\"/></a>"
      ]
    },
    {
      "cell_type": "code",
      "execution_count": 1,
      "metadata": {
        "id": "grzyvyw38-UX"
      },
      "outputs": [],
      "source": [
        "# load packages\n",
        "import matplotlib as mpl\n",
        "import matplotlib.pyplot as plt\n",
        "import numpy as np\n",
        "import pandas as pd\n",
        "from os import listdir\n",
        "from os.path import isfile, join\n",
        "import re\n",
        "from matplotlib.ticker import (MultipleLocator, AutoMinorLocator)\n",
        "cm = 1/2.54"
      ]
    },
    {
      "cell_type": "markdown",
      "source": [
        "# GRÁFICOS DE CONVERGENCIA milp, milp2, hard3, harjk lbc, ks, \n"
      ],
      "metadata": {
        "id": "MdVaYxkv5LNX"
      }
    },
    {
      "cell_type": "markdown",
      "source": [
        "## Lectura de archivos log"
      ],
      "metadata": {
        "id": "rJMRbTfUqPRw"
      }
    },
    {
      "cell_type": "code",
      "source": [
        "## Lectura de datos\n",
        "from google.colab import files\n",
        "\n",
        "uploaded = files.upload()\n",
        "\n",
        "for fn in uploaded.keys():\n",
        "  print('User uploaded file \"{name}\" with length {length} bytes'.format(\n",
        "      name=fn, length=len(uploaded[fn])))"
      ],
      "metadata": {
        "id": "_VBW1elDnJTD",
        "outputId": "6065f2ca-a6d4-4d9a-97bb-ae769b791c85",
        "colab": {
          "base_uri": "https://localhost:8080/",
          "height": 90
        }
      },
      "execution_count": 2,
      "outputs": [
        {
          "output_type": "display_data",
          "data": {
            "text/plain": [
              "<IPython.core.display.HTML object>"
            ],
            "text/html": [
              "\n",
              "     <input type=\"file\" id=\"files-9444bc5d-95ec-4e6d-a4c8-7a98dee3e403\" name=\"files[]\" multiple disabled\n",
              "        style=\"border:none\" />\n",
              "     <output id=\"result-9444bc5d-95ec-4e6d-a4c8-7a98dee3e403\">\n",
              "      Upload widget is only available when the cell has been executed in the\n",
              "      current browser session. Please rerun this cell to enable.\n",
              "      </output>\n",
              "      <script>// Copyright 2017 Google LLC\n",
              "//\n",
              "// Licensed under the Apache License, Version 2.0 (the \"License\");\n",
              "// you may not use this file except in compliance with the License.\n",
              "// You may obtain a copy of the License at\n",
              "//\n",
              "//      http://www.apache.org/licenses/LICENSE-2.0\n",
              "//\n",
              "// Unless required by applicable law or agreed to in writing, software\n",
              "// distributed under the License is distributed on an \"AS IS\" BASIS,\n",
              "// WITHOUT WARRANTIES OR CONDITIONS OF ANY KIND, either express or implied.\n",
              "// See the License for the specific language governing permissions and\n",
              "// limitations under the License.\n",
              "\n",
              "/**\n",
              " * @fileoverview Helpers for google.colab Python module.\n",
              " */\n",
              "(function(scope) {\n",
              "function span(text, styleAttributes = {}) {\n",
              "  const element = document.createElement('span');\n",
              "  element.textContent = text;\n",
              "  for (const key of Object.keys(styleAttributes)) {\n",
              "    element.style[key] = styleAttributes[key];\n",
              "  }\n",
              "  return element;\n",
              "}\n",
              "\n",
              "// Max number of bytes which will be uploaded at a time.\n",
              "const MAX_PAYLOAD_SIZE = 100 * 1024;\n",
              "\n",
              "function _uploadFiles(inputId, outputId) {\n",
              "  const steps = uploadFilesStep(inputId, outputId);\n",
              "  const outputElement = document.getElementById(outputId);\n",
              "  // Cache steps on the outputElement to make it available for the next call\n",
              "  // to uploadFilesContinue from Python.\n",
              "  outputElement.steps = steps;\n",
              "\n",
              "  return _uploadFilesContinue(outputId);\n",
              "}\n",
              "\n",
              "// This is roughly an async generator (not supported in the browser yet),\n",
              "// where there are multiple asynchronous steps and the Python side is going\n",
              "// to poll for completion of each step.\n",
              "// This uses a Promise to block the python side on completion of each step,\n",
              "// then passes the result of the previous step as the input to the next step.\n",
              "function _uploadFilesContinue(outputId) {\n",
              "  const outputElement = document.getElementById(outputId);\n",
              "  const steps = outputElement.steps;\n",
              "\n",
              "  const next = steps.next(outputElement.lastPromiseValue);\n",
              "  return Promise.resolve(next.value.promise).then((value) => {\n",
              "    // Cache the last promise value to make it available to the next\n",
              "    // step of the generator.\n",
              "    outputElement.lastPromiseValue = value;\n",
              "    return next.value.response;\n",
              "  });\n",
              "}\n",
              "\n",
              "/**\n",
              " * Generator function which is called between each async step of the upload\n",
              " * process.\n",
              " * @param {string} inputId Element ID of the input file picker element.\n",
              " * @param {string} outputId Element ID of the output display.\n",
              " * @return {!Iterable<!Object>} Iterable of next steps.\n",
              " */\n",
              "function* uploadFilesStep(inputId, outputId) {\n",
              "  const inputElement = document.getElementById(inputId);\n",
              "  inputElement.disabled = false;\n",
              "\n",
              "  const outputElement = document.getElementById(outputId);\n",
              "  outputElement.innerHTML = '';\n",
              "\n",
              "  const pickedPromise = new Promise((resolve) => {\n",
              "    inputElement.addEventListener('change', (e) => {\n",
              "      resolve(e.target.files);\n",
              "    });\n",
              "  });\n",
              "\n",
              "  const cancel = document.createElement('button');\n",
              "  inputElement.parentElement.appendChild(cancel);\n",
              "  cancel.textContent = 'Cancel upload';\n",
              "  const cancelPromise = new Promise((resolve) => {\n",
              "    cancel.onclick = () => {\n",
              "      resolve(null);\n",
              "    };\n",
              "  });\n",
              "\n",
              "  // Wait for the user to pick the files.\n",
              "  const files = yield {\n",
              "    promise: Promise.race([pickedPromise, cancelPromise]),\n",
              "    response: {\n",
              "      action: 'starting',\n",
              "    }\n",
              "  };\n",
              "\n",
              "  cancel.remove();\n",
              "\n",
              "  // Disable the input element since further picks are not allowed.\n",
              "  inputElement.disabled = true;\n",
              "\n",
              "  if (!files) {\n",
              "    return {\n",
              "      response: {\n",
              "        action: 'complete',\n",
              "      }\n",
              "    };\n",
              "  }\n",
              "\n",
              "  for (const file of files) {\n",
              "    const li = document.createElement('li');\n",
              "    li.append(span(file.name, {fontWeight: 'bold'}));\n",
              "    li.append(span(\n",
              "        `(${file.type || 'n/a'}) - ${file.size} bytes, ` +\n",
              "        `last modified: ${\n",
              "            file.lastModifiedDate ? file.lastModifiedDate.toLocaleDateString() :\n",
              "                                    'n/a'} - `));\n",
              "    const percent = span('0% done');\n",
              "    li.appendChild(percent);\n",
              "\n",
              "    outputElement.appendChild(li);\n",
              "\n",
              "    const fileDataPromise = new Promise((resolve) => {\n",
              "      const reader = new FileReader();\n",
              "      reader.onload = (e) => {\n",
              "        resolve(e.target.result);\n",
              "      };\n",
              "      reader.readAsArrayBuffer(file);\n",
              "    });\n",
              "    // Wait for the data to be ready.\n",
              "    let fileData = yield {\n",
              "      promise: fileDataPromise,\n",
              "      response: {\n",
              "        action: 'continue',\n",
              "      }\n",
              "    };\n",
              "\n",
              "    // Use a chunked sending to avoid message size limits. See b/62115660.\n",
              "    let position = 0;\n",
              "    do {\n",
              "      const length = Math.min(fileData.byteLength - position, MAX_PAYLOAD_SIZE);\n",
              "      const chunk = new Uint8Array(fileData, position, length);\n",
              "      position += length;\n",
              "\n",
              "      const base64 = btoa(String.fromCharCode.apply(null, chunk));\n",
              "      yield {\n",
              "        response: {\n",
              "          action: 'append',\n",
              "          file: file.name,\n",
              "          data: base64,\n",
              "        },\n",
              "      };\n",
              "\n",
              "      let percentDone = fileData.byteLength === 0 ?\n",
              "          100 :\n",
              "          Math.round((position / fileData.byteLength) * 100);\n",
              "      percent.textContent = `${percentDone}% done`;\n",
              "\n",
              "    } while (position < fileData.byteLength);\n",
              "  }\n",
              "\n",
              "  // All done.\n",
              "  yield {\n",
              "    response: {\n",
              "      action: 'complete',\n",
              "    }\n",
              "  };\n",
              "}\n",
              "\n",
              "scope.google = scope.google || {};\n",
              "scope.google.colab = scope.google.colab || {};\n",
              "scope.google.colab._files = {\n",
              "  _uploadFiles,\n",
              "  _uploadFilesContinue,\n",
              "};\n",
              "})(self);\n",
              "</script> "
            ]
          },
          "metadata": {}
        },
        {
          "output_type": "stream",
          "name": "stdout",
          "text": [
            "Saving Log1.zip to Log1.zip\n",
            "User uploaded file \"Log1.zip\" with length 16338 bytes\n"
          ]
        }
      ]
    },
    {
      "cell_type": "code",
      "source": [
        "# !pip install unrar\n",
        "# !unrar x \"/content/Logs1.rar\""
      ],
      "metadata": {
        "id": "ubD5mcSYo2p_"
      },
      "execution_count": 3,
      "outputs": []
    },
    {
      "cell_type": "code",
      "source": [
        "!unzip \"Log1.zip\" -d \"/content\""
      ],
      "metadata": {
        "id": "WLmdjGzdp6ej",
        "outputId": "ea4c66c9-ea89-4f3f-a9c1-2e70ea255358",
        "colab": {
          "base_uri": "https://localhost:8080/"
        }
      },
      "execution_count": 4,
      "outputs": [
        {
          "output_type": "stream",
          "name": "stdout",
          "text": [
            "Archive:  Log1.zip\n",
            "  inflating: /content/Logs.txt       \n",
            "  inflating: /content/Log_071.log    \n",
            "  inflating: /content/Log_061.log    \n"
          ]
        }
      ]
    },
    {
      "cell_type": "code",
      "source": [
        "def validateFiles():\n",
        "  list=[]\n",
        "  f = open(\"/content/Logs.txt\",\"r\")\n",
        "  validFiles = [i.replace(\"\\n\",\"\") for i in f]\n",
        "  #print(validFiles)\n",
        "  f.close()\n",
        "  onlyfiles = [f.split(\".\")[0] for f in listdir(\"/content\") if isfile(join(\"/content\", f))]\n",
        "  for i in validFiles:\n",
        "    list.append(i)\n",
        "    if i not in onlyfiles:\n",
        "      return False\n",
        "  return True, list\n",
        "list=[]\n",
        "if validateFiles() is False:\n",
        "   print(\"!!! Faltan archivos\")   \n",
        "   temp, list = validateFiles()\n",
        "   print(list)\n",
        "else:\n",
        "   temp, list = validateFiles()\n",
        "   print(\"Archivos completos\")\n",
        "   "
      ],
      "metadata": {
        "id": "SZWH0tkRsk0S",
        "outputId": "3faedf83-9bfb-49eb-9119-1d68ac207c77",
        "colab": {
          "base_uri": "https://localhost:8080/"
        }
      },
      "execution_count": 5,
      "outputs": [
        {
          "output_type": "stream",
          "name": "stdout",
          "text": [
            "Archivos completos\n"
          ]
        }
      ]
    },
    {
      "cell_type": "markdown",
      "source": [
        "## Extrae información de los logs"
      ],
      "metadata": {
        "id": "m7bbxKz9qYKi"
      }
    },
    {
      "cell_type": "code",
      "source": [
        "class ExtractCPLEX:\n",
        "\n",
        "  def findPos(self,file,spected, starter = \"Node  Left\"):\n",
        "    file = open(file,\"r\")\n",
        "    for i,j in enumerate(file):\n",
        "      if starter in j:\n",
        "        return [(j.index(k)+len(k)-1) for k in spected]\n",
        "  \n",
        "  def getFilelog(self,f):\n",
        "    with open(f, 'r') as file:\n",
        "      data = file.read().replace('\\n', '')\n",
        "    tmp = []\n",
        "    for i in re.findall(r\"\\w*Logfile\\s*\\'*[a-zA-z.+]*\\'\",data):\n",
        "      tmp.append(i.replace(\"'\",\"\").split(\" \")[1])\n",
        "    return tmp\n",
        "\n",
        "  def createTables(self,fn):\n",
        "    table_start = False\n",
        "    spected = ['Node', 'Left', 'Objective', 'IInf', 'Integer', 'Bound', 'ItCnt', 'Gap']\n",
        "    expectedPositions = self.findPos(fn,spected)\n",
        "    tables = {\"seconds\":[],\"ticks\":[],\"solution\":[],\"Node\":[],\"Left\":[],\"Objective\":[],\"IInf\":[],\"Integer\":[],\"Bound\":[],\"ItCnt\":[],\"Gap\":[],\"cuts\":[]}\n",
        "    time = None\n",
        "    ticks = None\n",
        "    cuts = None\n",
        "    f = open(fn,\"r\")    \n",
        "    for i in f:\n",
        "      if(\"Cover cuts applied\" in i or \"Performing restart 1\" in i):\n",
        "        table_start = False\n",
        "      if(\"Elapsed time\" in i):\n",
        "          tmp = [float(k) for k in re.findall('-?\\ *[0-9]+\\.?[0-9]*(?:[Ee]\\ *[-+]?\\ *[0-9]+)?',i)]\n",
        "          time = tmp[0]\n",
        "          ticks = tmp[1]\n",
        "      if(table_start):        \n",
        "        if((str(i)[0] == \" \" or str(i)[0] == \"*\") and str(i)[expectedPositions[0]].isdigit()):\n",
        "          i = i.replace(\"uts: \",\" uts:\")\n",
        "          tables[\"seconds\"].append(time)\n",
        "          tables[\"ticks\"].append(ticks)\n",
        "          tables[\"solution\"].append(1 if i[0]==\"*\" else 0)\n",
        "          tables[\"cuts\"].append(None)\n",
        "          for j,m in zip(expectedPositions,spected):\n",
        "            if i[j] is not \" \":\n",
        "              tmp = \"\"\n",
        "              for k in range(j,0,-1):\n",
        "                if i[k] is not \" \":\n",
        "                  tmp += i[k]\n",
        "                else: \n",
        "                  break \n",
        "              tmp = tmp[::-1]\n",
        "              if(\"ut\" in tmp.lower() or \"infeasible\" in tmp.lower() or \"integral\" in tmp.lower()):\n",
        "                if(\"uts\" in tmp.lower()):\n",
        "                  tables[\"cuts\"][-1] = int(tmp.split(\":\")[1])\n",
        "                tables[m].append(tables[m][-1])\n",
        "              else:\n",
        "                if m == \"Gap\":\n",
        "                  tables[m].append(float(tmp)/100)\n",
        "                else: \n",
        "                  tables[m].append(float(tmp))\n",
        "            else:\n",
        "              tables[m].append(None)\n",
        "      if(\"Node  Left\"):\n",
        "        table_start = True\n",
        "\n",
        "    return tables\n",
        "\n",
        "  def extract(self,fn):\n",
        "    variables = {\"mipPresolveEliminated\":[],\"mipPresolveModified\":[],\"aggregatorDid\":[],\"reducedMipHasColumns\":[],\"reducedMipHasNonZero\":[],\"reducedMipHasBinaries\":[],\"reducedMipHasGeneral\":[],\"cliqueTableMembers\":[],\"rootRelaxSolSeconds\":[],\"rootRelaxSolTicks\":[]}\n",
        "    variables[\"logFile\"] = self.getFilelog(fn)\n",
        "    tables = self.createTables(fn)\n",
        "    f = open(fn, \"r\")    \n",
        "    for i in f:\n",
        "      if(\"linear optimization\" in i):\n",
        "        variables[\"linearOpt\"] = float(i.replace(\" \",\"\").replace(\"\\n\",\"\").split(\":\")[1])\n",
        "      if(\"optimality gap tolerance\" in i):\n",
        "        variables[\"gapTol\"] = float(i.replace(\" \",\"\").replace(\"\\n\",\"\").split(\":\")[1])\n",
        "      if(\"time limit in seconds\" in i):\n",
        "        variables[\"timeLimit\"] = float(i.replace(\" \",\"\").replace(\"\\n\",\"\").split(\":\")[1])\n",
        "      if(\"emphasis for MIP optimization\" in i):\n",
        "        variables[\"mipOpt\"] = float(i.replace(\" \",\"\").replace(\"\\n\",\"\").split(\":\")[1])\n",
        "      if(\"Objective sense\" in i):\n",
        "        variables[\"objSense\"] = i.replace(\" \",\"\").replace(\"\\n\",\"\").split(\":\")[1]\n",
        "      if(\"Variables\" in i):\n",
        "        if(\"Box:\" in i):\n",
        "          variablesValue = [\"variablesValue\",\"Nneg\",\"Box\",\"Binary\"]\n",
        "          for j,k in enumerate(re.findall(r'\\d+', i.replace(\" \",\"\").replace(\"\\n\",\"\").split(\":\",1)[1])):\n",
        "            variables[variablesValue[j]] = float(k)\n",
        "        else:\n",
        "          variablesValue = [\"minLB\",\"maxUb\"]\n",
        "          for j,k in enumerate(re.findall('-?\\ *[0-9]+\\.?[0-9]*(?:[Ee]\\ *[-+]?\\ *[0-9]+)?',i)):\n",
        "            variables[variablesValue[j]] = float(k)\n",
        "      if(\"Objective nonzeros\" in i):\n",
        "        if(\"Min\" in i or \"Max\" in i):\n",
        "          variablesValue = [\"objNonZerosMin\",\"objNonZerosMax\"]\n",
        "          for j,k in enumerate(re.findall('-?\\ *[0-9]+\\.?[0-9]*(?:[Ee]\\ *[-+]?\\ *[0-9]+)?',i)):\n",
        "            variables[variablesValue[j]] = float(k)\n",
        "        else:\n",
        "          variables[\"objNonZeros\"] = float(i.replace(\" \",\"\").replace(\"\\n\",\"\").split(\":\")[1])\n",
        "      if(\"Linear constraints\" in i):\n",
        "        if(\"Less\" in i):\n",
        "          variablesValue = [\"linearConstraintsValue\",\"less\",\"greater\",\"equal\"]\n",
        "          for j,k in enumerate(re.findall('-?\\ *[0-9]+\\.?[0-9]*(?:[Ee]\\ *[-+]?\\ *[0-9]+)?',i)):\n",
        "            variables[variablesValue[j]] = float(k)\n",
        "        else:\n",
        "          pass\n",
        "      if(\"Nonzeros\" in i):\n",
        "        if(\"Min\" in i):\n",
        "          variablesValue = [\"nonZerosMin\",\"nonZerosMax\"]\n",
        "          for j,k in enumerate(re.findall('-?\\ *[0-9]+\\.?[0-9]*(?:[Ee]\\ *[-+]?\\ *[0-9]+)?',i)):\n",
        "            variables[variablesValue[j]] = float(k)\n",
        "        else:\n",
        "          variables[\"nonZeros\"] = float(i.replace(\" \",\"\").replace(\"\\n\",\"\").split(\":\")[1])\n",
        "      if(\"RHS nonzeros\" in i):\n",
        "        if(\"Min\" in i):\n",
        "          variablesValue = [\"rhsNonZerosMin\",\"rhsNonZerosMax\"]\n",
        "          for j,k in enumerate(re.findall('-?\\ *[0-9]+\\.?[0-9]*(?:[Ee]\\ *[-+]?\\ *[0-9]+)?',i)):\n",
        "            variables[variablesValue[j]] = float(k)\n",
        "        else:\n",
        "          variables[\"rhsNonZeros\"] = float(i.replace(\" \",\"\").replace(\"\\n\",\"\").split(\":\")[1])\n",
        "      if(\"CPXPARAM_TimeLimit\" in i):\n",
        "        variables[\"CPXPARAM_TimeLimit\"] = float(i.replace(\"\\n\",\"\").split(\" \")[-1])\n",
        "      if(\"MIP Presolve eliminated\" in i):\n",
        "        variables[\"mipPresolveEliminated\"].append([int(k) for k in re.findall('-?\\ *[0-9]+\\.?[0-9]*(?:[Ee]\\ *[-+]?\\ *[0-9]+)?',i)])\n",
        "      if(\"MIP Presolve modified \" in i):\n",
        "        variables[\"mipPresolveModified\"].append(int(re.findall('-?\\ *[0-9]+\\.?[0-9]*(?:[Ee]\\ *[-+]?\\ *[0-9]+)?',i)[0]))\n",
        "      if(\"Reduced MIP has\" in i):\n",
        "        if(\"indicators.\" in i):\n",
        "          tmp = [int(k) for k in re.findall('-?\\ *[0-9]+\\.?[0-9]*(?:[Ee]\\ *[-+]?\\ *[0-9]+)?',i)]\n",
        "          variables[\"reducedMipHasBinaries\"].append(tmp[0])\n",
        "          variables[\"reducedMipHasGeneral\"].append(tmp[1])\n",
        "        else:\n",
        "          tmp = [int(k) for k in re.findall('-?\\ *[0-9]+\\.?[0-9]*(?:[Ee]\\ *[-+]?\\ *[0-9]+)?',i)]\n",
        "          variables[\"reducedMipHasColumns\"].append(tmp[1])\n",
        "          variables[\"reducedMipHasNonZero\"].append(tmp[-1])\n",
        "          reduceHasGeneral = []\n",
        "      if(\"Clique\" in i):\n",
        "        variables[\"cliqueTableMembers\"].append(float(i.replace(\" \",\"\").replace(\"\\n\",\"\").split(\":\")[1]))\n",
        "      if(\"Aggregator did\" in i):\n",
        "        variables[\"aggregatorDid\"].append(int(re.findall('-?\\ *[0-9]+\\.?[0-9]*(?:[Ee]\\ *[-+]?\\ *[0-9]+)?',i)[0]))\n",
        "      if(\"Root relaxation\" in i):\n",
        "        tmp = [float(k) for k in re.findall('-?\\ *[0-9]+\\.?[0-9]*(?:[Ee]\\ *[-+]?\\ *[0-9]+)?',i)]\n",
        "        variables[\"rootRelaxSolSeconds\"].append(tmp[0])\n",
        "        variables[\"rootRelaxSolTicks\"].append(tmp[1])\n",
        "      if(\"Lift and\" in i):\n",
        "        variables[\"liftAndProjectCuts\"] = int(i.replace(\" \",\"\").replace(\"\\n\",\"\").split(\":\")[1])\n",
        "      if(\"Gomory fractional\" in i):\n",
        "        variables[\"gomoryFract\"] = int(i.replace(\" \",\"\").replace(\"\\n\",\"\").split(\":\")[1])\n",
        "\n",
        "    df=pd.DataFrame.from_dict(tables).rename(columns={\"seconds\":\"seconds\",\"ticks\":\"ticks\",\"solution\":\"solution\",\"Node\":\"node\",\"Left\":\"nodesLeft\",\"Objective\":\"objective\",\"IInf\":\"iinf\",\"Integer\":\"bestInteger\",\"Bound\":\"BestBound\",\"ItCnt\":\"itCnt\",\"Gap\":\"gap\",\"cuts\":\"cuts\"})\n",
        "    df['seconds'] = df['seconds'].fillna(0)\n",
        "    eps=np.arange(0, 1, 1/(len(df)), dtype=float)\n",
        "    df['eps'] = eps\n",
        "    sum_column = df[\"seconds\"] + df[\"eps\"]\n",
        "    df[\"seconds\"] = sum_column\n",
        "    df['ticks'] = df['ticks'].fillna(0)\n",
        "    eps=np.arange(0, 1, 1/(len(df)), dtype=float)\n",
        "    df['eps'] = eps\n",
        "    sum_column = df[\"ticks\"] + df[\"eps\"]\n",
        "    df[\"ticks\"] = sum_column\n",
        "    return df,variables"
      ],
      "metadata": {
        "id": "dA6ZTFMF8Dxa"
      },
      "execution_count": null,
      "outputs": []
    },
    {
      "cell_type": "code",
      "source": [
        "class Extract:\n",
        "  def __init__(self,log):\n",
        "    self.log = log \n",
        "  def getFilelog(self,f):\n",
        "    with open(f, 'r') as file:\n",
        "      data = file.read().replace('\\n', '')\n",
        "    tmp = []\n",
        "    for i in re.findall(r\"\\w*\"+self.log+\"\\s*\\'*[a-zA-z.+]*\\'\",data):\n",
        "      print(i)\n",
        "      tmp.append(i.replace(\"'\",\"\").split(\" \")[1])\n",
        "    return tmp\n",
        "  def extract(self):\n",
        "    fn= \"/content/\"+self.log+\".log\"\n",
        "    variables = {}\n",
        "    variables[\"logFile\"] = self.log.replace(\"Log\",\"uc\")\n",
        "    f = open(fn, \"r\")\n",
        "    for i in f:\n",
        "      if(\"z_milp=\" in i):\n",
        "        variables[\"z_milp\"]  = float(i.replace(\" \",\"\").replace(\"\\n\",\"\").split(\"=\")[1])\n",
        "      if(\"z_milp2=\" in i):\n",
        "        variables[\"z_milp2\"] = float(i.replace(\" \",\"\").replace(\"\\n\",\"\").split(\"=\")[1])\n",
        "      if(\"z_harjk=\" in i):\n",
        "        variables[\"z_harjk\"] = float(i.replace(\" \",\"\").replace(\"\\n\",\"\").split(\"=\")[1])\n",
        "      if(\"z_hard3=\" in i):\n",
        "        variables[\"z_hard3\"] = float(i.replace(\" \",\"\").replace(\"\\n\",\"\").split(\"=\")[1])        \n",
        "      if(\"t_milp=\" in i):\n",
        "        variables[\"t_milp\"]  = float(i.replace(\" \",\"\").replace(\"\\n\",\"\").split(\"=\")[1])\n",
        "      if(\"t_milp2=\" in i):\n",
        "        variables[\"t_milp2\"] = float(i.replace(\" \",\"\").replace(\"\\n\",\"\").split(\"=\")[1])\n",
        "      if(\"t_harjk=\" in i):\n",
        "        variables[\"t_harjk\"] = float(i.replace(\" \",\"\").replace(\"\\n\",\"\").split(\"=\")[1])\n",
        "      if(\"t_hard3=\" in i):\n",
        "        variables[\"t_hard3\"] = float(i.replace(\" \",\"\").replace(\"\\n\",\"\").split(\"=\")[1])\n",
        "\n",
        "    variables[\"flag_milp\" ] = False\n",
        "    variables[\"flag_milp2\"] = False\n",
        "    variables[\"flag_harjk\"] = False\n",
        "    variables[\"flag_hard3\"] = False\n",
        "\n",
        "    if variables[\"z_milp\"]  != 1E+75:\n",
        "      variables[\"flag_milp\"] = True\n",
        "    if variables[\"z_milp2\"] != 1E+75:\n",
        "      variables[\"flag_milp2\"] = True\n",
        "    if variables[\"z_harjk\"] != 1E+75:\n",
        "      variables[\"flag_harjk\"] = True\n",
        "    if variables[\"z_hard3\"] != 1E+75:\n",
        "      variables[\"flag_hard3\"] = True\n",
        "\n",
        "    start = [\"lbc1 results\",\"lbc2 results\",\"lbc3 results\",\"lbc4 results\",\"KS results\"]\n",
        "    stop  = [\"lbc1 end\"    ,\"lbc2 end\"    ,\"lbc3 end\"    ,\"lbc4 end\"    ,\"KS end\"    ]\n",
        "    for p in range(5):\n",
        "      pattern_start = re.compile(r\"\"+start[p])\n",
        "      pattern_stop  = re.compile(r\"\"+\"^\"+stop[p])\n",
        "      i = 0\n",
        "      extract_on = False\n",
        "      extracts = []\n",
        "      with open(r''+fn, 'rt') as myfile:\n",
        "          for line in myfile:\n",
        "              i += 1  # line counting starts with 1\n",
        "              if pattern_start.match(line):\n",
        "                  extract_on = True\n",
        "              if pattern_stop.search(line):\n",
        "                  extract_on = False\n",
        "              if extract_on:\n",
        "                  extracts.append((i, line.rstrip('\\n')))\n",
        "      listlines=[]; x=[]; y=[]\n",
        "      for line in extracts:\n",
        "        listlines.append(line[1])\n",
        "      if len(listlines)!=0:\n",
        "        del listlines[0]\n",
        "      for i in listlines:\n",
        "        if float(re.split(',',i.replace(\" \",\"\"))[1])!=1E+75:\n",
        "          x.append(float(re.split(',',i.replace(\" \",\"\"))[0]))\n",
        "          y.append(float(re.split(',',i.replace(\" \",\"\"))[1]))\n",
        "\n",
        "      if p==0:\n",
        "        variables[\"t_lbc1\"] = x\n",
        "        variables[\"z_lbc1\"] = y\n",
        "        variables[\"flag_lbc1\"] = True\n",
        "      if p==1:\n",
        "        variables[\"t_lbc2\"] = x\n",
        "        variables[\"z_lbc2\"] = y\n",
        "        variables[\"flag_lbc2\"] = True\n",
        "      if p==2:\n",
        "        variables[\"t_lbc3\"] = x\n",
        "        variables[\"z_lbc3\"] = y\n",
        "        variables[\"flag_lbc3\"] = True\n",
        "      if p==3:\n",
        "        variables[\"t_lbc4\"] = x\n",
        "        variables[\"z_lbc4\"] = y\n",
        "        variables[\"flag_lbc4\"] = True\n",
        "      if p==4:\n",
        "        variables[\"t_KS\"] = x\n",
        "        variables[\"z_KS\"] = y\n",
        "        variables[\"flag_KS\"] = True\n",
        "\n",
        "    return variables\n",
        "\n",
        "ex         = Extract('Log_061')\n",
        "variablesx = ex.extract()\n",
        "print(variablesx)"
      ],
      "metadata": {
        "id": "caTKOCID0KvG",
        "colab": {
          "base_uri": "https://localhost:8080/"
        },
        "outputId": "bf0430a3-18d2-4cce-a413-cee3af3cf0e6"
      },
      "execution_count": 6,
      "outputs": [
        {
          "output_type": "stream",
          "name": "stdout",
          "text": [
            "{'logFile': 'uc_061', 't_milp': 7213.2, 'z_milp': 1e+75, 't_hard3': 1214.8, 'z_hard3': 22348839.6, 't_harjk': 1214.9, 'z_harjk': 22358438.4, 't_milp2': 7234.4, 'z_milp2': 22342342.0, 'flag_milp': False, 'flag_milp2': True, 'flag_harjk': True, 'flag_hard3': True, 't_lbc1': [1214.7881741523743, 1330.7, 2547.9, 3765.2, 4982.9, 7219.9], 'z_lbc1': [22348839.580970775, 22348839.580970775, 22343549.107091032, 22342341.971034825, 22342341.971034776, 22342341.971034776], 'flag_lbc1': True, 't_lbc2': [1214.7881741523743, 1332.9, 2551.1, 3769.4, 4987.8, 7220.3], 'z_lbc2': [22348839.580970775, 22348839.580970775, 22344609.107091248, 22342341.971034836, 22342341.97103478, 22342341.97103478], 'flag_lbc2': True, 't_lbc3': [1214.7881741523743, 1332.9, 2551.3, 3769.5, 4987.9, 7220.2], 'z_lbc3': [22348839.580970775, 22348839.580970775, 22347152.112599537, 22346065.36259932, 22346065.36259877, 22345005.362600006], 'flag_lbc3': True, 't_lbc4': [1214.7881741523743, 1352.5, 2569.4, 3788.4, 5007.4, 7219.2], 'z_lbc4': [22348839.580970775, 22348839.580970775, 22343549.107091032, 22342341.971034825, 22342341.971034776, 22342341.971034776], 'flag_lbc4': True, 't_KS': [1214.788186788559, 1258.6, 1276.6, 1296.5, 1352.9, 1501.8, 1522.2, 1542.1, 1598.9, 1637.2, 1657.5, 1677.3, 1720.7, 1738.6, 1939.6, 1960.5, 1998.1, 2054.9, 2111.1, 2130.8, 2388.5, 2407.7, 2427.2, 2446.8, 2466.3, 2504.0, 2523.6, 2543.3, 2563.4, 2583.2, 2840.1, 2859.3, 2878.7, 2898.3, 2917.8, 2955.4, 2974.9, 2994.5, 3014.5, 3034.3, 3291.4, 3310.7, 3330.2, 3349.7, 3369.3, 3407.0, 3426.6, 3446.4, 3466.4, 3486.2, 3743.9, 3763.2, 3782.6, 3802.3, 3821.8, 3859.4, 3878.9, 3898.6, 3918.5, 3938.3, 4196.8, 4216.2, 4235.9, 4255.6, 4275.2, 4312.9, 4332.5, 4352.3, 4372.3, 4392.1, 4650.0, 4669.4, 4689.0, 4708.7, 4728.4, 4766.0, 4785.5, 4805.2, 4825.1, 4844.8, 5104.9, 5124.4, 5144.0, 5163.7, 5183.4, 5221.2, 5240.9, 5260.6, 5280.5, 5300.3, 5558.3, 5577.8, 5597.5, 5617.1, 5636.7, 5674.4, 5694.1, 5713.8, 5733.7, 5753.5, 6011.4, 6030.9, 6050.4, 6070.1, 6089.7, 6127.4, 6147.0, 6166.7, 6186.6, 6206.3, 6464.3, 6483.7, 6503.3, 6522.8, 6542.4, 6580.2, 6599.8, 6619.5, 6639.5, 6659.2, 6917.4, 6937.1, 6956.7, 6976.5, 6996.1, 7033.9, 7053.6, 7073.4, 7093.3, 7113.1], 'z_KS': [22348839.580970775, 22347356.165758096, 22346796.165758096, 22346059.248638093, 22346032.498638116, 22346032.49863814, 22346005.362582147, 22346005.362582125, 22346005.362582132, 22346005.362582117, 22346005.362582117, 22346005.362582028, 22345445.36258213, 22344885.36258209, 22344885.362582095, 22344885.36258199, 22344885.362582117, 22344885.362582117, 22344885.36258212, 22344885.362582043, 22344885.36258211, 22344885.36258214, 22344885.36258214, 22344885.362582143, 22344885.362582125, 22344885.362582125, 22344885.362582125, 22344885.36258214, 22344885.362582132, 22344885.362582058, 22344885.36258211, 22344885.36258214, 22344885.36258214, 22344885.362582143, 22344885.362582125, 22344885.362582125, 22344885.362582125, 22344885.36258214, 22344885.362582132, 22344885.362582058, 22344885.36258211, 22344885.36258214, 22344885.36258214, 22344885.362582143, 22344885.362582125, 22344885.362582125, 22344885.362582125, 22344885.36258214, 22344885.362582132, 22344885.362582058, 22344885.36258211, 22344885.36258214, 22344885.36258214, 22344885.362582143, 22344885.362582125, 22344885.362582125, 22344885.362582125, 22344885.36258214, 22344885.362582132, 22344885.362582058, 22344885.36258211, 22344885.36258214, 22344885.36258214, 22344885.362582143, 22344885.362582125, 22344885.362582125, 22344885.362582125, 22344885.36258214, 22344885.362582132, 22344885.362582058, 22344885.36258211, 22344885.36258214, 22344885.36258214, 22344885.362582143, 22344885.362582125, 22344885.362582125, 22344885.362582125, 22344885.36258214, 22344885.362582132, 22344885.362582058, 22344885.36258211, 22344885.36258214, 22344885.36258214, 22344885.362582143, 22344885.362582125, 22344885.362582125, 22344885.362582125, 22344885.36258214, 22344885.362582132, 22344885.362582058, 22344885.36258211, 22344885.36258214, 22344885.36258214, 22344885.362582143, 22344885.362582125, 22344885.362582125, 22344885.362582125, 22344885.36258214, 22344885.362582132, 22344885.362582058, 22344885.36258211, 22344885.36258214, 22344885.36258214, 22344885.362582143, 22344885.362582125, 22344885.362582125, 22344885.362582125, 22344885.36258214, 22344885.362582132, 22344885.362582058, 22344885.36258211, 22344885.36258214, 22344885.36258214, 22344885.362582143, 22344885.362582125, 22344885.362582125, 22344885.362582125, 22344885.36258214, 22344885.362582132, 22344885.362582058, 22344885.36258211, 22344885.36258214, 22344885.36258214, 22344885.362582143, 22344885.362582125, 22344885.362582125, 22344885.362582125, 22344885.36258214, 22344885.362582132, 22344885.362582058], 'flag_KS': True}\n"
          ]
        }
      ]
    },
    {
      "cell_type": "markdown",
      "source": [
        "## Despliega gráficas"
      ],
      "metadata": {
        "id": "FbMdYZdZrqF1"
      }
    },
    {
      "cell_type": "code",
      "source": [
        "## Test ExtractCPLEX\n",
        "#e = ExtractCPLEX()\n",
        "#df, dic = e.extract(\"/content/logfileMilp2uc_061.log\")\n",
        "#df.plot.line( x='seconds',y='bestInteger',style='o-',label='_nolegend_')"
      ],
      "metadata": {
        "id": "4xulqn6C86QS"
      },
      "execution_count": 43,
      "outputs": []
    },
    {
      "cell_type": "code",
      "source": [
        "def graficas(title='',graphs=[]):\n",
        "  plt.figure()\n",
        "  models = ['MILP','MILP2','Harjk','Harduc','LB1','LB2','LB3','LB4','KS']\n",
        "  i=0\n",
        "  for tup in graphs:\n",
        "      x    = tup[0]\n",
        "      y    = tup[1]\n",
        "      if tup[2]:\n",
        "        if i==0:\n",
        "          plt.plot(x, y, 'o', label = models[i] , markersize=8,color='magenta')\n",
        "        elif i==1:\n",
        "          plt.plot(x, y, 'x', label = models[i] , markersize=8,color='magenta')\n",
        "        else:\n",
        "          plt.plot(x, y, '.-', label = models[i])\n",
        "      i=i+1\n",
        "\n",
        "  if title !='uc_071':\n",
        "    a = df['seconds'].values.tolist()\n",
        "    ar = np.array(a)\n",
        "    ar = ar + 1200 ##Agregamos los segundos de Harduc\n",
        "    plt.plot( ar,df['bestInteger'].values.tolist())\n",
        "\n",
        "  plt.xlabel(\"Time (seconds)\")\n",
        "  plt.ylabel(\"$z$\")\n",
        "  plt.title(title)\n",
        "  plt.legend(bbox_to_anchor=(1, 0.75))\n",
        "  plt.tight_layout()\n",
        "  plt.savefig('fig:'+title+'.pdf')\n",
        "  # plt.show()\n",
        "  return 0"
      ],
      "metadata": {
        "id": "0CaDNDtj5Ktu"
      },
      "execution_count": 73,
      "outputs": []
    },
    {
      "cell_type": "code",
      "source": [
        "for item in list:\n",
        "    list2  = []\n",
        "    graphs = []\n",
        "    try:\n",
        "      e = Extract(item)\n",
        "      variables = e.extract()\n",
        "      if True:\n",
        "        variables[\"flag_harjk\"] = False\n",
        "        graphs.append(([variables['t_milp' ]],[variables['z_milp']] ,variables[\"flag_milp\"]))\n",
        "        graphs.append(([variables['t_milp2']],[variables['z_milp2']],variables[\"flag_milp2\"]))\n",
        "        graphs.append(([variables['t_harjk']],[variables['z_harjk']],variables[\"flag_harjk\"]))\n",
        "        graphs.append(([variables['t_hard3']],[variables['z_hard3']],variables[\"flag_hard3\"]))\n",
        "        graphs.append((variables['t_lbc1' ],variables['z_lbc1' ],variables[\"flag_lbc1\"]))\n",
        "        graphs.append((variables['t_lbc2' ],variables['z_lbc2' ],variables[\"flag_lbc2\"]))\n",
        "        graphs.append((variables['t_lbc3' ],variables['z_lbc3' ],variables[\"flag_lbc3\"]))\n",
        "        graphs.append((variables['t_lbc4' ],variables['z_lbc4' ],variables[\"flag_lbc4\"]))\n",
        "        graphs.append((variables['t_KS' ],variables['z_KS' ],variables[\"flag_KS\"]))\n",
        "        graficas(title=variables[\"logFile\"],graphs=graphs)\n",
        "      list2.append(variables)\n",
        "    except Exception as err:\n",
        "      print(\"Fail in \", item+\".log\"+ \" file\")\n",
        "      print(str(err))"
      ],
      "metadata": {
        "id": "st05UPVm3yQu",
        "outputId": "5b1d8b64-0ff1-4049-f060-184e4435da1d",
        "colab": {
          "base_uri": "https://localhost:8080/",
          "height": 577
        }
      },
      "execution_count": 74,
      "outputs": [
        {
          "output_type": "display_data",
          "data": {
            "text/plain": [
              "<Figure size 432x288 with 1 Axes>"
            ],
            "image/png": "[encoded data removed]"
          },
          "metadata": {
            "needs_background": "light"
          }
        },
        {
          "output_type": "display_data",
          "data": {
            "text/plain": [
              "<Figure size 432x288 with 1 Axes>"
            ],
            "image/png": "[encoded data removed]"
          },
          "metadata": {
            "needs_background": "light"
          }
        }
      ]
    },
    {
      "cell_type": "markdown",
      "source": [
        "# GRAFICOS DE BOXPLOT\n"
      ],
      "metadata": {
        "id": "-O6z-YGJm-HN"
      }
    },
    {
      "cell_type": "markdown",
      "source": [
        "## Ejemplo boxplot"
      ],
      "metadata": {
        "id": "4fe2A0YEmeGs"
      }
    },
    {
      "cell_type": "code",
      "source": [
        "#https://drive.google.com/drive/folders/1Gj3XK9kM-lE18uBMe3qrZOGEm8yAI8i9\n",
        "#https://www.codegrepper.com/code-examples/python/how+to+read+csv+file+from+google+drive+on+google+colab+\n",
        "path = 'https://drive.google.com/uc?export=download&id=' \n",
        "URL  = 'https://drive.google.com/file/d/1ySF5y3FdEZrEAu1jZ_P1PdBJSk64TQvt/view?usp=share_link'\n",
        "df   = pd.read_csv(path+URL.split('/')[-2],header=0)\n",
        "                #  dtype={'SERIE11':float,'SERIE12':float,'SERIE13':float,'SERIE14':float,'SERIE15':float,'SERIE16':float,'SERIE17':float})\n",
        "#names=['MILP','FP','Harjk','Hard','LB1','LB2','LB3','KS']\n",
        "#dtype={'MEM1':float,'MEM2':float,'MEM3':float,'MEM4':float}\n",
        "\n",
        "##      z_milp\tz_feas\tz_harjk\t z_hard3\tz_lbc1\tz_lbc2\tz_lbc3\tz_ks    (09-16)\n",
        "##    \tt_milp\tt_feas\tt_harjk  t_hard3\tt_lbc1\tt_lbc2\tt_lbc3\tt_ks    (18-26)\n",
        "##      g_milp\tg_feas\tg_harjk\t g_hard3\tg_lbc1\tg_lbc2\tg_lbc3\tg_ks    (28-35)\n",
        "df.dropna(inplace=True)"
      ],
      "metadata": {
        "id": "VPYCprJlrHYa"
      },
      "execution_count": 9,
      "outputs": []
    },
    {
      "cell_type": "code",
      "source": [
        "##Imprimir GAP\n",
        "data1  = df.g_milp.to_numpy()\n",
        "data2  = df.g_milp2.to_numpy()\n",
        "data3  = df.g_harjk.to_numpy()\n",
        "data4  = df.g_hard3.to_numpy()\n",
        "data5  = df.g_lbc1.to_numpy()\n",
        "data6  = df.g_lbc2.to_numpy()\n",
        "data7  = df.g_lbc3.to_numpy()\n",
        "data8  = df.g_lbc4.to_numpy()\n",
        "data9  = df.g_ks.to_numpy()\n",
        "labels = ['MILP','MILP2','Harjk','Harduc','LB1','LB2','LB3','LB4','KS']\n",
        "x=[data1,data2,data3,data4,data5,data6,data7,data8,data9]\n",
        "fig,ax = plt.subplots()\n",
        "ax.set_title('gap')\n",
        "bp = ax.boxplot(x,           \n",
        "positions=[1,2,3,4,5,6,7,8,9],      # where to put these arrays\n",
        "labels = labels, patch_artist=True)  # allow filling the box with colors\n",
        "# ax.legend()\n",
        "namefile = 'fig:boxplotgap'+'.pdf'\n",
        "plt.savefig(namefile, transparent=True)\n",
        "plt.show()"
      ],
      "metadata": {
        "colab": {
          "base_uri": "https://localhost:8080/",
          "height": 281
        },
        "id": "IqsCfW-H-4pA",
        "outputId": "5d33f36c-4f06-4d7a-80a9-db3f6fade684"
      },
      "execution_count": 10,
      "outputs": [
        {
          "output_type": "display_data",
          "data": {
            "text/plain": [
              "<Figure size 432x288 with 1 Axes>"
            ],
            "image/png": "[encoded data removed]"
          },
          "metadata": {
            "needs_background": "light"
          }
        }
      ]
    },
    {
      "cell_type": "code",
      "source": [
        "##Imprimir TIME\n",
        "data1  = df.t_milp.to_numpy()\n",
        "data2  = df.t_milp2.to_numpy()\n",
        "data3  = df.t_harjk.to_numpy()\n",
        "data4  = df.t_hard3.to_numpy()\n",
        "data5  = df.t_lbc1.to_numpy()\n",
        "data6  = df.t_lbc2.to_numpy()\n",
        "data7  = df.t_lbc3.to_numpy()\n",
        "data8  = df.t_lbc4.to_numpy()\n",
        "data9  = df.t_ks.to_numpy()\n",
        "labels = ['MILP','MILP2','Harjk','Harduc','LB1','LB2','LB3','LB4','KS']\n",
        "x=[data1,data2,data3,data4,data5,data6,data7,data8,data9]\n",
        "fig,ax = plt.subplots()\n",
        "ax.set_title('time (seconds)')\n",
        "bp = ax.boxplot(x,           \n",
        "positions=[1,2,3,4,5,6,7,8,9],      # where to put these arrays\n",
        "labels = labels, patch_artist=True)  # allow filling the box with colors\n",
        "# ax.legend()\n",
        "namefile = 'fig:boxplottime'+'.pdf'\n",
        "plt.savefig(namefile, transparent=True)\n",
        "plt.show()"
      ],
      "metadata": {
        "id": "YUy7phrgMLrQ",
        "outputId": "31061cde-7088-40a1-acaf-8398ccf5eb88",
        "colab": {
          "base_uri": "https://localhost:8080/",
          "height": 281
        }
      },
      "execution_count": 11,
      "outputs": [
        {
          "output_type": "display_data",
          "data": {
            "text/plain": [
              "<Figure size 432x288 with 1 Axes>"
            ],
            "image/png": "[encoded data removed]"
          },
          "metadata": {
            "needs_background": "light"
          }
        }
      ]
    },
    {
      "cell_type": "code",
      "source": [
        "\n",
        "#https://towardsdatascience.com/making-publication-quality-figures-in-python-part-iii-box-plot-bar-plot-scatter-plot-407fa457449\n",
        "# prepare some data\n",
        "np.random.seed(42)\n",
        "data1 = np.random.randn(100)\n",
        "data2 = np.random.randn(100)\n",
        "data3 = np.random.randn(100)\n",
        "data4 = np.random.randn(100)\n",
        "\n",
        "fig,ax = plt.subplots()\n",
        "bp = ax.boxplot(x=[data1,data2,data3,data4],  # sequence of arrays\n",
        "positions=[1,2,3,4],   # where to put these arrays\n",
        "patch_artist=True)  # allow filling the box with colors\n",
        "# ax.legend()\n",
        "namefile = 'boxplot_'+'.pdf'\n",
        "plt.savefig(namefile, transparent=True)\n",
        "plt.show()"
      ],
      "metadata": {
        "id": "lr7KtKqGmiHa",
        "outputId": "a49ecf7e-439f-407a-d531-6f746b601a9a",
        "colab": {
          "base_uri": "https://localhost:8080/",
          "height": 265
        }
      },
      "execution_count": 12,
      "outputs": [
        {
          "output_type": "display_data",
          "data": {
            "text/plain": [
              "<Figure size 432x288 with 1 Axes>"
            ],
            "image/png": "[encoded data removed]"
          },
          "metadata": {
            "needs_background": "light"
          }
        }
      ]
    }
  ]
}