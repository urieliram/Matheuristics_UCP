{
  "nbformat": 4,
  "nbformat_minor": 0,
  "metadata": {
    "colab": {
      "provenance": [],
      "authorship_tag": "ABX9TyPkqKCElOI2S01Xa0uiTCeb",
      "include_colab_link": true
    },
    "kernelspec": {
      "name": "python3",
      "display_name": "Python 3"
    },
    "language_info": {
      "name": "python"
    }
  },
  "cells": [
    {
      "cell_type": "markdown",
      "metadata": {
        "id": "view-in-github",
        "colab_type": "text"
      },
      "source": [
        "<a href=\"https://colab.research.google.com/github/urieliram/tc_uc/blob/main/Instances_gen.ipynb\" target=\"_parent\"><img src=\"https://colab.research.google.com/assets/colab-badge.svg\" alt=\"Open In Colab\"/></a>"
      ]
    },
    {
      "cell_type": "code",
      "source": [
        ",\"power_output_t0\",\"unit_on_t0\",\"\",\"time_down_t0\",\"fixed_cost\",\"startup\",\"piecewise_production\"]"
      ],
      "metadata": {
        "id": "2BBUke6TRXyc"
      },
      "execution_count": null,
      "outputs": []
    },
    {
      "cell_type": "code",
      "source": [
        "labels= [\"comments\", \"time_periods\",,]"
      ],
      "metadata": {
        "id": "_s-0L6isUfUP"
      },
      "execution_count": null,
      "outputs": []
    },
    {
      "cell_type": "code",
      "source": [
        "gen ={}\n",
        "tmp={}\n",
        "i=1\n",
        "tmp[\"must_run\"] = 1\n",
        "tmp[\"name\"] = 1\n",
        "tmp[\"power_output_minimum\"] = 1\n",
        "tmp[\"power_output_maximum\"] = 2\n",
        "tmp[\"ramp_up_limit\"       ] = 3\n",
        "tmp[\"ramp_down_limit\"     ] = 4\n",
        "tmp[\"ramp_startup_limit\"  ] = 0\n",
        "tmp[\"ramp_shutdown_limit\" ] = 0\n",
        "tmp[\"time_up_minimum\"     ] = 0\n",
        "tmp[\"time_down_minimum\"   ] = 0\n",
        "tmp[\"power_output_t0\"     ] = 0\n",
        "tmp[\"unit_on_t0\"          ] = 0\n",
        "tmp[\"time_up_t0\"          ] = 0\n",
        "tmp[\"time_down_t0\"        ] = 1\n",
        "tmp[\"fixed_cost\"          ] = 1\n",
        "tmp[\"startup\"             ] = [{\"lag\":1,\"cost\":0}]\n",
        "tmp[\"piecewise_production\"] = [{\"mw\":0,\"cost\":0}]\n",
        "gen[\"G\"+str(i+1)          ] = tmp\n",
        "\n",
        "f = open(\"{}/output.json\".format(\"/content/\"), \"w\")\n",
        "f.write(str(gen).replace(\"\\'\",\"\\\"\"))\n",
        "f.close()"
      ],
      "metadata": {
        "id": "gDvO-QmkUw_p"
      },
      "execution_count": 24,
      "outputs": []
    },
    {
      "cell_type": "code",
      "execution_count": 19,
      "metadata": {
        "id": "4fAgCfx9MWkj"
      },
      "outputs": [],
      "source": [
        "i=1\n",
        "n=3\n",
        "tmp_lc = []\n",
        "tmp_mc = []\n",
        "lag    = [1,2,3,4,5,6]\n",
        "cost   = [7,8,9,10,11,12]\n",
        "mw     = [23,22,23,24,25,26]\n",
        "cost2  = [227,228,229,210,211,212]\n",
        "result = {\n",
        "        \"time_periods\" : int(2),\n",
        "        \"demand\": 2,\n",
        "        \"reserves\": 3\n",
        "    }\n",
        "\n",
        "for j in range(len(lag)):\n",
        "    tmp_lc.append({\"lag\":lag[j],\"cost\":cost[j]})\n",
        "\n",
        "for j in range(len(mw)):\n",
        "    tmp_mc.append({\"lag\":lag[j],\"cost\":cost[j]})\n",
        "\n",
        "tmp = {\n",
        "      \"must_run\": 0,\n",
        "      \"name\": \"H{}\".format(str(i+1))\n",
        "      }\n",
        "\n",
        "result[\"startup\"] = tmp_lc\n",
        "result[\"piecewise_production\"] = tmp_mc\n",
        "\n",
        "f = open(\"{}/output.json\".format(\"/content/\"), \"w\")\n",
        "f.write(str(result).replace(\"\\'\",\"\\\"\"))\n",
        "f.close()"
      ]
    },
    {
      "cell_type": "code",
      "source": [],
      "metadata": {
        "id": "XVO2H_aKUeNJ"
      },
      "execution_count": null,
      "outputs": []
    }
  ]
}