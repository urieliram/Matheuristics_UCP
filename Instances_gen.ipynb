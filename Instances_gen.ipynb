{
  "nbformat": 4,
  "nbformat_minor": 0,
  "metadata": {
    "colab": {
      "provenance": [],
      "authorship_tag": "ABX9TyPnFS2qbfTQGkmwRmzd1iel",
      "include_colab_link": true
    },
    "kernelspec": {
      "name": "python3",
      "display_name": "Python 3"
    },
    "language_info": {
      "name": "python"
    }
  },
  "cells": [
    {
      "cell_type": "markdown",
      "metadata": {
        "id": "view-in-github",
        "colab_type": "text"
      },
      "source": [
        "<a href=\"https://colab.research.google.com/github/urieliram/tc_uc/blob/main/Instances_gen.ipynb\" target=\"_parent\"><img src=\"https://colab.research.google.com/assets/colab-badge.svg\" alt=\"Open In Colab\"/></a>"
      ]
    },
    {
      "cell_type": "code",
      "source": [
        "datagen=[[ 0,\"G1\",150,455,225,225,150,150,8,8,150,1,8,0,1000],\n",
        "         [ 0,\"G2\",150,455,225,225,150,150,8,8,150,1,8,0, 970],\n",
        "         [ 0,\"G3\", 20,130, 50, 50, 20, 20,5,5, 20,1,5,0, 700],\n",
        "         [ 0,\"G4\", 20,130, 50, 50, 20, 20,5,5, 20,1,5,0, 680],\n",
        "         [ 0,\"G5\", 25,162, 60, 60, 25, 25,6,6, 25,1,6,0, 450],\n",
        "         [ 0,\"G6\", 20, 80, 60, 60, 20, 20,3,3, 20,1,3,0, 370],\n",
        "         [ 0,\"G7\", 25, 85, 60, 60, 25, 25,3,3, 25,1,3,0, 480],\n",
        "         [ 0,\"G8\", 10, 55,135,135, 10, 10,1,1, 10,1,1,0, 660]]\n",
        "perfil = [71,65,62,60,58,58,60,64,73,80,82,83,82,80,79,79,83,91,90,88,85,84,79,74]\n",
        "startup = [([8,14,24],[4500,  9000,  9000]),\n",
        "           ([8,14,24],[5000, 10000, 10000]),\n",
        "           ([5,10,24],[550,   1100,  1100]),\n",
        "           ([5,10,24],[560,   1120,  1120]),\n",
        "           ([6,11,24],[900,   1800,  1800]),\n",
        "           ([3, 8,24],[170,    340,   340]),\n",
        "           ([3, 6,24],[260,    520,   520]),\n",
        "           ([1, 2,24],[30 ,     60,    60])]\n",
        "lista = [(1,3)]"
      ],
      "metadata": {
        "id": "ohxx1mxegJVf"
      },
      "execution_count": 1,
      "outputs": []
    },
    {
      "cell_type": "code",
      "source": [
        "result = {}\n",
        "tmp    = {}\n",
        "gen    = {}\n",
        "\n",
        "demand                 = [1,2,3]\n",
        "reserves               = [7,8,9]\n",
        "result[\"comments\"    ] = \"x7-30G-UR\"\n",
        "result[\"time_periods\"] = len(demand)\n",
        "result[\"demand\"      ] = demand\n",
        "result[\"reserves\"    ] = reserves\n",
        "n=1\n",
        "for item in lista:\n",
        "  i = item[0] - 1\n",
        "  j = item[1]\n",
        "\n",
        "  for k in range(j):\n",
        "    startup              = []\n",
        "    piecewise_production = []\n",
        "    mw     = [23,22,23]\n",
        "    cost   = [7,8,9]\n",
        "    lag    = [1,2,3]\n",
        "    cost2  = [227,22,8]\n",
        "    for m in range(len(lag)):\n",
        "        startup.append({\"lag\":lag[m],\"cost\":cost[m]})\n",
        "    for m in range(len(mw)):\n",
        "        piecewise_production.append({\"lag\":lag[m],\"cost\":cost[m]})\n",
        "    tmp[\"must_run\"            ] = datagen[i][0]\n",
        "    tmp[\"name\"                ] = datagen[i][1]\n",
        "    tmp[\"power_output_minimum\"] = datagen[i][2]\n",
        "    tmp[\"power_output_maximum\"] = datagen[i][3]\n",
        "    tmp[\"ramp_up_limit\"       ] = datagen[i][4]\n",
        "    tmp[\"ramp_down_limit\"     ] = datagen[i][5]\n",
        "    tmp[\"ramp_startup_limit\"  ] = datagen[i][6]\n",
        "    tmp[\"ramp_shutdown_limit\" ] = datagen[i][7]\n",
        "    tmp[\"time_up_minimum\"     ] = datagen[i][8]\n",
        "    tmp[\"time_down_minimum\"   ] = datagen[i][9]\n",
        "    tmp[\"power_output_t0\"     ] = datagen[i][10]\n",
        "    tmp[\"unit_on_t0\"          ] = datagen[i][11]\n",
        "    tmp[\"time_up_t0\"          ] = datagen[i][12]\n",
        "    tmp[\"time_down_t0\"        ] = datagen[i][13]\n",
        "    tmp[\"fixed_cost\"          ] = datagen[i][14]\n",
        "    tmp[\"startup\"             ] = startup\n",
        "    tmp[\"piecewise_production\"] = piecewise_production\n",
        "    gen[\"G_\"+str(n)           ] = tmp\n",
        "    n = n + 1\n",
        "\n",
        "result[\"thermal_generators\" ] = gen\n",
        "\n",
        "##Genera archivo json\n",
        "f = open(\"{}/output.json\".format(\"/content/\"), \"w\")\n",
        "f.write(str(result).replace(\"\\'\",\"\\\"\"))\n",
        "f.close()"
      ],
      "metadata": {
        "colab": {
          "base_uri": "https://localhost:8080/"
        },
        "id": "gDvO-QmkUw_p",
        "outputId": "b370ea48-dc6f-4d72-91f0-047c4e0bfdc9"
      },
      "execution_count": 9,
      "outputs": [
        {
          "output_type": "stream",
          "name": "stdout",
          "text": [
            "0\n",
            "1\n",
            "2\n"
          ]
        }
      ]
    },
    {
      "cell_type": "code",
      "execution_count": 3,
      "metadata": {
        "id": "4fAgCfx9MWkj"
      },
      "outputs": [],
      "source": [
        "tmp_lc = []\n",
        "tmp_mc = []\n",
        "cost   = [7,8,9,10,11,12]\n",
        "mw     = [23,22,23,24,25,26]\n",
        "cost2  = [227,228,229,210,211,212]\n",
        "lag    = [1,2,3,4,5,6]\n",
        "for j in range(len(lag)):\n",
        "    tmp_lc.append({\"lag\":lag[j],\"cost\":cost[j]})\n",
        "\n",
        "for j in range(len(mw)):\n",
        "    tmp_mc.append({\"lag\":lag[j],\"cost\":cost[j]})\n",
        "\n",
        "result[\"startup\"] = tmp_lc\n",
        "result[\"piecewise_production\"] = tmp_mc\n",
        "\n",
        "f = open(\"{}/output.json\".format(\"/content/\"), \"w\")\n",
        "f.write(str(result).replace(\"\\'\",\"\\\"\"))\n",
        "f.close()"
      ]
    },
    {
      "cell_type": "code",
      "source": [],
      "metadata": {
        "id": "XVO2H_aKUeNJ"
      },
      "execution_count": 3,
      "outputs": []
    }
  ]
}