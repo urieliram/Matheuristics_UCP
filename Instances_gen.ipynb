{
  "nbformat": 4,
  "nbformat_minor": 0,
  "metadata": {
    "colab": {
      "provenance": [],
      "collapsed_sections": [],
      "authorship_tag": "ABX9TyOZWmsvkZ2CyFBhXGTLuCHf",
      "include_colab_link": true
    },
    "kernelspec": {
      "name": "python3",
      "display_name": "Python 3"
    },
    "language_info": {
      "name": "python"
    }
  },
  "cells": [
    {
      "cell_type": "markdown",
      "metadata": {
        "id": "view-in-github",
        "colab_type": "text"
      },
      "source": [
        "<a href=\"https://colab.research.google.com/github/urieliram/tc_uc/blob/main/Instances_gen.ipynb\" target=\"_parent\"><img src=\"https://colab.research.google.com/assets/colab-badge.svg\" alt=\"Open In Colab\"/></a>"
      ]
    },
    {
      "cell_type": "code",
      "source": [
        "datagen=[[ 0,\"G1\",150,455,225,225,150,150,8,8,150,1,8,0,1000],\n",
        "         [ 0,\"G2\",150,455,225,225,150,150,8,8,150,1,8,0, 970],\n",
        "         [ 0,\"G3\", 20,130, 50, 50, 20, 20,5,5, 20,1,5,0, 700],\n",
        "         [ 0,\"G4\", 20,130, 50, 50, 20, 20,5,5, 20,1,5,0, 680],\n",
        "         [ 0,\"G5\", 25,162, 60, 60, 25, 25,6,6, 25,1,6,0, 450],\n",
        "         [ 0,\"G6\", 20, 80, 60, 60, 20, 20,3,3, 20,1,3,0, 370],\n",
        "         [ 0,\"G7\", 25, 85, 60, 60, 25, 25,3,3, 25,1,3,0, 480],\n",
        "         [ 0,\"G8\", 10, 55,135,135, 10, 10,1,1, 10,1,1,0, 660]]\n",
        "startup = [([8,14,24],[4500,  9000,  9000]),\n",
        "           ([8,14,24],[5000, 10000, 10000]),\n",
        "           ([5,10,24],[550,   1100,  1100]),\n",
        "           ([5,10,24],[560,   1120,  1120]),\n",
        "           ([6,11,24],[900,   1800,  1800]),\n",
        "           ([3, 8,24],[170,    340,   340]),\n",
        "           ([3, 6,24],[260,    520,   520]),\n",
        "           ([1, 2,24],[30 ,     60,    60])]\n",
        "piecewise = [([150,177.72727273,205.45454546000002,233.18181819000003,260.90909092000004,288.63636365,316.36363638,344.09090911,371.81818183999997,399.54545456999995,427.2727273,455],[16.19,16.19,16.19,16.19,16.19,16.19,16.19,16.19,16.19,16.19,16.19,16.19]),\n",
        "             ([150,177.72727273,205.45454546000002,233.18181819000003,260.90909092000004,288.63636365,316.36363638,344.09090911,371.81818183999997,399.54545456999995,455],[17.26,17.26,17.26,17.26,17.26,17.26,17.26,17.26,17.26,17.26,17.26]),\n",
        "             ([20,30,40,50,60,70,80,90,100,110,130],[16.6,16.6,16.6,16.6,16.6,16.6,16.6,16.6,16.6,16.6,16.6]),\n",
        "             ([20,30,40,50,60,70,80,90,100,110,130],[16.5,16.5,16.5,16.5,16.5,16.5,16.5,16.5,16.5,16.5,16.5]),\n",
        "             ([25,37.45454545,49.909090899999995,62.36363634999999,74.81818179999999,87.27272724999999,99.72727269999999,112.18181814999998,124.63636359999998,137.09090905,162],[19.7,19.7,19.7,19.7,19.7,19.7,19.7,19.7,19.7,19.7,19.7]),\n",
        "             ([20,25.454545455,30.909090910000003,36.363636365000005,41.81818182000001,47.27272727500001,52.72727273000001,58.18181818500001,63.63636364000001,69.09090909500001,80],[22.26,22.26,22.26,22.26,22.26,22.26,22.26,22.26,22.26,22.26,22.26]),\n",
        "             ([25,30.454545455,35.90909091,41.363636365000005,46.81818182000001,52.27272727500001,57.72727273000001,63.18181818500001,68.63636364000001,74.09090909500001,85],[27.74,27.74,27.74,27.74,27.74,27.74,27.74,27.74,27.74,27.74,27.74]),\n",
        "             ([10,14.090909091,18.181818182,22.272727273,26.363636364,30.454545455,34.545454546,38.636363637,42.727272728,46.818181819,55],[25.92,25.92,25.92,25.92,25.92,25.92,25.92,25.92,25.92,25.92,25.92])]\n",
        "perfil = [.71,.65,.62,.60,.58,.58,.60,.64,.73,.80,.82,.83,.82,.80,.79,.79,.83,.91,.90,.88,.85,.84,.79,.74]"
      ],
      "metadata": {
        "id": "ohxx1mxegJVf"
      },
      "execution_count": 1,
      "outputs": []
    },
    {
      "cell_type": "code",
      "source": [
        "## Aqui la configuración de  la instancia (GEN,NUMERO)\n",
        "lista = [(0,1),(1,1),(2,1),(3,1),(4,1),(5,1),(6,1),(7,1)]"
      ],
      "metadata": {
        "id": "klAG2X7V4JHt"
      },
      "execution_count": 2,
      "outputs": []
    },
    {
      "cell_type": "code",
      "source": [
        "0##Calculamos la demanda de cinco dias mas dos de fin de semana\n",
        "weekday    = []; weekend=[] ; weekend=[] ; demand=[] ; demand1=[] ; reserves=[]\n",
        "n_weekdays = 1\n",
        "n_weekend  = 0\n",
        "factor_we  = 0.8\n",
        "factor_re  = 0.05\n",
        "weekday    = perfil * n_weekdays\n",
        "capacidad  = 0\n",
        "## Calculamos capacidad total de los generadores\n",
        "i = 0\n",
        "for item in datagen:\n",
        "  print(item[3] , lista[i][1])\n",
        "  capacidad = capacidad + item[3] * lista[i][1]\n",
        "  i = i + 1\n",
        "\n",
        "for i in perfil:\n",
        "    weekend.append(i * factor_we)\n",
        "weekend   = weekend * n_weekend\n",
        "demand1   = weekday + weekend\n",
        "\n",
        "for i in demand1:\n",
        "    demand.append(i * capacidad)\n",
        "\n",
        "for i in demand:\n",
        "    reserves.append(i * factor_re)\n",
        "\n",
        "print('capacidad',capacidad)"
      ],
      "metadata": {
        "colab": {
          "base_uri": "https://localhost:8080/"
        },
        "id": "xMlGDaVj4-Sx",
        "outputId": "4df012c4-9011-4de1-9e07-1c6d86071790"
      },
      "execution_count": 3,
      "outputs": [
        {
          "output_type": "stream",
          "name": "stdout",
          "text": [
            "455 1\n",
            "455 1\n",
            "130 1\n",
            "130 1\n",
            "162 1\n",
            "80 1\n",
            "85 1\n",
            "55 1\n",
            "capacidad 1552\n"
          ]
        }
      ]
    },
    {
      "cell_type": "code",
      "source": [
        "24*3\n"
      ],
      "metadata": {
        "colab": {
          "base_uri": "https://localhost:8080/"
        },
        "id": "X_eadU_ITp0-",
        "outputId": "d9a16907-afff-40ea-9bb9-c43405eefa47"
      },
      "execution_count": 4,
      "outputs": [
        {
          "output_type": "execute_result",
          "data": {
            "text/plain": [
              "72"
            ]
          },
          "metadata": {},
          "execution_count": 4
        }
      ]
    },
    {
      "cell_type": "code",
      "source": [
        "result = {}\n",
        "tmp    = {}\n",
        "gen    = {}\n",
        "result[\"comments\"    ] = \"x7-30G-UR-\"+str(lista)\n",
        "result[\"time_periods\"] = len(demand)\n",
        "result[\"demand\"      ] = demand\n",
        "result[\"reserves\"    ] = reserves\n",
        "result[\"factor_demand\"] = 1\n",
        "n = 1\n",
        "for item in lista:\n",
        "  i = item[0]\n",
        "  j = item[1]\n",
        "  for k in range(j):\n",
        "    startup1              = []\n",
        "    piecewise_production1 = []\n",
        "    for m in range(len(startup[i][0])):        \n",
        "        startup1.append({\"lag\":startup[i][0][m],\"cost\":startup[i][1][m]})\n",
        "    for m in range(len(piecewise[i][0])):\n",
        "        piecewise_production1.append({\"mw\":piecewise[i][0][m],\"cost\":piecewise[i][1][m]})\n",
        "    print(i)\n",
        "    tmp[\"must_run\"            ] = datagen[i][0]\n",
        "    tmp[\"name\"                ] = datagen[i][1] +\"-\"+ str(n)\n",
        "    tmp[\"power_output_minimum\"] = datagen[i][2]\n",
        "    tmp[\"power_output_maximum\"] = datagen[i][3]\n",
        "    tmp[\"ramp_up_limit\"       ] = datagen[i][4]\n",
        "    tmp[\"ramp_down_limit\"     ] = datagen[i][5]\n",
        "    tmp[\"ramp_startup_limit\"  ] = datagen[i][6]\n",
        "    tmp[\"ramp_shutdown_limit\" ] = datagen[i][7]\n",
        "    tmp[\"time_up_minimum\"     ] = datagen[i][8]\n",
        "    tmp[\"time_down_minimum\"   ] = datagen[i][9]\n",
        "    tmp[\"power_output_t0\"     ] = datagen[i][10]\n",
        "    tmp[\"unit_on_t0\"          ] = datagen[i][11]\n",
        "    tmp[\"time_up_t0\"          ] = datagen[i][12]\n",
        "    tmp[\"time_down_t0\"        ] = datagen[i][13]\n",
        "    tmp[\"fixed_cost\"          ] = datagen[i][14]\n",
        "    tmp[\"startup\"             ] = startup1\n",
        "    tmp[\"piecewise_production\"] = piecewise_production1\n",
        "    gen[\"G_\"+str(n)           ] = tmp\n",
        "    tmp = {}\n",
        "    result[\"thermal_generators\"] = gen\n",
        "    n = n + 1\n",
        "\n",
        "##Genera archivo json\n",
        "f = open(\"{}/output.json\".format(\"/content/\"), \"w\")\n",
        "f.write(str(result).replace(\"\\'\",\"\\\"\"))\n",
        "f.close()"
      ],
      "metadata": {
        "colab": {
          "base_uri": "https://localhost:8080/"
        },
        "id": "gDvO-QmkUw_p",
        "outputId": "59cda0cd-cb0f-4331-941c-434d1342250b"
      },
      "execution_count": 5,
      "outputs": [
        {
          "output_type": "stream",
          "name": "stdout",
          "text": [
            "0\n",
            "1\n",
            "2\n",
            "3\n",
            "4\n",
            "5\n",
            "6\n",
            "7\n"
          ]
        }
      ]
    }
  ]
}