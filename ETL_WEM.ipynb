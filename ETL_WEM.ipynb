{
  "nbformat": 4,
  "nbformat_minor": 0,
  "metadata": {
    "colab": {
      "name": "ETL_WEM.ipynb",
      "provenance": [],
      "authorship_tag": "ABX9TyPZmB5v4ZNzpDi+6ZWIsn+5",
      "include_colab_link": true
    },
    "kernelspec": {
      "name": "python3",
      "display_name": "Python 3"
    },
    "language_info": {
      "name": "python"
    }
  },
  "cells": [
    {
      "cell_type": "markdown",
      "metadata": {
        "id": "view-in-github",
        "colab_type": "text"
      },
      "source": [
        "<a href=\"https://colab.research.google.com/github/urieliram/tc_uc/blob/main/ETL_WEM.ipynb\" target=\"_parent\"><img src=\"https://colab.research.google.com/assets/colab-badge.svg\" alt=\"Open In Colab\"/></a>"
      ]
    },
    {
      "cell_type": "markdown",
      "source": [],
      "metadata": {
        "id": "ISXD19dr9N3e"
      }
    },
    {
      "cell_type": "markdown",
      "source": [
        "Lectura de archivos **CSV** de mercado eléctrico y conversión a formato **JSON** de Knueven2021\n",
        "\n"
      ],
      "metadata": {
        "id": "zR4YqHSm9PO0"
      }
    },
    {
      "cell_type": "code",
      "source": [
        "# Importar librerías necesarias\n",
        "import io\n",
        "import requests\n",
        "import numpy as np\n",
        "from scipy.io import loadmat  # this is the SciPy module that loads mat-files\n",
        "import matplotlib.pyplot as plt\n",
        "from datetime import datetime, date, time\n",
        "import pandas as pd\n",
        "import pandas as pd\n",
        "import numpy as np\n",
        "import re\n",
        "\n",
        "import sys\n",
        "if sys.version_info[0] < 3: \n",
        "    from StringIO import StringIO\n",
        "else:\n",
        "    from io import StringIO\n",
        "\n",
        "# ID del archivo en Google Drive\n",
        "# https://drive.google.com/file/d/1dTFMHQlXXB4fw66WZTG9mj7N9xPDYG7p/view?usp=share_link\n",
        "file_id = \"1dTFMHQlXXB4fw66WZTG9mj7N9xPDYG7p\"\n",
        "\n",
        "# URL de descarga del archivo\n",
        "url = f\"https://drive.google.com/uc?export=download&id={file_id}\"\n",
        "url = f\"https://drive.google.com/uc?id={file_id}\"\n",
        "import urllib.request\n",
        "\n",
        "# Descargar el archivo desde la URL\n",
        "urllib.request.urlretrieve(url, \"archivo.txt\")\n",
        "\n",
        "# Abrir el archivo descargado en modo lectura\n",
        "archivo = open(\"archivo.txt\", \"r\")\n",
        "\n",
        "\n",
        "# Leer el archivo línea por línea\n",
        "# for linea in archivo:\n",
        "#     print(linea)\n",
        "print(type(archivo))"
      ],
      "metadata": {
        "id": "ccADvSH5CGxq",
        "outputId": "9999c6fb-3fd6-4e99-95d9-91cfaf6339a1",
        "colab": {
          "base_uri": "https://localhost:8080/"
        }
      },
      "execution_count": 1,
      "outputs": [
        {
          "output_type": "stream",
          "name": "stdout",
          "text": [
            "<class '_io.TextIOWrapper'>\n"
          ]
        }
      ]
    },
    {
      "cell_type": "code",
      "source": [
        "# Abrir el archivo y leer todas las líneas\n",
        "with open(\"archivo.txt\") as archivo:\n",
        "    lineas = archivo.readlines()\n",
        "\n",
        "# Buscar los índices de las líneas que contienen los textos de interés\n",
        "bus_data_inicio = lineas.index(\"%% bus data\\n\") + 1\n",
        "bus_data_fin = lineas.index(\"];\\n\", bus_data_inicio)\n",
        "generator_data_inicio = lineas.index(\"%% generator data\\n\", bus_data_fin) + 1\n",
        "generator_data_fin = lineas.index(\"];\\n\", generator_data_inicio)\n",
        "branch_data_inicio = lineas.index(\"%% branch data\\n\", generator_data_fin) + 1\n",
        "branch_data_fin = lineas.index(\"];\\n\", branch_data_inicio)\n",
        "generator_cost_data_inicio = lineas.index(\"%% generator cost data\\n\", branch_data_fin) + 1\n",
        "generator_cost_data_fin = lineas.index(\"];\\n\", generator_cost_data_inicio)\n",
        "\n",
        "# Separar el archivo en cuatro secciones según los índices obtenidos\n",
        "bus_data = \"\".join(lineas[bus_data_inicio:bus_data_fin+1])\n",
        "generator_data = \"\".join(lineas[generator_data_inicio:generator_data_fin+1])\n",
        "branch_data = \"\".join(lineas[branch_data_inicio:branch_data_fin+1])\n",
        "generator_cost_data = \"\".join(lineas[generator_cost_data_inicio:generator_cost_data_fin+1])"
      ],
      "metadata": {
        "id": "b3jqDLaaZnMg"
      },
      "execution_count": 2,
      "outputs": []
    },
    {
      "cell_type": "code",
      "source": [
        "# Imprimir las secciones de datos obtenidas\n",
        "print(bus_data.count('\\n') + 1)\n",
        "print(generator_data.count('\\n') + 1)\n",
        "print(branch_data.count('\\n') + 1)\n",
        "print(generator_cost_data.count('\\n') + 1)"
      ],
      "metadata": {
        "id": "3PLjRdMTZpcq",
        "outputId": "8cbeeabb-7847-4ca2-bc33-ec106e4715a9",
        "colab": {
          "base_uri": "https://localhost:8080/"
        }
      },
      "execution_count": 3,
      "outputs": [
        {
          "output_type": "stream",
          "name": "stdout",
          "text": [
            "9245\n",
            "1449\n",
            "16053\n",
            "1450\n"
          ]
        }
      ]
    },
    {
      "cell_type": "code",
      "source": [
        "# Dividir la cadena en una lista de líneas\n",
        "lineas = bus_data.split(\"\\n\")\n",
        "\n",
        "# Eliminar la segunda línea de la lista de líneas\n",
        "del lineas[1]  # Opcionalmente, puedes usar lineas.pop(1) en su lugar\n",
        "lineas.pop(); lineas.pop() # Eliminar la última línea de la lista de líneas\n",
        "bus_data = \"\\n\".join(lineas) # Unir las líneas restantes en una sola cadena de texto\n",
        "\n",
        "# Dividir la cadena en una lista de líneas\n",
        "# lineas = cadena_texto.rsplit(\"\\n\", 1)\n",
        "bus_data = bus_data.replace(\"%\", \"\")\n",
        "bus_data = bus_data.replace(\";\", \"\")\t\n",
        "bus_data = bus_data.replace(\"\\t\", \",\")\t\n",
        "\n",
        "lineas = bus_data.split('\\n')\n",
        "for i in range(len(lineas)):\n",
        "    lineas[i] = lineas[i][1:]\n",
        "bus_data = '\\n'.join(lineas)\n",
        "\n",
        "#print(bus_data)\n",
        "bus_data = StringIO(bus_data)\n",
        "\n",
        "df = pd.read_csv(bus_data, sep=\",\")\n",
        "print(df)\n",
        "df.to_csv(\"bus_data.csv\")"
      ],
      "metadata": {
        "id": "BnhTmhN3MLTb",
        "outputId": "a2d3cd8c-4526-46e3-ec30-cf5b3ae7d65e",
        "colab": {
          "base_uri": "https://localhost:8080/"
        }
      },
      "execution_count": 4,
      "outputs": [
        {
          "output_type": "stream",
          "name": "stdout",
          "text": [
            "      bus_i  type      Pd    Qd   Gs     Bs  area        Vm         Va  \\\n",
            "0         1     1  378.40  98.5  0.0  16.61     0  1.007206 -36.856998   \n",
            "1         2     2    0.00   0.0  0.0   0.00     0  1.031734 -12.028001   \n",
            "2         3     1  151.00  48.8  0.0   4.69     0  1.017843 -21.794234   \n",
            "3         4     1  171.41  23.4  0.0   2.10     0  1.020147  -7.224254   \n",
            "4         5     1   45.95  14.0  0.0  13.34     0  0.989775 -49.871783   \n",
            "...     ...   ...     ...   ...  ...    ...   ...       ...        ...   \n",
            "9236   9237     1   -0.00  -0.0  0.0   1.27     0  1.047699 -23.228502   \n",
            "9237   9238     2    0.00   0.0  0.0   0.00     0  1.097633  15.484001   \n",
            "9238   9239     2    0.00   0.0  0.0   0.00     0  1.017601   6.125470   \n",
            "9239   9240     1    0.00  -0.0  0.0   3.66     0  0.960374 -31.768249   \n",
            "9240   9241     1    0.00  -0.0  0.0   0.36     0  1.044245  -9.735227   \n",
            "\n",
            "      baseKV  zone  Vmax  Vmin  \n",
            "0        220     6   1.1   0.9  \n",
            "1        154     1   1.1   0.9  \n",
            "2        220     5   1.1   0.9  \n",
            "3        220     5   1.1   0.9  \n",
            "4        220     6   1.1   0.9  \n",
            "...      ...   ...   ...   ...  \n",
            "9236     110    19   1.1   0.9  \n",
            "9237     380    13   1.3   0.7  \n",
            "9238     380     2   1.1   0.9  \n",
            "9239     150     9   1.1   0.9  \n",
            "9240     220     5   1.1   0.9  \n",
            "\n",
            "[9241 rows x 13 columns]\n"
          ]
        }
      ]
    }
  ]
}