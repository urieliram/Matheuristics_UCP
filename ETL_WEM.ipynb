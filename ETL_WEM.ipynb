{
  "nbformat": 4,
  "nbformat_minor": 0,
  "metadata": {
    "colab": {
      "name": "ETL_WEM.ipynb",
      "provenance": [],
      "collapsed_sections": [],
      "authorship_tag": "ABX9TyMpos1aRtazsmj0f2Ho5wha",
      "include_colab_link": true
    },
    "kernelspec": {
      "name": "python3",
      "display_name": "Python 3"
    },
    "language_info": {
      "name": "python"
    }
  },
  "cells": [
    {
      "cell_type": "markdown",
      "metadata": {
        "id": "view-in-github",
        "colab_type": "text"
      },
      "source": [
        "<a href=\"https://colab.research.google.com/github/urieliram/tc_uc/blob/main/ETL_WEM.ipynb\" target=\"_parent\"><img src=\"https://colab.research.google.com/assets/colab-badge.svg\" alt=\"Open In Colab\"/></a>"
      ]
    },
    {
      "cell_type": "markdown",
      "source": [
        ""
      ],
      "metadata": {
        "id": "ISXD19dr9N3e"
      }
    },
    {
      "cell_type": "markdown",
      "source": [
        "Lectura de archivos **CSV** de mercado eléctrico y conversión a formato **JSON** de Knueven2021\n",
        "\n"
      ],
      "metadata": {
        "id": "zR4YqHSm9PO0"
      }
    },
    {
      "cell_type": "code",
      "source": [
        "import pandas as pd\n",
        "import numpy as np"
      ],
      "metadata": {
        "id": "oc-OQqs0-4Cy"
      },
      "execution_count": 78,
      "outputs": []
    },
    {
      "cell_type": "code",
      "execution_count": 80,
      "metadata": {
        "id": "cdhxboEJ8fao"
      },
      "outputs": [],
      "source": [
        "hourslist=list(range(24))\n",
        "# https://www.codegrepper.com/code-examples/python/how+to+read+csv+file+from+google+drive+on+google+colab+\n",
        "path         = 'https://drive.google.com/uc?export=download&id=' \n",
        "URL_UNITRC   = 'https://drive.google.com/file/d/10wjxFWH1jKY5umDzVtfRJmbabNcOgtVI/view?usp=sharing'\n",
        "URL_LIUNITRC = 'https://drive.google.com/file/d/11MTOqeVswVb2ZnfWsS2fYI5-4f6jR_WE/view?usp=sharing'\n",
        "\n",
        "UNITRC   = pd.read_csv(path + URL_UNITRC.split('/')[-2],  usecols=[0,1,4],  names=['CLVUNI', 'TYPE', 'NODE']) ## Datos de unidades de rango continuo) .isna().sum()\n",
        "LIUNITRC = pd.read_csv(path + URL_LIUNITRC.split('/')[-2],usecols=hourslist,names=['LIM1','LIM2','LIM3','LIM4','LIM5','LIM6','LIM7','LIM8','LIM9','LIM10','LIM11','LIM12','LIM13','LIM14','LIM15','LIM16','LIM17','LIM18','LIM19','LIM20','LIM21','LIM22','LIM23','LIM24']) ## Límite inferior de generación de unidades de rango continuo"
      ]
    },
    {
      "cell_type": "code",
      "source": [
        "print(LIUNITRC)"
      ],
      "metadata": {
        "colab": {
          "base_uri": "https://localhost:8080/"
        },
        "id": "1OZsfxP6Abml",
        "outputId": "e37c5601-6933-4326-9767-c4ba7419ca2c"
      },
      "execution_count": 81,
      "outputs": [
        {
          "output_type": "stream",
          "name": "stdout",
          "text": [
            "      LIM1   LIM2   LIM3   LIM4   LIM5   LIM6   LIM7   LIM8   LIM9  LIM10  \\\n",
            "0      0.0    0.0    0.0    0.0    0.0    0.0    0.0    0.0    0.0    0.0   \n",
            "1      0.0    0.0    0.0    0.0    0.0    0.0    0.0    0.0    0.0    0.0   \n",
            "2      0.0    0.0    0.0    0.0    0.0    0.0    0.0    0.0    0.0    0.0   \n",
            "3      0.0    0.0    0.0    0.0    0.0    0.0    0.0    0.0    0.0    0.0   \n",
            "4      0.0    0.0    0.0    0.0    0.0    0.0    0.0    0.0    0.0    0.0   \n",
            "..     ...    ...    ...    ...    ...    ...    ...    ...    ...    ...   \n",
            "250    0.0    0.0    0.0    0.0    0.0    0.0    0.0    0.0    0.0    0.0   \n",
            "251    0.0    0.0    0.0    0.0    0.0    0.0    0.0    0.0    0.0    0.0   \n",
            "252  180.0  180.0  180.0  180.0  180.0  180.0  180.0  180.0  180.0  180.0   \n",
            "253   60.0   60.0   60.0   60.0   60.0   60.0   60.0   60.0   60.0   60.0   \n",
            "254   60.0   60.0   60.0   60.0   60.0   60.0   60.0   60.0   60.0   60.0   \n",
            "\n",
            "     ...  LIM15  LIM16  LIM17  LIM18  LIM19  LIM20  LIM21  LIM22  LIM23  LIM24  \n",
            "0    ...    0.0    0.0    0.0    0.0    0.0    0.0    0.0    0.0    0.0    0.0  \n",
            "1    ...    0.0    0.0    0.0    0.0    0.0    0.0    0.0    0.0    0.0    0.0  \n",
            "2    ...    0.0    0.0    0.0    0.0    0.0    0.0    0.0    0.0    0.0    0.0  \n",
            "3    ...    0.0    0.0    0.0    0.0    0.0    0.0    0.0    0.0    0.0    0.0  \n",
            "4    ...    0.0    0.0    0.0    0.0    0.0    0.0    0.0    0.0    0.0    0.0  \n",
            "..   ...    ...    ...    ...    ...    ...    ...    ...    ...    ...    ...  \n",
            "250  ...    0.0    0.0    0.0    0.0    0.0    0.0    0.0    0.0    0.0    0.0  \n",
            "251  ...    0.0    0.0    0.0    0.0    0.0    0.0    0.0    0.0    0.0    0.0  \n",
            "252  ...  180.0  180.0  180.0  180.0  180.0  180.0  180.0  180.0  180.0  180.0  \n",
            "253  ...   60.0   60.0   60.0   60.0   60.0   60.0   60.0   60.0   60.0   60.0  \n",
            "254  ...   60.0   60.0   60.0   60.0   60.0   60.0   60.0   60.0   60.0   60.0  \n",
            "\n",
            "[255 rows x 24 columns]\n"
          ]
        }
      ]
    },
    {
      "cell_type": "markdown",
      "source": [
        "\"thermal_generators\":{\n",
        "      \"G1\":{\n",
        "         \"must_run\":0,\n",
        "         \"power_output_minimum\":80,\n",
        "         \"power_output_maximum\":300.0,\n",
        "         \"ramp_up_limit\":50,\n",
        "         \"ramp_down_limit\":30,\n",
        "         \"ramp_startup_limit\":100,\n",
        "         \"ramp_shutdown_limit\":80,\n",
        "         \"time_up_minimum\":3,\n",
        "         \"time_down_minimum\":2,\n",
        "         \"power_output_t0\":120,\n",
        "         \"unit_on_t0\":1,\n",
        "         \"time_up_t0\":1,\n",
        "         \"time_down_t0\":0,\n",
        "         \"startup\"\n",
        "         }"
      ],
      "metadata": {
        "id": "PO_DXqWDSYcE"
      }
    }
  ]
}