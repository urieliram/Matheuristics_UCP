{
  "nbformat": 4,
  "nbformat_minor": 0,
  "metadata": {
    "colab": {
      "provenance": [],
      "authorship_tag": "ABX9TyPbHqvNjHUaQ9nZBnWQnjMe",
      "include_colab_link": true
    },
    "kernelspec": {
      "name": "python3",
      "display_name": "Python 3"
    },
    "language_info": {
      "name": "python"
    }
  },
  "cells": [
    {
      "cell_type": "markdown",
      "metadata": {
        "id": "view-in-github",
        "colab_type": "text"
      },
      "source": [
        "<a href=\"https://colab.research.google.com/github/urieliram/tc_uc/blob/main/Figures_MDA.ipynb\" target=\"_parent\"><img src=\"https://colab.research.google.com/assets/colab-badge.svg\" alt=\"Open In Colab\"/></a>"
      ]
    },
    {
      "cell_type": "code",
      "execution_count": 14,
      "metadata": {
        "colab": {
          "base_uri": "https://localhost:8080/",
          "height": 283
        },
        "id": "grzyvyw38-UX",
        "outputId": "ea1c6cd4-68eb-41e7-81fe-d61b3864803c"
      },
      "outputs": [
        {
          "output_type": "stream",
          "name": "stderr",
          "text": [
            "WARNING:matplotlib.legend:No handles with labels found to put in legend.\n"
          ]
        },
        {
          "output_type": "display_data",
          "data": {
            "text/plain": [
              "<Figure size 432x288 with 1 Axes>"
            ],
            "image/png": "[encoded data removed]"
          },
          "metadata": {
            "needs_background": "light"
          }
        }
      ],
      "source": [
        "#https://towardsdatascience.com/making-publication-quality-figures-in-python-part-iii-box-plot-bar-plot-scatter-plot-407fa457449\n",
        "# load packages\n",
        "import matplotlib as mpl\n",
        "import matplotlib.pyplot as plt\n",
        "import numpy as np\n",
        "# prepare some data\n",
        "np.random.seed(42)\n",
        "data1 = np.random.randn(100)\n",
        "data2 = np.random.randn(100)\n",
        "data3 = np.random.randn(100)\n",
        "data4 = np.random.randn(100)\n",
        "\n",
        "fig,ax = plt.subplots()\n",
        "bp = ax.boxplot(x=[data1,data2,data3,data4],  # sequence of arrays\n",
        "positions=[1,2,3,4],   # where to put these arrays\n",
        "patch_artist=True)  # allow filling the box with colors\n",
        "ax.legend()\n",
        "namefile = 'boxplot_'+'.pdf'\n",
        "plt.savefig(namefile, transparent=True)\n",
        "\n",
        "plt.show()"
      ]
    },
    {
      "cell_type": "code",
      "source": [
        "fig,axs = plt.subplots(nrows=2,ncols=2,figsize=(7,7),gridspec_kw={'wspace':0.5,'hspace':0.5})\n",
        "labels = ['70%', '80%', '90%', '95%']\n",
        "positions=[1,2,3,4]\n",
        "x1=[data1,data2,data3,data4]\n",
        "axs[0, 0].boxplot(x=x1,positions=positions,labels = labels,patch_artist=True)\n",
        "axs[0, 0].set_title('Profit')\n",
        "axs[0, 1].boxplot(x=x1,positions=positions,labels = labels,patch_artist=True)\n",
        "axs[0, 1].set_title('CPU time')\n",
        "axs[1, 0].boxplot(x=x1,positions=positions,labels = labels,patch_artist=True)\n",
        "axs[1, 0].set_title('MP-SP iterations')\n",
        "axs[1, 1].boxplot(x=x1,positions=positions,labels = labels,patch_artist=True)\n",
        "axs[1, 1].set_title('Tie-line violated')"
      ],
      "metadata": {
        "colab": {
          "base_uri": "https://localhost:8080/",
          "height": 462
        },
        "id": "IqsCfW-H-4pA",
        "outputId": "b4ec5480-bc48-4d8c-9de5-c4290f4814f2"
      },
      "execution_count": 26,
      "outputs": [
        {
          "output_type": "execute_result",
          "data": {
            "text/plain": [
              "Text(0.5, 1.0, 'Tie-line violated')"
            ]
          },
          "metadata": {},
          "execution_count": 26
        },
        {
          "output_type": "display_data",
          "data": {
            "text/plain": [
              "<Figure size 504x504 with 4 Axes>"
            ],
            "image/png": "[encoded data removed]"
          },
          "metadata": {
            "needs_background": "light"
          }
        }
      ]
    }
  ]
}