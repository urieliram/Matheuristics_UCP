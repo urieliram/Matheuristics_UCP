{
  "nbformat": 4,
  "nbformat_minor": 0,
  "metadata": {
    "colab": {
      "name": "ET-Class.ipynb",
      "provenance": [],
      "collapsed_sections": [],
      "include_colab_link": true
    },
    "kernelspec": {
      "name": "python3",
      "display_name": "Python 3"
    },
    "language_info": {
      "name": "python"
    }
  },
  "cells": [
    {
      "cell_type": "markdown",
      "metadata": {
        "id": "view-in-github",
        "colab_type": "text"
      },
      "source": [
        "<a href=\"https://colab.research.google.com/github/urieliram/tc_uc/blob/main/ExtraxtLogCPLEX.ipynb\" target=\"_parent\"><img src=\"https://colab.research.google.com/assets/colab-badge.svg\" alt=\"Open In Colab\"/></a>"
      ]
    },
    {
      "cell_type": "code",
      "source": [
        "from google.colab import files\n",
        "import re\n",
        "import pandas as pd\n",
        "import numpy as np\n",
        "import matplotlib.pyplot as plt"
      ],
      "metadata": {
        "id": "vpR7sPYauFXF"
      },
      "execution_count": 15,
      "outputs": []
    },
    {
      "cell_type": "code",
      "source": [
        "CYAN = '#76ced6' ; LILA = '#777bd4'; VERDE='#17cb49'; LETRASNARA='#ff8000'; AZUL='#168fff'; OTROAZUL = \"b-\"; ROJO= \"r-\";\n",
        "def print_serie(serie_,title_,ytitle_,xtitle_,namefile_):\n",
        "    fig, ax1 = plt.subplots(figsize=(6,4))\n",
        "    plt.title(title_,fontsize='large',color=LETRASNARA)\n",
        "    ax1.set_xlabel(xtitle_, color=LETRASNARA, fontsize='large')\n",
        "    ax1.set_ylabel(ytitle_, color=LETRASNARA, fontsize='large')\n",
        "    plt.tick_params(colors = LETRASNARA, which='both')\n",
        "    ax1.spines['bottom'].set_color(LETRASNARA)\n",
        "    ax1.spines['top'   ].set_color(LETRASNARA) \n",
        "    ax1.spines['right' ].set_color(LETRASNARA)\n",
        "    ax1.spines['left'  ].set_color(LETRASNARA)    \n",
        "    plt.plot(serie_)\n",
        "    plt.savefig(namefile_, transparent=True)         \n",
        "    plt.show()"
      ],
      "metadata": {
        "id": "WB6X7sIIMiqH"
      },
      "execution_count": 3,
      "outputs": []
    },
    {
      "cell_type": "code",
      "source": [
        "uploaded = files.upload()\n",
        "\n",
        "for fn in uploaded.keys():\n",
        "  print('User uploaded file \"{name}\" with length {length} bytes'.format(\n",
        "      name=fn, length=len(uploaded[fn])))"
      ],
      "metadata": {
        "id": "zMidy7UArT7W"
      },
      "execution_count": null,
      "outputs": []
    },
    {
      "cell_type": "code",
      "source": [
        "class Extract:\n",
        "\n",
        "  def findPos(self,file,spected, starter = \"Node  Left\"):\n",
        "    file = open(file,\"r\")\n",
        "    for i,j in enumerate(file):\n",
        "      if starter in j:\n",
        "        return [(j.index(k)+len(k)-1) for k in spected]\n",
        "  \n",
        "  def getFilelog(self,f):\n",
        "    with open(f, 'r') as file:\n",
        "      data = file.read().replace('\\n', '')\n",
        "    tmp = []\n",
        "    for i in re.findall(r\"\\w*Logfile\\s*\\'*[a-zA-z.+]*\\'\",data):\n",
        "      tmp.append(i.replace(\"'\",\"\").split(\" \")[1])\n",
        "    return tmp\n",
        "\n",
        "  def createTables(self,fn):\n",
        "    table_start = False\n",
        "    spected = ['Node', 'Left', 'Objective', 'IInf', 'Integer', 'Bound', 'ItCnt', 'Gap']\n",
        "    expectedPositions = self.findPos(fn,spected)\n",
        "    tables = {\"seconds\":[],\"ticks\":[],\"solution\":[],\"Node\":[],\"Left\":[],\"Objective\":[],\"IInf\":[],\"Integer\":[],\"Bound\":[],\"ItCnt\":[],\"Gap\":[],\"cuts\":[]}\n",
        "    time = None\n",
        "    ticks = None\n",
        "    cuts = None\n",
        "    f = open(fn,\"r\")    \n",
        "    for i in f:\n",
        "      if(\"Cover cuts applied\" in i or \"Performing restart 1\" in i):\n",
        "        table_start = False\n",
        "      if(\"Elapsed time\" in i):\n",
        "          tmp = [float(k) for k in re.findall('-?\\ *[0-9]+\\.?[0-9]*(?:[Ee]\\ *[-+]?\\ *[0-9]+)?',i)]\n",
        "          time = tmp[0]\n",
        "          ticks = tmp[1]\n",
        "      if(table_start):        \n",
        "        if((str(i)[0] == \" \" or str(i)[0] == \"*\") and str(i)[expectedPositions[0]].isdigit()):\n",
        "          i = i.replace(\"uts: \",\" uts:\")\n",
        "          tables[\"seconds\"].append(time)\n",
        "          tables[\"ticks\"].append(ticks)\n",
        "          tables[\"solution\"].append(1 if i[0]==\"*\" else 0)\n",
        "          tables[\"cuts\"].append(None)\n",
        "          for j,m in zip(expectedPositions,spected):\n",
        "            if i[j] is not \" \":\n",
        "              tmp = \"\"\n",
        "              for k in range(j,0,-1):\n",
        "                if i[k] is not \" \":\n",
        "                  tmp += i[k]\n",
        "                else: \n",
        "                  break \n",
        "              tmp = tmp[::-1]\n",
        "              if(\"ut\" in tmp.lower() or \"infeasible\" in tmp.lower() or \"integral\" in tmp.lower()):\n",
        "                if(\"uts\" in tmp.lower()):\n",
        "                  tables[\"cuts\"][-1] = int(tmp.split(\":\")[1])\n",
        "                tables[m].append(tables[m][-1])\n",
        "              else:\n",
        "                if m == \"Gap\":\n",
        "                  tables[m].append(float(tmp)/100)\n",
        "                else: \n",
        "                  tables[m].append(float(tmp))\n",
        "            else:\n",
        "              tables[m].append(None)\n",
        "      if(\"Node  Left\"):\n",
        "        table_start = True\n",
        "\n",
        "    return tables\n",
        "\n",
        "  def extract(self,fn):\n",
        "    variables = {\"mipPresolveEliminated\":[],\"mipPresolveModified\":[],\"aggregatorDid\":[],\"reducedMipHasColumns\":[],\"reducedMipHasNonZero\":[],\"reducedMipHasBinaries\":[],\"reducedMipHasGeneral\":[],\"cliqueTableMembers\":[],\"rootRelaxSolSeconds\":[],\"rootRelaxSolTicks\":[]}\n",
        "    variables[\"logFile\"] = self.getFilelog(fn)\n",
        "    tables = self.createTables(fn)\n",
        "    f = open(fn, \"r\")    \n",
        "    for i in f:\n",
        "      if(\"linear optimization\" in i):\n",
        "        variables[\"linearOpt\"] = float(i.replace(\" \",\"\").replace(\"\\n\",\"\").split(\":\")[1])\n",
        "      if(\"optimality gap tolerance\" in i):\n",
        "        variables[\"gapTol\"] = float(i.replace(\" \",\"\").replace(\"\\n\",\"\").split(\":\")[1])\n",
        "      if(\"time limit in seconds\" in i):\n",
        "        variables[\"timeLimit\"] = float(i.replace(\" \",\"\").replace(\"\\n\",\"\").split(\":\")[1])\n",
        "      if(\"emphasis for MIP optimization\" in i):\n",
        "        variables[\"mipOpt\"] = float(i.replace(\" \",\"\").replace(\"\\n\",\"\").split(\":\")[1])\n",
        "      if(\"Objective sense\" in i):\n",
        "        variables[\"objSense\"] = i.replace(\" \",\"\").replace(\"\\n\",\"\").split(\":\")[1]\n",
        "      if(\"Variables\" in i):\n",
        "        if(\"Box:\" in i):\n",
        "          variablesValue = [\"variablesValue\",\"Nneg\",\"Box\",\"Binary\"]\n",
        "          for j,k in enumerate(re.findall(r'\\d+', i.replace(\" \",\"\").replace(\"\\n\",\"\").split(\":\",1)[1])):\n",
        "            variables[variablesValue[j]] = float(k)\n",
        "        else:\n",
        "          variablesValue = [\"minLB\",\"maxUb\"]\n",
        "          for j,k in enumerate(re.findall('-?\\ *[0-9]+\\.?[0-9]*(?:[Ee]\\ *[-+]?\\ *[0-9]+)?',i)):\n",
        "            variables[variablesValue[j]] = float(k)\n",
        "      if(\"Objective nonzeros\" in i):\n",
        "        if(\"Min\" in i or \"Max\" in i):\n",
        "          variablesValue = [\"objNonZerosMin\",\"objNonZerosMax\"]\n",
        "          for j,k in enumerate(re.findall('-?\\ *[0-9]+\\.?[0-9]*(?:[Ee]\\ *[-+]?\\ *[0-9]+)?',i)):\n",
        "            variables[variablesValue[j]] = float(k)\n",
        "        else:\n",
        "          variables[\"objNonZeros\"] = float(i.replace(\" \",\"\").replace(\"\\n\",\"\").split(\":\")[1])\n",
        "      if(\"Linear constraints\" in i):\n",
        "        if(\"Less\" in i):\n",
        "          variablesValue = [\"linearConstraintsValue\",\"less\",\"greater\",\"equal\"]\n",
        "          for j,k in enumerate(re.findall('-?\\ *[0-9]+\\.?[0-9]*(?:[Ee]\\ *[-+]?\\ *[0-9]+)?',i)):\n",
        "            variables[variablesValue[j]] = float(k)\n",
        "        else:\n",
        "          pass\n",
        "      if(\"Nonzeros\" in i):\n",
        "        if(\"Min\" in i):\n",
        "          variablesValue = [\"nonZerosMin\",\"nonZerosMax\"]\n",
        "          for j,k in enumerate(re.findall('-?\\ *[0-9]+\\.?[0-9]*(?:[Ee]\\ *[-+]?\\ *[0-9]+)?',i)):\n",
        "            variables[variablesValue[j]] = float(k)\n",
        "        else:\n",
        "          variables[\"nonZeros\"] = float(i.replace(\" \",\"\").replace(\"\\n\",\"\").split(\":\")[1])\n",
        "      if(\"RHS nonzeros\" in i):\n",
        "        if(\"Min\" in i):\n",
        "          variablesValue = [\"rhsNonZerosMin\",\"rhsNonZerosMax\"]\n",
        "          for j,k in enumerate(re.findall('-?\\ *[0-9]+\\.?[0-9]*(?:[Ee]\\ *[-+]?\\ *[0-9]+)?',i)):\n",
        "            variables[variablesValue[j]] = float(k)\n",
        "        else:\n",
        "          variables[\"rhsNonZeros\"] = float(i.replace(\" \",\"\").replace(\"\\n\",\"\").split(\":\")[1])\n",
        "      if(\"CPXPARAM_TimeLimit\" in i):\n",
        "        variables[\"CPXPARAM_TimeLimit\"] = float(i.replace(\"\\n\",\"\").split(\" \")[-1])\n",
        "      if(\"MIP Presolve eliminated\" in i):\n",
        "        variables[\"mipPresolveEliminated\"].append([int(k) for k in re.findall('-?\\ *[0-9]+\\.?[0-9]*(?:[Ee]\\ *[-+]?\\ *[0-9]+)?',i)])\n",
        "      if(\"MIP Presolve modified \" in i):\n",
        "        variables[\"mipPresolveModified\"].append(int(re.findall('-?\\ *[0-9]+\\.?[0-9]*(?:[Ee]\\ *[-+]?\\ *[0-9]+)?',i)[0]))\n",
        "      if(\"Reduced MIP has\" in i):\n",
        "        if(\"indicators.\" in i):\n",
        "          tmp = [int(k) for k in re.findall('-?\\ *[0-9]+\\.?[0-9]*(?:[Ee]\\ *[-+]?\\ *[0-9]+)?',i)]\n",
        "          variables[\"reducedMipHasBinaries\"].append(tmp[0])\n",
        "          variables[\"reducedMipHasGeneral\"].append(tmp[1])\n",
        "        else:\n",
        "          tmp = [int(k) for k in re.findall('-?\\ *[0-9]+\\.?[0-9]*(?:[Ee]\\ *[-+]?\\ *[0-9]+)?',i)]\n",
        "          variables[\"reducedMipHasColumns\"].append(tmp[1])\n",
        "          variables[\"reducedMipHasNonZero\"].append(tmp[-1])\n",
        "          reduceHasGeneral = []\n",
        "      if(\"Clique\" in i):\n",
        "        variables[\"cliqueTableMembers\"].append(float(i.replace(\" \",\"\").replace(\"\\n\",\"\").split(\":\")[1]))\n",
        "      if(\"Aggregator did\" in i):\n",
        "        variables[\"aggregatorDid\"].append(int(re.findall('-?\\ *[0-9]+\\.?[0-9]*(?:[Ee]\\ *[-+]?\\ *[0-9]+)?',i)[0]))\n",
        "      if(\"Root relaxation\" in i):\n",
        "        tmp = [float(k) for k in re.findall('-?\\ *[0-9]+\\.?[0-9]*(?:[Ee]\\ *[-+]?\\ *[0-9]+)?',i)]\n",
        "        variables[\"rootRelaxSolSeconds\"].append(tmp[0])\n",
        "        variables[\"rootRelaxSolTicks\"].append(tmp[1])\n",
        "      if(\"Lift and\" in i):\n",
        "        variables[\"liftAndProjectCuts\"] = int(i.replace(\" \",\"\").replace(\"\\n\",\"\").split(\":\")[1])\n",
        "      if(\"Gomory fractional\" in i):\n",
        "        variables[\"gomoryFract\"] = int(i.replace(\" \",\"\").replace(\"\\n\",\"\").split(\":\")[1])\n",
        "\n",
        "    df=pd.DataFrame.from_dict(tables).rename(columns={\"seconds\":\"seconds\",\"ticks\":\"ticks\",\"solution\":\"solution\",\"Node\":\"node\",\"Left\":\"nodesLeft\",\"Objective\":\"objective\",\"IInf\":\"iinf\",\"Integer\":\"bestInteger\",\"Bound\":\"BestBound\",\"ItCnt\":\"itCnt\",\"Gap\":\"gap\",\"cuts\":\"cuts\"})\n",
        "    df['seconds'] = df['seconds'].fillna(0)\n",
        "    eps=np.arange(0, 1, 1/(len(df)), dtype=float)\n",
        "    df['eps'] = eps\n",
        "    sum_column = df[\"seconds\"] + df[\"eps\"]\n",
        "    df[\"seconds\"] = sum_column\n",
        "    df['ticks'] = df['ticks'].fillna(0)\n",
        "    eps=np.arange(0, 1, 1/(len(df)), dtype=float)\n",
        "    df['eps'] = eps\n",
        "    sum_column = df[\"ticks\"] + df[\"eps\"]\n",
        "    df[\"ticks\"] = sum_column\n",
        "    return df,variables"
      ],
      "metadata": {
        "id": "kiJzGJszxwGu"
      },
      "execution_count": 76,
      "outputs": []
    },
    {
      "cell_type": "code",
      "source": [
        "e = Extract()\n",
        "df, dic = e.extract(\"/content/logfileMilparch.log\")\n",
        "df2, dic2 = e.extract(\"/content/logfileHardarch.log\")\n",
        "df3, dic3 = e.extract(\"/content/logfileSoft5arch.log\")"
      ],
      "metadata": {
        "id": "W4rK3NHUbBfp"
      },
      "execution_count": 330,
      "outputs": []
    },
    {
      "cell_type": "code",
      "source": [
        "def plot_results(df,df2,name='MILP',name2='HARD',maxlimitseg=0,maxlimity=0,scalex='linear',scaley='log'):\n",
        "    ## https://pandas.pydata.org/pandas-docs/version/0.20.1/visualization.html\n",
        "    ax1=df.plot.line( x='seconds',y='bestInteger',color='green',style='o-',label='_nolegend_')\n",
        "    ax2=df.plot.line( x='seconds',y='BestBound'  ,color='green'  ,style='o-',label=name,ax=ax1)\n",
        "    ax3=df2.plot.line(x='seconds',y='bestInteger',color='blue' ,style='o-',label='_nolegend_'      ,ax=ax2)\n",
        "    df2.plot.line(    x='seconds',y='BestBound'  ,color='blue' ,style='o-',label=name2,ax=ax3)\n",
        "    if maxlimitseg !=0:\n",
        "        plt.xlim(maxlimitseg)\n",
        "    if maxlimity !=0:\n",
        "        plt.ylim(maxlimity)\n",
        "    plt.xscale(scalex)\n",
        "    plt.yscale(scaley)\n",
        "\n",
        "    ax4=df.plot.line(x='seconds',y='gap',color='green',style='o-',label=name)\n",
        "    df2.plot.line(   x='seconds',y='gap',color='blue' ,style='o-',label=name2,ax=ax4)\n",
        "    plt.xscale(scalex)\n",
        "    if maxlimitseg !=0:\n",
        "        plt.xlim(maxlimitseg)\n",
        "    plt.ylim(0,0.1)\n",
        "\n",
        "    plt.show()"
      ],
      "metadata": {
        "id": "mNhMK9EE9-Tc"
      },
      "execution_count": 350,
      "outputs": []
    },
    {
      "cell_type": "code",
      "source": [
        "plot_results(df,df2,name='MILP',name2='HARD',maxlimitseg=(0,1),maxlimity=0,)"
      ],
      "metadata": {
        "colab": {
          "base_uri": "https://localhost:8080/",
          "height": 634
        },
        "id": "8E3zdgWIX_ew",
        "outputId": "b3ca5d95-57cb-41d5-d717-98fa7a3ef5a2"
      },
      "execution_count": 351,
      "outputs": [
        {
          "output_type": "stream",
          "name": "stderr",
          "text": [
            "/usr/local/lib/python3.7/dist-packages/pandas/plotting/_matplotlib/core.py:633: UserWarning: The handle <matplotlib.lines.Line2D object at 0x7f538479ff10> has a label of '_nolegend_' which cannot be automatically added to the legend.\n",
            "  ax.legend(handles, labels, loc=\"best\", title=title)\n",
            "/usr/local/lib/python3.7/dist-packages/pandas/plotting/_matplotlib/core.py:633: UserWarning: The handle <matplotlib.lines.Line2D object at 0x7f5384cf45d0> has a label of '_nolegend_' which cannot be automatically added to the legend.\n",
            "  ax.legend(handles, labels, loc=\"best\", title=title)\n"
          ]
        },
        {
          "output_type": "display_data",
          "data": {
            "text/plain": [
              "<Figure size 432x288 with 1 Axes>"
            ],
            "image/png": "[encoded data removed]"
          },
          "metadata": {
            "needs_background": "light"
          }
        },
        {
          "output_type": "display_data",
          "data": {
            "text/plain": [
              "<Figure size 432x288 with 1 Axes>"
            ],
            "image/png": "[encoded data removed]"
          },
          "metadata": {
            "needs_background": "light"
          }
        }
      ]
    },
    {
      "cell_type": "code",
      "source": [
        "plot_results(df2,df3,name='HARD',name2='SOFT5',maxlimitseg=(0,1),)"
      ],
      "metadata": {
        "colab": {
          "base_uri": "https://localhost:8080/",
          "height": 634
        },
        "id": "IVM2YNk3anEk",
        "outputId": "d7a4f867-5337-4632-8cfc-4f6d6b9d4764"
      },
      "execution_count": 353,
      "outputs": [
        {
          "output_type": "stream",
          "name": "stderr",
          "text": [
            "/usr/local/lib/python3.7/dist-packages/pandas/plotting/_matplotlib/core.py:633: UserWarning: The handle <matplotlib.lines.Line2D object at 0x7f5383e77510> has a label of '_nolegend_' which cannot be automatically added to the legend.\n",
            "  ax.legend(handles, labels, loc=\"best\", title=title)\n",
            "/usr/local/lib/python3.7/dist-packages/pandas/plotting/_matplotlib/core.py:633: UserWarning: The handle <matplotlib.lines.Line2D object at 0x7f5383f426d0> has a label of '_nolegend_' which cannot be automatically added to the legend.\n",
            "  ax.legend(handles, labels, loc=\"best\", title=title)\n"
          ]
        },
        {
          "output_type": "display_data",
          "data": {
            "text/plain": [
              "<Figure size 432x288 with 1 Axes>"
            ],
            "image/png": "[encoded data removed]"
          },
          "metadata": {
            "needs_background": "light"
          }
        },
        {
          "output_type": "display_data",
          "data": {
            "text/plain": [
              "<Figure size 432x288 with 1 Axes>"
            ],
            "image/png": "[encoded data removed]"
          },
          "metadata": {
            "needs_background": "light"
          }
        }
      ]
    },
    {
      "cell_type": "code",
      "source": [
        "df.head()"
      ],
      "metadata": {
        "colab": {
          "base_uri": "https://localhost:8080/",
          "height": 206
        },
        "id": "rn_jJHsK5WTh",
        "outputId": "bb28d003-f860-4c7d-f97f-89623a81f26b"
      },
      "execution_count": 206,
      "outputs": [
        {
          "output_type": "execute_result",
          "data": {
            "text/plain": [
              "    seconds     ticks  solution  node  nodesLeft    objective   iinf  \\\n",
              "0  0.000000  0.000000         0   0.0        0.0  279312000.0   95.0   \n",
              "1  0.017544  0.017544         0   0.0        0.0  280818000.0  181.0   \n",
              "2  0.035088  0.035088         0   0.0        0.0  281139000.0  175.0   \n",
              "3  0.052632  0.052632         0   0.0        0.0  281235000.0  219.0   \n",
              "4  0.070175  0.070175         0   0.0        0.0  281376000.0  194.0   \n",
              "\n",
              "   bestInteger    BestBound   itCnt  gap   cuts       eps  \n",
              "0          NaN  279312000.0  5900.0  NaN    NaN  0.000000  \n",
              "1          NaN  279312000.0  6770.0  NaN  215.0  0.017544  \n",
              "2          NaN  279312000.0  7103.0  NaN  181.0  0.035088  \n",
              "3          NaN  279312000.0  7549.0  NaN  125.0  0.052632  \n",
              "4          NaN  279312000.0  7834.0  NaN  140.0  0.070175  "
            ],
            "text/html": [
              "\n",
              "  <div id=\"df-07de040e-9441-4180-ba8a-8ac851ca43fe\">\n",
              "    <div class=\"colab-df-container\">\n",
              "      <div>\n",
              "<style scoped>\n",
              "    .dataframe tbody tr th:only-of-type {\n",
              "        vertical-align: middle;\n",
              "    }\n",
              "\n",
              "    .dataframe tbody tr th {\n",
              "        vertical-align: top;\n",
              "    }\n",
              "\n",
              "    .dataframe thead th {\n",
              "        text-align: right;\n",
              "    }\n",
              "</style>\n",
              "<table border=\"1\" class=\"dataframe\">\n",
              "  <thead>\n",
              "    <tr style=\"text-align: right;\">\n",
              "      <th></th>\n",
              "      <th>seconds</th>\n",
              "      <th>ticks</th>\n",
              "      <th>solution</th>\n",
              "      <th>node</th>\n",
              "      <th>nodesLeft</th>\n",
              "      <th>objective</th>\n",
              "      <th>iinf</th>\n",
              "      <th>bestInteger</th>\n",
              "      <th>BestBound</th>\n",
              "      <th>itCnt</th>\n",
              "      <th>gap</th>\n",
              "      <th>cuts</th>\n",
              "      <th>eps</th>\n",
              "    </tr>\n",
              "  </thead>\n",
              "  <tbody>\n",
              "    <tr>\n",
              "      <th>0</th>\n",
              "      <td>0.000000</td>\n",
              "      <td>0.000000</td>\n",
              "      <td>0</td>\n",
              "      <td>0.0</td>\n",
              "      <td>0.0</td>\n",
              "      <td>279312000.0</td>\n",
              "      <td>95.0</td>\n",
              "      <td>NaN</td>\n",
              "      <td>279312000.0</td>\n",
              "      <td>5900.0</td>\n",
              "      <td>NaN</td>\n",
              "      <td>NaN</td>\n",
              "      <td>0.000000</td>\n",
              "    </tr>\n",
              "    <tr>\n",
              "      <th>1</th>\n",
              "      <td>0.017544</td>\n",
              "      <td>0.017544</td>\n",
              "      <td>0</td>\n",
              "      <td>0.0</td>\n",
              "      <td>0.0</td>\n",
              "      <td>280818000.0</td>\n",
              "      <td>181.0</td>\n",
              "      <td>NaN</td>\n",
              "      <td>279312000.0</td>\n",
              "      <td>6770.0</td>\n",
              "      <td>NaN</td>\n",
              "      <td>215.0</td>\n",
              "      <td>0.017544</td>\n",
              "    </tr>\n",
              "    <tr>\n",
              "      <th>2</th>\n",
              "      <td>0.035088</td>\n",
              "      <td>0.035088</td>\n",
              "      <td>0</td>\n",
              "      <td>0.0</td>\n",
              "      <td>0.0</td>\n",
              "      <td>281139000.0</td>\n",
              "      <td>175.0</td>\n",
              "      <td>NaN</td>\n",
              "      <td>279312000.0</td>\n",
              "      <td>7103.0</td>\n",
              "      <td>NaN</td>\n",
              "      <td>181.0</td>\n",
              "      <td>0.035088</td>\n",
              "    </tr>\n",
              "    <tr>\n",
              "      <th>3</th>\n",
              "      <td>0.052632</td>\n",
              "      <td>0.052632</td>\n",
              "      <td>0</td>\n",
              "      <td>0.0</td>\n",
              "      <td>0.0</td>\n",
              "      <td>281235000.0</td>\n",
              "      <td>219.0</td>\n",
              "      <td>NaN</td>\n",
              "      <td>279312000.0</td>\n",
              "      <td>7549.0</td>\n",
              "      <td>NaN</td>\n",
              "      <td>125.0</td>\n",
              "      <td>0.052632</td>\n",
              "    </tr>\n",
              "    <tr>\n",
              "      <th>4</th>\n",
              "      <td>0.070175</td>\n",
              "      <td>0.070175</td>\n",
              "      <td>0</td>\n",
              "      <td>0.0</td>\n",
              "      <td>0.0</td>\n",
              "      <td>281376000.0</td>\n",
              "      <td>194.0</td>\n",
              "      <td>NaN</td>\n",
              "      <td>279312000.0</td>\n",
              "      <td>7834.0</td>\n",
              "      <td>NaN</td>\n",
              "      <td>140.0</td>\n",
              "      <td>0.070175</td>\n",
              "    </tr>\n",
              "  </tbody>\n",
              "</table>\n",
              "</div>\n",
              "      <button class=\"colab-df-convert\" onclick=\"convertToInteractive('df-07de040e-9441-4180-ba8a-8ac851ca43fe')\"\n",
              "              title=\"Convert this dataframe to an interactive table.\"\n",
              "              style=\"display:none;\">\n",
              "        \n",
              "  <svg xmlns=\"http://www.w3.org/2000/svg\" height=\"24px\"viewBox=\"0 0 24 24\"\n",
              "       width=\"24px\">\n",
              "    <path d=\"M0 0h24v24H0V0z\" fill=\"none\"/>\n",
              "    <path d=\"M18.56 5.44l.94 2.06.94-2.06 2.06-.94-2.06-.94-.94-2.06-.94 2.06-2.06.94zm-11 1L8.5 8.5l.94-2.06 2.06-.94-2.06-.94L8.5 2.5l-.94 2.06-2.06.94zm10 10l.94 2.06.94-2.06 2.06-.94-2.06-.94-.94-2.06-.94 2.06-2.06.94z\"/><path d=\"M17.41 7.96l-1.37-1.37c-.4-.4-.92-.59-1.43-.59-.52 0-1.04.2-1.43.59L10.3 9.45l-7.72 7.72c-.78.78-.78 2.05 0 2.83L4 21.41c.39.39.9.59 1.41.59.51 0 1.02-.2 1.41-.59l7.78-7.78 2.81-2.81c.8-.78.8-2.07 0-2.86zM5.41 20L4 18.59l7.72-7.72 1.47 1.35L5.41 20z\"/>\n",
              "  </svg>\n",
              "      </button>\n",
              "      \n",
              "  <style>\n",
              "    .colab-df-container {\n",
              "      display:flex;\n",
              "      flex-wrap:wrap;\n",
              "      gap: 12px;\n",
              "    }\n",
              "\n",
              "    .colab-df-convert {\n",
              "      background-color: #E8F0FE;\n",
              "      border: none;\n",
              "      border-radius: 50%;\n",
              "      cursor: pointer;\n",
              "      display: none;\n",
              "      fill: #1967D2;\n",
              "      height: 32px;\n",
              "      padding: 0 0 0 0;\n",
              "      width: 32px;\n",
              "    }\n",
              "\n",
              "    .colab-df-convert:hover {\n",
              "      background-color: #E2EBFA;\n",
              "      box-shadow: 0px 1px 2px rgba(60, 64, 67, 0.3), 0px 1px 3px 1px rgba(60, 64, 67, 0.15);\n",
              "      fill: #174EA6;\n",
              "    }\n",
              "\n",
              "    [theme=dark] .colab-df-convert {\n",
              "      background-color: #3B4455;\n",
              "      fill: #D2E3FC;\n",
              "    }\n",
              "\n",
              "    [theme=dark] .colab-df-convert:hover {\n",
              "      background-color: #434B5C;\n",
              "      box-shadow: 0px 1px 3px 1px rgba(0, 0, 0, 0.15);\n",
              "      filter: drop-shadow(0px 1px 2px rgba(0, 0, 0, 0.3));\n",
              "      fill: #FFFFFF;\n",
              "    }\n",
              "  </style>\n",
              "\n",
              "      <script>\n",
              "        const buttonEl =\n",
              "          document.querySelector('#df-07de040e-9441-4180-ba8a-8ac851ca43fe button.colab-df-convert');\n",
              "        buttonEl.style.display =\n",
              "          google.colab.kernel.accessAllowed ? 'block' : 'none';\n",
              "\n",
              "        async function convertToInteractive(key) {\n",
              "          const element = document.querySelector('#df-07de040e-9441-4180-ba8a-8ac851ca43fe');\n",
              "          const dataTable =\n",
              "            await google.colab.kernel.invokeFunction('convertToInteractive',\n",
              "                                                     [key], {});\n",
              "          if (!dataTable) return;\n",
              "\n",
              "          const docLinkHtml = 'Like what you see? Visit the ' +\n",
              "            '<a target=\"_blank\" href=https://colab.research.google.com/notebooks/data_table.ipynb>data table notebook</a>'\n",
              "            + ' to learn more about interactive tables.';\n",
              "          element.innerHTML = '';\n",
              "          dataTable['output_type'] = 'display_data';\n",
              "          await google.colab.output.renderOutput(dataTable, element);\n",
              "          const docLink = document.createElement('div');\n",
              "          docLink.innerHTML = docLinkHtml;\n",
              "          element.appendChild(docLink);\n",
              "        }\n",
              "      </script>\n",
              "    </div>\n",
              "  </div>\n",
              "  "
            ]
          },
          "metadata": {},
          "execution_count": 206
        }
      ]
    },
    {
      "cell_type": "code",
      "source": [
        "df2.head()"
      ],
      "metadata": {
        "id": "NggmckopWPTm",
        "colab": {
          "base_uri": "https://localhost:8080/",
          "height": 206
        },
        "outputId": "6f52321e-7993-495d-8ed5-92174c3486b1"
      },
      "execution_count": 205,
      "outputs": [
        {
          "output_type": "execute_result",
          "data": {
            "text/plain": [
              "   seconds   ticks  solution  node  nodesLeft    objective  iinf  bestInteger  \\\n",
              "0   0.0000  0.0000         1   0.0        0.0          NaN   NaN  556714000.0   \n",
              "1   0.0625  0.0625         0   0.0        0.0  279315000.0  60.0  556714000.0   \n",
              "2   0.1250  0.1250         1   0.0        0.0          NaN   NaN  287107000.0   \n",
              "3   0.1875  0.1875         0   0.0        0.0  283286000.0  93.0  287107000.0   \n",
              "4   0.2500  0.2500         1   0.0        0.0          NaN   NaN  283942000.0   \n",
              "\n",
              "     BestBound   itCnt     gap   cuts     eps  \n",
              "0  132466000.0  2078.0  0.7621    NaN  0.0000  \n",
              "1  279315000.0  2078.0  0.4983    NaN  0.0625  \n",
              "2  279315000.0  2078.0  0.0271    NaN  0.1250  \n",
              "3  279315000.0  2646.0  0.0133  163.0  0.1875  \n",
              "4  283286000.0  2646.0  0.0023    NaN  0.2500  "
            ],
            "text/html": [
              "\n",
              "  <div id=\"df-fd27b767-7c7e-4e73-b9b1-b760106d9f93\">\n",
              "    <div class=\"colab-df-container\">\n",
              "      <div>\n",
              "<style scoped>\n",
              "    .dataframe tbody tr th:only-of-type {\n",
              "        vertical-align: middle;\n",
              "    }\n",
              "\n",
              "    .dataframe tbody tr th {\n",
              "        vertical-align: top;\n",
              "    }\n",
              "\n",
              "    .dataframe thead th {\n",
              "        text-align: right;\n",
              "    }\n",
              "</style>\n",
              "<table border=\"1\" class=\"dataframe\">\n",
              "  <thead>\n",
              "    <tr style=\"text-align: right;\">\n",
              "      <th></th>\n",
              "      <th>seconds</th>\n",
              "      <th>ticks</th>\n",
              "      <th>solution</th>\n",
              "      <th>node</th>\n",
              "      <th>nodesLeft</th>\n",
              "      <th>objective</th>\n",
              "      <th>iinf</th>\n",
              "      <th>bestInteger</th>\n",
              "      <th>BestBound</th>\n",
              "      <th>itCnt</th>\n",
              "      <th>gap</th>\n",
              "      <th>cuts</th>\n",
              "      <th>eps</th>\n",
              "    </tr>\n",
              "  </thead>\n",
              "  <tbody>\n",
              "    <tr>\n",
              "      <th>0</th>\n",
              "      <td>0.0000</td>\n",
              "      <td>0.0000</td>\n",
              "      <td>1</td>\n",
              "      <td>0.0</td>\n",
              "      <td>0.0</td>\n",
              "      <td>NaN</td>\n",
              "      <td>NaN</td>\n",
              "      <td>556714000.0</td>\n",
              "      <td>132466000.0</td>\n",
              "      <td>2078.0</td>\n",
              "      <td>0.7621</td>\n",
              "      <td>NaN</td>\n",
              "      <td>0.0000</td>\n",
              "    </tr>\n",
              "    <tr>\n",
              "      <th>1</th>\n",
              "      <td>0.0625</td>\n",
              "      <td>0.0625</td>\n",
              "      <td>0</td>\n",
              "      <td>0.0</td>\n",
              "      <td>0.0</td>\n",
              "      <td>279315000.0</td>\n",
              "      <td>60.0</td>\n",
              "      <td>556714000.0</td>\n",
              "      <td>279315000.0</td>\n",
              "      <td>2078.0</td>\n",
              "      <td>0.4983</td>\n",
              "      <td>NaN</td>\n",
              "      <td>0.0625</td>\n",
              "    </tr>\n",
              "    <tr>\n",
              "      <th>2</th>\n",
              "      <td>0.1250</td>\n",
              "      <td>0.1250</td>\n",
              "      <td>1</td>\n",
              "      <td>0.0</td>\n",
              "      <td>0.0</td>\n",
              "      <td>NaN</td>\n",
              "      <td>NaN</td>\n",
              "      <td>287107000.0</td>\n",
              "      <td>279315000.0</td>\n",
              "      <td>2078.0</td>\n",
              "      <td>0.0271</td>\n",
              "      <td>NaN</td>\n",
              "      <td>0.1250</td>\n",
              "    </tr>\n",
              "    <tr>\n",
              "      <th>3</th>\n",
              "      <td>0.1875</td>\n",
              "      <td>0.1875</td>\n",
              "      <td>0</td>\n",
              "      <td>0.0</td>\n",
              "      <td>0.0</td>\n",
              "      <td>283286000.0</td>\n",
              "      <td>93.0</td>\n",
              "      <td>287107000.0</td>\n",
              "      <td>279315000.0</td>\n",
              "      <td>2646.0</td>\n",
              "      <td>0.0133</td>\n",
              "      <td>163.0</td>\n",
              "      <td>0.1875</td>\n",
              "    </tr>\n",
              "    <tr>\n",
              "      <th>4</th>\n",
              "      <td>0.2500</td>\n",
              "      <td>0.2500</td>\n",
              "      <td>1</td>\n",
              "      <td>0.0</td>\n",
              "      <td>0.0</td>\n",
              "      <td>NaN</td>\n",
              "      <td>NaN</td>\n",
              "      <td>283942000.0</td>\n",
              "      <td>283286000.0</td>\n",
              "      <td>2646.0</td>\n",
              "      <td>0.0023</td>\n",
              "      <td>NaN</td>\n",
              "      <td>0.2500</td>\n",
              "    </tr>\n",
              "  </tbody>\n",
              "</table>\n",
              "</div>\n",
              "      <button class=\"colab-df-convert\" onclick=\"convertToInteractive('df-fd27b767-7c7e-4e73-b9b1-b760106d9f93')\"\n",
              "              title=\"Convert this dataframe to an interactive table.\"\n",
              "              style=\"display:none;\">\n",
              "        \n",
              "  <svg xmlns=\"http://www.w3.org/2000/svg\" height=\"24px\"viewBox=\"0 0 24 24\"\n",
              "       width=\"24px\">\n",
              "    <path d=\"M0 0h24v24H0V0z\" fill=\"none\"/>\n",
              "    <path d=\"M18.56 5.44l.94 2.06.94-2.06 2.06-.94-2.06-.94-.94-2.06-.94 2.06-2.06.94zm-11 1L8.5 8.5l.94-2.06 2.06-.94-2.06-.94L8.5 2.5l-.94 2.06-2.06.94zm10 10l.94 2.06.94-2.06 2.06-.94-2.06-.94-.94-2.06-.94 2.06-2.06.94z\"/><path d=\"M17.41 7.96l-1.37-1.37c-.4-.4-.92-.59-1.43-.59-.52 0-1.04.2-1.43.59L10.3 9.45l-7.72 7.72c-.78.78-.78 2.05 0 2.83L4 21.41c.39.39.9.59 1.41.59.51 0 1.02-.2 1.41-.59l7.78-7.78 2.81-2.81c.8-.78.8-2.07 0-2.86zM5.41 20L4 18.59l7.72-7.72 1.47 1.35L5.41 20z\"/>\n",
              "  </svg>\n",
              "      </button>\n",
              "      \n",
              "  <style>\n",
              "    .colab-df-container {\n",
              "      display:flex;\n",
              "      flex-wrap:wrap;\n",
              "      gap: 12px;\n",
              "    }\n",
              "\n",
              "    .colab-df-convert {\n",
              "      background-color: #E8F0FE;\n",
              "      border: none;\n",
              "      border-radius: 50%;\n",
              "      cursor: pointer;\n",
              "      display: none;\n",
              "      fill: #1967D2;\n",
              "      height: 32px;\n",
              "      padding: 0 0 0 0;\n",
              "      width: 32px;\n",
              "    }\n",
              "\n",
              "    .colab-df-convert:hover {\n",
              "      background-color: #E2EBFA;\n",
              "      box-shadow: 0px 1px 2px rgba(60, 64, 67, 0.3), 0px 1px 3px 1px rgba(60, 64, 67, 0.15);\n",
              "      fill: #174EA6;\n",
              "    }\n",
              "\n",
              "    [theme=dark] .colab-df-convert {\n",
              "      background-color: #3B4455;\n",
              "      fill: #D2E3FC;\n",
              "    }\n",
              "\n",
              "    [theme=dark] .colab-df-convert:hover {\n",
              "      background-color: #434B5C;\n",
              "      box-shadow: 0px 1px 3px 1px rgba(0, 0, 0, 0.15);\n",
              "      filter: drop-shadow(0px 1px 2px rgba(0, 0, 0, 0.3));\n",
              "      fill: #FFFFFF;\n",
              "    }\n",
              "  </style>\n",
              "\n",
              "      <script>\n",
              "        const buttonEl =\n",
              "          document.querySelector('#df-fd27b767-7c7e-4e73-b9b1-b760106d9f93 button.colab-df-convert');\n",
              "        buttonEl.style.display =\n",
              "          google.colab.kernel.accessAllowed ? 'block' : 'none';\n",
              "\n",
              "        async function convertToInteractive(key) {\n",
              "          const element = document.querySelector('#df-fd27b767-7c7e-4e73-b9b1-b760106d9f93');\n",
              "          const dataTable =\n",
              "            await google.colab.kernel.invokeFunction('convertToInteractive',\n",
              "                                                     [key], {});\n",
              "          if (!dataTable) return;\n",
              "\n",
              "          const docLinkHtml = 'Like what you see? Visit the ' +\n",
              "            '<a target=\"_blank\" href=https://colab.research.google.com/notebooks/data_table.ipynb>data table notebook</a>'\n",
              "            + ' to learn more about interactive tables.';\n",
              "          element.innerHTML = '';\n",
              "          dataTable['output_type'] = 'display_data';\n",
              "          await google.colab.output.renderOutput(dataTable, element);\n",
              "          const docLink = document.createElement('div');\n",
              "          docLink.innerHTML = docLinkHtml;\n",
              "          element.appendChild(docLink);\n",
              "        }\n",
              "      </script>\n",
              "    </div>\n",
              "  </div>\n",
              "  "
            ]
          },
          "metadata": {},
          "execution_count": 205
        }
      ]
    },
    {
      "cell_type": "code",
      "source": [
        "dic"
      ],
      "metadata": {
        "id": "yQv2chpGV-gC",
        "colab": {
          "base_uri": "https://localhost:8080/"
        },
        "outputId": "b6583064-c309-4380-ee25-639471069dbb"
      },
      "execution_count": 44,
      "outputs": [
        {
          "output_type": "execute_result",
          "data": {
            "text/plain": [
              "{'Binary': 12624.0,\n",
              " 'Box': 38545.0,\n",
              " 'Nneg': 1.0,\n",
              " 'aggregatorDid': [12041],\n",
              " 'cliqueTableMembers': [88853.0],\n",
              " 'equal': 28082.0,\n",
              " 'gapTol': 0.0001,\n",
              " 'gomoryFract': 2,\n",
              " 'greater': 2496.0,\n",
              " 'less': 37395.0,\n",
              " 'liftAndProjectCuts': 8,\n",
              " 'linearConstraintsValue': 67973.0,\n",
              " 'linearOpt': 0.0,\n",
              " 'logFile': ['cplex.log', 'logfileMilparch.log'],\n",
              " 'maxUb': 1000000000000.0,\n",
              " 'minLB': 0.0,\n",
              " 'mipOpt': 0.0,\n",
              " 'mipPresolveEliminated': [[24287, 6381], [346, 596]],\n",
              " 'mipPresolveModified': [6986, 14],\n",
              " 'nonZeros': 241039.0,\n",
              " 'nonZerosMax': 63999.82,\n",
              " 'nonZerosMin': 1.0,\n",
              " 'objNonZeros': 7009.0,\n",
              " 'objNonZerosMax': 1278998.0,\n",
              " 'objNonZerosMin': 1.0,\n",
              " 'reducedMipHasBinaries': [12436, 11969],\n",
              " 'reducedMipHasColumns': [32748, 32152],\n",
              " 'reducedMipHasGeneral': [0, 0],\n",
              " 'reducedMipHasNonZero': [136669, 133403],\n",
              " 'rhsNonZeros': 3385.0,\n",
              " 'rhsNonZerosMax': 4637.132,\n",
              " 'rhsNonZerosMin': 1.0,\n",
              " 'rootRelaxSolSeconds': [1.08],\n",
              " 'rootRelaxSolTicks': [372.64],\n",
              " 'timeLimit': 40000.0,\n",
              " 'variablesValue': 51170.0}"
            ]
          },
          "metadata": {},
          "execution_count": 44
        }
      ]
    },
    {
      "cell_type": "code",
      "source": [
        "ax  = df[\"bestInteger\"].plot()\n",
        "ax1=df[\"cutsBestBound\"].plot(ax=ax)\n",
        "plt.savefig('plot.png', transparent=True)   \n",
        "plt.show()"
      ],
      "metadata": {
        "id": "Kty-QZRenFdb",
        "colab": {
          "base_uri": "https://localhost:8080/",
          "height": 276
        },
        "outputId": "eade4bb5-7c72-48a0-b992-3bca9a8f0ab1"
      },
      "execution_count": 34,
      "outputs": [
        {
          "output_type": "display_data",
          "data": {
            "text/plain": [
              "<Figure size 432x288 with 1 Axes>"
            ],
            "image/png": "[encoded data removed]"
          },
          "metadata": {
            "needs_background": "light"
          }
        }
      ]
    },
    {
      "cell_type": "code",
      "source": [
        "print_serie(df['cutsBestBound'],'cutsBestBound','$','time','logfile'+'Milp.png')"
      ],
      "metadata": {
        "colab": {
          "base_uri": "https://localhost:8080/",
          "height": 298
        },
        "id": "UigdIHXbMlUH",
        "outputId": "558963a4-76b7-438f-acb0-b03b9025d554"
      },
      "execution_count": 10,
      "outputs": [
        {
          "output_type": "display_data",
          "data": {
            "text/plain": [
              "<Figure size 432x288 with 1 Axes>"
            ],
            "image/png": "[encoded data removed]"
          },
          "metadata": {
            "needs_background": "dark"
          }
        }
      ]
    },
    {
      "cell_type": "code",
      "source": [
        "import os\n",
        "for filename in os.listdir(\"/content/\"):\n",
        "  if(\"log\" in filename):\n",
        "    df,dic =e.extract(\"/content/{}\".format(filename))\n",
        "    print(filename)\n",
        "    print(df)"
      ],
      "metadata": {
        "id": "f2mBrmpWPjBB"
      },
      "execution_count": null,
      "outputs": []
    }
  ]
}