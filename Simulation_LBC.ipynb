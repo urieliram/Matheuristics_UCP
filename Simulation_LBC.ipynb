{
  "nbformat": 4,
  "nbformat_minor": 0,
  "metadata": {
    "colab": {
      "name": "Simulation_LBC.ipynb",
      "provenance": [],
      "collapsed_sections": [],
      "authorship_tag": "ABX9TyOqv+LC4+5jLFk05L0L55n1",
      "include_colab_link": true
    },
    "kernelspec": {
      "name": "python3",
      "display_name": "Python 3"
    },
    "language_info": {
      "name": "python"
    }
  },
  "cells": [
    {
      "cell_type": "markdown",
      "metadata": {
        "id": "view-in-github",
        "colab_type": "text"
      },
      "source": [
        "<a href=\"https://colab.research.google.com/github/urieliram/tc_uc/blob/main/Simulation_LBC.ipynb\" target=\"_parent\"><img src=\"https://colab.research.google.com/assets/colab-badge.svg\" alt=\"Open In Colab\"/></a>"
      ]
    },
    {
      "cell_type": "code",
      "source": [
        "from matplotlib import pyplot as plt\n",
        "import numpy as np\n",
        "import matplotlib.animation as animation \n",
        "import random \n",
        "import math \n",
        "import glob\n",
        "from PIL import Image\n",
        "import matplotlib.patheffects as path_effects\n"
      ],
      "metadata": {
        "id": "UVfSR7X59yyB"
      },
      "execution_count": 1,
      "outputs": []
    },
    {
      "cell_type": "code",
      "source": [
        "def rand_bin_array(K, N):\n",
        "    arr = np.zeros(N)\n",
        "    arr[:K]  = 1\n",
        "    np.random.shuffle(arr)\n",
        "    return arr"
      ],
      "metadata": {
        "id": "mwO9BxeZjBue"
      },
      "execution_count": 2,
      "outputs": []
    },
    {
      "cell_type": "code",
      "source": [
        "def square(xo,yo,d,IO):\n",
        "    arr2  = []\n",
        "    s     = math.ceil((math.sqrt(len(IO))))\n",
        "    delta = d / s\n",
        "    alpha = 0\n",
        "    beta  = 0\n",
        "    j=0\n",
        "    k=0\n",
        "    IOm = []\n",
        "    temp = []\n",
        "    for i in IO:\n",
        "        if j >= s:\n",
        "            IOm.append(temp)\n",
        "            temp = []\n",
        "            j=0\n",
        "        temp.append(i)\n",
        "        j=j+1\n",
        "        k=k+1\n",
        "        if k == len(IO):\n",
        "            IOm.append(temp)\n",
        "    \n",
        "    alpha = 0\n",
        "    beta  = 0\n",
        "    for i in IOm:\n",
        "        for j in i:\n",
        "            x = xo + alpha\n",
        "            y = yo - beta\n",
        "            arr2.append([x,y,j])\n",
        "            alpha = alpha + delta\n",
        "        beta  = beta + delta\n",
        "        alpha = 0\n",
        "\n",
        "    return arr2"
      ],
      "metadata": {
        "id": "1UHk61puadfG"
      },
      "execution_count": 3,
      "outputs": []
    },
    {
      "cell_type": "code",
      "source": [
        "def getIO(n=0):\n",
        "    IO = []\n",
        "    for i in range(36):\n",
        "        IO.append(rand_bin_array(n,48).tolist())\n",
        "    return IO"
      ],
      "metadata": {
        "id": "3zbgP4PHcN3S"
      },
      "execution_count": 4,
      "outputs": []
    },
    {
      "cell_type": "code",
      "execution_count": 5,
      "metadata": {
        "id": "C-K17FkSvaLH"
      },
      "outputs": [],
      "source": [
        "def animate(IO,id):\n",
        "    GEN    = len(IO)\n",
        "    LENGTH = 10\n",
        "\n",
        "    sqrGEN = math.ceil((math.sqrt(GEN)))\n",
        "    pos    = (sqrGEN,sqrGEN)\n",
        "    pos    = np.zeros(pos)\n",
        "    step   = LENGTH/sqrGEN\n",
        "    plt.rcParams[\"figure.figsize\"] = [LENGTH, LENGTH]\n",
        "\n",
        "    plt.xlim(0, LENGTH)\n",
        "    plt.ylim(0, LENGTH)\n",
        "\n",
        "    jj=0\n",
        "    for j in range(sqrGEN,0,-1):\n",
        "        for i in range(sqrGEN):  \n",
        "            if jj == len(IO):\n",
        "                break\n",
        "            arr = square(i*step+step/7, +j*step-step/6, step-step/5, IO[jj])\n",
        "            for k in arr:\n",
        "                color='blue'\n",
        "                alpha=0.3\n",
        "                if k[2]==1:\n",
        "                    color='red'\n",
        "                    alpha=1\n",
        "                plt.plot(k[0], k[1], marker=\"o\", markersize=3, markeredgecolor=color, markerfacecolor=color,alpha=alpha)\n",
        "                text = plt.text(0.1, 0.1, str(id),ha='center', va='center', size=12)\n",
        "                text.set_path_effects([path_effects.Normal()])     \n",
        "            jj=jj+1\n",
        "    plt.savefig(str(id)+'.png', transparent=False)\n",
        "    plt.close()"
      ]
    },
    {
      "cell_type": "code",
      "source": [
        "n=48\n",
        "for i in range(n):\n",
        "    animate(getIO(i),i)"
      ],
      "metadata": {
        "id": "01uGWiXeji_5"
      },
      "execution_count": null,
      "outputs": []
    },
    {
      "cell_type": "code",
      "source": [
        "##https://www.blog.pythonlibrary.org/2021/06/23/creating-an-animated-gif-with-python/\n",
        "def make_gif(frame_folder,n):\n",
        "    frames = []\n",
        "    for i in range(n):\n",
        "        frames.append(Image.open('/content/'+str(i)+'.png'))\n",
        "        \n",
        "    frame_one = frames[0]\n",
        "    frame_one.save(\"my_sim.gif\", format=\"GIF\", append_images=frames,\n",
        "                   save_all=True, duration=2000, loop=0)\n",
        "    \n",
        "make_gif(\"/content/\",n=n)"
      ],
      "metadata": {
        "id": "FLtLnqfKwLlz"
      },
      "execution_count": null,
      "outputs": []
    }
  ]
}