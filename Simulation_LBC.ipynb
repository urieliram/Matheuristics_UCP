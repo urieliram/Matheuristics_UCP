{
  "nbformat": 4,
  "nbformat_minor": 0,
  "metadata": {
    "colab": {
      "name": "Simulation_LBC.ipynb",
      "provenance": [],
      "authorship_tag": "ABX9TyPwtweATGO1chbhLG9xEgEf",
      "include_colab_link": true
    },
    "kernelspec": {
      "name": "python3",
      "display_name": "Python 3"
    },
    "language_info": {
      "name": "python"
    }
  },
  "cells": [
    {
      "cell_type": "markdown",
      "metadata": {
        "id": "view-in-github",
        "colab_type": "text"
      },
      "source": [
        "<a href=\"https://colab.research.google.com/github/urieliram/tc_uc/blob/main/Simulation_LBC.ipynb\" target=\"_parent\"><img src=\"https://colab.research.google.com/assets/colab-badge.svg\" alt=\"Open In Colab\"/></a>"
      ]
    },
    {
      "cell_type": "code",
      "execution_count": 14,
      "metadata": {
        "colab": {
          "base_uri": "https://localhost:8080/",
          "height": 513
        },
        "id": "C-K17FkSvaLH",
        "outputId": "ef30b5f2-db25-4455-b280-9af3435139af"
      },
      "outputs": [
        {
          "output_type": "display_data",
          "data": {
            "text/plain": [
              "<Figure size 504x504 with 1 Axes>"
            ],
            "image/png": "[encoded data removed]"
          },
          "metadata": {
            "needs_background": "light"
          }
        }
      ],
      "source": [
        "from matplotlib import pyplot as plt\n",
        "import random \n",
        "\n",
        "GEN    = 100\n",
        "TIME   = 48\n",
        "LENGTH = 7\n",
        "WIDTH  = 7\n",
        "TOTAL  = GEN * TIME\n",
        "\n",
        "n = random.randint(0,22)\n",
        "plt.rcParams[\"figure.figsize\"] = [LENGTH, WIDTH]\n",
        "plt.rcParams[\"figure.autolayout\"] = True\n",
        "x = [4]\n",
        "y = [3]\n",
        "\n",
        "plt.xlim(0, 5)\n",
        "plt.ylim(0, 5)\n",
        "plt.grid()\n",
        "plt.plot(x, y, marker=\"o\", markersize=5, markeredgecolor=\"red\", markerfacecolor=\"red\")\n",
        "plt.show()"
      ]
    },
    {
      "cell_type": "markdown",
      "source": [
        "[How to create animations in Python](https://anderfernandez.com/en/blog/how-to-create-animations-python/)"
      ],
      "metadata": {
        "id": "w5POWrUPx88P"
      }
    }
  ]
}