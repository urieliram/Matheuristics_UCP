{
  "nbformat": 4,
  "nbformat_minor": 0,
  "metadata": {
    "colab": {
      "name": "Simulation_LBC.ipynb",
      "provenance": [],
      "authorship_tag": "ABX9TyM1FtJkIhvBkeoNzo+vNT7U",
      "include_colab_link": true
    },
    "kernelspec": {
      "name": "python3",
      "display_name": "Python 3"
    },
    "language_info": {
      "name": "python"
    }
  },
  "cells": [
    {
      "cell_type": "markdown",
      "metadata": {
        "id": "view-in-github",
        "colab_type": "text"
      },
      "source": [
        "<a href=\"https://colab.research.google.com/github/urieliram/tc_uc/blob/main/Simulation_LBC.ipynb\" target=\"_parent\"><img src=\"https://colab.research.google.com/assets/colab-badge.svg\" alt=\"Open In Colab\"/></a>"
      ]
    },
    {
      "cell_type": "code",
      "source": [
        "from matplotlib import pyplot as plt\n",
        "import random \n",
        "import math \n",
        "import numpy as np"
      ],
      "metadata": {
        "id": "UVfSR7X59yyB"
      },
      "execution_count": 1,
      "outputs": []
    },
    {
      "cell_type": "code",
      "source": [
        "def nube(xo,yo,d,n=1):\n",
        "    arr=[]\n",
        "    a = random.random()\n",
        "    b = random.random()\n",
        "    x = xo + d*a\n",
        "    y = yo + d*b\n",
        "    x,y\n",
        "    return x,y\n",
        "#uno, dos = nube(i*step+(step/2), j*step+(step/2),step)\n",
        "#plt.plot(uno, dos, marker=\"o\", markersize=3, markeredgecolor=\"blue\", markerfacecolor=\"blue\",alpha=0.2)\n"
      ],
      "metadata": {
        "id": "Vuu0yQx49xcb"
      },
      "execution_count": 2,
      "outputs": []
    },
    {
      "cell_type": "code",
      "source": [
        "def square(xo,yo,d,IO):\n",
        "    arr2  = []\n",
        "    s     = math.ceil((math.sqrt(len(IO))))\n",
        "    delta = d / s\n",
        "    alpha = 0\n",
        "    beta  = 0\n",
        "    j=0\n",
        "    k=0\n",
        "    IOm = []\n",
        "    temp = []\n",
        "    for i in IO:\n",
        "        if j > s:\n",
        "            IOm.append(temp)\n",
        "            temp = []\n",
        "            j=0\n",
        "        temp.append(i)\n",
        "        j=j+1\n",
        "        k=k+1\n",
        "        if k == len(IO):\n",
        "            IOm.append(temp)\n",
        "    \n",
        "    alpha = 0\n",
        "    beta  = 0\n",
        "    for i in IOm:\n",
        "        for j in i:\n",
        "            x = xo + alpha\n",
        "            y = yo - beta\n",
        "            arr2.append([x,y,j])\n",
        "            alpha = alpha + delta\n",
        "        beta  = beta + delta\n",
        "        alpha = 0\n",
        "\n",
        "    return arr2"
      ],
      "metadata": {
        "id": "1UHk61puadfG"
      },
      "execution_count": 109,
      "outputs": []
    },
    {
      "cell_type": "code",
      "execution_count": 110,
      "metadata": {
        "colab": {
          "base_uri": "https://localhost:8080/",
          "height": 596
        },
        "id": "C-K17FkSvaLH",
        "outputId": "c64e78c9-ff48-491a-9b47-03eeca016088"
      },
      "outputs": [
        {
          "output_type": "display_data",
          "data": {
            "text/plain": [
              "<Figure size 720x720 with 1 Axes>"
            ],
            "image/png": "[encoded data removed]"
          },
          "metadata": {
            "needs_background": "light"
          }
        }
      ],
      "source": [
        "GEN    = 100\n",
        "TIME   = 48\n",
        "LENGTH = 10\n",
        "\n",
        "sqrGEN   = math.ceil((math.sqrt(GEN)))\n",
        "pos    = (sqrGEN,sqrGEN)\n",
        "pos    = np.zeros(pos)\n",
        "step= LENGTH/sqrGEN\n",
        "plt.rcParams[\"figure.figsize\"] = [LENGTH, LENGTH]\n",
        "\n",
        "plt.xlim(0, LENGTH)\n",
        "plt.ylim(0, LENGTH)\n",
        "\n",
        "for i in range(sqrGEN):  \n",
        "    for j in range(sqrGEN):\n",
        "        #plt.plot(i*step, j*step, marker=\"o\", markersize=1, markeredgecolor='blue', markerfacecolor='blue',alpha=0.9)\n",
        "        IO  = [0,1,1,1,1,1,1,1,0,1,1,1,1,1,1,1,1,1,1,1,1,1,1,1,1,1,1,1,1,1,1,1,1,1,1,1,1,1,1,1,1,1,1,1,1]\n",
        "        arr = square(i*step+step/9, +j*step+step-step/6, step-step/5, IO)\n",
        "        for k in arr:\n",
        "            color='blue'\n",
        "            if k[2]==1:\n",
        "                color='red'\n",
        "            plt.plot(k[0], k[1], marker=\"o\", markersize=3, markeredgecolor=color, markerfacecolor=color,alpha=0.5)\n",
        "\n",
        "plt.show()"
      ]
    },
    {
      "cell_type": "markdown",
      "source": [
        "[How to create animations in Python](https://anderfernandez.com/en/blog/how-to-create-animations-python/)"
      ],
      "metadata": {
        "id": "w5POWrUPx88P"
      }
    }
  ]
}