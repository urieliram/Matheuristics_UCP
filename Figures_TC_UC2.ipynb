{
  "nbformat": 4,
  "nbformat_minor": 0,
  "metadata": {
    "colab": {
      "provenance": [],
      "authorship_tag": "ABX9TyNdJ/3mE/njTp2GgH5XYyQc",
      "include_colab_link": true
    },
    "kernelspec": {
      "name": "python3",
      "display_name": "Python 3"
    },
    "language_info": {
      "name": "python"
    }
  },
  "cells": [
    {
      "cell_type": "markdown",
      "metadata": {
        "id": "view-in-github",
        "colab_type": "text"
      },
      "source": [
        "<a href=\"https://colab.research.google.com/github/urieliram/tc_uc/blob/main/Figures_TC_UC2.ipynb\" target=\"_parent\"><img src=\"https://colab.research.google.com/assets/colab-badge.svg\" alt=\"Open In Colab\"/></a>"
      ]
    },
    {
      "cell_type": "markdown",
      "source": [
        "## Paquetes"
      ],
      "metadata": {
        "id": "6G9_Mw2F4fHR"
      }
    },
    {
      "cell_type": "code",
      "execution_count": 1,
      "metadata": {
        "id": "grzyvyw38-UX"
      },
      "outputs": [],
      "source": [
        "# load packages\n",
        "import matplotlib as mpl\n",
        "import matplotlib.pyplot as plt\n",
        "import numpy as np\n",
        "import pandas as pd\n",
        "from os import listdir\n",
        "from os.path import isfile, join\n",
        "import re\n",
        "from matplotlib.ticker import (MultipleLocator, AutoMinorLocator)\n",
        "\n",
        "# Gráficos\n",
        "# ==============================================================================\n",
        "from matplotlib import style\n",
        "import seaborn as sns\n",
        "cm = 1/2.54\n",
        "\n",
        "# Modelado y test estadísticos\n",
        "# ============================================================================\n",
        "from statsmodels.distributions.empirical_distribution import ECDF\n",
        "from scipy.stats import ks_2samp\n",
        "from scipy import stats\n",
        "from scipy.stats import shapiro\n",
        "import scipy.stats as stats\n",
        "\n",
        "# Configuración matplotlib\n",
        "# ==============================================================================\n",
        "# Gráficos distribución observada \n",
        "# ============================================================================\n",
        "import matplotlib.pyplot as plt\n",
        "%matplotlib inline\n",
        "# plt.style.use('fivethirtyeight')\n",
        "import seaborn as sns\n",
        "# plt.style.use('ggplot')"
      ]
    },
    {
      "cell_type": "markdown",
      "source": [
        "# GRÁFICOS DE CONVERGENCIA milp, milp2, hard3, harjk lbc, ks, \n"
      ],
      "metadata": {
        "id": "MdVaYxkv5LNX"
      }
    },
    {
      "cell_type": "markdown",
      "source": [
        "## Lectura de archivos log"
      ],
      "metadata": {
        "id": "rJMRbTfUqPRw"
      }
    },
    {
      "cell_type": "code",
      "source": [
        "## Lectura de datos\n",
        "from google.colab import files\n",
        "\n",
        "uploaded = files.upload()\n",
        "\n",
        "for fn in uploaded.keys():\n",
        "  print('User uploaded file \"{name}\" with length {length} bytes'.format(\n",
        "      name=fn, length=len(uploaded[fn])))"
      ],
      "metadata": {
        "id": "_VBW1elDnJTD",
        "outputId": "d6a0bcf0-e089-4a9d-9975-9ec80cd3dd6f",
        "colab": {
          "base_uri": "https://localhost:8080/",
          "height": 90
        }
      },
      "execution_count": 2,
      "outputs": [
        {
          "output_type": "display_data",
          "data": {
            "text/plain": [
              "<IPython.core.display.HTML object>"
            ],
            "text/html": [
              "\n",
              "     <input type=\"file\" id=\"files-a7a9c27f-97e2-456d-bc52-93616355e8e5\" name=\"files[]\" multiple disabled\n",
              "        style=\"border:none\" />\n",
              "     <output id=\"result-a7a9c27f-97e2-456d-bc52-93616355e8e5\">\n",
              "      Upload widget is only available when the cell has been executed in the\n",
              "      current browser session. Please rerun this cell to enable.\n",
              "      </output>\n",
              "      <script>// Copyright 2017 Google LLC\n",
              "//\n",
              "// Licensed under the Apache License, Version 2.0 (the \"License\");\n",
              "// you may not use this file except in compliance with the License.\n",
              "// You may obtain a copy of the License at\n",
              "//\n",
              "//      http://www.apache.org/licenses/LICENSE-2.0\n",
              "//\n",
              "// Unless required by applicable law or agreed to in writing, software\n",
              "// distributed under the License is distributed on an \"AS IS\" BASIS,\n",
              "// WITHOUT WARRANTIES OR CONDITIONS OF ANY KIND, either express or implied.\n",
              "// See the License for the specific language governing permissions and\n",
              "// limitations under the License.\n",
              "\n",
              "/**\n",
              " * @fileoverview Helpers for google.colab Python module.\n",
              " */\n",
              "(function(scope) {\n",
              "function span(text, styleAttributes = {}) {\n",
              "  const element = document.createElement('span');\n",
              "  element.textContent = text;\n",
              "  for (const key of Object.keys(styleAttributes)) {\n",
              "    element.style[key] = styleAttributes[key];\n",
              "  }\n",
              "  return element;\n",
              "}\n",
              "\n",
              "// Max number of bytes which will be uploaded at a time.\n",
              "const MAX_PAYLOAD_SIZE = 100 * 1024;\n",
              "\n",
              "function _uploadFiles(inputId, outputId) {\n",
              "  const steps = uploadFilesStep(inputId, outputId);\n",
              "  const outputElement = document.getElementById(outputId);\n",
              "  // Cache steps on the outputElement to make it available for the next call\n",
              "  // to uploadFilesContinue from Python.\n",
              "  outputElement.steps = steps;\n",
              "\n",
              "  return _uploadFilesContinue(outputId);\n",
              "}\n",
              "\n",
              "// This is roughly an async generator (not supported in the browser yet),\n",
              "// where there are multiple asynchronous steps and the Python side is going\n",
              "// to poll for completion of each step.\n",
              "// This uses a Promise to block the python side on completion of each step,\n",
              "// then passes the result of the previous step as the input to the next step.\n",
              "function _uploadFilesContinue(outputId) {\n",
              "  const outputElement = document.getElementById(outputId);\n",
              "  const steps = outputElement.steps;\n",
              "\n",
              "  const next = steps.next(outputElement.lastPromiseValue);\n",
              "  return Promise.resolve(next.value.promise).then((value) => {\n",
              "    // Cache the last promise value to make it available to the next\n",
              "    // step of the generator.\n",
              "    outputElement.lastPromiseValue = value;\n",
              "    return next.value.response;\n",
              "  });\n",
              "}\n",
              "\n",
              "/**\n",
              " * Generator function which is called between each async step of the upload\n",
              " * process.\n",
              " * @param {string} inputId Element ID of the input file picker element.\n",
              " * @param {string} outputId Element ID of the output display.\n",
              " * @return {!Iterable<!Object>} Iterable of next steps.\n",
              " */\n",
              "function* uploadFilesStep(inputId, outputId) {\n",
              "  const inputElement = document.getElementById(inputId);\n",
              "  inputElement.disabled = false;\n",
              "\n",
              "  const outputElement = document.getElementById(outputId);\n",
              "  outputElement.innerHTML = '';\n",
              "\n",
              "  const pickedPromise = new Promise((resolve) => {\n",
              "    inputElement.addEventListener('change', (e) => {\n",
              "      resolve(e.target.files);\n",
              "    });\n",
              "  });\n",
              "\n",
              "  const cancel = document.createElement('button');\n",
              "  inputElement.parentElement.appendChild(cancel);\n",
              "  cancel.textContent = 'Cancel upload';\n",
              "  const cancelPromise = new Promise((resolve) => {\n",
              "    cancel.onclick = () => {\n",
              "      resolve(null);\n",
              "    };\n",
              "  });\n",
              "\n",
              "  // Wait for the user to pick the files.\n",
              "  const files = yield {\n",
              "    promise: Promise.race([pickedPromise, cancelPromise]),\n",
              "    response: {\n",
              "      action: 'starting',\n",
              "    }\n",
              "  };\n",
              "\n",
              "  cancel.remove();\n",
              "\n",
              "  // Disable the input element since further picks are not allowed.\n",
              "  inputElement.disabled = true;\n",
              "\n",
              "  if (!files) {\n",
              "    return {\n",
              "      response: {\n",
              "        action: 'complete',\n",
              "      }\n",
              "    };\n",
              "  }\n",
              "\n",
              "  for (const file of files) {\n",
              "    const li = document.createElement('li');\n",
              "    li.append(span(file.name, {fontWeight: 'bold'}));\n",
              "    li.append(span(\n",
              "        `(${file.type || 'n/a'}) - ${file.size} bytes, ` +\n",
              "        `last modified: ${\n",
              "            file.lastModifiedDate ? file.lastModifiedDate.toLocaleDateString() :\n",
              "                                    'n/a'} - `));\n",
              "    const percent = span('0% done');\n",
              "    li.appendChild(percent);\n",
              "\n",
              "    outputElement.appendChild(li);\n",
              "\n",
              "    const fileDataPromise = new Promise((resolve) => {\n",
              "      const reader = new FileReader();\n",
              "      reader.onload = (e) => {\n",
              "        resolve(e.target.result);\n",
              "      };\n",
              "      reader.readAsArrayBuffer(file);\n",
              "    });\n",
              "    // Wait for the data to be ready.\n",
              "    let fileData = yield {\n",
              "      promise: fileDataPromise,\n",
              "      response: {\n",
              "        action: 'continue',\n",
              "      }\n",
              "    };\n",
              "\n",
              "    // Use a chunked sending to avoid message size limits. See b/62115660.\n",
              "    let position = 0;\n",
              "    do {\n",
              "      const length = Math.min(fileData.byteLength - position, MAX_PAYLOAD_SIZE);\n",
              "      const chunk = new Uint8Array(fileData, position, length);\n",
              "      position += length;\n",
              "\n",
              "      const base64 = btoa(String.fromCharCode.apply(null, chunk));\n",
              "      yield {\n",
              "        response: {\n",
              "          action: 'append',\n",
              "          file: file.name,\n",
              "          data: base64,\n",
              "        },\n",
              "      };\n",
              "\n",
              "      let percentDone = fileData.byteLength === 0 ?\n",
              "          100 :\n",
              "          Math.round((position / fileData.byteLength) * 100);\n",
              "      percent.textContent = `${percentDone}% done`;\n",
              "\n",
              "    } while (position < fileData.byteLength);\n",
              "  }\n",
              "\n",
              "  // All done.\n",
              "  yield {\n",
              "    response: {\n",
              "      action: 'complete',\n",
              "    }\n",
              "  };\n",
              "}\n",
              "\n",
              "scope.google = scope.google || {};\n",
              "scope.google.colab = scope.google.colab || {};\n",
              "scope.google.colab._files = {\n",
              "  _uploadFiles,\n",
              "  _uploadFilesContinue,\n",
              "};\n",
              "})(self);\n",
              "</script> "
            ]
          },
          "metadata": {}
        },
        {
          "output_type": "stream",
          "name": "stdout",
          "text": [
            "Saving Log1.zip to Log1.zip\n",
            "User uploaded file \"Log1.zip\" with length 1630707 bytes\n"
          ]
        }
      ]
    },
    {
      "cell_type": "code",
      "source": [
        "!unzip \"Log1.zip\" -d \"/content\"\n",
        "# ó\n",
        "# !pip install unrar\n",
        "# !unrar x \"/content/Logs1.rar\""
      ],
      "metadata": {
        "id": "WLmdjGzdp6ej"
      },
      "execution_count": null,
      "outputs": []
    },
    {
      "cell_type": "markdown",
      "source": [
        "## Lectura de archivo de resultados stat.xls"
      ],
      "metadata": {
        "id": "OlTVywqOCDV8"
      }
    },
    {
      "cell_type": "code",
      "source": [
        "#https://drive.google.com/drive/folders/1Gj3XK9kM-lE18uBMe3qrZOGEm8yAI8i9\n",
        "#https://www.codegrepper.com/code-examples/python/how+to+read+csv+file+from+google+drive+on+google+colab+\n",
        "path = 'https://drive.google.com/uc?export=download&id=' \n",
        "# URL  = 'https://drive.google.com/file/d/1ySF5y3FdEZrEAu1jZ_P1PdBJSk64TQvt/view?usp=share_link'\n",
        "# df   = pd.read_csv(path+URL.split('/')[-2],header=0)\n",
        "URL        = 'https://docs.google.com/spreadsheets/d/12byid7r6dwnpYgbWWrvWrYQtlFfsPhI6Meq9tcF-DBU/edit?usp=sharing'\n",
        "sheet_id   = '12byid7r6dwnpYgbWWrvWrYQtlFfsPhI6Meq9tcF-DBU'\n",
        "sheet_name = 'stat1'\n",
        "url = f'https://docs.google.com/spreadsheets/d/{sheet_id}/gviz/tq?tqx=out:csv&sheet={sheet_name}'\n",
        "df   = pd.read_csv(url,header=0)\n",
        "# df.dropna(inplace=True)\n",
        "## x10gen_small 081-090\n",
        "## x10gen_large 091-100\n",
        "## x7day_small  061-070\n",
        "## x7day_large  071-080 , 131-152\n",
        "## x7day_medium 101-131\n",
        "\n",
        "filter = 'x7day_medium' ## x10gen_small, x10gen_large ,x7day_small, x7day_large, \n",
        "df = df[(df['groupx'] == filter)]\n",
        "\n",
        "!mkdir Figures\n",
        "dir = '/content/Figures/'"
      ],
      "metadata": {
        "id": "VPYCprJlrHYa"
      },
      "execution_count": 4,
      "outputs": []
    },
    {
      "cell_type": "code",
      "source": [
        "list=[]\n",
        "nameins   = df.nameins\n",
        "for i in nameins:\n",
        "  list.append('Log_'+i.replace('.json', '').replace('uc_', ''))\n",
        "list"
      ],
      "metadata": {
        "id": "1KIbQZubFWTL"
      },
      "execution_count": null,
      "outputs": []
    },
    {
      "cell_type": "markdown",
      "source": [
        "## Extrae información de los logs y construye gráficas"
      ],
      "metadata": {
        "id": "m7bbxKz9qYKi"
      }
    },
    {
      "cell_type": "code",
      "source": [
        "class ExtractCPLEX:\n",
        "\n",
        "  def findPos(self,file,spected, starter = \"Node  Left\"):\n",
        "    file = open(file,\"r\")\n",
        "    for i,j in enumerate(file):\n",
        "      if starter in j:\n",
        "        return [(j.index(k)+len(k)-1) for k in spected]\n",
        "  \n",
        "  def getFilelog(self,f):\n",
        "    with open(f, 'r') as file:\n",
        "      data = file.read().replace('\\n', '')\n",
        "    tmp = []\n",
        "    for i in re.findall(r\"\\w*Logfile\\s*\\'*[a-zA-z.+]*\\'\",data):\n",
        "      tmp.append(i.replace(\"'\",\"\").split(\" \")[1])\n",
        "    return tmp\n",
        "\n",
        "  def createTables(self,fn):\n",
        "    table_start = False\n",
        "    spected = ['Node', 'Left', 'Objective', 'IInf', 'Integer', 'Bound', 'ItCnt', 'Gap']\n",
        "    expectedPositions = self.findPos(fn,spected)\n",
        "    tables = {\"seconds\":[],\"ticks\":[],\"solution\":[],\"Node\":[],\"Left\":[],\"Objective\":[],\"IInf\":[],\"Integer\":[],\"Bound\":[],\"ItCnt\":[],\"Gap\":[],\"cuts\":[]}\n",
        "    time = None\n",
        "    ticks = None\n",
        "    cuts = None\n",
        "    f = open(fn,\"r\")    \n",
        "    for i in f:\n",
        "      if re.findall(r\"\\d{1,}[+]{1}\\d{1,}\",i):\n",
        "        i = \" \".join(i.split(\"+\"))\n",
        "      if(\"Cover cuts applied\" in i or \"Performing restart 1\" in i):\n",
        "        table_start = False\n",
        "      if(\"Elapsed time\" in i):\n",
        "          tmp = [float(k) for k in re.findall('-?\\ *[0-9]+\\.?[0-9]*(?:[Ee]\\ *[-+]?\\ *[0-9]+)?',i)]\n",
        "          time = tmp[0]\n",
        "          ticks = tmp[1]\n",
        "      if(table_start):        \n",
        "        if((str(i)[0] == \" \" or str(i)[0] == \"*\") and str(i)[expectedPositions[0]].isdigit()):\n",
        "          i = i.replace(\"uts: \",\" uts:\")\n",
        "          tables[\"seconds\"].append(time)\n",
        "          tables[\"ticks\"].append(ticks)\n",
        "          tables[\"solution\"].append(1 if i[0]==\"*\" else 0)\n",
        "          tables[\"cuts\"].append(None)\n",
        "          for j,m in zip(expectedPositions,spected):\n",
        "            if i[j] != \" \":\n",
        "              tmp = \"\"\n",
        "              for k in range(j,0,-1):\n",
        "                if i[k] != \" \":\n",
        "                  tmp += i[k]\n",
        "                else: \n",
        "                  break \n",
        "              tmp = tmp[::-1]\n",
        "              if(\"ut\" in tmp.lower() or \"infeasible\" in tmp.lower() or \"integral\" in tmp.lower()):\n",
        "                if(\"uts\" in tmp.lower()):\n",
        "                  tables[\"cuts\"][-1] = int(tmp.split(\":\")[1])\n",
        "                tables[m].append(tables[m][-1])\n",
        "              else:\n",
        "                if m == \"Gap\":\n",
        "                  tables[m].append(float(tmp)/100)\n",
        "                else: \n",
        "                  tables[m].append(float(tmp))\n",
        "            else:\n",
        "              tables[m].append(None)\n",
        "      if(\"Node  Left\"):\n",
        "        table_start = True\n",
        "    return tables\n",
        "\n",
        "  def extract(self,fn):\n",
        "    variables = {\"mipPresolveEliminated\":[],\"mipPresolveModified\":[],\"aggregatorDid\":[],\"reducedMipHasColumns\":[],\"reducedMipHasNonZero\":[],\"reducedMipHasBinaries\":[],\"reducedMipHasGeneral\":[],\"cliqueTableMembers\":[],\"rootRelaxSolSeconds\":[],\"rootRelaxSolTicks\":[]}\n",
        "    variables[\"logFile\"] = self.getFilelog(fn)\n",
        "    tables = self.createTables(fn)\n",
        "    f = open(fn, \"r\")    \n",
        "    for i in f:\n",
        "      if(\"linear optimization\" in i):\n",
        "        variables[\"linearOpt\"] = float(i.replace(\" \",\"\").replace(\"\\n\",\"\").split(\":\")[1])\n",
        "      if(\"optimality gap tolerance\" in i):\n",
        "        variables[\"gapTol\"] = float(i.replace(\" \",\"\").replace(\"\\n\",\"\").split(\":\")[1])\n",
        "      if(\"time limit in seconds\" in i):\n",
        "        variables[\"timeLimit\"] = float(i.replace(\" \",\"\").replace(\"\\n\",\"\").split(\":\")[1])\n",
        "      if(\"emphasis for MIP optimization\" in i):\n",
        "        variables[\"mipOpt\"] = float(i.replace(\" \",\"\").replace(\"\\n\",\"\").split(\":\")[1])\n",
        "      if(\"Objective sense\" in i):\n",
        "        variables[\"objSense\"] = i.replace(\" \",\"\").replace(\"\\n\",\"\").split(\":\")[1]\n",
        "      if(\"Variables\" in i):\n",
        "        if(\"Box:\" in i):\n",
        "          variablesValue = [\"variablesValue\",\"Nneg\",\"Box\",\"Binary\"]\n",
        "          for j,k in enumerate(re.findall(r'\\d+', i.replace(\" \",\"\").replace(\"\\n\",\"\").split(\":\",1)[1])):\n",
        "            variables[variablesValue[j]] = float(k)\n",
        "        else:\n",
        "          variablesValue = [\"minLB\",\"maxUb\"]\n",
        "          for j,k in enumerate(re.findall('-?\\ *[0-9]+\\.?[0-9]*(?:[Ee]\\ *[-+]?\\ *[0-9]+)?',i)):\n",
        "            variables[variablesValue[j]] = float(k)\n",
        "      if(\"Objective nonzeros\" in i):\n",
        "        if(\"Min\" in i or \"Max\" in i):\n",
        "          variablesValue = [\"objNonZerosMin\",\"objNonZerosMax\"]\n",
        "          for j,k in enumerate(re.findall('-?\\ *[0-9]+\\.?[0-9]*(?:[Ee]\\ *[-+]?\\ *[0-9]+)?',i)):\n",
        "            variables[variablesValue[j]] = float(k)\n",
        "        else:\n",
        "          variables[\"objNonZeros\"] = float(i.replace(\" \",\"\").replace(\"\\n\",\"\").split(\":\")[1])\n",
        "      if(\"Linear constraints\" in i):\n",
        "        if(\"Less\" in i):\n",
        "          variablesValue = [\"linearConstraintsValue\",\"less\",\"greater\",\"equal\"]\n",
        "          for j,k in enumerate(re.findall('-?\\ *[0-9]+\\.?[0-9]*(?:[Ee]\\ *[-+]?\\ *[0-9]+)?',i)):\n",
        "            variables[variablesValue[j]] = float(k)\n",
        "        else:\n",
        "          pass\n",
        "      if(\"Nonzeros\" in i):\n",
        "        if(\"Min\" in i):\n",
        "          variablesValue = [\"nonZerosMin\",\"nonZerosMax\"]\n",
        "          for j,k in enumerate(re.findall('-?\\ *[0-9]+\\.?[0-9]*(?:[Ee]\\ *[-+]?\\ *[0-9]+)?',i)):\n",
        "            variables[variablesValue[j]] = float(k)\n",
        "        else:\n",
        "          variables[\"nonZeros\"] = float(i.replace(\" \",\"\").replace(\"\\n\",\"\").split(\":\")[1])\n",
        "      if(\"RHS nonzeros\" in i):\n",
        "        if(\"Min\" in i):\n",
        "          variablesValue = [\"rhsNonZerosMin\",\"rhsNonZerosMax\"]\n",
        "          for j,k in enumerate(re.findall('-?\\ *[0-9]+\\.?[0-9]*(?:[Ee]\\ *[-+]?\\ *[0-9]+)?',i)):\n",
        "            variables[variablesValue[j]] = float(k)\n",
        "        else:\n",
        "          variables[\"rhsNonZeros\"] = float(i.replace(\" \",\"\").replace(\"\\n\",\"\").split(\":\")[1])\n",
        "      if(\"CPXPARAM_TimeLimit\" in i):\n",
        "        variables[\"CPXPARAM_TimeLimit\"] = float(i.replace(\"\\n\",\"\").split(\" \")[-1])\n",
        "      if(\"MIP Presolve eliminated\" in i):\n",
        "        variables[\"mipPresolveEliminated\"].append([int(k) for k in re.findall('-?\\ *[0-9]+\\.?[0-9]*(?:[Ee]\\ *[-+]?\\ *[0-9]+)?',i)])\n",
        "      if(\"MIP Presolve modified \" in i):\n",
        "        variables[\"mipPresolveModified\"].append(int(re.findall('-?\\ *[0-9]+\\.?[0-9]*(?:[Ee]\\ *[-+]?\\ *[0-9]+)?',i)[0]))\n",
        "      if(\"Reduced MIP has\" in i):\n",
        "        if(\"indicators.\" in i):\n",
        "          tmp = [int(k) for k in re.findall('-?\\ *[0-9]+\\.?[0-9]*(?:[Ee]\\ *[-+]?\\ *[0-9]+)?',i)]\n",
        "          variables[\"reducedMipHasBinaries\"].append(tmp[0])\n",
        "          variables[\"reducedMipHasGeneral\"].append(tmp[1])\n",
        "        else:\n",
        "          tmp = [int(k) for k in re.findall('-?\\ *[0-9]+\\.?[0-9]*(?:[Ee]\\ *[-+]?\\ *[0-9]+)?',i)]\n",
        "          variables[\"reducedMipHasColumns\"].append(tmp[1])\n",
        "          variables[\"reducedMipHasNonZero\"].append(tmp[-1])\n",
        "          reduceHasGeneral = []\n",
        "      if(\"Clique\" in i):\n",
        "        variables[\"cliqueTableMembers\"].append(float(i.replace(\" \",\"\").replace(\"\\n\",\"\").split(\":\")[1]))\n",
        "      if(\"Aggregator did\" in i):\n",
        "        variables[\"aggregatorDid\"].append(int(re.findall('-?\\ *[0-9]+\\.?[0-9]*(?:[Ee]\\ *[-+]?\\ *[0-9]+)?',i)[0]))\n",
        "      if(\"Root relaxation\" in i):\n",
        "        tmp = [float(k) for k in re.findall('-?\\ *[0-9]+\\.?[0-9]*(?:[Ee]\\ *[-+]?\\ *[0-9]+)?',i)]\n",
        "        variables[\"rootRelaxSolSeconds\"].append(tmp[0])\n",
        "        variables[\"rootRelaxSolTicks\"].append(tmp[1])\n",
        "      if(\"Lift and\" in i):\n",
        "        variables[\"liftAndProjectCuts\"] = int(i.replace(\" \",\"\").replace(\"\\n\",\"\").split(\":\")[1])\n",
        "      if(\"Gomory fractional\" in i):\n",
        "        variables[\"gomoryFract\"] = int(i.replace(\" \",\"\").replace(\"\\n\",\"\").split(\":\")[1])\n",
        "\n",
        "    df=pd.DataFrame.from_dict(tables).rename(columns={\"seconds\":\"seconds\",\"ticks\":\"ticks\",\"solution\":\"solution\",\"Node\":\"node\",\"Left\":\"nodesLeft\",\"Objective\":\"objective\",\"IInf\":\"iinf\",\"Integer\":\"bestInteger\",\"Bound\":\"BestBound\",\"ItCnt\":\"itCnt\",\"Gap\":\"gap\",\"cuts\":\"cuts\"})\n",
        "    ## Ajuste de lectura de datos del log CPLEX\n",
        "    df = df[ df['bestInteger'] > 10 ]\n",
        "\n",
        "    df['seconds'] = df['seconds'].fillna(0)\n",
        "    eps=np.arange(0, 1, 1/(len(df)), dtype=float)\n",
        "    # df['eps'] = eps\n",
        "    # sum_column = df[\"seconds\"] + df[\"eps\"]\n",
        "    # df[\"seconds\"] = sum_column\n",
        "    # df['ticks'] = df['ticks'].fillna(0)\n",
        "    # eps=np.arange(0, 1, 1/(len(df)), dtype=float)\n",
        "    # df['eps'] = eps\n",
        "    # sum_column = df[\"ticks\"] + df[\"eps\"]\n",
        "    # df[\"ticks\"] = sum_column\n",
        "    return df,variables\n",
        "\n",
        "## Test ExtractCPLEX\n",
        "# e = ExtractCPLEX()\n",
        "# dfe, dic = e.extract(\"/content/logfileMilpuc_022.log\")\n",
        "# print(dfe)\n",
        "# dfe.plot.line( x='seconds',y='bestInteger',style='o-',label='_nolegend_')\n"
      ],
      "metadata": {
        "id": "dA6ZTFMF8Dxa"
      },
      "execution_count": 6,
      "outputs": []
    },
    {
      "cell_type": "code",
      "source": [
        "class Extract:\n",
        "  def __init__(self,log):\n",
        "    self.log = log \n",
        "  def getFilelog(self,f):\n",
        "    with open(f, 'r') as file:\n",
        "      data = file.read().replace('\\n', '')\n",
        "    tmp = []\n",
        "    for i in re.findall(r\"\\w*\"+self.log+\"\\s*\\'*[a-zA-z.+]*\\'\",data):\n",
        "      tmp.append(i.replace(\"'\",\"\").split(\" \")[1])\n",
        "    return tmp\n",
        "  def extract(self):\n",
        "    fn= \"/content/\"+self.log+\".log\"\n",
        "    variables = {}\n",
        "    variables[\"logFile\"] = self.log.replace(\"Log\",\"uc\")\n",
        "    f = open(fn, \"r\")\n",
        "    for i in f:\n",
        "\n",
        "      variables[\"flag_milp\"] = False\n",
        "      try:\n",
        "        if(\"z_milp=\" in i):\n",
        "          variables[\"z_milp\"    ] = float(i.replace(\" \",\"\").replace(\"\\n\",\"\").split(\"=\")[1])\n",
        "          variables[\"flag_milp\" ] = True\n",
        "      except:\n",
        "        print('!!!Error en z_milp')\n",
        "        variables[\"z_milp\"   ] = 1E+75\n",
        "        variables[\"flag_milp\"] = True\n",
        "      try:\n",
        "        if(\"t_milp=\" in i):\n",
        "          variables[\"t_milp\"]  = float(i.replace(\" \",\"\").replace(\"\\n\",\"\").split(\"=\")[1])\n",
        "      except:\n",
        "        print('!!!Error en t_milp')\n",
        "\n",
        "    start = [\"lbc1 results\",\"lbc2 results\",\"lbc3 results\",\"lbc4 results\",\"KS results\"]\n",
        "    stop  = [\"lbc1 end\"    ,\"lbc2 end\"    ,\"lbc3 end\"    ,\"lbc4 end\"    ,\"KS end\"    ]\n",
        "    for p in range(5):\n",
        "      pattern_start = re.compile(r\"\"+start[p])\n",
        "      pattern_stop  = re.compile(r\"\"+\"^\"+stop[p])\n",
        "      i = 0\n",
        "      extract_on = False\n",
        "      extracts = []\n",
        "      with open(r''+fn, 'rt') as myfile:\n",
        "          for line in myfile:\n",
        "              i += 1  # line counting starts with 1\n",
        "              if pattern_start.match(line):\n",
        "                  extract_on = True\n",
        "              if pattern_stop.search(line):\n",
        "                  extract_on = False\n",
        "              if extract_on:\n",
        "                  extracts.append((i, line.rstrip('\\n')))\n",
        "      listlines=[]; x=[]; y=[]\n",
        "      for line in extracts:\n",
        "        listlines.append(line[1])\n",
        "      if len(listlines)!=0:\n",
        "        del listlines[0]\n",
        "      for i in listlines:\n",
        "        if float(re.split(',',i.replace(\" \",\"\"))[1])!=1E+75:\n",
        "          x.append(float(re.split(',',i.replace(\" \",\"\"))[0]))\n",
        "          y.append(float(re.split(',',i.replace(\" \",\"\"))[1]))\n",
        "      if p==0:\n",
        "        variables[\"t_lbc1\"] = x\n",
        "        variables[\"z_lbc1\"] = y\n",
        "        variables[\"flag_lbc1\"] = True\n",
        "      if p==1:\n",
        "        variables[\"t_lbc2\"] = x\n",
        "        variables[\"z_lbc2\"] = y\n",
        "        variables[\"flag_lbc2\"] = True\n",
        "      if p==2:\n",
        "        variables[\"t_lbc3\"] = x\n",
        "        variables[\"z_lbc3\"] = y\n",
        "        variables[\"flag_lbc3\"] = True\n",
        "      if p==3:\n",
        "        variables[\"t_lbc4\"] = x\n",
        "        variables[\"z_lbc4\"] = y\n",
        "        variables[\"flag_lbc4\"] = True\n",
        "      if p==4:\n",
        "        variables[\"t_KS\"] = x\n",
        "        variables[\"z_KS\"] = y\n",
        "        variables[\"flag_KS\"] = True\n",
        "    return variables\n",
        "\n",
        "if True:\n",
        "  ex         = Extract('Log_112')\n",
        "  variablesx = ex.extract()\n",
        "  print(variablesx)"
      ],
      "metadata": {
        "id": "caTKOCID0KvG",
        "colab": {
          "base_uri": "https://localhost:8080/"
        },
        "outputId": "c7dea10d-aa1a-40be-cb38-7862f2224228"
      },
      "execution_count": 7,
      "outputs": [
        {
          "output_type": "stream",
          "name": "stdout",
          "text": [
            "{'logFile': 'uc_112', 'flag_milp': False, 't_milp': 7299.7, 'z_milp': 55045341.9, 't_lbc1': [1533.7765100002289, 1688.2, 2944.8, 4206.6, 5467.8, 6731.4, 7263.0], 'z_lbc1': [55062336.93383761, 55062336.93383783, 55051565.195599586, 55048644.96487959, 55046870.903119594, 55045840.90311959, 55045226.70311958], 'flag_lbc1': True, 't_lbc2': [1533.7765100002289, 1697.8, 2961.6, 4225.5, 5489.4, 6753.8, 7263.1], 'z_lbc2': [55062336.93383761, 55062336.93383783, 55050171.61847959, 55048520.49527958, 55047550.49527958, 55047438.48055958, 55047438.480557844], 'flag_lbc2': True, 't_lbc3': [1533.7765100002289, 1697.8, 2961.5, 4226.9, 5491.5, 6756.3, 7264.8], 'z_lbc3': [55062336.93383761, 55062336.93383783, 55050984.53383959, 55048130.303119585, 55047906.90311958, 55046064.303119585, 55046064.30311783], 'flag_lbc3': True, 't_lbc4': [1533.7765100002289, 1770.8, 3039.5, 4308.9, 5579.0, 6849.9, 7270.8], 'z_lbc4': [55062336.93383761, 55062336.93383783, 55049168.61847959, 55046480.10311958, 55046256.70311959, 55046196.70311958, 55045286.70311959], 'flag_lbc4': True, 't_KS': [1533.7765233516693, 1859.1, 2113.1, 2429.0, 2592.2, 2847.3, 3102.6, 3418.0, 3583.0, 3657.2, 5081.9, 5163.3, 5237.1, 5431.5, 5926.6, 6004.6, 6297.2, 6372.2, 6813.0, 6891.1, 7065.5, 7173.8, 7251.6], 'z_KS': [55062336.93383761, 55051334.14471953, 55051334.14471954, 55051334.144719526, 55051163.944719516, 55048908.14695954, 55048737.946959525, 55047449.66647955, 55047449.66647954, 55047449.66647953, 55047449.66647953, 55047449.666479535, 55047449.666479535, 55047449.666479535, 55047226.26647954, 55047002.86647953, 55047002.866479546, 55047002.86647953, 55046628.86847955, 55046628.86847953, 55046628.86847955, 55046447.270479545, 55046447.27047954], 'flag_KS': True}\n"
          ]
        }
      ]
    },
    {
      "cell_type": "code",
      "source": [
        "def graficas(title='',graphs=[]):\n",
        "  df1      = df[df['nameins'] == title+'.json' ]\n",
        "  timefull = int(df1.timefull)\n",
        "  plt.figure()\n",
        "  ## Estandarizamos eje 'y'\n",
        "  ax = plt.gca()\n",
        "  ax.get_yaxis().get_major_formatter().set_useOffset(False)\n",
        "\n",
        "  models = ['LB1','LB2','LB3','LB4','KS','MILP']\n",
        "  i = 0\n",
        "  group_=''\n",
        "  for tup in graphs:\n",
        "      x = tup[0]\n",
        "      y = tup[1]\n",
        "  ##  Recortamos a timefull\n",
        "      x1=[]\n",
        "      y1=[]\n",
        "      index = 0\n",
        "      for j in x:\n",
        "        if j < timefull:\n",
        "          x1.append(j)\n",
        "          y1.append(y[index])\n",
        "        else:\n",
        "          x1.append(timefull)\n",
        "          y1.append(y[index])\n",
        "          break\n",
        "        index = index + 1\n",
        "      if tup[2]:\n",
        "        plt.plot(x1, y1, '.-', label = models[i],markersize=8,)\n",
        "      i=i+1\n",
        "\n",
        "  ##  Extraemos Milp2\n",
        "  # if False:\n",
        "  #   e        = ExtractCPLEX()\n",
        "  #   df3, dic = e.extract(\"/content/logfileMilp2\"+title+\".log\")  \n",
        "  #   x        = df3['seconds'].values.tolist()\n",
        "  #   y        = df3['bestInteger'].values.tolist()\n",
        "  #   xr       = np.array(x)\n",
        "  #   t_harduc = int(df1.t_harduc)\n",
        "  #   xr       = xr + t_harduc           ##  Agregamos los segundos de Harduc\n",
        "  #   groupx   = str(df1.groupx.iloc[0])\n",
        "  #   x1=[]  \n",
        "  #   y1=[]\n",
        "  #   index = 0\n",
        "  #   for j in xr:                       ##  Recortamos MILP2 a timefull\n",
        "  #     if j < timefull:\n",
        "  #       x1.append(j)\n",
        "  #       y1.append(y[index])\n",
        "  #     else:\n",
        "  #       x1.append(timefull)\n",
        "  #       y1.append(y[index])\n",
        "  #       break\n",
        "  #     index = index + 1\n",
        "\n",
        "  ##  Extraemos Milp\n",
        "  try:\n",
        "    e        = ExtractCPLEX()\n",
        "    df4, dic = e.extract(\"/content/logfileMilp\"+title+\".log\")\n",
        "    x        = df4['seconds'    ].values.tolist()\n",
        "    y        = df4['bestInteger'].values.tolist()\n",
        "    plt.plot(x,y,'x',Label = 'MILP',color='#ff6666')\n",
        "  except:\n",
        "    print('!!!Error en MILP')\n",
        "\n",
        "  plt.xlabel(\"Time (seconds)\")\n",
        "  plt.ylabel(\"z ($)\")\n",
        "  plt.title('Instance '+title+'\\n ('+filter+')') ###########################################################################\n",
        "  plt.legend(bbox_to_anchor=(1, 0.75))\n",
        "\n",
        "  # plt.plot(x1,y1,'x',Label = models[9],color='magenta')\n",
        "\n",
        "  if title == 'uc_122':\n",
        "    plt.ylim([8.13550E+7,8.139E+7])\n",
        "  if title == 'uc_124':\n",
        "    plt.ylim([8.0347E+7,8.037E+7])\n",
        "\n",
        "  # timefull = int(df1.timefull)\n",
        "  # timeconst= int(df1.timeconst)\n",
        "  # plt.xlim([timeconst, timefull])\n",
        "  plt.tight_layout()\n",
        "  plt.savefig(dir+'fig:'+title+'_'+filter+'.pdf')\n",
        "  # plt.show()\n",
        "  return x1, y1"
      ],
      "metadata": {
        "id": "0CaDNDtj5Ktu"
      },
      "execution_count": 8,
      "outputs": []
    },
    {
      "cell_type": "markdown",
      "source": [
        "## Gráficos de convergencia "
      ],
      "metadata": {
        "id": "X0QTkXRFPT95"
      }
    },
    {
      "cell_type": "code",
      "source": [
        "res=[] ## Vector de resultados de todos los métodos\n",
        "for item in list:\n",
        "    graphs = []\n",
        "    try:\n",
        "      e = Extract(item)\n",
        "      variables = e.extract()\n",
        "      if True:\n",
        "        #variables[\"flag_harjk\"] = False\n",
        "        # variables[\"flag_KS\"   ] = False\n",
        "        # variables[\"flag_lbc1\" ] = False\n",
        "        # variables[\"flag_lbc2\" ] = False\n",
        "        # variables[\"flag_lbc3\" ] = False\n",
        "        # variables[\"flag_lbc4\" ] = False\n",
        "        # graphs.append(([variables['t_harjk']],[variables['z_harjk']],variables[\"flag_harjk\"]))\n",
        "        # graphs.append(([variables['t_milp2']],[variables['z_milp2']],variables[\"flag_milp2\"]))       \n",
        "        # graphs.append(([variables['t_hard3']],[variables['z_hard3']],variables[\"flag_hard3\"])) \n",
        "        # graphs.append(([variables['t_milp' ]],[variables['z_milp' ]],variables[\"flag_milp\" ]))\n",
        "        graphs.append(( variables['t_lbc1' ] , variables['z_lbc1'  ] , variables[\"flag_lbc1\" ]))\n",
        "        graphs.append(( variables['t_lbc2' ] , variables['z_lbc2'  ] , variables[\"flag_lbc2\" ]))\n",
        "        graphs.append(( variables['t_lbc3' ] , variables['z_lbc3'  ] , variables[\"flag_lbc3\" ]))\n",
        "        graphs.append(( variables['t_lbc4' ] , variables['z_lbc4'  ] , variables[\"flag_lbc4\" ]))\n",
        "        graphs.append(( variables['t_KS'   ] , variables['z_KS'    ] , variables[\"flag_KS\"   ]))\n",
        "        ## Función que grafica e incluye MILP\n",
        "        a,b = graficas(title=variables[\"logFile\"],graphs=graphs)\n",
        "        graphs.append((a,b,True))\n",
        "        res.append(graphs)\n",
        "    except Exception as err:\n",
        "      print(\"Fail in \", item+\".log\"+ \" file\")\n",
        "      print(str(err))"
      ],
      "metadata": {
        "id": "st05UPVm3yQu"
      },
      "execution_count": null,
      "outputs": []
    },
    {
      "cell_type": "markdown",
      "source": [
        "## Estudio a una hora"
      ],
      "metadata": {
        "id": "jJBANQZSDalQ"
      }
    },
    {
      "cell_type": "code",
      "source": [
        "def gap(LB,z):\n",
        "  return abs(LB-z)/(1E+10 + abs(z))"
      ],
      "metadata": {
        "id": "pUQzwifVWOfQ"
      },
      "execution_count": 23,
      "outputs": []
    },
    {
      "cell_type": "code",
      "source": [
        "len(df.lb_milp)"
      ],
      "metadata": {
        "id": "y0R5Mmf6UVHP"
      },
      "execution_count": null,
      "outputs": []
    },
    {
      "cell_type": "code",
      "source": [
        "lb_milp = pd.to_numeric(df.lb_milp).to_numpy()\n",
        "lbc1_1h=[]; lbc2_1h=[]; lbc3_1h=[]; lbc4_1h=[]; ks_1h=[]; milp_1h=[]\n",
        "k=0\n",
        "for item in res:  \n",
        "  ## lbc1_1h\n",
        "  # print(item[0])\n",
        "  i=0   \n",
        "  for x in item[0][0]:\n",
        "    if x>4000: ## minutos\n",
        "      break\n",
        "    valor = item[0][1][i]\n",
        "    i=i+1\n",
        "  lbc1_1h.append(gap(lb_milp[k],valor))\n",
        "  # print(valor)\n",
        "\n",
        "  ## lbc2_1h\n",
        "  # print(item[0])\n",
        "  lbc2_h=0\n",
        "  i=0   \n",
        "  for x in item[1][0]:\n",
        "    if x>4000: ## minutos\n",
        "      break\n",
        "    valor = item[1][1][i]\n",
        "    i=i+1\n",
        "  lbc2_1h.append(gap(lb_milp[k],valor))\n",
        "  # print(valor)\n",
        "\n",
        "  ## lbc3_1h\n",
        "  # print(item[0])\n",
        "  lbc3_h=0\n",
        "  i=0   \n",
        "  for x in item[2][0]:\n",
        "    if x>4000: ## minutos\n",
        "      break\n",
        "    valor = item[2][1][i]\n",
        "    i=i+1\n",
        "  lbc3_1h.append(gap(lb_milp[k],valor))\n",
        "  # print(valor)\n",
        "\n",
        "  ## lbc4_1h\n",
        "  # print(item[0])\n",
        "  lbc4_h=0\n",
        "  i=0   \n",
        "  for x in item[3][0]:\n",
        "    if x>4000: ## minutos\n",
        "      break\n",
        "    valor = item[3][1][i]\n",
        "    i=i+1\n",
        "  lbc4_1h.append(gap(lb_milp[k],valor))\n",
        "  # print(valor)\n",
        "\n",
        "  ## ks_1h\n",
        "  # print(item[0])\n",
        "  ks_h=0\n",
        "  i=0   \n",
        "  for x in item[4][0]:\n",
        "    if x>4000: ## minutos\n",
        "      break\n",
        "    valor = item[4][1][i]\n",
        "    i=i+1\n",
        "  ks_1h.append(gap(lb_milp[k],valor))\n",
        "  # print(valor)  \n",
        "  \n",
        "  ## milp_1h\n",
        "  # print(item[0])\n",
        "  milp_h=0\n",
        "  i=0   \n",
        "  for x in item[5][0]:\n",
        "    if x>4000: ## minutos\n",
        "      break\n",
        "    valor = item[5][1][i]\n",
        "    i=i+1\n",
        "  milp_1h.append(gap(lb_milp[k],valor))\n",
        "  # print(valor)\n",
        "  k=k+1\n",
        "\n"
      ],
      "metadata": {
        "id": "R0wnRPRTDav7"
      },
      "execution_count": 39,
      "outputs": []
    },
    {
      "cell_type": "code",
      "source": [
        "lbc1_1h = np.asarray(lbc1_1h)\n",
        "lbc2_1h = np.asarray(lbc2_1h)\n",
        "lbc3_1h = np.asarray(lbc3_1h)\n",
        "lbc4_1h = np.asarray(lbc4_1h)\n",
        "ks_1h   = np.asarray(ks_1h)\n",
        "milp_1h = np.asarray(milp_1h)"
      ],
      "metadata": {
        "id": "PcrCBDJeNSFx"
      },
      "execution_count": 40,
      "outputs": []
    },
    {
      "cell_type": "code",
      "source": [
        "milp_1h"
      ],
      "metadata": {
        "id": "FaVMwoctTdkw",
        "outputId": "f5d67379-a686-499c-a84e-aa4aa220e164",
        "colab": {
          "base_uri": "https://localhost:8080/"
        }
      },
      "execution_count": 41,
      "outputs": [
        {
          "output_type": "execute_result",
          "data": {
            "text/plain": [
              "array([2.56743304e-06, 2.96606919e-06, 2.21781587e-06, 2.60153882e-06,\n",
              "                  nan, 2.52548800e-06, 2.32760201e-06,            nan,\n",
              "                  nan,            nan,            nan, 2.69707217e-06,\n",
              "       2.71568931e-06, 1.83445934e-06, 1.69426686e-06, 2.96406546e-06,\n",
              "                  nan,            nan, 2.78718707e-06, 2.73507065e-06,\n",
              "       3.05048330e-06, 3.06164249e-06, 2.52195872e-06, 2.76711753e-06,\n",
              "       2.63485577e-06, 2.79174753e-06, 2.36631361e-06, 2.68745022e-06,\n",
              "       2.61118863e-06, 2.83533040e-06, 2.87915180e-06, 2.94295480e-06,\n",
              "       2.76189210e-06])"
            ]
          },
          "metadata": {},
          "execution_count": 41
        }
      ]
    },
    {
      "cell_type": "code",
      "source": [
        "ks_1h"
      ],
      "metadata": {
        "id": "JdV203bdTeqj",
        "outputId": "721600f1-4b91-4d18-f740-31d9a81f695f",
        "colab": {
          "base_uri": "https://localhost:8080/"
        }
      },
      "execution_count": 42,
      "outputs": [
        {
          "output_type": "execute_result",
          "data": {
            "text/plain": [
              "array([2.56743304e-06, 2.96606919e-06, 2.21781587e-06, 2.60153882e-06,\n",
              "                  nan, 2.52548800e-06, 2.32760201e-06,            nan,\n",
              "                  nan,            nan,            nan, 2.69707217e-06,\n",
              "       2.71568931e-06, 1.83445934e-06, 1.69426686e-06, 2.96406546e-06,\n",
              "                  nan,            nan, 2.78718707e-06, 2.73507065e-06,\n",
              "       3.05048330e-06, 3.06164249e-06, 2.52195872e-06, 2.76711753e-06,\n",
              "       2.63485577e-06, 2.79174753e-06, 2.36631361e-06, 2.68745022e-06,\n",
              "       2.61118863e-06, 2.83533040e-06, 2.87915180e-06, 2.94295480e-06,\n",
              "       2.76189210e-06])"
            ]
          },
          "metadata": {},
          "execution_count": 42
        }
      ]
    },
    {
      "cell_type": "code",
      "source": [
        "labels  = ['LB1','LB2','LB3','LB4','KS','MILP'] ##'MILP2',\n",
        "x       = [lbc1_1h,lbc2_1h,lbc3_1h,lbc4_1h,ks_1h,milp_1h]\n",
        "fig,ax  = plt.subplots()\n",
        "#ax.set_title('gap\\n('+filter+')')\n",
        "bp = ax.boxplot(x,           \n",
        "positions=[1,2,3,4,5,6],            # where to put these arrays\n",
        "labels = labels, patch_artist=True )  # allow filling the box with colors\n",
        "namefile = dir+'fig:boxplotgap_1h'+'_'+filter+'.pdf'\n",
        "plt.savefig(namefile, transparent=True)\n",
        "plt.show()"
      ],
      "metadata": {
        "id": "sGH-KXr9OKl7",
        "outputId": "7f8f49fd-b846-4469-97b2-e40b234c32c3",
        "colab": {
          "base_uri": "https://localhost:8080/",
          "height": 265
        }
      },
      "execution_count": 43,
      "outputs": [
        {
          "output_type": "display_data",
          "data": {
            "text/plain": [
              "<Figure size 432x288 with 1 Axes>"
            ],
            "image/png": "[encoded data removed]"
          },
          "metadata": {
            "needs_background": "light"
          }
        }
      ]
    },
    {
      "cell_type": "markdown",
      "source": [
        "## Carga de resultados de stat\n"
      ],
      "metadata": {
        "id": "-O6z-YGJm-HN"
      }
    },
    {
      "cell_type": "code",
      "source": [
        "##Imprimir GAP\n",
        "#milp2   = pd.to_numeric(df.g_milp2 ).to_numpy()\n",
        "milp    = pd.to_numeric(df.g_milp  ).to_numpy()\n",
        "harjk   = pd.to_numeric(df.g_harjk ).to_numpy()\n",
        "harduc  = pd.to_numeric(df.g_harduc).to_numpy()\n",
        "lbc1    = pd.to_numeric(df.g_lbc1  ).to_numpy()\n",
        "lbc2    = pd.to_numeric(df.g_lbc2  ).to_numpy()\n",
        "lbc3    = pd.to_numeric(df.g_lbc3  ).to_numpy()\n",
        "lbc4    = pd.to_numeric(df.g_lbc4  ).to_numpy()\n",
        "ks      = pd.to_numeric(df.g_ks    ).to_numpy()\n",
        "\n",
        "## Contamos las soluciones no encontradas\n",
        "n          = len(harduc)                ## Total de instancias\n",
        "n_milp_ns  = len(milp[np.isnan(milp)])\n",
        "n_harjk_ns = len(harjk[np.isnan(harjk)])\n",
        "print(n,n_milp_ns,n_harjk_ns)\n",
        "\n",
        "df = df[df['g_milp'].notna()]\n",
        "milp    = pd.to_numeric(df.g_milp  ).to_numpy()\n",
        "harjk   = pd.to_numeric(df.g_harjk ).to_numpy()\n",
        "harduc  = pd.to_numeric(df.g_harduc).to_numpy()\n",
        "lbc1    = pd.to_numeric(df.g_lbc1  ).to_numpy()\n",
        "lbc2    = pd.to_numeric(df.g_lbc2  ).to_numpy()\n",
        "lbc3    = pd.to_numeric(df.g_lbc3  ).to_numpy()\n",
        "lbc4    = pd.to_numeric(df.g_lbc4  ).to_numpy()\n",
        "ks      = pd.to_numeric(df.g_ks    ).to_numpy()\n",
        "#milp    = milp[~np.isnan(milp)]                 ## limpiamos NaN\n",
        "harjk  = harjk[~np.isnan(harjk)]                 ## limpiamos NaN\n",
        "\n",
        "labels  = ['MILP\\n('+str(n-n_milp_ns)+'/'+str(n)+')','Harduc','LB1','LB2','LB3','LB4','KS'] ##'MILP2',\n",
        "x       = [milp,harduc,lbc1,lbc2,lbc3,lbc4,ks]\n",
        "fig,ax  = plt.subplots()\n",
        "#ax.set_title('gap\\n('+filter+')')\n",
        "bp = ax.boxplot(x,           \n",
        "positions=[1,2,3,4,5,6,7],            # where to put these arrays\n",
        "labels = labels, patch_artist=True )  # allow filling the box with colors\n",
        "namefile = dir+'fig:boxplotgap'+'_'+filter+'.pdf'\n",
        "plt.savefig(namefile, transparent=True)\n",
        "plt.show()"
      ],
      "metadata": {
        "colab": {
          "base_uri": "https://localhost:8080/",
          "height": 294
        },
        "id": "IqsCfW-H-4pA",
        "outputId": "b2d95172-7815-4c3c-fb8b-9b107e3d7807"
      },
      "execution_count": 11,
      "outputs": [
        {
          "output_type": "stream",
          "name": "stdout",
          "text": [
            "33 7 1\n"
          ]
        },
        {
          "output_type": "display_data",
          "data": {
            "text/plain": [
              "<Figure size 432x288 with 1 Axes>"
            ],
            "image/png": "[encoded data removed]"
          },
          "metadata": {
            "needs_background": "light"
          }
        }
      ]
    },
    {
      "cell_type": "markdown",
      "source": [
        "## Análisis estadístico descriptivo"
      ],
      "metadata": {
        "id": "lEqH2fdnGTz4"
      }
    },
    {
      "cell_type": "code",
      "source": [
        "def pie(title='Apple pie',labels=['Apple','Cinammon'],sizes=[7,3],colors=['#1f77b4', '#ff7f0e','#66b3ff','#ff6666','#99ff99',]):\n",
        "  explode = (0, 0.1)  # only \"explode\" the 2nd slice (i.e. 'Hogs')\n",
        "  fig1, ax1 = plt.subplots()\n",
        "  ax1.pie(sizes, explode=explode, labels=labels, autopct='%1.1f%%',\n",
        "          shadow=True, colors=colors, startangle=0)\n",
        "  ax1.axis('equal')  # Equal aspect ratio ensures that pie is drawn as a circle.\n",
        "  ax1.set_title(title)\n",
        "  plt.show()\n",
        "pie(title='MILP solutions\\n('+filter+')',labels=['Solution found','Non solution found', ],sizes=[n-n_milp_ns, n_milp_ns ],colors=['#ff6666','#66b3ff','#99ff99',])\n",
        "pie(title='Harjunkosky solutions\\n('+filter+')',labels=['Solution found','Non solution found', ],sizes=[n-n_harjk_ns,n_harjk_ns])"
      ],
      "metadata": {
        "colab": {
          "base_uri": "https://localhost:8080/",
          "height": 541
        },
        "id": "Ieh3AcyPPhpK",
        "outputId": "910596ab-b6de-49b1-df05-330671ca707e"
      },
      "execution_count": 12,
      "outputs": [
        {
          "output_type": "display_data",
          "data": {
            "text/plain": [
              "<Figure size 432x288 with 1 Axes>"
            ],
            "image/png": "[encoded data removed]"
          },
          "metadata": {}
        },
        {
          "output_type": "display_data",
          "data": {
            "text/plain": [
              "<Figure size 432x288 with 1 Axes>"
            ],
            "image/png": "[encoded data removed]"
          },
          "metadata": {}
        }
      ]
    },
    {
      "cell_type": "code",
      "source": [
        "## https://www.geeksforgeeks.org/data-visualization-with-python-seaborn/\n",
        "method  = ['Harjk' ]*(len(harjk))\n",
        "method2 = ['Harduc']*(len(harduc))\n",
        "method  = method + method2\n",
        "data    = np.concatenate((harjk, harduc), axis=0)\n",
        "# initialise data of lists.\n",
        "data = {'gap' :data, 'method' :method}  \n",
        "df1 = pd.DataFrame( data )"
      ],
      "metadata": {
        "id": "Vqcnzos4f0kq"
      },
      "execution_count": 13,
      "outputs": []
    },
    {
      "cell_type": "code",
      "source": [
        "if True:\n",
        "  import seaborn as sns\n",
        "  fig, axs = plt.subplots(nrows=2, ncols=1, figsize=(9, 8))\n",
        "  sns.violinplot(\n",
        "      x       = df1.gap,\n",
        "      y       = df1.method,\n",
        "      color   = '.8',\n",
        "      ax      = axs[0]  )\n",
        "  sns.stripplot(\n",
        "      x       = df1.gap,\n",
        "      y       = df1.method,\n",
        "      data    = df1,\n",
        "      size    = 4,\n",
        "      jitter  = 0.1,\n",
        "      ax      = axs[0] )\n",
        "  #axs[0].set_title('Distribución de gap por método')\n",
        "  axs[0].set_ylabel('Methods')\n",
        "  axs[0].set_xlabel('gap')\n",
        "\n",
        "  for i in df1.method.unique():\n",
        "      datos_temp = df1[df1.method == i]['gap']\n",
        "      datos_temp.plot.kde(ax=axs[1], label=i)\n",
        "      axs[1].plot(datos_temp, np.full_like(datos_temp, 0), '|k', markeredgewidth=1)\n",
        "\n",
        "  axs[1].set_xlabel('gap')\n",
        "  axs[1].legend()\n",
        "\n",
        "  fig.tight_layout()\n",
        "\n",
        "  namefile = dir+'fig:violinHarduc'+'_'+filter+'.pdf'\n",
        "  plt.savefig(namefile, transparent=True)\n",
        "  plt.show()"
      ],
      "metadata": {
        "id": "B1FJEn6LFLQb",
        "outputId": "fc24bf7d-48e8-4521-871a-a3699c31ba86",
        "colab": {
          "base_uri": "https://localhost:8080/",
          "height": 585
        }
      },
      "execution_count": 14,
      "outputs": [
        {
          "output_type": "display_data",
          "data": {
            "text/plain": [
              "<Figure size 648x576 with 2 Axes>"
            ],
            "image/png": "[encoded data removed]"
          },
          "metadata": {
            "needs_background": "light"
          }
        }
      ]
    },
    {
      "cell_type": "code",
      "source": [
        "## https://www.geeksforgeeks.org/data-visualization-with-python-seaborn/\n",
        "method1 = ['Milp' ]*(len(milp))\n",
        "method2 = ['LB1'   ]*(len(lbc1))\n",
        "method3 = ['LB2'   ]*(len(lbc2))\n",
        "method4 = ['LB3'   ]*(len(lbc3))\n",
        "method5 = ['LB4'   ]*(len(lbc4))\n",
        "method6 = ['KS'    ]*(len(ks))\n",
        "method  = method1 + method2 + method3 + method4 + method5 + method6\n",
        "data    = np.concatenate((milp,lbc1,lbc2,lbc3,lbc4,ks), axis=0)\n",
        "# initialise data of lists.\n",
        "data = {'gap'       :data,\n",
        "        'method'  :method}  \n",
        "df1 = pd.DataFrame( data )\n",
        "#fig, ax = plt.subplots(figsize=(8, 6))\n",
        "#sns.histplot(df1, x=\"gap\", hue=\"method\", element=\"step\") #,bins=15"
      ],
      "metadata": {
        "id": "zCh6HJY9arPV"
      },
      "execution_count": 15,
      "outputs": []
    },
    {
      "cell_type": "code",
      "source": [
        "if True:\n",
        "  import seaborn as sns\n",
        "  fig, axs = plt.subplots(nrows=2, ncols=1, figsize=(9, 8))\n",
        "  sns.violinplot(\n",
        "      x       = df1.gap,\n",
        "      y       = df1.method,\n",
        "      color   = '.8',\n",
        "      ax      = axs[0]  )\n",
        "  sns.stripplot(\n",
        "      x       = df1.gap,\n",
        "      y       = df1.method,\n",
        "      data    = df1,\n",
        "      size    = 4,\n",
        "      jitter  = 0.1,\n",
        "      ax      = axs[0]  )\n",
        "  #axs[0].set_title('Distribución de gap por método')\n",
        "  axs[0].set_ylabel('methods')\n",
        "  axs[0].set_xlabel('gap')\n",
        "\n",
        "  for i in df1.method.unique():\n",
        "      datos_temp = df1[df1.method == i]['gap']\n",
        "      datos_temp.plot.kde(ax=axs[1], label=i)\n",
        "      axs[1].plot(datos_temp, np.full_like(datos_temp, 0), '|k', markeredgewidth=1)\n",
        "\n",
        "  axs[1].set_xlabel('gap')\n",
        "  axs[1].legend()\n",
        "\n",
        "  fig.tight_layout()\n",
        "\n",
        "  namefile = dir+'fig:violinAll'+'_'+filter+'.pdf'\n",
        "  plt.savefig(namefile, transparent=True)\n",
        "  plt.show()"
      ],
      "metadata": {
        "colab": {
          "base_uri": "https://localhost:8080/",
          "height": 585
        },
        "id": "Ni9Y4gHH8h_x",
        "outputId": "1170018f-ac4a-4e18-d99e-ce9468f66467"
      },
      "execution_count": 16,
      "outputs": [
        {
          "output_type": "display_data",
          "data": {
            "text/plain": [
              "<Figure size 648x576 with 2 Axes>"
            ],
            "image/png": "[encoded data removed]"
          },
          "metadata": {
            "needs_background": "light"
          }
        }
      ]
    },
    {
      "cell_type": "markdown",
      "source": [
        "## Almacenamos a archivos zip"
      ],
      "metadata": {
        "id": "uLlF_tcrGYqX"
      }
    },
    {
      "cell_type": "code",
      "source": [
        "!zip -r file.zip '/content/Figures'"
      ],
      "metadata": {
        "id": "oeRTUFN8GYNi",
        "colab": {
          "base_uri": "https://localhost:8080/"
        },
        "outputId": "1c6a86e8-beda-4213-b194-b59d71db8fdf"
      },
      "execution_count": 17,
      "outputs": [
        {
          "output_type": "stream",
          "name": "stdout",
          "text": [
            "  adding: content/Figures/ (stored 0%)\n",
            "  adding: content/Figures/fig:uc_133_x7day_medium.pdf (deflated 31%)\n",
            "  adding: content/Figures/fig:uc_119_x7day_medium.pdf (deflated 33%)\n",
            "  adding: content/Figures/fig:uc_134_x7day_medium.pdf (deflated 31%)\n",
            "  adding: content/Figures/fig:uc_123_x7day_medium.pdf (deflated 31%)\n",
            "  adding: content/Figures/fig:uc_138_x7day_medium.pdf (deflated 32%)\n",
            "  adding: content/Figures/fig:uc_112_x7day_medium.pdf (deflated 32%)\n",
            "  adding: content/Figures/fig:uc_135_x7day_medium.pdf (deflated 31%)\n",
            "  adding: content/Figures/fig:uc_128_x7day_medium.pdf (deflated 32%)\n",
            "  adding: content/Figures/fig:uc_120_x7day_medium.pdf (deflated 32%)\n",
            "  adding: content/Figures/fig:violinHarduc_x7day_medium.pdf (deflated 21%)\n",
            "  adding: content/Figures/fig:uc_139_x7day_medium.pdf (deflated 31%)\n",
            "  adding: content/Figures/fig:uc_136_x7day_medium.pdf (deflated 31%)\n",
            "  adding: content/Figures/fig:uc_131_x7day_medium.pdf (deflated 32%)\n",
            "  adding: content/Figures/fig:uc_113_x7day_medium.pdf (deflated 32%)\n",
            "  adding: content/Figures/fig:uc_117_x7day_medium.pdf (deflated 32%)\n",
            "  adding: content/Figures/fig:violinAll_x7day_medium.pdf (deflated 16%)\n",
            "  adding: content/Figures/fig:uc_129_x7day_medium.pdf (deflated 31%)\n",
            "  adding: content/Figures/fig:boxplotgap_x7day_medium.pdf (deflated 34%)\n",
            "  adding: content/Figures/fig:uc_125_x7day_medium.pdf (deflated 31%)\n",
            "  adding: content/Figures/fig:uc_127_x7day_medium.pdf (deflated 33%)\n",
            "  adding: content/Figures/fig:uc_121_x7day_medium.pdf (deflated 32%)\n",
            "  adding: content/Figures/fig:uc_114_x7day_medium.pdf (deflated 33%)\n",
            "  adding: content/Figures/fig:uc_071_x7day_medium.pdf (deflated 31%)\n",
            "  adding: content/Figures/fig:uc_072_x7day_medium.pdf (deflated 31%)\n",
            "  adding: content/Figures/fig:uc_130_x7day_medium.pdf (deflated 32%)\n",
            "  adding: content/Figures/fig:uc_137_x7day_medium.pdf (deflated 32%)\n",
            "  adding: content/Figures/fig:uc_116_x7day_medium.pdf (deflated 32%)\n",
            "  adding: content/Figures/fig:uc_132_x7day_medium.pdf (deflated 32%)\n",
            "  adding: content/Figures/fig:uc_115_x7day_medium.pdf (deflated 32%)\n",
            "  adding: content/Figures/fig:uc_122_x7day_medium.pdf (deflated 31%)\n",
            "  adding: content/Figures/fig:uc_140_x7day_medium.pdf (deflated 32%)\n",
            "  adding: content/Figures/fig:uc_111_x7day_medium.pdf (deflated 31%)\n",
            "  adding: content/Figures/fig:uc_126_x7day_medium.pdf (deflated 30%)\n",
            "  adding: content/Figures/fig:uc_073_x7day_medium.pdf (deflated 31%)\n",
            "  adding: content/Figures/fig:uc_118_x7day_medium.pdf (deflated 33%)\n",
            "  adding: content/Figures/fig:uc_124_x7day_medium.pdf (deflated 31%)\n"
          ]
        }
      ]
    },
    {
      "cell_type": "markdown",
      "source": [
        "## Functions"
      ],
      "metadata": {
        "id": "OiPbEwKavvXJ"
      }
    },
    {
      "cell_type": "code",
      "source": [
        "def means_test(alternative,labels,samples,alpha=0.05):\n",
        "## Ho(Accepted): The difference between the pairs follows a symmetric distribution around zero.\n",
        "## Ha(Rejected): The difference between the pairs does not follow a symmetric distribution around zero.\n",
        "## We conduct the Mann-whitney U or two-sample t test alternative= {'two-sided', 'greater', 'less'} \n",
        "# ==============================================================================\n",
        "  ## Tipo de prueba\n",
        "\n",
        "    Ho   = labels[0]+'-'+labels[1]+': means the samples is of the same distribution.'\n",
        "    decision1   = 'We fail to reject the Ho; Ho accepted:'\n",
        "    if alternative == 'less':\n",
        "      message1='\\t: We fail to reject the null hypothesis; Ho accepted: \\n\\tThe difference between the pairs follows a symmetric distribution around zero.'\n",
        "      message2='\\t: *We reject the null hypothesis and accept alternative hypothesis Ha:\\n\\t'+labels[0]+'\\'s mean is less than '+labels[1]+'\\'s mean.'\n",
        "      Ho   = labels[0]+'-'+labels[1]+': The means difference of the samples from the same distribution.'\n",
        "      decision2   = 'We reject the Ho and accept Ha: '+labels[0]+'\\'s mean is less than '+labels[1]+'\\'s mean.'\n",
        "    if alternative == 'greater':\n",
        "      message2='\\t: *We reject the null hypothesis and accept alternative hypothesis Ha:\\n\\t'+labels[0]+'\\'s mean is greater than '+labels[1]+'\\'s mean.'\n",
        "      Ho   = labels[0]+'-'+labels[1]+': The means difference of the samples from the same distribution.'\n",
        "      decision2   = 'We reject the Ho and accept Ha: '+labels[0]+'\\'s mean is greater than '+labels[1]+'\\'s mean.'\n",
        "    if alternative == 'two-sided':\n",
        "      message2='\\t: *We reject the null hypothesis and accept alternative hypothesis Ha:\\n\\t The mean difference between the pairs not follows a symmetric distribution around zero.'\n",
        "      Ho   = labels[0]+'-'+labels[1]+': The means difference of the samples from the same distribution.'\n",
        "      decision2   = 'We reject the Ho and accept Ha: The means difference of the samples not from the same distribution.'\n",
        "\n",
        "    ## Checamos normalidad \n",
        "    normal=[]\n",
        "    i = 0\n",
        "    for s in samples:\n",
        "      if shapiro(s).pvalue > alpha:\n",
        "        normal.append(True)\n",
        "      else:\n",
        "        # print(labels[i],'\\t:',round(shapiro(s).statistic,4),'\\t',round(shapiro(s).pvalue,4),'\\tWe reject the null hypothesis and accept Ha: Sample is not from the normal distributions.')\n",
        "        normal.append(False)\n",
        "      i = i + 1\n",
        "\n",
        "    ## Checamos homocedasticidad\n",
        "    levene_test = stats.levene(samples[0], samples[1], center='mean')\n",
        "    equalvar=False\n",
        "    if levene_test.pvalue > alpha:\n",
        "        equalvar =True\n",
        "    #   print('[Harjk,Harduc]\\t:',round(levene_test.statistic,4),round(levene_test.pvalue,4),'\\tWe fail to reject the null hypothesis; Ho accepted: the variances are equal across all samples. (Po>0.05)')\n",
        "    # else:\n",
        "    #   print(labels[0],labels[1],'\\t:',round(levene_test.statistic,4),round(levene_test.pvalue,4),'\\tWe reject the Ho and accept Ha: the variances are not equal across all samples. (Po<=0.05)')\n",
        "    test = ''\n",
        "    if normal[0]==True and normal[1]==True and equalvar==True: ## T-test two samples\n",
        "      test = 'T-test for two samples'\n",
        "      # print(labels[0],labels[1],stats.ttest_ind(samples[0], samples[1], alternative=alternative) )\n",
        "      if stats.ttest_ind(samples[0], samples[1], alternative=alternative).pvalue > alpha:\n",
        "          # print('\\t',message1)\n",
        "          print(Ho,',',test,',', round(stats.ttest_ind(samples[0], samples[1], alternative=alternative).pvalue,4),',',decision1)\n",
        "      else:\n",
        "          # print('\\t',message2)\n",
        "          print(Ho,',',test,',', round(stats.ttest_ind(samples[0], samples[1], alternative=alternative).pvalue,4),',',decision2)\n",
        "    else: ## Mann-whitney U Test\n",
        "      test = 'Mann-whitney U'\n",
        "      # print(labels[0],labels[1],stats.mannwhitneyu(samples[0], samples[1], alternative=alternative) )\n",
        "      if stats.mannwhitneyu(samples[0], samples[1], alternative=alternative).pvalue > alpha:\n",
        "          # print('\\t',message1)\n",
        "          print(Ho,',',test,',', round(stats.mannwhitneyu(samples[0], samples[1], alternative=alternative).pvalue,4),',',decision1)\n",
        "      else:\n",
        "          # print('\\t',message2)\n",
        "          print(Ho,',',test,',', round(stats.mannwhitneyu(samples[0], samples[1], alternative=alternative).pvalue,4),',',decision2)\n",
        "## Kruskal-Wallis test discussion:  In this example, the test statistic comes out to be equal to 87 and the corresponding p-value is 2.1856E-17. \n",
        "## (As the p-value is not less than 0.05, we cannot reject the null hypothesis that the median of optimality gap is the same for all groups. \n",
        "## Hence, We don’t have sufficient proof to claim that the different types of methods used to lead to statistically significant differences in the acuracy of methods.)\n",
        "## (As the p-value is less than 0.05, we reject the null hypothesis that the median of optimality gap is the same for all groups. \n",
        "## Hence, We don’t have sufficient proof to reject that the different types of methods used to lead to statistically significant differences in the acuracy of methods.)"
      ],
      "metadata": {
        "id": "j24bhY-A-AK1"
      },
      "execution_count": 18,
      "outputs": []
    },
    {
      "cell_type": "markdown",
      "source": [
        "## Pruebas de Normalidad de todos los métodos"
      ],
      "metadata": {
        "id": "f5bi4XAqdxjV"
      }
    },
    {
      "cell_type": "code",
      "source": [
        "# conduct the  Shapiro-Wilk Test\n",
        "## https://www.geeksforgeeks.org/how-to-perform-a-shapiro-wilk-test-in-python/\n",
        "## This is a hypotheses test and the two hypotheses are as follows:\n",
        "## Ho(Accepted): Sample is from the normal distributions.(Po>0.05)\n",
        "## Ha(Rejected): Sample is not from the normal distributions.\n",
        "## Example 1: Shapiro-Wilk test on the normally distributed sample in Python\n",
        "## In this example, we will be simply using the shapiro() function from \n",
        "## the scipy.stats library to Conduct a Shapiro-Wilk test on the randomly generated data with 500 data points in python. \n",
        "\n",
        "samples = (harjk,harduc,milp,lbc1,lbc2,lbc3,lbc4,ks)\n",
        "labels  = ['Harjk','Harduc','MILP','LB1','LB2','LB3','LB4','KS']\n",
        "normal  = []\n",
        "i       = 0\n",
        "test    = 'Shapiro-Wilk'\n",
        "print('Normality hypothesis test summary ('+filter+')')\n",
        "print('Null hypothesis,Test,Significance,Decision')\n",
        "for s in (samples):\n",
        "  Ho = labels[i]+' '+ 'is from the normal distributions.'\n",
        "  # print(labels[i],':', shapiro(s).statistic, shapiro(s).pvalue)\n",
        "  if shapiro(s).pvalue > 0.05:\n",
        "    decision='We fail to reject the Ho; Ho accepted: samples is from the normal distributions.'\n",
        "    print(labels[i]+' is from the normal distribution,',test,',', round(shapiro(s).pvalue,4),',',decision)\n",
        "    # print(labels[i],'\\t:',round(shapiro(s).statistic,4),'\\t',round(shapiro(s).pvalue,4),'\\tWe fail to reject the null hypothesis; Ho accepted: \\n\\tSample is from the normal distributions.(Po>0.05)')\n",
        "    normal.append(True)\n",
        "  else:\n",
        "    decision='We reject the null hypothesis Ho and accept Ha: samples is not from the normal distributions.'\n",
        "    print(labels[i]+' is from the normal distribution,',test,',', round(shapiro(s).pvalue,4),',',decision)\n",
        "    # print(labels[i],'\\t:',round(shapiro(s).statistic,4),'\\t',round(shapiro(s).pvalue,4),'\\tWe reject the null hypothesis and accept alternative hypothesis Ha: \\n\\tSample is not from the normal distributions.')\n",
        "    normal.append(False)\n",
        "  i = i + 1\n",
        "\n",
        "print('*  Significance level 0.05')\n",
        "print('** Significance level 0.01')\n",
        "## Output Interpretation:\n",
        "## Returns: (statistic: The test statistic, p-value: The p-value for the hypothesis test)\n",
        "## a)Since in the above example, the p-value is 0.73 which is more than the threshold(0.05) which is the alpha(0.05) then we fail to reject the null hypothesis \n",
        "##   i.e. we do (not have sufficient evidence) to say that sample does not come from a normal distribution.\n",
        "## b)Since in the above example, the p-value is 0.0001 which is less than the alpha(0.05) then we reject the null hypothesis \n",
        "##   i.e. we (have sufficient evidence) to say that sample does not come from a normal distribution."
      ],
      "metadata": {
        "id": "7lXF220lEnKZ",
        "colab": {
          "base_uri": "https://localhost:8080/"
        },
        "outputId": "845edddd-fdff-4471-ab19-efda437bad25"
      },
      "execution_count": 19,
      "outputs": [
        {
          "output_type": "stream",
          "name": "stdout",
          "text": [
            "Normality hypothesis test summary (x7day_medium)\n",
            "Null hypothesis,Test,Significance,Decision\n",
            "Harjk is from the normal distribution, Shapiro-Wilk , 0.2508 , We fail to reject the Ho; Ho accepted: samples is from the normal distributions.\n",
            "Harduc is from the normal distribution, Shapiro-Wilk , 0.5222 , We fail to reject the Ho; Ho accepted: samples is from the normal distributions.\n",
            "MILP is from the normal distribution, Shapiro-Wilk , 0.0187 , We reject the null hypothesis Ho and accept Ha: samples is not from the normal distributions.\n",
            "LB1 is from the normal distribution, Shapiro-Wilk , 0.0187 , We reject the null hypothesis Ho and accept Ha: samples is not from the normal distributions.\n",
            "LB2 is from the normal distribution, Shapiro-Wilk , 0.0138 , We reject the null hypothesis Ho and accept Ha: samples is not from the normal distributions.\n",
            "LB3 is from the normal distribution, Shapiro-Wilk , 0.2274 , We fail to reject the Ho; Ho accepted: samples is from the normal distributions.\n",
            "LB4 is from the normal distribution, Shapiro-Wilk , 0.0587 , We fail to reject the Ho; Ho accepted: samples is from the normal distributions.\n",
            "KS is from the normal distribution, Shapiro-Wilk , 0.0038 , We reject the null hypothesis Ho and accept Ha: samples is not from the normal distributions.\n",
            "*  Significance level 0.05\n",
            "** Significance level 0.01\n"
          ]
        }
      ]
    },
    {
      "cell_type": "markdown",
      "source": [
        "## Estadistica inferencial para los métodos contructivos"
      ],
      "metadata": {
        "id": "PEm4AYwgau0q"
      }
    },
    {
      "cell_type": "markdown",
      "source": [
        "### Pruebas de Homocedasticidad entre los resultados de Harduc y Harjk"
      ],
      "metadata": {
        "id": "XPVgaGKQZMfd"
      }
    },
    {
      "cell_type": "code",
      "source": [
        "## homocedasticidad.\n",
        "## https://www.cienciadedatos.net/documentos/pystats07-test-homocedasticidad-heterocedasticidad-python.html\n",
        "## https://stats.stackexchange.com/questions/135232/bartletts-test-vs-levenes-test\n",
        "## We conducting Levene’s Test or Bartlett’s Test of homogeneity of variance we are dealing with two hypotheses. These two are simply put:\n",
        "## Ho(Accepted): the variances are equal across all samples\n",
        "## Ha(Rejected): the variances are not equal across all samples\n",
        "\n",
        "test    = 'Levene'\n",
        "print('Homoscedasticity hypothesis test summary ('+filter+')')\n",
        "print('Null hypothesis,Test,Significance,Decision')\n",
        "Ho = 'Harduc and Harjk'+': the variances are equal.'\n",
        "\n",
        "# Levene test\n",
        "# ==============================================================================\n",
        "levene_test = stats.levene(harjk, harduc, center='mean')\n",
        "# print(levene_test)\n",
        "equalvar=False\n",
        "if levene_test.pvalue > 0.05:\n",
        "    decision='We fail to reject the Ho; Ho accepted.'\n",
        "    print('Harjk,Harduc'+' the variances are equal across all samples,',test,',', round(levene_test.pvalue,4),',',decision)\n",
        "    # print('[Harjk,Harduc]\\t:',round(levene_test.statistic,4),round(levene_test.pvalue,4),'\\tWe fail to reject the null hypothesis; Ho accepted: the variances are equal across all samples. (Po>0.05)')\n",
        "    equalvar=True\n",
        "else:\n",
        "    decision='We reject the Ho and accept Ha: the variances are not equal.'\n",
        "    print('Harjk,Harduc'+' the variances are equal across all samples,',test,',', round(levene_test.pvalue,4),',',decision)\n",
        "    # print('[Harjk,Harduc]\\t:',round(levene_test.statistic,4),round(levene_test.pvalue,4),'\\tWe reject the null hypothesis and accept Ha: the variances are not equal across all samples. (Po<=0.05)')\n",
        "print('*  Significance level 0.05')\n",
        "print('** Significance level 0.01')\n",
        "print('\\n')\n",
        "\n",
        "\n",
        "# Fligner-Killeen\n",
        "# ==============================================================================\n",
        "fligner_test = stats.fligner(harjk, harduc, center='mean')\n",
        "print(fligner_test)\n",
        "if fligner_test.pvalue > 0.05:\n",
        "    print('[Harjk,Harduc]\\t:',round(fligner_test.statistic,4),round(fligner_test.pvalue,4),'\\tWe fail to reject the null hypothesis; Ho accepted: the variances are equal across all samples. (Po>0.05)')\n",
        "else:\n",
        "    print('[Harjk,Harduc]\\t:',round(fligner_test.statistic,4),round(fligner_test.pvalue,4),'\\tWe reject the null hypothesis and accept Ha: the variances are not equal across all samples. (Po<=0.05)')\n",
        "\n",
        "## Output Interpretation:\n",
        "## a) This means, for example, that if we get a p-value larger than 0.05 we can assume \n",
        "## hat our data is heteroscedastic and we can continue carrying out a parametric test \n",
        "## such as the two-sample t-test. \n",
        "## b) If we, on the other hand, get a statistically \n",
        "## significant result we may want to carry out the Mann-Whitney U test. \n",
        "## Ninguno de los test muestra evidencias para rechazar la hipótesis de que los \n",
        "## dos grupos tienen la misma varianza, homocedasticidad. p-value >>>> 0.05"
      ],
      "metadata": {
        "id": "2nBlWyV6I8an",
        "colab": {
          "base_uri": "https://localhost:8080/"
        },
        "outputId": "be396ef2-ad7c-4e38-d0e6-3e7904d93c81"
      },
      "execution_count": 20,
      "outputs": [
        {
          "output_type": "stream",
          "name": "stdout",
          "text": [
            "Homoscedasticity hypothesis test summary (x7day_medium)\n",
            "Null hypothesis,Test,Significance,Decision\n",
            "Harjk,Harduc the variances are equal across all samples, Levene , 0.0223 , We reject the Ho and accept Ha: the variances are not equal.\n",
            "*  Significance level 0.05\n",
            "** Significance level 0.01\n",
            "\n",
            "\n",
            "FlignerResult(statistic=5.498436562163177, pvalue=0.0190334835089798)\n",
            "[Harjk,Harduc]\t: 5.4984 0.019 \tWe reject the null hypothesis and accept Ha: the variances are not equal across all samples. (Po<=0.05)\n"
          ]
        }
      ]
    },
    {
      "cell_type": "markdown",
      "source": [
        "## Test of differences between Harduc and Harjk means  \n"
      ],
      "metadata": {
        "id": "h9t2Qzg3fPUS"
      }
    },
    {
      "cell_type": "code",
      "source": [
        "samples = (harduc,harjk)\n",
        "print('differences means test summary between Harduc and Harjk ('+filter+')')\n",
        "print('Null hypothesis,Test,Significance,Decision')\n",
        "\n",
        "labels = ['Harduc','Harjk']\n",
        "means_test('less',labels,samples,alpha=0.05)\n",
        "\n",
        "print('*  Significance level 0.05')\n",
        "print('** Significance level 0.01')\n",
        "print('\\n')\n",
        "\n",
        "## Output Interpretation:\n",
        "## In the above example, the p-value is 0.2 which is less than the threshold(0.05) which is the alpha(0.05) \n",
        "## i.e. p-value<alpha which means the sample is of the same distribution \n",
        "## and the sample distributions are equal if in the case if the p-value>0.05 than it would be opposite."
      ],
      "metadata": {
        "id": "_97b_pAJ-93K",
        "colab": {
          "base_uri": "https://localhost:8080/"
        },
        "outputId": "ad18be21-d56b-4c7d-94ea-c5902090a766"
      },
      "execution_count": 21,
      "outputs": [
        {
          "output_type": "stream",
          "name": "stdout",
          "text": [
            "differences means test summary between Harduc and Harjk (x7day_medium)\n",
            "Null hypothesis,Test,Significance,Decision\n",
            "Harduc-Harjk: The means difference of the samples from the same distribution. , Mann-whitney U , 0.0 , We reject the Ho and accept Ha: Harduc's mean is less than Harjk's mean.\n",
            "*  Significance level 0.05\n",
            "** Significance level 0.01\n",
            "\n",
            "\n"
          ]
        }
      ]
    },
    {
      "cell_type": "markdown",
      "source": [
        "## Analysis of variance between all methods using ANOVA or Kruskal-wallis \n",
        "\n",
        "https://www.geeksforgeeks.org/how-to-perform-a-kruskal-wallis-test-in-python/\n"
      ],
      "metadata": {
        "id": "KF7loWtrU2rc"
      }
    },
    {
      "cell_type": "code",
      "source": [
        "## Ho(Accepted): The mean for each population is equal.\n",
        "## Ha(Rejected): At least one population mean is different from the rest.\n",
        "## We conduct the ANOVA or Kruskal-wallis test\n",
        "# ==============================================================================\n",
        "labels = ['MILP','LB1','LB2','LB3','LB4','KS']\n",
        "\n",
        "print('Analysis of variance summary ('+filter+')')\n",
        "print('Null hypothesis,Test,Significance,Decision')\n",
        "Ho = 'MILP LB1 LB2 LB3 LB4 KS'+': The mean for each population is equal.'\n",
        "\n",
        "if normal[2]==True and normal[3]==True and normal[4]==True and normal[5]==True and normal[6]==True and normal[7]==True:\n",
        "  test='ANOVA one way'\n",
        "  #print(stats.f_oneway(milp,lbc1,lbc2,lbc3,lbc4,ks))\n",
        "  if stats.f_oneway(milp,lbc1,lbc2,lbc3,lbc4,ks).pvalue > 0.05:\n",
        "      decision='We fail to reject the Ho; Ho accepted.'\n",
        "      print(Ho,test,',', round(stats.f_oneway(milp,lbc1,lbc2,lbc3,lbc4,ks).pvalue,4),',',decision)\n",
        "      # print('[All heuristics]:','\\tWe fail to reject the null hypothesis; Ho accepted:\\n\\tThe mean for each population is equal.')\n",
        "  else:\n",
        "      decision='We reject the Ho and accept Ha: at least one population mean is different from the rest.'\n",
        "      print(Ho,test,',', round(stats.f_oneway(milp,lbc1,lbc2,lbc3,lbc4,ks).pvalue,4),',',decision)\n",
        "      # print('[All heuristics]:','\\tWe reject the null hypothesis and accept alternative hypothesis Ha:\\n\\tAt least one population mean is different from the rest.')\n",
        "else:\n",
        "  test='Kruskal-wallis test'\n",
        "  #print(stats.kruskal(milp,lbc1,lbc2,lbc3,lbc4,ks))\n",
        "  if stats.kruskal(milp,lbc1,lbc2,lbc3,lbc4,ks).pvalue > 0.05:\n",
        "      decision='We fail to reject the Ho; Ho accepted.'\n",
        "      print(Ho,test,',', round(stats.kruskal(milp,lbc1,lbc2,lbc3,lbc4,ks).pvalue,4),',',decision)\n",
        "      # print('[All heuristics]:','\\tWe fail to reject the null hypothesis; Ho accepted:\\n\\tThe mean for each population is equal.')\n",
        "  else:\n",
        "      decision='We reject the Ho and accept Ha: at least one population mean is different from the rest.'\n",
        "      print(Ho,test,',', round(stats.kruskal(milp,lbc1,lbc2,lbc3,lbc4,ks).pvalue,4),',',decision)\n",
        "print('*  Significance level 0.05')\n",
        "print('** Significance level 0.01')\n",
        "print('\\n')\n",
        "## Output Interpretation:\n",
        "## Null Hypothesis: There is no significant difference between the given conditions of measurement OR the probability \n",
        "## distributions for all the conditions are the same. (Medians are same)\n",
        "## In this example, the test statistic is 13.3514 and the corresponding p-value is p = 0.00126. \n",
        "## Since this p-value is less than 0.05, we can reject the null hypothesis that the mean response time is the same for all three drugs.\n",
        "## In other words, we have sufficient evidence to conclude that the type of drug used leads to statistically significant differences in response time."
      ],
      "metadata": {
        "id": "jIDlKZerVPc8",
        "colab": {
          "base_uri": "https://localhost:8080/"
        },
        "outputId": "0cbd9560-1f81-49a7-880e-dd30f094cd66"
      },
      "execution_count": 22,
      "outputs": [
        {
          "output_type": "stream",
          "name": "stdout",
          "text": [
            "Analysis of variance summary (x7day_medium)\n",
            "Null hypothesis,Test,Significance,Decision\n",
            "MILP LB1 LB2 LB3 LB4 KS: The mean for each population is equal. Kruskal-wallis test , 0.0206 , We reject the Ho and accept Ha: at least one population mean is different from the rest.\n",
            "*  Significance level 0.05\n",
            "** Significance level 0.01\n",
            "\n",
            "\n"
          ]
        }
      ]
    },
    {
      "cell_type": "markdown",
      "source": [
        "## Post-Hoc analysis"
      ],
      "metadata": {
        "id": "KlYZGEgF4FQg"
      }
    },
    {
      "cell_type": "code",
      "source": [
        "## We applying the Post Hoc analysis with Mann-whitney U Test to know which pairs have a significant difference between them.\n",
        "## The Mann–Whitney U test is applied to independent samples.\n",
        "# ==============================================================================\n",
        "## We conduct the Mann-whitney U {“two-sided”, “greater”, “less”}, optional\n",
        "# ==============================================================================\n",
        "samples= [ milp,lbc1,lbc2,lbc3,lbc4,ks ]\n",
        "labels = ['MILP','LB1','LB2','LB3','LB4','KS']\n",
        "means  = []\n",
        "print('\\n RANKING ==============================================================================\\n')\n",
        "i = 0\n",
        "ordered_labels  = []\n",
        "ordered_samples = []\n",
        "for s in samples:\n",
        "  means.append((i,np.mean(s)))\n",
        "  i = i + 1\n",
        "means.sort(key=lambda tup: tup[1], reverse=False) ##reverse=False\n",
        "i = 0\n",
        "for m in means:  \n",
        "  ordered_samples.append(samples[m[0]])\n",
        "  ordered_labels.append(labels[m[0]])\n",
        "  i = i + 1\n",
        "  print(labels[m[0]],m[1])\n",
        "print('\\n Ha:less,alpha=0.05 ==============================================================================\\n')\n",
        "print('Means difference hypothesis test summary ('+filter+')')\n",
        "print('Null hypothesis,Test,Significance,Decision')\n",
        "for i in range(len(ordered_labels)):\n",
        "  for j in range(len(ordered_labels)):\n",
        "    if j > i:\n",
        "      means_test('less',(ordered_labels[i],ordered_labels[j]),(ordered_samples[i],ordered_samples[j]),alpha=0.05)\n",
        "print('\\n Ha:less,alpha=0.01 ==============================================================================\\n')\n",
        "for i in range(len(ordered_labels)):\n",
        "  for j in range(len(ordered_labels)):\n",
        "    if j > i:\n",
        "      means_test('less',(ordered_labels[i],ordered_labels[j]),(ordered_samples[i],ordered_samples[j]),alpha=0.01)"
      ],
      "metadata": {
        "id": "KA0g_tnl3-jf",
        "colab": {
          "base_uri": "https://localhost:8080/"
        },
        "outputId": "98e9f2f6-80ee-4e42-a5de-7cf582bb44bd"
      },
      "execution_count": 23,
      "outputs": [
        {
          "output_type": "stream",
          "name": "stdout",
          "text": [
            "\n",
            " RANKING ==============================================================================\n",
            "\n",
            "KS 0.0002975384615384615\n",
            "MILP 0.0003127601153846154\n",
            "LB1 0.0003359730769230769\n",
            "LB4 0.0003378153846153846\n",
            "LB2 0.00033919615384615386\n",
            "LB3 0.0003501730769230769\n",
            "\n",
            " Ha:less,alpha=0.05 ==============================================================================\n",
            "\n",
            "Means difference hypothesis test summary (x7day_medium)\n",
            "Null hypothesis,Test,Significance,Decision\n",
            "KS-MILP: The means difference of the samples from the same distribution. , Mann-whitney U , 0.3813 , We fail to reject the Ho; Ho accepted:\n",
            "KS-LB1: The means difference of the samples from the same distribution. , Mann-whitney U , 0.0165 , We reject the Ho and accept Ha: KS's mean is less than LB1's mean.\n",
            "KS-LB4: The means difference of the samples from the same distribution. , Mann-whitney U , 0.0125 , We reject the Ho and accept Ha: KS's mean is less than LB4's mean.\n",
            "KS-LB2: The means difference of the samples from the same distribution. , Mann-whitney U , 0.0131 , We reject the Ho and accept Ha: KS's mean is less than LB2's mean.\n",
            "KS-LB3: The means difference of the samples from the same distribution. , Mann-whitney U , 0.0012 , We reject the Ho and accept Ha: KS's mean is less than LB3's mean.\n",
            "MILP-LB1: The means difference of the samples from the same distribution. , Mann-whitney U , 0.061 , We fail to reject the Ho; Ho accepted:\n",
            "MILP-LB4: The means difference of the samples from the same distribution. , Mann-whitney U , 0.061 , We fail to reject the Ho; Ho accepted:\n",
            "MILP-LB2: The means difference of the samples from the same distribution. , Mann-whitney U , 0.0703 , We fail to reject the Ho; Ho accepted:\n",
            "MILP-LB3: The means difference of the samples from the same distribution. , Mann-whitney U , 0.0103 , We reject the Ho and accept Ha: MILP's mean is less than LB3's mean.\n",
            "LB1-LB4: The means difference of the samples from the same distribution. , Mann-whitney U , 0.4418 , We fail to reject the Ho; Ho accepted:\n",
            "LB1-LB2: The means difference of the samples from the same distribution. , Mann-whitney U , 0.5219 , We fail to reject the Ho; Ho accepted:\n",
            "LB1-LB3: The means difference of the samples from the same distribution. , Mann-whitney U , 0.1463 , We fail to reject the Ho; Ho accepted:\n",
            "LB4-LB2: The means difference of the samples from the same distribution. , Mann-whitney U , 0.551 , We fail to reject the Ho; Ho accepted:\n",
            "LB4-LB3: The means difference of the samples from the same distribution. , T-test for two samples , 0.2583 , We fail to reject the Ho; Ho accepted:\n",
            "LB2-LB3: The means difference of the samples from the same distribution. , Mann-whitney U , 0.1638 , We fail to reject the Ho; Ho accepted:\n",
            "\n",
            " Ha:less,alpha=0.01 ==============================================================================\n",
            "\n",
            "KS-MILP: The means difference of the samples from the same distribution. , Mann-whitney U , 0.3813 , We fail to reject the Ho; Ho accepted:\n",
            "KS-LB1: The means difference of the samples from the same distribution. , Mann-whitney U , 0.0165 , We fail to reject the Ho; Ho accepted:\n",
            "KS-LB4: The means difference of the samples from the same distribution. , Mann-whitney U , 0.0125 , We fail to reject the Ho; Ho accepted:\n",
            "KS-LB2: The means difference of the samples from the same distribution. , Mann-whitney U , 0.0131 , We fail to reject the Ho; Ho accepted:\n",
            "KS-LB3: The means difference of the samples from the same distribution. , Mann-whitney U , 0.0012 , We reject the Ho and accept Ha: KS's mean is less than LB3's mean.\n",
            "MILP-LB1: The means difference of the samples from the same distribution. , T-test for two samples , 0.1563 , We fail to reject the Ho; Ho accepted:\n",
            "MILP-LB4: The means difference of the samples from the same distribution. , T-test for two samples , 0.1336 , We fail to reject the Ho; Ho accepted:\n",
            "MILP-LB2: The means difference of the samples from the same distribution. , T-test for two samples , 0.131 , We fail to reject the Ho; Ho accepted:\n",
            "MILP-LB3: The means difference of the samples from the same distribution. , T-test for two samples , 0.046 , We fail to reject the Ho; Ho accepted:\n",
            "LB1-LB4: The means difference of the samples from the same distribution. , T-test for two samples , 0.4635 , We fail to reject the Ho; Ho accepted:\n",
            "LB1-LB2: The means difference of the samples from the same distribution. , T-test for two samples , 0.4396 , We fail to reject the Ho; Ho accepted:\n",
            "LB1-LB3: The means difference of the samples from the same distribution. , T-test for two samples , 0.2339 , We fail to reject the Ho; Ho accepted:\n",
            "LB4-LB2: The means difference of the samples from the same distribution. , T-test for two samples , 0.4735 , We fail to reject the Ho; Ho accepted:\n",
            "LB4-LB3: The means difference of the samples from the same distribution. , T-test for two samples , 0.2583 , We fail to reject the Ho; Ho accepted:\n",
            "LB2-LB3: The means difference of the samples from the same distribution. , T-test for two samples , 0.2933 , We fail to reject the Ho; Ho accepted:\n"
          ]
        }
      ]
    },
    {
      "cell_type": "markdown",
      "source": [
        "## Descartes"
      ],
      "metadata": {
        "id": "-bObL_YW-7P9"
      }
    },
    {
      "cell_type": "code",
      "source": [
        "# Conduct the Kruskal-Wallis Test\n",
        "result = stats.kruskal(milp,lbc1,lbc2,lbc3,lbc4,ks)\n",
        "\n",
        "# Print the result\n",
        "print(result)\n",
        "#Kruskal-Wallis test discussion:  In this example, the test statistic comes out to be equal to 87 and the corresponding p-value is 2.1856E-17. \n",
        "#(As the p-value is not less than 0.05, we cannot reject the null hypothesis that the median of optimality gap is the same for all groups. Hence, We don’t have sufficient proof to claim that the different types of methods used to lead to statistically significant differences in the acuracy of methods.)\n",
        "#(As the p-value is less than 0.05, we reject the null hypothesis that the median of optimality gap is the same for all groups. Hence, We don’t have sufficient proof to reject that the different types of methods used to lead to statistically significant differences in the acuracy of methods.)"
      ],
      "metadata": {
        "id": "adpMXMMSGO-t",
        "colab": {
          "base_uri": "https://localhost:8080/"
        },
        "outputId": "7bd1ce29-c8ce-41be-90a8-2e26a37d3b55"
      },
      "execution_count": 24,
      "outputs": [
        {
          "output_type": "stream",
          "name": "stdout",
          "text": [
            "KruskalResult(statistic=13.311351875320925, pvalue=0.020629371392739376)\n"
          ]
        }
      ]
    },
    {
      "cell_type": "code",
      "source": [
        "## https://www.geeksforgeeks.org/data-visualization-with-python-seaborn/\n",
        "if False:\n",
        "  nor  = np.random.normal(size=100) \n",
        "  nor  = nor + 5\n",
        "  ale  = np.random.uniform(size=100) \n",
        "  nor1 = np.random.normal(size=100) \n",
        "  nor1  = nor1 + 5\n",
        "  ale1 = np.random.uniform(size=100)\n",
        "  ale1  = ale1 + 5\n",
        "  nor2 = np.random.normal(size=100)\n",
        "  nor2  = nor2 + 5\n",
        "  ale2 = np.random.uniform(size=100)  #'N','A','N1','A1','N2','A2',,nor,ale,nor1,ale1,nor2,ale2\n",
        "  ale2  = ale2 + 5\n",
        "  fig, ax = plt.subplots(figsize=(8, 6))\n",
        "  method1 = ['nor' ]*(len(nor))\n",
        "  method2 = ['ale' ]*(len(ale))\n",
        "  method3 = ['nor1']*(len(nor1))\n",
        "  method4 = ['ale1']*(len(ale1))\n",
        "  method5 = ['nor2']*(len(nor2))\n",
        "  method6 = ['ale2']*(len(ale2))\n",
        "  method  = method1 + method2 + method3 + method4 + method5 + method6\n",
        "  data    = np.concatenate((nor,ale,nor1,ale1,nor2,ale2), axis=0)\n",
        "  # initialise data of lists.\n",
        "  data = {'gap'       :data,\n",
        "          'method'  :method}  \n",
        "  df1 = pd.DataFrame( data )\n",
        "  sns.histplot(df1, x=\"gap\", hue=\"method\", element=\"step\") #,bins=15\n",
        "\n",
        "  print('Mann-whitney U test NOR-ALE')\n",
        "  if stats.mannwhitneyu(ale, nor, alternative='less').pvalue > 0.05:\n",
        "      print('[ale,nor]\\t:','We fail to reject the null hypothesis; Ho accepted: The median difference between the pairs follows a symmetric distribution around zero.')\n",
        "  else:\n",
        "      print('[ale,nor]\\t:','We reject the null hypothesis and accept Ha: The median difference is positive α=0.05. Ale\\'s mean is lower than Nor\\'s mean.')\n",
        "\n",
        "  print('kruskal-wallis test nor,ale1,nor1,ale2,nor2') ## ale,\n",
        "  if stats.kruskal(ale,nor,nor1,nor2).pvalue > 0.05:\n",
        "      print('[All heuristics]\\t:','We fail to reject the null hypothesis; Ho accepted: The mean for each population is equal.')\n",
        "  else:\n",
        "      print('[All heuristics]\\t:','We reject the null hypothesis and accept Ha: At least one population mean is different from the rest: α=0.05.')\n"
      ],
      "metadata": {
        "id": "3114uAwrclTI"
      },
      "execution_count": 25,
      "outputs": []
    },
    {
      "cell_type": "markdown",
      "source": [
        "### Wilcoxon test\n",
        "https://www.geeksforgeeks.org/how-to-conduct-a-wilcoxon-signed-rank-test-in-python/\n",
        "\n",
        "https://pythonfordatascienceorg.wordpress.com/wilcoxon-sign-ranked-test-python/\n",
        "\n",
        "https://www.cienciadedatos.net/documentos/18_prueba_de_los_rangos_con_signo_de_wilcoxon\n",
        "\n",
        "Comparaxion medias\n",
        "\n",
        "https://www.cienciadedatos.net/documentos/pystats11-wilcoxon-mann-whitney-u-test-python\n",
        "\n",
        "https://www.cienciadedatos.net/documentos/pystats10-t-test-python.html\n",
        "\n",
        "https://www.cienciadedatos.net/documentos/pystats09-analisis-de-varianza-anova-python.html\n",
        "\n",
        "https://www.cienciadedatos.net/documentos/15_inferencia_para_proporciones"
      ],
      "metadata": {
        "id": "CjAQWTIsAtHA"
      }
    }
  ]
}