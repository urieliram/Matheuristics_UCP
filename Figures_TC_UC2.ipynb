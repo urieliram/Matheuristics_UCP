{
  "nbformat": 4,
  "nbformat_minor": 0,
  "metadata": {
    "colab": {
      "provenance": [],
      "authorship_tag": "ABX9TyP8H5O+KLfJ+onn2oOGdUJb",
      "include_colab_link": true
    },
    "kernelspec": {
      "name": "python3",
      "display_name": "Python 3"
    },
    "language_info": {
      "name": "python"
    }
  },
  "cells": [
    {
      "cell_type": "markdown",
      "metadata": {
        "id": "view-in-github",
        "colab_type": "text"
      },
      "source": [
        "<a href=\"https://colab.research.google.com/github/urieliram/tc_uc/blob/main/Figures_TC_UC2.ipynb\" target=\"_parent\"><img src=\"https://colab.research.google.com/assets/colab-badge.svg\" alt=\"Open In Colab\"/></a>"
      ]
    },
    {
      "cell_type": "markdown",
      "source": [
        "## Paquetes"
      ],
      "metadata": {
        "id": "6G9_Mw2F4fHR"
      }
    },
    {
      "cell_type": "code",
      "execution_count": 1,
      "metadata": {
        "id": "grzyvyw38-UX"
      },
      "outputs": [],
      "source": [
        "# load packages\n",
        "import matplotlib as mpl\n",
        "import matplotlib.pyplot as plt\n",
        "import numpy as np\n",
        "import pandas as pd\n",
        "from os import listdir\n",
        "from os.path import isfile, join\n",
        "import re\n",
        "from matplotlib.ticker import (MultipleLocator, AutoMinorLocator)\n",
        "\n",
        "# Gráficos\n",
        "# ==============================================================================\n",
        "from matplotlib import style\n",
        "import seaborn as sns\n",
        "cm = 1/2.54\n",
        "\n",
        "# Modelado y test estadísticos\n",
        "# ============================================================================\n",
        "from statsmodels.distributions.empirical_distribution import ECDF\n",
        "from scipy.stats import ks_2samp\n",
        "from scipy import stats\n",
        "from scipy.stats import shapiro\n",
        "import scipy.stats as stats\n",
        "\n",
        "# Configuración matplotlib\n",
        "# ==============================================================================\n",
        "# Gráficos distribución observada \n",
        "# ============================================================================\n",
        "import matplotlib.pyplot as plt\n",
        "%matplotlib inline\n",
        "# plt.style.use('fivethirtyeight')\n",
        "import seaborn as sns\n",
        "# plt.style.use('ggplot')"
      ]
    },
    {
      "cell_type": "markdown",
      "source": [
        "# GRÁFICOS DE CONVERGENCIA milp, milp2, hard3, harjk lbc, ks, \n"
      ],
      "metadata": {
        "id": "MdVaYxkv5LNX"
      }
    },
    {
      "cell_type": "markdown",
      "source": [
        "## Lectura de archivos log"
      ],
      "metadata": {
        "id": "rJMRbTfUqPRw"
      }
    },
    {
      "cell_type": "code",
      "source": [
        "## Lectura de datos\n",
        "from google.colab import files\n",
        "\n",
        "uploaded = files.upload()\n",
        "\n",
        "for fn in uploaded.keys():\n",
        "  print('User uploaded file \"{name}\" with length {length} bytes'.format(\n",
        "      name=fn, length=len(uploaded[fn])))"
      ],
      "metadata": {
        "id": "_VBW1elDnJTD",
        "outputId": "e920a930-ea64-4d24-cbd2-54bb7e717cf1",
        "colab": {
          "base_uri": "https://localhost:8080/",
          "height": 90
        }
      },
      "execution_count": 2,
      "outputs": [
        {
          "output_type": "display_data",
          "data": {
            "text/plain": [
              "<IPython.core.display.HTML object>"
            ],
            "text/html": [
              "\n",
              "     <input type=\"file\" id=\"files-0e5d1167-8469-4504-8417-2c137c409522\" name=\"files[]\" multiple disabled\n",
              "        style=\"border:none\" />\n",
              "     <output id=\"result-0e5d1167-8469-4504-8417-2c137c409522\">\n",
              "      Upload widget is only available when the cell has been executed in the\n",
              "      current browser session. Please rerun this cell to enable.\n",
              "      </output>\n",
              "      <script>// Copyright 2017 Google LLC\n",
              "//\n",
              "// Licensed under the Apache License, Version 2.0 (the \"License\");\n",
              "// you may not use this file except in compliance with the License.\n",
              "// You may obtain a copy of the License at\n",
              "//\n",
              "//      http://www.apache.org/licenses/LICENSE-2.0\n",
              "//\n",
              "// Unless required by applicable law or agreed to in writing, software\n",
              "// distributed under the License is distributed on an \"AS IS\" BASIS,\n",
              "// WITHOUT WARRANTIES OR CONDITIONS OF ANY KIND, either express or implied.\n",
              "// See the License for the specific language governing permissions and\n",
              "// limitations under the License.\n",
              "\n",
              "/**\n",
              " * @fileoverview Helpers for google.colab Python module.\n",
              " */\n",
              "(function(scope) {\n",
              "function span(text, styleAttributes = {}) {\n",
              "  const element = document.createElement('span');\n",
              "  element.textContent = text;\n",
              "  for (const key of Object.keys(styleAttributes)) {\n",
              "    element.style[key] = styleAttributes[key];\n",
              "  }\n",
              "  return element;\n",
              "}\n",
              "\n",
              "// Max number of bytes which will be uploaded at a time.\n",
              "const MAX_PAYLOAD_SIZE = 100 * 1024;\n",
              "\n",
              "function _uploadFiles(inputId, outputId) {\n",
              "  const steps = uploadFilesStep(inputId, outputId);\n",
              "  const outputElement = document.getElementById(outputId);\n",
              "  // Cache steps on the outputElement to make it available for the next call\n",
              "  // to uploadFilesContinue from Python.\n",
              "  outputElement.steps = steps;\n",
              "\n",
              "  return _uploadFilesContinue(outputId);\n",
              "}\n",
              "\n",
              "// This is roughly an async generator (not supported in the browser yet),\n",
              "// where there are multiple asynchronous steps and the Python side is going\n",
              "// to poll for completion of each step.\n",
              "// This uses a Promise to block the python side on completion of each step,\n",
              "// then passes the result of the previous step as the input to the next step.\n",
              "function _uploadFilesContinue(outputId) {\n",
              "  const outputElement = document.getElementById(outputId);\n",
              "  const steps = outputElement.steps;\n",
              "\n",
              "  const next = steps.next(outputElement.lastPromiseValue);\n",
              "  return Promise.resolve(next.value.promise).then((value) => {\n",
              "    // Cache the last promise value to make it available to the next\n",
              "    // step of the generator.\n",
              "    outputElement.lastPromiseValue = value;\n",
              "    return next.value.response;\n",
              "  });\n",
              "}\n",
              "\n",
              "/**\n",
              " * Generator function which is called between each async step of the upload\n",
              " * process.\n",
              " * @param {string} inputId Element ID of the input file picker element.\n",
              " * @param {string} outputId Element ID of the output display.\n",
              " * @return {!Iterable<!Object>} Iterable of next steps.\n",
              " */\n",
              "function* uploadFilesStep(inputId, outputId) {\n",
              "  const inputElement = document.getElementById(inputId);\n",
              "  inputElement.disabled = false;\n",
              "\n",
              "  const outputElement = document.getElementById(outputId);\n",
              "  outputElement.innerHTML = '';\n",
              "\n",
              "  const pickedPromise = new Promise((resolve) => {\n",
              "    inputElement.addEventListener('change', (e) => {\n",
              "      resolve(e.target.files);\n",
              "    });\n",
              "  });\n",
              "\n",
              "  const cancel = document.createElement('button');\n",
              "  inputElement.parentElement.appendChild(cancel);\n",
              "  cancel.textContent = 'Cancel upload';\n",
              "  const cancelPromise = new Promise((resolve) => {\n",
              "    cancel.onclick = () => {\n",
              "      resolve(null);\n",
              "    };\n",
              "  });\n",
              "\n",
              "  // Wait for the user to pick the files.\n",
              "  const files = yield {\n",
              "    promise: Promise.race([pickedPromise, cancelPromise]),\n",
              "    response: {\n",
              "      action: 'starting',\n",
              "    }\n",
              "  };\n",
              "\n",
              "  cancel.remove();\n",
              "\n",
              "  // Disable the input element since further picks are not allowed.\n",
              "  inputElement.disabled = true;\n",
              "\n",
              "  if (!files) {\n",
              "    return {\n",
              "      response: {\n",
              "        action: 'complete',\n",
              "      }\n",
              "    };\n",
              "  }\n",
              "\n",
              "  for (const file of files) {\n",
              "    const li = document.createElement('li');\n",
              "    li.append(span(file.name, {fontWeight: 'bold'}));\n",
              "    li.append(span(\n",
              "        `(${file.type || 'n/a'}) - ${file.size} bytes, ` +\n",
              "        `last modified: ${\n",
              "            file.lastModifiedDate ? file.lastModifiedDate.toLocaleDateString() :\n",
              "                                    'n/a'} - `));\n",
              "    const percent = span('0% done');\n",
              "    li.appendChild(percent);\n",
              "\n",
              "    outputElement.appendChild(li);\n",
              "\n",
              "    const fileDataPromise = new Promise((resolve) => {\n",
              "      const reader = new FileReader();\n",
              "      reader.onload = (e) => {\n",
              "        resolve(e.target.result);\n",
              "      };\n",
              "      reader.readAsArrayBuffer(file);\n",
              "    });\n",
              "    // Wait for the data to be ready.\n",
              "    let fileData = yield {\n",
              "      promise: fileDataPromise,\n",
              "      response: {\n",
              "        action: 'continue',\n",
              "      }\n",
              "    };\n",
              "\n",
              "    // Use a chunked sending to avoid message size limits. See b/62115660.\n",
              "    let position = 0;\n",
              "    do {\n",
              "      const length = Math.min(fileData.byteLength - position, MAX_PAYLOAD_SIZE);\n",
              "      const chunk = new Uint8Array(fileData, position, length);\n",
              "      position += length;\n",
              "\n",
              "      const base64 = btoa(String.fromCharCode.apply(null, chunk));\n",
              "      yield {\n",
              "        response: {\n",
              "          action: 'append',\n",
              "          file: file.name,\n",
              "          data: base64,\n",
              "        },\n",
              "      };\n",
              "\n",
              "      let percentDone = fileData.byteLength === 0 ?\n",
              "          100 :\n",
              "          Math.round((position / fileData.byteLength) * 100);\n",
              "      percent.textContent = `${percentDone}% done`;\n",
              "\n",
              "    } while (position < fileData.byteLength);\n",
              "  }\n",
              "\n",
              "  // All done.\n",
              "  yield {\n",
              "    response: {\n",
              "      action: 'complete',\n",
              "    }\n",
              "  };\n",
              "}\n",
              "\n",
              "scope.google = scope.google || {};\n",
              "scope.google.colab = scope.google.colab || {};\n",
              "scope.google.colab._files = {\n",
              "  _uploadFiles,\n",
              "  _uploadFilesContinue,\n",
              "};\n",
              "})(self);\n",
              "</script> "
            ]
          },
          "metadata": {}
        },
        {
          "output_type": "stream",
          "name": "stdout",
          "text": [
            "Saving Log1.zip to Log1.zip\n",
            "User uploaded file \"Log1.zip\" with length 844893 bytes\n"
          ]
        }
      ]
    },
    {
      "cell_type": "code",
      "source": [
        "!unzip \"Log1.zip\" -d \"/content\"\n",
        "# ó\n",
        "# !pip install unrar\n",
        "# !unrar x \"/content/Logs1.rar\""
      ],
      "metadata": {
        "id": "WLmdjGzdp6ej",
        "colab": {
          "base_uri": "https://localhost:8080/"
        },
        "outputId": "0cd498af-ead2-4d48-c842-919cacc0a516"
      },
      "execution_count": 3,
      "outputs": [
        {
          "output_type": "stream",
          "name": "stdout",
          "text": [
            "Archive:  Log1.zip\n",
            "  inflating: /content/Log_071.log    \n",
            "  inflating: /content/Log_072.log    \n",
            "  inflating: /content/logfileMilp2uc_072.log  \n",
            "  inflating: /content/logfileMilp2uc_071.log  \n",
            "  inflating: /content/logfileMilp2uc_065.log  \n",
            "  inflating: /content/logfileMilp2uc_064.log  \n",
            "  inflating: /content/logfileMilp2uc_063.log  \n",
            "  inflating: /content/logfileMilp2uc_061.log  \n",
            "  inflating: /content/Log_065.log    \n",
            "  inflating: /content/Log_064.log    \n",
            "  inflating: /content/Log_063.log    \n",
            "  inflating: /content/Log_074.log    \n",
            "  inflating: /content/logfileMilp2uc_074.log  \n",
            "  inflating: /content/Log_061.log    \n",
            "  inflating: /content/logfileMilp2uc_073.log  \n",
            "  inflating: /content/Log_073.log    \n",
            "  inflating: /content/Log_066.log    \n",
            "  inflating: /content/logfileMilp2uc_066.log  \n",
            "  inflating: /content/Log_075.log    \n",
            "  inflating: /content/logfileMilp2uc_075.log  \n",
            "  inflating: /content/logfileMilp2uc_067.log  \n",
            "  inflating: /content/Log_067.log    \n",
            "  inflating: /content/Log_076.log    \n",
            "  inflating: /content/logfileMilp2uc_076.log  \n",
            "  inflating: /content/logfileMilp2uc_068.log  \n",
            "  inflating: /content/Log_068.log    \n",
            "  inflating: /content/Logs.txt       \n",
            "  inflating: /content/Log_077.log    \n",
            "  inflating: /content/logfileMilp2uc_077.log  \n",
            "  inflating: /content/logfileMilp2uc_069.log  \n",
            "  inflating: /content/Log_069.log    \n",
            "  inflating: /content/logfileMilp2uc_078.log  \n",
            "  inflating: /content/Log_078.log    \n",
            "  inflating: /content/Log_079.log    \n",
            "  inflating: /content/Log_070.log    \n",
            "  inflating: /content/logfileMilp2uc_070.log  \n",
            "  inflating: /content/logfileMilp2uc_079.log  \n",
            "  inflating: /content/Log_132.log    \n",
            "  inflating: /content/logfileMilp2uc_132.log  \n",
            "  inflating: /content/logfileMilp2uc_083.log  \n",
            "  inflating: /content/Log_083.log    \n",
            "  inflating: /content/logfileMilp2uc_080.log  \n",
            "  inflating: /content/Log_080.log    \n",
            "  inflating: /content/logfileMilp2uc_084.log  \n",
            "  inflating: /content/Log_084.log    \n",
            "  inflating: /content/logfileMilp2uc_091.log  \n",
            "  inflating: /content/Log_091.log    \n",
            "  inflating: /content/logfileMilp2uc_141.log  \n",
            "  inflating: /content/Log_141.log    \n",
            "  inflating: /content/Log_142.log    \n",
            "  inflating: /content/logfileMilp2uc_142.log  \n",
            "  inflating: /content/logfileMilp2uc_092.log  \n",
            "  inflating: /content/Log_092.log    \n",
            "  inflating: /content/Log_143.log    \n",
            "  inflating: /content/logfileMilp2uc_143.log  \n",
            "  inflating: /content/logfileMilp2uc_093.log  \n",
            "  inflating: /content/Log_093.log    \n",
            "  inflating: /content/Log_144.log    \n",
            "  inflating: /content/logfileMilp2uc_144.log  \n",
            "  inflating: /content/Log_094.log    \n",
            "  inflating: /content/logfileMilp2uc_094.log  \n",
            "  inflating: /content/logfileMilp2uc_145.log  \n",
            "  inflating: /content/Log_145.log    \n",
            "  inflating: /content/logfileMilp2uc_095.log  \n",
            "  inflating: /content/Log_095.log    \n",
            "  inflating: /content/Log_146.log    \n",
            "  inflating: /content/logfileMilp2uc_146.log  \n",
            "  inflating: /content/logfileMilp2uc_096.log  \n",
            "  inflating: /content/Log_096.log    \n",
            "  inflating: /content/logfileMilp2uc_147.log  \n",
            "  inflating: /content/Log_147.log    \n",
            "  inflating: /content/logfileMilp2uc_097.log  \n",
            "  inflating: /content/Log_097.log    \n",
            "  inflating: /content/logfileMilp2uc_098.log  \n",
            "  inflating: /content/Log_098.log    \n",
            "  inflating: /content/logfileMilp2uc_148.log  \n",
            "  inflating: /content/Log_148.log    \n",
            "  inflating: /content/logfileMilp2uc_149.log  \n",
            "  inflating: /content/Log_149.log    \n",
            "  inflating: /content/Log_099.log    \n",
            "  inflating: /content/logfileMilp2uc_099.log  \n",
            "  inflating: /content/logfileMilp2uc_100.log  \n",
            "  inflating: /content/Log_100.log    \n",
            "  inflating: /content/logfileMilp2uc_150.log  \n",
            "  inflating: /content/Log_150.log    \n",
            "  inflating: /content/logfileMilp2uc_085.log  \n",
            "  inflating: /content/Log_085.log    \n",
            "  inflating: /content/logfileMilp2uc_086.log  \n",
            "  inflating: /content/Log_086.log    \n",
            "  inflating: /content/logfileMilp2uc_151.log  \n",
            "  inflating: /content/Log_151.log    \n",
            "  inflating: /content/Log_087.log    \n",
            "  inflating: /content/logfileMilp2uc_087.log  \n",
            "  inflating: /content/logfileMilp2uc_088.log  \n",
            "  inflating: /content/Log_088.log    \n",
            "  inflating: /content/logfileMilp2uc_152.log  \n",
            "  inflating: /content/Log_152.log    \n",
            "  inflating: /content/logfileMilp2uc_090.log  \n",
            "  inflating: /content/Log_090.log    \n",
            "  inflating: /content/logfileMilp2uc_133.log  \n",
            "  inflating: /content/Log_133.log    \n",
            "  inflating: /content/logfileMilp2uc_089.log  \n",
            "  inflating: /content/Log_089.log    \n",
            "  inflating: /content/logfileMilp2uc_135.log  \n",
            "  inflating: /content/Log_135.log    \n",
            "  inflating: /content/logfileMilp2uc_082.log  \n",
            "  inflating: /content/Log_082.log    \n",
            "  inflating: /content/Log_136.log    \n",
            "  inflating: /content/logfileMilp2uc_136.log  \n",
            "  inflating: /content/Log_081.log    \n",
            "  inflating: /content/logfileMilp2uc_081.log  \n",
            "  inflating: /content/Log_140.log    \n",
            "  inflating: /content/logfileMilp2uc_140.log  \n",
            "  inflating: /content/Log_139.log    \n",
            "  inflating: /content/logfileMilp2uc_139.log  \n",
            "  inflating: /content/Log_138.log    \n",
            "  inflating: /content/logfileMilp2uc_138.log  \n",
            "  inflating: /content/Log_137.log    \n",
            "  inflating: /content/logfileMilp2uc_137.log  \n",
            "  inflating: /content/logfileMilp2uc_062.log  \n",
            "  inflating: /content/Log_062.log    \n",
            "  inflating: /content/Log_134.log    \n",
            "  inflating: /content/logfileMilp2uc_134.log  \n",
            "  inflating: /content/Log_120.log    \n",
            "  inflating: /content/logfileMilp2uc_120.log  \n",
            "  inflating: /content/Log_121.log    \n",
            "  inflating: /content/logfileMilp2uc_121.log  \n",
            "  inflating: /content/logfileMilp2uc_022.log  \n",
            "  inflating: /content/Log_022.log    \n",
            "  inflating: /content/logfileMilp2uc_023.log  \n",
            "  inflating: /content/Log_023.log    \n",
            "  inflating: /content/logfileMilp2uc_024.log  \n",
            "  inflating: /content/Log_024.log    \n",
            "  inflating: /content/logfileMilp2uc_101.log  \n",
            "  inflating: /content/Log_101.log    \n",
            "  inflating: /content/logfileMilp2uc_021.log  \n",
            "  inflating: /content/Log_021.log    \n",
            "  inflating: /content/Log_102.log    \n",
            "  inflating: /content/logfileMilp2uc_102.log  \n",
            "  inflating: /content/Log_103.log    \n",
            "  inflating: /content/logfileMilp2uc_103.log  \n",
            "  inflating: /content/Log_104.log    \n",
            "  inflating: /content/logfileMilp2uc_104.log  \n",
            "  inflating: /content/logfileMilpuc_021.log  \n",
            "  inflating: /content/Log_105.log    \n",
            "  inflating: /content/logfileMilp2uc_105.log  \n",
            "  inflating: /content/logfileMilpuc_022.log  \n",
            "  inflating: /content/logfileMilpuc_024.log  \n",
            "  inflating: /content/logfileMilp2uc_106.log  \n",
            "  inflating: /content/Log_106.log    \n"
          ]
        }
      ]
    },
    {
      "cell_type": "markdown",
      "source": [
        "## Lectura de archivo de resultados stat.xls"
      ],
      "metadata": {
        "id": "OlTVywqOCDV8"
      }
    },
    {
      "cell_type": "code",
      "source": [
        "#https://drive.google.com/drive/folders/1Gj3XK9kM-lE18uBMe3qrZOGEm8yAI8i9\n",
        "#https://www.codegrepper.com/code-examples/python/how+to+read+csv+file+from+google+drive+on+google+colab+\n",
        "path = 'https://drive.google.com/uc?export=download&id=' \n",
        "# URL  = 'https://drive.google.com/file/d/1ySF5y3FdEZrEAu1jZ_P1PdBJSk64TQvt/view?usp=share_link'\n",
        "# df   = pd.read_csv(path+URL.split('/')[-2],header=0)\n",
        "URL        = 'https://docs.google.com/spreadsheets/d/12byid7r6dwnpYgbWWrvWrYQtlFfsPhI6Meq9tcF-DBU/edit?usp=sharing'\n",
        "sheet_id   = '12byid7r6dwnpYgbWWrvWrYQtlFfsPhI6Meq9tcF-DBU'\n",
        "sheet_name = 'stat1'\n",
        "url = f'https://docs.google.com/spreadsheets/d/{sheet_id}/gviz/tq?tqx=out:csv&sheet={sheet_name}'\n",
        "df   = pd.read_csv(url,header=0)\n",
        "# df.dropna(inplace=True)\n",
        "## x10gen_small 081-090\n",
        "## x10gen_large 091-100\n",
        "## x7day_small  061-070\n",
        "## x7day_large  071-080 , 131-152\n",
        "## x7day_medium 101-131\n",
        "\n",
        "filter = 'ferc168' ## x10gen_small, x10gen_large ,x7day_small, x7day_large, \n",
        "df = df[(df['groupx'] == filter)]\n",
        "\n",
        "!mkdir Figures\n",
        "dir = '/content/Figures/'"
      ],
      "metadata": {
        "id": "VPYCprJlrHYa"
      },
      "execution_count": 4,
      "outputs": []
    },
    {
      "cell_type": "code",
      "source": [
        "list=[]\n",
        "nameins   = df.nameins\n",
        "for i in nameins:\n",
        "  list.append('Log_'+i.replace('.json', '').replace('uc_', ''))\n",
        "list"
      ],
      "metadata": {
        "colab": {
          "base_uri": "https://localhost:8080/"
        },
        "id": "1KIbQZubFWTL",
        "outputId": "80e3b30c-670a-4dfe-c1f0-7030088dbcdf"
      },
      "execution_count": 5,
      "outputs": [
        {
          "output_type": "execute_result",
          "data": {
            "text/plain": [
              "['Log_021', 'Log_022', 'Log_024']"
            ]
          },
          "metadata": {},
          "execution_count": 5
        }
      ]
    },
    {
      "cell_type": "markdown",
      "source": [
        "## Extrae información de los logs y construye gráficas"
      ],
      "metadata": {
        "id": "m7bbxKz9qYKi"
      }
    },
    {
      "cell_type": "code",
      "source": [
        "class ExtractCPLEX:\n",
        "\n",
        "  def findPos(self,file,spected, starter = \"Node  Left\"):\n",
        "    file = open(file,\"r\")\n",
        "    for i,j in enumerate(file):\n",
        "      if starter in j:\n",
        "        return [(j.index(k)+len(k)-1) for k in spected]\n",
        "  \n",
        "  def getFilelog(self,f):\n",
        "    with open(f, 'r') as file:\n",
        "      data = file.read().replace('\\n', '')\n",
        "    tmp = []\n",
        "    for i in re.findall(r\"\\w*Logfile\\s*\\'*[a-zA-z.+]*\\'\",data):\n",
        "      tmp.append(i.replace(\"'\",\"\").split(\" \")[1])\n",
        "    return tmp\n",
        "\n",
        "  def createTables(self,fn):\n",
        "    table_start = False\n",
        "    spected = ['Node', 'Left', 'Objective', 'IInf', 'Integer', 'Bound', 'ItCnt', 'Gap']\n",
        "    expectedPositions = self.findPos(fn,spected)\n",
        "    tables = {\"seconds\":[],\"ticks\":[],\"solution\":[],\"Node\":[],\"Left\":[],\"Objective\":[],\"IInf\":[],\"Integer\":[],\"Bound\":[],\"ItCnt\":[],\"Gap\":[],\"cuts\":[]}\n",
        "    time = None\n",
        "    ticks = None\n",
        "    cuts = None\n",
        "    f = open(fn,\"r\")    \n",
        "    for i in f:\n",
        "      if re.findall(r\"\\d{1,}[+]{1}\\d{1,}\",i):\n",
        "        i = \" \".join(i.split(\"+\"))\n",
        "      if(\"Cover cuts applied\" in i or \"Performing restart 1\" in i):\n",
        "        table_start = False\n",
        "      if(\"Elapsed time\" in i):\n",
        "          tmp = [float(k) for k in re.findall('-?\\ *[0-9]+\\.?[0-9]*(?:[Ee]\\ *[-+]?\\ *[0-9]+)?',i)]\n",
        "          time = tmp[0]\n",
        "          ticks = tmp[1]\n",
        "      if(table_start):        \n",
        "        if((str(i)[0] == \" \" or str(i)[0] == \"*\") and str(i)[expectedPositions[0]].isdigit()):\n",
        "          i = i.replace(\"uts: \",\" uts:\")\n",
        "          tables[\"seconds\"].append(time)\n",
        "          tables[\"ticks\"].append(ticks)\n",
        "          tables[\"solution\"].append(1 if i[0]==\"*\" else 0)\n",
        "          tables[\"cuts\"].append(None)\n",
        "          for j,m in zip(expectedPositions,spected):\n",
        "            if i[j] != \" \":\n",
        "              tmp = \"\"\n",
        "              for k in range(j,0,-1):\n",
        "                if i[k] != \" \":\n",
        "                  tmp += i[k]\n",
        "                else: \n",
        "                  break \n",
        "              tmp = tmp[::-1]\n",
        "              if(\"ut\" in tmp.lower() or \"infeasible\" in tmp.lower() or \"integral\" in tmp.lower()):\n",
        "                if(\"uts\" in tmp.lower()):\n",
        "                  tables[\"cuts\"][-1] = int(tmp.split(\":\")[1])\n",
        "                tables[m].append(tables[m][-1])\n",
        "              else:\n",
        "                if m == \"Gap\":\n",
        "                  tables[m].append(float(tmp)/100)\n",
        "                else: \n",
        "                  tables[m].append(float(tmp))\n",
        "            else:\n",
        "              tables[m].append(None)\n",
        "      if(\"Node  Left\"):\n",
        "        table_start = True\n",
        "    return tables\n",
        "\n",
        "  def extract(self,fn):\n",
        "    variables = {\"mipPresolveEliminated\":[],\"mipPresolveModified\":[],\"aggregatorDid\":[],\"reducedMipHasColumns\":[],\"reducedMipHasNonZero\":[],\"reducedMipHasBinaries\":[],\"reducedMipHasGeneral\":[],\"cliqueTableMembers\":[],\"rootRelaxSolSeconds\":[],\"rootRelaxSolTicks\":[]}\n",
        "    variables[\"logFile\"] = self.getFilelog(fn)\n",
        "    tables = self.createTables(fn)\n",
        "    f = open(fn, \"r\")    \n",
        "    for i in f:\n",
        "      if(\"linear optimization\" in i):\n",
        "        variables[\"linearOpt\"] = float(i.replace(\" \",\"\").replace(\"\\n\",\"\").split(\":\")[1])\n",
        "      if(\"optimality gap tolerance\" in i):\n",
        "        variables[\"gapTol\"] = float(i.replace(\" \",\"\").replace(\"\\n\",\"\").split(\":\")[1])\n",
        "      if(\"time limit in seconds\" in i):\n",
        "        variables[\"timeLimit\"] = float(i.replace(\" \",\"\").replace(\"\\n\",\"\").split(\":\")[1])\n",
        "      if(\"emphasis for MIP optimization\" in i):\n",
        "        variables[\"mipOpt\"] = float(i.replace(\" \",\"\").replace(\"\\n\",\"\").split(\":\")[1])\n",
        "      if(\"Objective sense\" in i):\n",
        "        variables[\"objSense\"] = i.replace(\" \",\"\").replace(\"\\n\",\"\").split(\":\")[1]\n",
        "      if(\"Variables\" in i):\n",
        "        if(\"Box:\" in i):\n",
        "          variablesValue = [\"variablesValue\",\"Nneg\",\"Box\",\"Binary\"]\n",
        "          for j,k in enumerate(re.findall(r'\\d+', i.replace(\" \",\"\").replace(\"\\n\",\"\").split(\":\",1)[1])):\n",
        "            variables[variablesValue[j]] = float(k)\n",
        "        else:\n",
        "          variablesValue = [\"minLB\",\"maxUb\"]\n",
        "          for j,k in enumerate(re.findall('-?\\ *[0-9]+\\.?[0-9]*(?:[Ee]\\ *[-+]?\\ *[0-9]+)?',i)):\n",
        "            variables[variablesValue[j]] = float(k)\n",
        "      if(\"Objective nonzeros\" in i):\n",
        "        if(\"Min\" in i or \"Max\" in i):\n",
        "          variablesValue = [\"objNonZerosMin\",\"objNonZerosMax\"]\n",
        "          for j,k in enumerate(re.findall('-?\\ *[0-9]+\\.?[0-9]*(?:[Ee]\\ *[-+]?\\ *[0-9]+)?',i)):\n",
        "            variables[variablesValue[j]] = float(k)\n",
        "        else:\n",
        "          variables[\"objNonZeros\"] = float(i.replace(\" \",\"\").replace(\"\\n\",\"\").split(\":\")[1])\n",
        "      if(\"Linear constraints\" in i):\n",
        "        if(\"Less\" in i):\n",
        "          variablesValue = [\"linearConstraintsValue\",\"less\",\"greater\",\"equal\"]\n",
        "          for j,k in enumerate(re.findall('-?\\ *[0-9]+\\.?[0-9]*(?:[Ee]\\ *[-+]?\\ *[0-9]+)?',i)):\n",
        "            variables[variablesValue[j]] = float(k)\n",
        "        else:\n",
        "          pass\n",
        "      if(\"Nonzeros\" in i):\n",
        "        if(\"Min\" in i):\n",
        "          variablesValue = [\"nonZerosMin\",\"nonZerosMax\"]\n",
        "          for j,k in enumerate(re.findall('-?\\ *[0-9]+\\.?[0-9]*(?:[Ee]\\ *[-+]?\\ *[0-9]+)?',i)):\n",
        "            variables[variablesValue[j]] = float(k)\n",
        "        else:\n",
        "          variables[\"nonZeros\"] = float(i.replace(\" \",\"\").replace(\"\\n\",\"\").split(\":\")[1])\n",
        "      if(\"RHS nonzeros\" in i):\n",
        "        if(\"Min\" in i):\n",
        "          variablesValue = [\"rhsNonZerosMin\",\"rhsNonZerosMax\"]\n",
        "          for j,k in enumerate(re.findall('-?\\ *[0-9]+\\.?[0-9]*(?:[Ee]\\ *[-+]?\\ *[0-9]+)?',i)):\n",
        "            variables[variablesValue[j]] = float(k)\n",
        "        else:\n",
        "          variables[\"rhsNonZeros\"] = float(i.replace(\" \",\"\").replace(\"\\n\",\"\").split(\":\")[1])\n",
        "      if(\"CPXPARAM_TimeLimit\" in i):\n",
        "        variables[\"CPXPARAM_TimeLimit\"] = float(i.replace(\"\\n\",\"\").split(\" \")[-1])\n",
        "      if(\"MIP Presolve eliminated\" in i):\n",
        "        variables[\"mipPresolveEliminated\"].append([int(k) for k in re.findall('-?\\ *[0-9]+\\.?[0-9]*(?:[Ee]\\ *[-+]?\\ *[0-9]+)?',i)])\n",
        "      if(\"MIP Presolve modified \" in i):\n",
        "        variables[\"mipPresolveModified\"].append(int(re.findall('-?\\ *[0-9]+\\.?[0-9]*(?:[Ee]\\ *[-+]?\\ *[0-9]+)?',i)[0]))\n",
        "      if(\"Reduced MIP has\" in i):\n",
        "        if(\"indicators.\" in i):\n",
        "          tmp = [int(k) for k in re.findall('-?\\ *[0-9]+\\.?[0-9]*(?:[Ee]\\ *[-+]?\\ *[0-9]+)?',i)]\n",
        "          variables[\"reducedMipHasBinaries\"].append(tmp[0])\n",
        "          variables[\"reducedMipHasGeneral\"].append(tmp[1])\n",
        "        else:\n",
        "          tmp = [int(k) for k in re.findall('-?\\ *[0-9]+\\.?[0-9]*(?:[Ee]\\ *[-+]?\\ *[0-9]+)?',i)]\n",
        "          variables[\"reducedMipHasColumns\"].append(tmp[1])\n",
        "          variables[\"reducedMipHasNonZero\"].append(tmp[-1])\n",
        "          reduceHasGeneral = []\n",
        "      if(\"Clique\" in i):\n",
        "        variables[\"cliqueTableMembers\"].append(float(i.replace(\" \",\"\").replace(\"\\n\",\"\").split(\":\")[1]))\n",
        "      if(\"Aggregator did\" in i):\n",
        "        variables[\"aggregatorDid\"].append(int(re.findall('-?\\ *[0-9]+\\.?[0-9]*(?:[Ee]\\ *[-+]?\\ *[0-9]+)?',i)[0]))\n",
        "      if(\"Root relaxation\" in i):\n",
        "        tmp = [float(k) for k in re.findall('-?\\ *[0-9]+\\.?[0-9]*(?:[Ee]\\ *[-+]?\\ *[0-9]+)?',i)]\n",
        "        variables[\"rootRelaxSolSeconds\"].append(tmp[0])\n",
        "        variables[\"rootRelaxSolTicks\"].append(tmp[1])\n",
        "      if(\"Lift and\" in i):\n",
        "        variables[\"liftAndProjectCuts\"] = int(i.replace(\" \",\"\").replace(\"\\n\",\"\").split(\":\")[1])\n",
        "      if(\"Gomory fractional\" in i):\n",
        "        variables[\"gomoryFract\"] = int(i.replace(\" \",\"\").replace(\"\\n\",\"\").split(\":\")[1])\n",
        "\n",
        "    df=pd.DataFrame.from_dict(tables).rename(columns={\"seconds\":\"seconds\",\"ticks\":\"ticks\",\"solution\":\"solution\",\"Node\":\"node\",\"Left\":\"nodesLeft\",\"Objective\":\"objective\",\"IInf\":\"iinf\",\"Integer\":\"bestInteger\",\"Bound\":\"BestBound\",\"ItCnt\":\"itCnt\",\"Gap\":\"gap\",\"cuts\":\"cuts\"})\n",
        "    ## Ajuste de lectura de datos del log CPLEX\n",
        "    df = df[ df['bestInteger'] > 10 ]\n",
        "\n",
        "    df['seconds'] = df['seconds'].fillna(0)\n",
        "    eps=np.arange(0, 1, 1/(len(df)), dtype=float)\n",
        "    # df['eps'] = eps\n",
        "    # sum_column = df[\"seconds\"] + df[\"eps\"]\n",
        "    # df[\"seconds\"] = sum_column\n",
        "    # df['ticks'] = df['ticks'].fillna(0)\n",
        "    # eps=np.arange(0, 1, 1/(len(df)), dtype=float)\n",
        "    # df['eps'] = eps\n",
        "    # sum_column = df[\"ticks\"] + df[\"eps\"]\n",
        "    # df[\"ticks\"] = sum_column\n",
        "    return df,variables\n",
        "\n",
        "## Test ExtractCPLEX\n",
        "# e = ExtractCPLEX()\n",
        "# dfe, dic = e.extract(\"/content/logfileMilpuc_022.log\")\n",
        "# print(dfe)\n",
        "# dfe.plot.line( x='seconds',y='bestInteger',style='o-',label='_nolegend_')\n"
      ],
      "metadata": {
        "id": "dA6ZTFMF8Dxa"
      },
      "execution_count": 6,
      "outputs": []
    },
    {
      "cell_type": "code",
      "source": [
        "class Extract:\n",
        "  def __init__(self,log):\n",
        "    self.log = log \n",
        "  def getFilelog(self,f):\n",
        "    with open(f, 'r') as file:\n",
        "      data = file.read().replace('\\n', '')\n",
        "    tmp = []\n",
        "    for i in re.findall(r\"\\w*\"+self.log+\"\\s*\\'*[a-zA-z.+]*\\'\",data):\n",
        "      tmp.append(i.replace(\"'\",\"\").split(\" \")[1])\n",
        "    return tmp\n",
        "  def extract(self):\n",
        "    fn= \"/content/\"+self.log+\".log\"\n",
        "    variables = {}\n",
        "    variables[\"logFile\"] = self.log.replace(\"Log\",\"uc\")\n",
        "    f = open(fn, \"r\")\n",
        "    for i in f:\n",
        "      if(\"z_harjk=\" in i):\n",
        "        variables[\"z_harjk\"] = float(i.replace(\" \",\"\").replace(\"\\n\",\"\").split(\"=\")[1])\n",
        "      if(\"t_harjk=\" in i):\n",
        "        variables[\"t_harjk\"] = float(i.replace(\" \",\"\").replace(\"\\n\",\"\").split(\"=\")[1])        \n",
        "      if(\"z_hard3=\" in i):\n",
        "        variables[\"z_hard3\"] = float(i.replace(\" \",\"\").replace(\"\\n\",\"\").split(\"=\")[1]) \n",
        "      if(\"t_hard3=\" in i):\n",
        "        variables[\"t_hard3\"] = float(i.replace(\" \",\"\").replace(\"\\n\",\"\").split(\"=\")[1])      \n",
        "      # if(\"z_milp2=\" in i):\n",
        "      #   variables[\"z_milp2\"] = float(i.replace(\" \",\"\").replace(\"\\n\",\"\").split(\"=\")[1])\n",
        "      # if(\"t_milp2=\" in i):\n",
        "      #   variables[\"t_milp2\"] = float(i.replace(\" \",\"\").replace(\"\\n\",\"\").split(\"=\")[1])\n",
        "      if(\"z_milp=\" in i):\n",
        "        variables[\"z_milp\"]  = float(i.replace(\" \",\"\").replace(\"\\n\",\"\").split(\"=\")[1])\n",
        "      if(\"t_milp=\" in i):\n",
        "        variables[\"t_milp\"]  = float(i.replace(\" \",\"\").replace(\"\\n\",\"\").split(\"=\")[1])\n",
        "\n",
        "    variables[\"flag_harjk\"] = False\n",
        "    variables[\"flag_hard3\"] = False\n",
        "    # variables[\"flag_milp2\"] = False\n",
        "    variables[\"flag_milp\" ] = False\n",
        "\n",
        "    if variables[\"z_harjk\"] != 1E+75:\n",
        "      variables[\"flag_harjk\"] = True\n",
        "    if variables[\"z_hard3\"] != 1E+75:\n",
        "      variables[\"flag_hard3\"] = True\n",
        "    # if variables[\"z_milp2\"] != 1E+75:\n",
        "    #   variables[\"flag_milp2\"] = True\n",
        "    if variables[\"z_milp\"]  != 1E+75:\n",
        "      variables[\"flag_milp\"] = True\n",
        "\n",
        "    start = [\"lbc1 results\",\"lbc2 results\",\"lbc3 results\",\"lbc4 results\",\"KS results\"]\n",
        "    stop  = [\"lbc1 end\"    ,\"lbc2 end\"    ,\"lbc3 end\"    ,\"lbc4 end\"    ,\"KS end\"    ]\n",
        "    for p in range(5):\n",
        "      pattern_start = re.compile(r\"\"+start[p])\n",
        "      pattern_stop  = re.compile(r\"\"+\"^\"+stop[p])\n",
        "      i = 0\n",
        "      extract_on = False\n",
        "      extracts = []\n",
        "      with open(r''+fn, 'rt') as myfile:\n",
        "          for line in myfile:\n",
        "              i += 1  # line counting starts with 1\n",
        "              if pattern_start.match(line):\n",
        "                  extract_on = True\n",
        "              if pattern_stop.search(line):\n",
        "                  extract_on = False\n",
        "              if extract_on:\n",
        "                  extracts.append((i, line.rstrip('\\n')))\n",
        "      listlines=[]; x=[]; y=[]\n",
        "      for line in extracts:\n",
        "        listlines.append(line[1])\n",
        "      if len(listlines)!=0:\n",
        "        del listlines[0]\n",
        "      for i in listlines:\n",
        "        if float(re.split(',',i.replace(\" \",\"\"))[1])!=1E+75:\n",
        "          x.append(float(re.split(',',i.replace(\" \",\"\"))[0]))\n",
        "          y.append(float(re.split(',',i.replace(\" \",\"\"))[1]))\n",
        "      if p==0:\n",
        "        variables[\"t_lbc1\"] = x\n",
        "        variables[\"z_lbc1\"] = y\n",
        "        variables[\"flag_lbc1\"] = True\n",
        "      if p==1:\n",
        "        variables[\"t_lbc2\"] = x\n",
        "        variables[\"z_lbc2\"] = y\n",
        "        variables[\"flag_lbc2\"] = True\n",
        "      if p==2:\n",
        "        variables[\"t_lbc3\"] = x\n",
        "        variables[\"z_lbc3\"] = y\n",
        "        variables[\"flag_lbc3\"] = True\n",
        "      if p==3:\n",
        "        variables[\"t_lbc4\"] = x\n",
        "        variables[\"z_lbc4\"] = y\n",
        "        variables[\"flag_lbc4\"] = True\n",
        "      if p==4:\n",
        "        variables[\"t_KS\"] = x\n",
        "        variables[\"z_KS\"] = y\n",
        "        variables[\"flag_KS\"] = True\n",
        "    return variables\n",
        "\n",
        "if False:\n",
        "  ex         = Extract('Log_083')\n",
        "  variablesx = ex.extract()\n",
        "  print(variablesx)"
      ],
      "metadata": {
        "id": "caTKOCID0KvG"
      },
      "execution_count": 7,
      "outputs": []
    },
    {
      "cell_type": "code",
      "source": [
        "def graficas(title='',graphs=[]):\n",
        "  df1      = df[df['nameins'] == title+'.json' ]\n",
        "  timefull = int(df1.timefull)\n",
        "  plt.figure()\n",
        "  models = ['Harjk','Harduc','MILP','LB1','LB2','LB3','LB4','KS','MILP2','MILP2','MILP']\n",
        "  i = 0\n",
        "  group_=''\n",
        "  for tup in graphs:\n",
        "      x = tup[0]\n",
        "      y = tup[1]\n",
        "  ##  Recortamos  a timefull\n",
        "      x1=[]\n",
        "      y1=[]\n",
        "      index = 0\n",
        "      for j in x:\n",
        "        if j < timefull:\n",
        "          x1.append(j)\n",
        "          y1.append(y[index])\n",
        "        else:\n",
        "          x1.append(timefull)\n",
        "          y1.append(y[index])\n",
        "          break\n",
        "        index = index + 1\n",
        "\n",
        "      if tup[2]:\n",
        "        if i==0:\n",
        "          temp=1 #plt.plot(x, y, 'x',  label = models[i],markersize=6,color='magenta')\n",
        "        else:\n",
        "          plt.plot(x1, y1, '.-', label = models[i],markersize=8,)\n",
        "      i=i+1\n",
        "\n",
        "  ##  Extraemos Milp2\n",
        "  e        = ExtractCPLEX()\n",
        "  df3, dic = e.extract(\"/content/logfileMilp2\"+title+\".log\")  \n",
        "  x        = df3['seconds'].values.tolist()\n",
        "  y        = df3['bestInteger'].values.tolist()\n",
        "  xr       = np.array(x)\n",
        "  t_harduc = int(df1.t_harduc)\n",
        "  xr       = xr + t_harduc           ##  Agregamos los segundos de Harduc\n",
        "  groupx   = str(df1.groupx.iloc[0])\n",
        "  x1=[]  \n",
        "  y1=[]\n",
        "  index = 0\n",
        "  for j in xr:                       ##  Recortamos MILP2 a timefull\n",
        "    if j < timefull:\n",
        "      x1.append(j)\n",
        "      y1.append(y[index])\n",
        "    else:\n",
        "      x1.append(timefull)\n",
        "      y1.append(y[index])\n",
        "      break\n",
        "    index = index + 1\n",
        "  plt.plot( x1,y1,'x',Label = models[9],color='magenta' )\n",
        "\n",
        "  ##  Extraemos Milp\n",
        "  if True:\n",
        "    e        = ExtractCPLEX()\n",
        "    df4, dic = e.extract(\"/content/logfileMilp\"+title+\".log\")\n",
        "    x        = df4['seconds'    ].values.tolist()\n",
        "    y        = df4['bestInteger'].values.tolist()\n",
        "    plt.plot( x,y,'x',Label = models[10],color='cyan' )\n",
        "\n",
        "  plt.xlabel(\"Time (seconds)\")\n",
        "  plt.ylabel(\"z ($)\")\n",
        "  plt.title('Instance '+title+'\\n ('+groupx+')') ###########################################################################\n",
        "  plt.legend(bbox_to_anchor=(1, 0.75))\n",
        "\n",
        "  # timefull = int(df1.timefull)\n",
        "  # timeconst= int(df1.timeconst)\n",
        "  # plt.xlim([timeconst, timefull])\n",
        "  plt.tight_layout()\n",
        "  plt.savefig(dir+'fig:'+title+'_'+filter+'.pdf')\n",
        "  # plt.show()\n",
        "  return 0"
      ],
      "metadata": {
        "id": "0CaDNDtj5Ktu"
      },
      "execution_count": 17,
      "outputs": []
    },
    {
      "cell_type": "markdown",
      "source": [
        "## Gráficos de convergencia "
      ],
      "metadata": {
        "id": "X0QTkXRFPT95"
      }
    },
    {
      "cell_type": "code",
      "source": [
        "for item in list:\n",
        "    graphs = []\n",
        "    try:\n",
        "      e = Extract(item)\n",
        "      variables = e.extract()\n",
        "      if True:\n",
        "        variables[\"flag_harjk\"] = False\n",
        "        # variables[\"flag_KS\"   ] = False\n",
        "        # variables[\"flag_lbc1\" ] = False\n",
        "        # variables[\"flag_lbc2\" ] = False\n",
        "        # variables[\"flag_lbc3\" ] = False\n",
        "        # variables[\"flag_lbc4\" ] = False\n",
        "        graphs.append(([variables['t_harjk']],[variables['z_harjk']],variables[\"flag_harjk\"]))\n",
        "        graphs.append(([variables['t_hard3']],[variables['z_hard3']],variables[\"flag_hard3\"])) \n",
        "        # graphs.append(([variables['t_milp2']],[variables['z_milp2']],variables[\"flag_milp2\"]))       \n",
        "        graphs.append(([variables['t_milp' ]],[variables['z_milp' ]],variables[\"flag_milp\" ]))\n",
        "        graphs.append(( variables['t_lbc1' ] , variables['z_lbc1' ], variables[\"flag_lbc1\" ]))\n",
        "        graphs.append(( variables['t_lbc2' ] , variables['z_lbc2' ], variables[\"flag_lbc2\" ]))\n",
        "        graphs.append(( variables['t_lbc3' ] , variables['z_lbc3' ], variables[\"flag_lbc3\" ]))\n",
        "        graphs.append(( variables['t_lbc4' ] , variables['z_lbc4' ], variables[\"flag_lbc4\" ]))\n",
        "        graphs.append(( variables['t_KS'   ] , variables['z_KS'   ], variables[\"flag_KS\"   ]))\n",
        "        title = variables[\"logFile\"]\n",
        "        graficas(title=title,graphs=graphs)\n",
        "\n",
        "    except Exception as err:\n",
        "      print(\"Fail in \", item+\".log\"+ \" file\")\n",
        "      print(str(err))"
      ],
      "metadata": {
        "id": "st05UPVm3yQu",
        "colab": {
          "base_uri": "https://localhost:8080/",
          "height": 857
        },
        "outputId": "860e94ce-562f-4364-b8b6-29f1e4982106"
      },
      "execution_count": 18,
      "outputs": [
        {
          "output_type": "display_data",
          "data": {
            "text/plain": [
              "<Figure size 432x288 with 1 Axes>"
            ],
            "image/png": "[encoded data removed]"
          },
          "metadata": {
            "needs_background": "light"
          }
        },
        {
          "output_type": "display_data",
          "data": {
            "text/plain": [
              "<Figure size 432x288 with 1 Axes>"
            ],
            "image/png": "[encoded data removed]"
          },
          "metadata": {
            "needs_background": "light"
          }
        },
        {
          "output_type": "display_data",
          "data": {
            "text/plain": [
              "<Figure size 432x288 with 1 Axes>"
            ],
            "image/png": "[encoded data removed]"
          },
          "metadata": {
            "needs_background": "light"
          }
        }
      ]
    },
    {
      "cell_type": "markdown",
      "source": [
        "## Carga de resultados de stat\n"
      ],
      "metadata": {
        "id": "-O6z-YGJm-HN"
      }
    },
    {
      "cell_type": "code",
      "source": [
        "##Imprimir GAP\n",
        "# data1  = pd.to_numeric(df2.z_milp).to_numpy()\n",
        "milp2   = pd.to_numeric(df.g_milp2).to_numpy()\n",
        "harjk   = pd.to_numeric(df.g_harjk).to_numpy()\n",
        "harduc  = pd.to_numeric(df.g_harduc).to_numpy()\n",
        "lbc1    = pd.to_numeric(df.g_lbc1).to_numpy()\n",
        "lbc2    = pd.to_numeric(df.g_lbc2).to_numpy()\n",
        "lbc3    = pd.to_numeric(df.g_lbc3).to_numpy()\n",
        "lbc4    = pd.to_numeric(df.g_lbc4).to_numpy()\n",
        "ks      = pd.to_numeric(df.g_ks).to_numpy()\n",
        "labels  = ['MILP2','Harjk','Harduc','LB1','LB2','LB3','LB4','KS']\n",
        "x       = [milp2,harjk,harduc,lbc1,lbc2,lbc3,lbc4,ks]\n",
        "fig,ax  = plt.subplots()\n",
        "#ax.set_title('gap\\n('+filter+')')\n",
        "bp = ax.boxplot(x,           \n",
        "positions=[2,3,4,5,6,7,8,9],         # where to put these arrays\n",
        "labels = labels, patch_artist=True)  # allow filling the box with colors\n",
        "namefile = dir+'fig:boxplotgap'+'_'+filter+'.pdf'\n",
        "plt.savefig(namefile, transparent=True)\n",
        "plt.show()"
      ],
      "metadata": {
        "colab": {
          "base_uri": "https://localhost:8080/",
          "height": 265
        },
        "id": "IqsCfW-H-4pA",
        "outputId": "d1bd71e9-015b-470d-b022-2d218cfb7a6f"
      },
      "execution_count": 10,
      "outputs": [
        {
          "output_type": "display_data",
          "data": {
            "text/plain": [
              "<Figure size 432x288 with 1 Axes>"
            ],
            "image/png": "[encoded data removed]"
          },
          "metadata": {
            "needs_background": "light"
          }
        }
      ]
    },
    {
      "cell_type": "markdown",
      "source": [
        "## Análisis estadístico descriptivo"
      ],
      "metadata": {
        "id": "lEqH2fdnGTz4"
      }
    },
    {
      "cell_type": "code",
      "source": [
        "## https://www.geeksforgeeks.org/data-visualization-with-python-seaborn/\n",
        "method  = ['Harjk' ]*(len(harjk))\n",
        "method2 = ['Harduc']*(len(harduc))\n",
        "method  = method + method2\n",
        "data    = np.concatenate((harjk, harduc), axis=0)\n",
        "# initialise data of lists.\n",
        "data = {'gap' :data, 'method' :method}  \n",
        "df1 = pd.DataFrame( data )"
      ],
      "metadata": {
        "id": "Vqcnzos4f0kq"
      },
      "execution_count": 11,
      "outputs": []
    },
    {
      "cell_type": "code",
      "source": [
        "if True:\n",
        "  import seaborn as sns\n",
        "  fig, axs = plt.subplots(nrows=2, ncols=1, figsize=(9, 8))\n",
        "  sns.violinplot(\n",
        "      x       = df1.gap,\n",
        "      y       = df1.method,\n",
        "      color   = '.8',\n",
        "      ax      = axs[0]  )\n",
        "  sns.stripplot(\n",
        "      x       = df1.gap,\n",
        "      y       = df1.method,\n",
        "      data    = df1,\n",
        "      size    = 4,\n",
        "      jitter  = 0.1,\n",
        "      ax      = axs[0]  )\n",
        "  #axs[0].set_title('Distribución de gap por método')\n",
        "  axs[0].set_ylabel('Methods')\n",
        "  axs[0].set_xlabel('gap')\n",
        "\n",
        "  for i in df1.method.unique():\n",
        "      datos_temp = df1[df1.method == i]['gap']\n",
        "      datos_temp.plot.kde(ax=axs[1], label=i)\n",
        "      axs[1].plot(datos_temp, np.full_like(datos_temp, 0), '|k', markeredgewidth=1)\n",
        "\n",
        "  axs[1].set_xlabel('gap')\n",
        "  axs[1].legend()\n",
        "\n",
        "  fig.tight_layout()\n",
        "\n",
        "  namefile = dir+'fig:violinHarduc'+'_'+filter+'.pdf'\n",
        "  plt.savefig(namefile, transparent=True)\n",
        "  plt.show()"
      ],
      "metadata": {
        "id": "B1FJEn6LFLQb",
        "outputId": "4e6e6bbf-f119-4a3c-8f54-8baff41d7190",
        "colab": {
          "base_uri": "https://localhost:8080/",
          "height": 585
        }
      },
      "execution_count": 12,
      "outputs": [
        {
          "output_type": "display_data",
          "data": {
            "text/plain": [
              "<Figure size 648x576 with 2 Axes>"
            ],
            "image/png": "[encoded data removed]"
          },
          "metadata": {
            "needs_background": "light"
          }
        }
      ]
    },
    {
      "cell_type": "code",
      "source": [
        "## https://www.geeksforgeeks.org/data-visualization-with-python-seaborn/\n",
        "method1 = ['Milp2' ]*(len(milp2))\n",
        "method2 = ['LB1'   ]*(len(lbc1))\n",
        "method3 = ['LB2'   ]*(len(lbc2))\n",
        "method4 = ['LB3'   ]*(len(lbc3))\n",
        "method5 = ['LB4'   ]*(len(lbc4))\n",
        "method6 = ['KS'    ]*(len(ks))\n",
        "method  = method1 + method2 + method3 + method4 + method5 + method6\n",
        "data    = np.concatenate((milp2,lbc1,lbc2,lbc3,lbc4,ks), axis=0)\n",
        "# initialise data of lists.\n",
        "data = {'gap'       :data,\n",
        "        'method'  :method}  \n",
        "df1 = pd.DataFrame( data )\n",
        "#fig, ax = plt.subplots(figsize=(8, 6))\n",
        "#sns.histplot(df1, x=\"gap\", hue=\"method\", element=\"step\") #,bins=15"
      ],
      "metadata": {
        "id": "zCh6HJY9arPV"
      },
      "execution_count": 13,
      "outputs": []
    },
    {
      "cell_type": "code",
      "source": [
        "if True:\n",
        "  import seaborn as sns\n",
        "  fig, axs = plt.subplots(nrows=2, ncols=1, figsize=(9, 8))\n",
        "  sns.violinplot(\n",
        "      x       = df1.gap,\n",
        "      y       = df1.method,\n",
        "      color   = '.8',\n",
        "      ax      = axs[0]  )\n",
        "  sns.stripplot(\n",
        "      x       = df1.gap,\n",
        "      y       = df1.method,\n",
        "      data    = df1,\n",
        "      size    = 4,\n",
        "      jitter  = 0.1,\n",
        "      ax      = axs[0]  )\n",
        "  #axs[0].set_title('Distribución de gap por método')\n",
        "  axs[0].set_ylabel('methods')\n",
        "  axs[0].set_xlabel('gap')\n",
        "\n",
        "  for i in df1.method.unique():\n",
        "      datos_temp = df1[df1.method == i]['gap']\n",
        "      datos_temp.plot.kde(ax=axs[1], label=i)\n",
        "      axs[1].plot(datos_temp, np.full_like(datos_temp, 0), '|k', markeredgewidth=1)\n",
        "\n",
        "  axs[1].set_xlabel('gap')\n",
        "  axs[1].legend()\n",
        "\n",
        "  fig.tight_layout()\n",
        "\n",
        "  namefile = dir+'fig:violinAll'+'_'+filter+'.pdf'\n",
        "  plt.savefig(namefile, transparent=True)\n",
        "  plt.show()"
      ],
      "metadata": {
        "colab": {
          "base_uri": "https://localhost:8080/",
          "height": 846
        },
        "id": "Ni9Y4gHH8h_x",
        "outputId": "9bfcf2ad-959c-467d-b5c3-43b506f923d5"
      },
      "execution_count": 14,
      "outputs": [
        {
          "output_type": "error",
          "ename": "LinAlgError",
          "evalue": "ignored",
          "traceback": [
            "\u001b[0;31m---------------------------------------------------------------------------\u001b[0m",
            "\u001b[0;31mLinAlgError\u001b[0m                               Traceback (most recent call last)",
            "\u001b[0;32m<ipython-input-14-7b433db61749>\u001b[0m in \u001b[0;36m<module>\u001b[0;34m\u001b[0m\n\u001b[1;32m     20\u001b[0m   \u001b[0;32mfor\u001b[0m \u001b[0mi\u001b[0m \u001b[0;32min\u001b[0m \u001b[0mdf1\u001b[0m\u001b[0;34m.\u001b[0m\u001b[0mmethod\u001b[0m\u001b[0;34m.\u001b[0m\u001b[0munique\u001b[0m\u001b[0;34m(\u001b[0m\u001b[0;34m)\u001b[0m\u001b[0;34m:\u001b[0m\u001b[0;34m\u001b[0m\u001b[0;34m\u001b[0m\u001b[0m\n\u001b[1;32m     21\u001b[0m       \u001b[0mdatos_temp\u001b[0m \u001b[0;34m=\u001b[0m \u001b[0mdf1\u001b[0m\u001b[0;34m[\u001b[0m\u001b[0mdf1\u001b[0m\u001b[0;34m.\u001b[0m\u001b[0mmethod\u001b[0m \u001b[0;34m==\u001b[0m \u001b[0mi\u001b[0m\u001b[0;34m]\u001b[0m\u001b[0;34m[\u001b[0m\u001b[0;34m'gap'\u001b[0m\u001b[0;34m]\u001b[0m\u001b[0;34m\u001b[0m\u001b[0;34m\u001b[0m\u001b[0m\n\u001b[0;32m---> 22\u001b[0;31m       \u001b[0mdatos_temp\u001b[0m\u001b[0;34m.\u001b[0m\u001b[0mplot\u001b[0m\u001b[0;34m.\u001b[0m\u001b[0mkde\u001b[0m\u001b[0;34m(\u001b[0m\u001b[0max\u001b[0m\u001b[0;34m=\u001b[0m\u001b[0maxs\u001b[0m\u001b[0;34m[\u001b[0m\u001b[0;36m1\u001b[0m\u001b[0;34m]\u001b[0m\u001b[0;34m,\u001b[0m \u001b[0mlabel\u001b[0m\u001b[0;34m=\u001b[0m\u001b[0mi\u001b[0m\u001b[0;34m)\u001b[0m\u001b[0;34m\u001b[0m\u001b[0;34m\u001b[0m\u001b[0m\n\u001b[0m\u001b[1;32m     23\u001b[0m       \u001b[0maxs\u001b[0m\u001b[0;34m[\u001b[0m\u001b[0;36m1\u001b[0m\u001b[0;34m]\u001b[0m\u001b[0;34m.\u001b[0m\u001b[0mplot\u001b[0m\u001b[0;34m(\u001b[0m\u001b[0mdatos_temp\u001b[0m\u001b[0;34m,\u001b[0m \u001b[0mnp\u001b[0m\u001b[0;34m.\u001b[0m\u001b[0mfull_like\u001b[0m\u001b[0;34m(\u001b[0m\u001b[0mdatos_temp\u001b[0m\u001b[0;34m,\u001b[0m \u001b[0;36m0\u001b[0m\u001b[0;34m)\u001b[0m\u001b[0;34m,\u001b[0m \u001b[0;34m'|k'\u001b[0m\u001b[0;34m,\u001b[0m \u001b[0mmarkeredgewidth\u001b[0m\u001b[0;34m=\u001b[0m\u001b[0;36m1\u001b[0m\u001b[0;34m)\u001b[0m\u001b[0;34m\u001b[0m\u001b[0;34m\u001b[0m\u001b[0m\n\u001b[1;32m     24\u001b[0m \u001b[0;34m\u001b[0m\u001b[0m\n",
            "\u001b[0;32m/usr/local/lib/python3.8/dist-packages/pandas/plotting/_core.py\u001b[0m in \u001b[0;36mkde\u001b[0;34m(self, bw_method, ind, **kwargs)\u001b[0m\n\u001b[1;32m   1419\u001b[0m             \u001b[0;34m>>\u001b[0m\u001b[0;34m>\u001b[0m \u001b[0max\u001b[0m \u001b[0;34m=\u001b[0m \u001b[0mdf\u001b[0m\u001b[0;34m.\u001b[0m\u001b[0mplot\u001b[0m\u001b[0;34m.\u001b[0m\u001b[0mkde\u001b[0m\u001b[0;34m(\u001b[0m\u001b[0mind\u001b[0m\u001b[0;34m=\u001b[0m\u001b[0;34m[\u001b[0m\u001b[0;36m1\u001b[0m\u001b[0;34m,\u001b[0m \u001b[0;36m2\u001b[0m\u001b[0;34m,\u001b[0m \u001b[0;36m3\u001b[0m\u001b[0;34m,\u001b[0m \u001b[0;36m4\u001b[0m\u001b[0;34m,\u001b[0m \u001b[0;36m5\u001b[0m\u001b[0;34m,\u001b[0m \u001b[0;36m6\u001b[0m\u001b[0;34m]\u001b[0m\u001b[0;34m)\u001b[0m\u001b[0;34m\u001b[0m\u001b[0;34m\u001b[0m\u001b[0m\n\u001b[1;32m   1420\u001b[0m         \"\"\"\n\u001b[0;32m-> 1421\u001b[0;31m         \u001b[0;32mreturn\u001b[0m \u001b[0mself\u001b[0m\u001b[0;34m(\u001b[0m\u001b[0mkind\u001b[0m\u001b[0;34m=\u001b[0m\u001b[0;34m\"kde\"\u001b[0m\u001b[0;34m,\u001b[0m \u001b[0mbw_method\u001b[0m\u001b[0;34m=\u001b[0m\u001b[0mbw_method\u001b[0m\u001b[0;34m,\u001b[0m \u001b[0mind\u001b[0m\u001b[0;34m=\u001b[0m\u001b[0mind\u001b[0m\u001b[0;34m,\u001b[0m \u001b[0;34m**\u001b[0m\u001b[0mkwargs\u001b[0m\u001b[0;34m)\u001b[0m\u001b[0;34m\u001b[0m\u001b[0;34m\u001b[0m\u001b[0m\n\u001b[0m\u001b[1;32m   1422\u001b[0m \u001b[0;34m\u001b[0m\u001b[0m\n\u001b[1;32m   1423\u001b[0m     \u001b[0mdensity\u001b[0m \u001b[0;34m=\u001b[0m \u001b[0mkde\u001b[0m\u001b[0;34m\u001b[0m\u001b[0;34m\u001b[0m\u001b[0m\n",
            "\u001b[0;32m/usr/local/lib/python3.8/dist-packages/pandas/plotting/_core.py\u001b[0m in \u001b[0;36m__call__\u001b[0;34m(self, *args, **kwargs)\u001b[0m\n\u001b[1;32m    970\u001b[0m                     \u001b[0mdata\u001b[0m\u001b[0;34m.\u001b[0m\u001b[0mcolumns\u001b[0m \u001b[0;34m=\u001b[0m \u001b[0mlabel_name\u001b[0m\u001b[0;34m\u001b[0m\u001b[0;34m\u001b[0m\u001b[0m\n\u001b[1;32m    971\u001b[0m \u001b[0;34m\u001b[0m\u001b[0m\n\u001b[0;32m--> 972\u001b[0;31m         \u001b[0;32mreturn\u001b[0m \u001b[0mplot_backend\u001b[0m\u001b[0;34m.\u001b[0m\u001b[0mplot\u001b[0m\u001b[0;34m(\u001b[0m\u001b[0mdata\u001b[0m\u001b[0;34m,\u001b[0m \u001b[0mkind\u001b[0m\u001b[0;34m=\u001b[0m\u001b[0mkind\u001b[0m\u001b[0;34m,\u001b[0m \u001b[0;34m**\u001b[0m\u001b[0mkwargs\u001b[0m\u001b[0;34m)\u001b[0m\u001b[0;34m\u001b[0m\u001b[0;34m\u001b[0m\u001b[0m\n\u001b[0m\u001b[1;32m    973\u001b[0m \u001b[0;34m\u001b[0m\u001b[0m\n\u001b[1;32m    974\u001b[0m     \u001b[0m__call__\u001b[0m\u001b[0;34m.\u001b[0m\u001b[0m__doc__\u001b[0m \u001b[0;34m=\u001b[0m \u001b[0m__doc__\u001b[0m\u001b[0;34m\u001b[0m\u001b[0;34m\u001b[0m\u001b[0m\n",
            "\u001b[0;32m/usr/local/lib/python3.8/dist-packages/pandas/plotting/_matplotlib/__init__.py\u001b[0m in \u001b[0;36mplot\u001b[0;34m(data, kind, **kwargs)\u001b[0m\n\u001b[1;32m     69\u001b[0m             \u001b[0mkwargs\u001b[0m\u001b[0;34m[\u001b[0m\u001b[0;34m\"ax\"\u001b[0m\u001b[0;34m]\u001b[0m \u001b[0;34m=\u001b[0m \u001b[0mgetattr\u001b[0m\u001b[0;34m(\u001b[0m\u001b[0max\u001b[0m\u001b[0;34m,\u001b[0m \u001b[0;34m\"left_ax\"\u001b[0m\u001b[0;34m,\u001b[0m \u001b[0max\u001b[0m\u001b[0;34m)\u001b[0m\u001b[0;34m\u001b[0m\u001b[0;34m\u001b[0m\u001b[0m\n\u001b[1;32m     70\u001b[0m     \u001b[0mplot_obj\u001b[0m \u001b[0;34m=\u001b[0m \u001b[0mPLOT_CLASSES\u001b[0m\u001b[0;34m[\u001b[0m\u001b[0mkind\u001b[0m\u001b[0;34m]\u001b[0m\u001b[0;34m(\u001b[0m\u001b[0mdata\u001b[0m\u001b[0;34m,\u001b[0m \u001b[0;34m**\u001b[0m\u001b[0mkwargs\u001b[0m\u001b[0;34m)\u001b[0m\u001b[0;34m\u001b[0m\u001b[0;34m\u001b[0m\u001b[0m\n\u001b[0;32m---> 71\u001b[0;31m     \u001b[0mplot_obj\u001b[0m\u001b[0;34m.\u001b[0m\u001b[0mgenerate\u001b[0m\u001b[0;34m(\u001b[0m\u001b[0;34m)\u001b[0m\u001b[0;34m\u001b[0m\u001b[0;34m\u001b[0m\u001b[0m\n\u001b[0m\u001b[1;32m     72\u001b[0m     \u001b[0mplot_obj\u001b[0m\u001b[0;34m.\u001b[0m\u001b[0mdraw\u001b[0m\u001b[0;34m(\u001b[0m\u001b[0;34m)\u001b[0m\u001b[0;34m\u001b[0m\u001b[0;34m\u001b[0m\u001b[0m\n\u001b[1;32m     73\u001b[0m     \u001b[0;32mreturn\u001b[0m \u001b[0mplot_obj\u001b[0m\u001b[0;34m.\u001b[0m\u001b[0mresult\u001b[0m\u001b[0;34m\u001b[0m\u001b[0;34m\u001b[0m\u001b[0m\n",
            "\u001b[0;32m/usr/local/lib/python3.8/dist-packages/pandas/plotting/_matplotlib/core.py\u001b[0m in \u001b[0;36mgenerate\u001b[0;34m(self)\u001b[0m\n\u001b[1;32m    286\u001b[0m         \u001b[0mself\u001b[0m\u001b[0;34m.\u001b[0m\u001b[0m_compute_plot_data\u001b[0m\u001b[0;34m(\u001b[0m\u001b[0;34m)\u001b[0m\u001b[0;34m\u001b[0m\u001b[0;34m\u001b[0m\u001b[0m\n\u001b[1;32m    287\u001b[0m         \u001b[0mself\u001b[0m\u001b[0;34m.\u001b[0m\u001b[0m_setup_subplots\u001b[0m\u001b[0;34m(\u001b[0m\u001b[0;34m)\u001b[0m\u001b[0;34m\u001b[0m\u001b[0;34m\u001b[0m\u001b[0m\n\u001b[0;32m--> 288\u001b[0;31m         \u001b[0mself\u001b[0m\u001b[0;34m.\u001b[0m\u001b[0m_make_plot\u001b[0m\u001b[0;34m(\u001b[0m\u001b[0;34m)\u001b[0m\u001b[0;34m\u001b[0m\u001b[0;34m\u001b[0m\u001b[0m\n\u001b[0m\u001b[1;32m    289\u001b[0m         \u001b[0mself\u001b[0m\u001b[0;34m.\u001b[0m\u001b[0m_add_table\u001b[0m\u001b[0;34m(\u001b[0m\u001b[0;34m)\u001b[0m\u001b[0;34m\u001b[0m\u001b[0;34m\u001b[0m\u001b[0m\n\u001b[1;32m    290\u001b[0m         \u001b[0mself\u001b[0m\u001b[0;34m.\u001b[0m\u001b[0m_make_legend\u001b[0m\u001b[0;34m(\u001b[0m\u001b[0;34m)\u001b[0m\u001b[0;34m\u001b[0m\u001b[0;34m\u001b[0m\u001b[0m\n",
            "\u001b[0;32m/usr/local/lib/python3.8/dist-packages/pandas/plotting/_matplotlib/hist.py\u001b[0m in \u001b[0;36m_make_plot\u001b[0;34m(self)\u001b[0m\n\u001b[1;32m    106\u001b[0m                 \u001b[0mkwds\u001b[0m\u001b[0;34m[\u001b[0m\u001b[0;34m\"weights\"\u001b[0m\u001b[0;34m]\u001b[0m \u001b[0;34m=\u001b[0m \u001b[0mweights\u001b[0m\u001b[0;34m[\u001b[0m\u001b[0;34m:\u001b[0m\u001b[0;34m,\u001b[0m \u001b[0mi\u001b[0m\u001b[0;34m]\u001b[0m\u001b[0;34m\u001b[0m\u001b[0;34m\u001b[0m\u001b[0m\n\u001b[1;32m    107\u001b[0m \u001b[0;34m\u001b[0m\u001b[0m\n\u001b[0;32m--> 108\u001b[0;31m             \u001b[0martists\u001b[0m \u001b[0;34m=\u001b[0m \u001b[0mself\u001b[0m\u001b[0;34m.\u001b[0m\u001b[0m_plot\u001b[0m\u001b[0;34m(\u001b[0m\u001b[0max\u001b[0m\u001b[0;34m,\u001b[0m \u001b[0my\u001b[0m\u001b[0;34m,\u001b[0m \u001b[0mcolumn_num\u001b[0m\u001b[0;34m=\u001b[0m\u001b[0mi\u001b[0m\u001b[0;34m,\u001b[0m \u001b[0mstacking_id\u001b[0m\u001b[0;34m=\u001b[0m\u001b[0mstacking_id\u001b[0m\u001b[0;34m,\u001b[0m \u001b[0;34m**\u001b[0m\u001b[0mkwds\u001b[0m\u001b[0;34m)\u001b[0m\u001b[0;34m\u001b[0m\u001b[0;34m\u001b[0m\u001b[0m\n\u001b[0m\u001b[1;32m    109\u001b[0m             \u001b[0mself\u001b[0m\u001b[0;34m.\u001b[0m\u001b[0m_append_legend_handles_labels\u001b[0m\u001b[0;34m(\u001b[0m\u001b[0martists\u001b[0m\u001b[0;34m[\u001b[0m\u001b[0;36m0\u001b[0m\u001b[0;34m]\u001b[0m\u001b[0;34m,\u001b[0m \u001b[0mlabel\u001b[0m\u001b[0;34m)\u001b[0m\u001b[0;34m\u001b[0m\u001b[0;34m\u001b[0m\u001b[0m\n\u001b[1;32m    110\u001b[0m \u001b[0;34m\u001b[0m\u001b[0m\n",
            "\u001b[0;32m/usr/local/lib/python3.8/dist-packages/pandas/plotting/_matplotlib/hist.py\u001b[0m in \u001b[0;36m_plot\u001b[0;34m(cls, ax, y, style, bw_method, ind, column_num, stacking_id, **kwds)\u001b[0m\n\u001b[1;32m    177\u001b[0m \u001b[0;34m\u001b[0m\u001b[0m\n\u001b[1;32m    178\u001b[0m         \u001b[0my\u001b[0m \u001b[0;34m=\u001b[0m \u001b[0mremove_na_arraylike\u001b[0m\u001b[0;34m(\u001b[0m\u001b[0my\u001b[0m\u001b[0;34m)\u001b[0m\u001b[0;34m\u001b[0m\u001b[0;34m\u001b[0m\u001b[0m\n\u001b[0;32m--> 179\u001b[0;31m         \u001b[0mgkde\u001b[0m \u001b[0;34m=\u001b[0m \u001b[0mgaussian_kde\u001b[0m\u001b[0;34m(\u001b[0m\u001b[0my\u001b[0m\u001b[0;34m,\u001b[0m \u001b[0mbw_method\u001b[0m\u001b[0;34m=\u001b[0m\u001b[0mbw_method\u001b[0m\u001b[0;34m)\u001b[0m\u001b[0;34m\u001b[0m\u001b[0;34m\u001b[0m\u001b[0m\n\u001b[0m\u001b[1;32m    180\u001b[0m \u001b[0;34m\u001b[0m\u001b[0m\n\u001b[1;32m    181\u001b[0m         \u001b[0my\u001b[0m \u001b[0;34m=\u001b[0m \u001b[0mgkde\u001b[0m\u001b[0;34m.\u001b[0m\u001b[0mevaluate\u001b[0m\u001b[0;34m(\u001b[0m\u001b[0mind\u001b[0m\u001b[0;34m)\u001b[0m\u001b[0;34m\u001b[0m\u001b[0;34m\u001b[0m\u001b[0m\n",
            "\u001b[0;32m/usr/local/lib/python3.8/dist-packages/scipy/stats/kde.py\u001b[0m in \u001b[0;36m__init__\u001b[0;34m(self, dataset, bw_method, weights)\u001b[0m\n\u001b[1;32m    204\u001b[0m             \u001b[0mself\u001b[0m\u001b[0;34m.\u001b[0m\u001b[0m_neff\u001b[0m \u001b[0;34m=\u001b[0m \u001b[0;36m1\u001b[0m\u001b[0;34m/\u001b[0m\u001b[0msum\u001b[0m\u001b[0;34m(\u001b[0m\u001b[0mself\u001b[0m\u001b[0;34m.\u001b[0m\u001b[0m_weights\u001b[0m\u001b[0;34m**\u001b[0m\u001b[0;36m2\u001b[0m\u001b[0;34m)\u001b[0m\u001b[0;34m\u001b[0m\u001b[0;34m\u001b[0m\u001b[0m\n\u001b[1;32m    205\u001b[0m \u001b[0;34m\u001b[0m\u001b[0m\n\u001b[0;32m--> 206\u001b[0;31m         \u001b[0mself\u001b[0m\u001b[0;34m.\u001b[0m\u001b[0mset_bandwidth\u001b[0m\u001b[0;34m(\u001b[0m\u001b[0mbw_method\u001b[0m\u001b[0;34m=\u001b[0m\u001b[0mbw_method\u001b[0m\u001b[0;34m)\u001b[0m\u001b[0;34m\u001b[0m\u001b[0;34m\u001b[0m\u001b[0m\n\u001b[0m\u001b[1;32m    207\u001b[0m \u001b[0;34m\u001b[0m\u001b[0m\n\u001b[1;32m    208\u001b[0m     \u001b[0;32mdef\u001b[0m \u001b[0mevaluate\u001b[0m\u001b[0;34m(\u001b[0m\u001b[0mself\u001b[0m\u001b[0;34m,\u001b[0m \u001b[0mpoints\u001b[0m\u001b[0;34m)\u001b[0m\u001b[0;34m:\u001b[0m\u001b[0;34m\u001b[0m\u001b[0;34m\u001b[0m\u001b[0m\n",
            "\u001b[0;32m/usr/local/lib/python3.8/dist-packages/scipy/stats/kde.py\u001b[0m in \u001b[0;36mset_bandwidth\u001b[0;34m(self, bw_method)\u001b[0m\n\u001b[1;32m    552\u001b[0m             \u001b[0;32mraise\u001b[0m \u001b[0mValueError\u001b[0m\u001b[0;34m(\u001b[0m\u001b[0mmsg\u001b[0m\u001b[0;34m)\u001b[0m\u001b[0;34m\u001b[0m\u001b[0;34m\u001b[0m\u001b[0m\n\u001b[1;32m    553\u001b[0m \u001b[0;34m\u001b[0m\u001b[0m\n\u001b[0;32m--> 554\u001b[0;31m         \u001b[0mself\u001b[0m\u001b[0;34m.\u001b[0m\u001b[0m_compute_covariance\u001b[0m\u001b[0;34m(\u001b[0m\u001b[0;34m)\u001b[0m\u001b[0;34m\u001b[0m\u001b[0;34m\u001b[0m\u001b[0m\n\u001b[0m\u001b[1;32m    555\u001b[0m \u001b[0;34m\u001b[0m\u001b[0m\n\u001b[1;32m    556\u001b[0m     \u001b[0;32mdef\u001b[0m \u001b[0m_compute_covariance\u001b[0m\u001b[0;34m(\u001b[0m\u001b[0mself\u001b[0m\u001b[0;34m)\u001b[0m\u001b[0;34m:\u001b[0m\u001b[0;34m\u001b[0m\u001b[0;34m\u001b[0m\u001b[0m\n",
            "\u001b[0;32m/usr/local/lib/python3.8/dist-packages/scipy/stats/kde.py\u001b[0m in \u001b[0;36m_compute_covariance\u001b[0;34m(self)\u001b[0m\n\u001b[1;32m    564\u001b[0m                                                \u001b[0mbias\u001b[0m\u001b[0;34m=\u001b[0m\u001b[0;32mFalse\u001b[0m\u001b[0;34m,\u001b[0m\u001b[0;34m\u001b[0m\u001b[0;34m\u001b[0m\u001b[0m\n\u001b[1;32m    565\u001b[0m                                                aweights=self.weights))\n\u001b[0;32m--> 566\u001b[0;31m             \u001b[0mself\u001b[0m\u001b[0;34m.\u001b[0m\u001b[0m_data_inv_cov\u001b[0m \u001b[0;34m=\u001b[0m \u001b[0mlinalg\u001b[0m\u001b[0;34m.\u001b[0m\u001b[0minv\u001b[0m\u001b[0;34m(\u001b[0m\u001b[0mself\u001b[0m\u001b[0;34m.\u001b[0m\u001b[0m_data_covariance\u001b[0m\u001b[0;34m)\u001b[0m\u001b[0;34m\u001b[0m\u001b[0;34m\u001b[0m\u001b[0m\n\u001b[0m\u001b[1;32m    567\u001b[0m \u001b[0;34m\u001b[0m\u001b[0m\n\u001b[1;32m    568\u001b[0m         \u001b[0mself\u001b[0m\u001b[0;34m.\u001b[0m\u001b[0mcovariance\u001b[0m \u001b[0;34m=\u001b[0m \u001b[0mself\u001b[0m\u001b[0;34m.\u001b[0m\u001b[0m_data_covariance\u001b[0m \u001b[0;34m*\u001b[0m \u001b[0mself\u001b[0m\u001b[0;34m.\u001b[0m\u001b[0mfactor\u001b[0m\u001b[0;34m**\u001b[0m\u001b[0;36m2\u001b[0m\u001b[0;34m\u001b[0m\u001b[0;34m\u001b[0m\u001b[0m\n",
            "\u001b[0;32m/usr/local/lib/python3.8/dist-packages/scipy/linalg/basic.py\u001b[0m in \u001b[0;36minv\u001b[0;34m(a, overwrite_a, check_finite)\u001b[0m\n\u001b[1;32m    966\u001b[0m         \u001b[0minv_a\u001b[0m\u001b[0;34m,\u001b[0m \u001b[0minfo\u001b[0m \u001b[0;34m=\u001b[0m \u001b[0mgetri\u001b[0m\u001b[0;34m(\u001b[0m\u001b[0mlu\u001b[0m\u001b[0;34m,\u001b[0m \u001b[0mpiv\u001b[0m\u001b[0;34m,\u001b[0m \u001b[0mlwork\u001b[0m\u001b[0;34m=\u001b[0m\u001b[0mlwork\u001b[0m\u001b[0;34m,\u001b[0m \u001b[0moverwrite_lu\u001b[0m\u001b[0;34m=\u001b[0m\u001b[0;36m1\u001b[0m\u001b[0;34m)\u001b[0m\u001b[0;34m\u001b[0m\u001b[0;34m\u001b[0m\u001b[0m\n\u001b[1;32m    967\u001b[0m     \u001b[0;32mif\u001b[0m \u001b[0minfo\u001b[0m \u001b[0;34m>\u001b[0m \u001b[0;36m0\u001b[0m\u001b[0;34m:\u001b[0m\u001b[0;34m\u001b[0m\u001b[0;34m\u001b[0m\u001b[0m\n\u001b[0;32m--> 968\u001b[0;31m         \u001b[0;32mraise\u001b[0m \u001b[0mLinAlgError\u001b[0m\u001b[0;34m(\u001b[0m\u001b[0;34m\"singular matrix\"\u001b[0m\u001b[0;34m)\u001b[0m\u001b[0;34m\u001b[0m\u001b[0;34m\u001b[0m\u001b[0m\n\u001b[0m\u001b[1;32m    969\u001b[0m     \u001b[0;32mif\u001b[0m \u001b[0minfo\u001b[0m \u001b[0;34m<\u001b[0m \u001b[0;36m0\u001b[0m\u001b[0;34m:\u001b[0m\u001b[0;34m\u001b[0m\u001b[0;34m\u001b[0m\u001b[0m\n\u001b[1;32m    970\u001b[0m         raise ValueError('illegal value in %d-th argument of internal '\n",
            "\u001b[0;31mLinAlgError\u001b[0m: singular matrix"
          ]
        },
        {
          "output_type": "display_data",
          "data": {
            "text/plain": [
              "<Figure size 648x576 with 2 Axes>"
            ],
            "image/png": "[encoded data removed]"
          },
          "metadata": {
            "needs_background": "light"
          }
        }
      ]
    },
    {
      "cell_type": "markdown",
      "source": [
        "## Almacenamos a archivos zip"
      ],
      "metadata": {
        "id": "uLlF_tcrGYqX"
      }
    },
    {
      "cell_type": "code",
      "source": [
        "!zip -r file.zip '/content/Figures'"
      ],
      "metadata": {
        "id": "oeRTUFN8GYNi"
      },
      "execution_count": null,
      "outputs": []
    },
    {
      "cell_type": "markdown",
      "source": [
        "## Functions"
      ],
      "metadata": {
        "id": "OiPbEwKavvXJ"
      }
    },
    {
      "cell_type": "code",
      "source": [
        "def means_test(alternative,labels,samples,alpha=0.05):\n",
        "## Ho(Accepted): The difference between the pairs follows a symmetric distribution around zero.\n",
        "## Ha(Rejected): The difference between the pairs does not follow a symmetric distribution around zero.\n",
        "## We conduct the Mann-whitney U or two-sample t test alternative= {'two-sided', 'greater', 'less'} \n",
        "# ==============================================================================\n",
        "  ## Tipo de prueba\n",
        "\n",
        "    Ho   = labels[0]+'-'+labels[1]+': means the samples is of the same distribution.'\n",
        "    decision1   = 'We fail to reject the Ho; Ho accepted:'\n",
        "    if alternative == 'less':\n",
        "      message1='\\t: We fail to reject the null hypothesis; Ho accepted: \\n\\tThe difference between the pairs follows a symmetric distribution around zero.'\n",
        "      message2='\\t: *We reject the null hypothesis and accept alternative hypothesis Ha:\\n\\t'+labels[0]+'\\'s mean is less than '+labels[1]+'\\'s mean.'\n",
        "      Ho   = labels[0]+'-'+labels[1]+': The means difference of the samples from the same distribution.'\n",
        "      decision2   = 'We reject the Ho and accept Ha: '+labels[0]+'\\'s mean is less than '+labels[1]+'\\'s mean.'\n",
        "    if alternative == 'greater':\n",
        "      message2='\\t: *We reject the null hypothesis and accept alternative hypothesis Ha:\\n\\t'+labels[0]+'\\'s mean is greater than '+labels[1]+'\\'s mean.'\n",
        "      Ho   = labels[0]+'-'+labels[1]+': The means difference of the samples from the same distribution.'\n",
        "      decision2   = 'We reject the Ho and accept Ha: '+labels[0]+'\\'s mean is greater than '+labels[1]+'\\'s mean.'\n",
        "    if alternative == 'two-sided':\n",
        "      message2='\\t: *We reject the null hypothesis and accept alternative hypothesis Ha:\\n\\t The mean difference between the pairs not follows a symmetric distribution around zero.'\n",
        "      Ho   = labels[0]+'-'+labels[1]+': The means difference of the samples from the same distribution.'\n",
        "      decision2   = 'We reject the Ho and accept Ha: The means difference of the samples not from the same distribution.'\n",
        "\n",
        "    ## Checamos normalidad \n",
        "    normal=[]\n",
        "    i = 0\n",
        "    for s in samples:\n",
        "      if shapiro(s).pvalue > alpha:\n",
        "        normal.append(True)\n",
        "      else:\n",
        "        # print(labels[i],'\\t:',round(shapiro(s).statistic,4),'\\t',round(shapiro(s).pvalue,4),'\\tWe reject the null hypothesis and accept Ha: Sample is not from the normal distributions.')\n",
        "        normal.append(False)\n",
        "      i = i + 1\n",
        "\n",
        "    ## Checamos homocedasticidad\n",
        "    levene_test = stats.levene(samples[0], samples[1], center='mean')\n",
        "    equalvar=False\n",
        "    if levene_test.pvalue > alpha:\n",
        "        equalvar =True\n",
        "    #   print('[Harjk,Harduc]\\t:',round(levene_test.statistic,4),round(levene_test.pvalue,4),'\\tWe fail to reject the null hypothesis; Ho accepted: the variances are equal across all samples. (Po>0.05)')\n",
        "    # else:\n",
        "    #   print(labels[0],labels[1],'\\t:',round(levene_test.statistic,4),round(levene_test.pvalue,4),'\\tWe reject the Ho and accept Ha: the variances are not equal across all samples. (Po<=0.05)')\n",
        "    test = ''\n",
        "    if normal[0]==True and normal[1]==True and equalvar==True: ## T-test two samples\n",
        "      test = 'T-test for two samples'\n",
        "      # print(labels[0],labels[1],stats.ttest_ind(samples[0], samples[1], alternative=alternative) )\n",
        "      if stats.ttest_ind(samples[0], samples[1], alternative=alternative).pvalue > alpha:\n",
        "          # print('\\t',message1)\n",
        "          print(Ho,',',test,',', round(stats.ttest_ind(samples[0], samples[1], alternative=alternative).pvalue,4),',',decision1)\n",
        "      else:\n",
        "          # print('\\t',message2)\n",
        "          print(Ho,',',test,',', round(stats.ttest_ind(samples[0], samples[1], alternative=alternative).pvalue,4),',',decision2)\n",
        "    else: ## Mann-whitney U Test\n",
        "      test = 'Mann-whitney U'\n",
        "      # print(labels[0],labels[1],stats.mannwhitneyu(samples[0], samples[1], alternative=alternative) )\n",
        "      if stats.mannwhitneyu(samples[0], samples[1], alternative=alternative).pvalue > alpha:\n",
        "          # print('\\t',message1)\n",
        "          print(Ho,',',test,',', round(stats.mannwhitneyu(samples[0], samples[1], alternative=alternative).pvalue,4),',',decision1)\n",
        "      else:\n",
        "          # print('\\t',message2)\n",
        "          print(Ho,',',test,',', round(stats.mannwhitneyu(samples[0], samples[1], alternative=alternative).pvalue,4),',',decision2)\n",
        "## Kruskal-Wallis test discussion:  In this example, the test statistic comes out to be equal to 87 and the corresponding p-value is 2.1856E-17. \n",
        "## (As the p-value is not less than 0.05, we cannot reject the null hypothesis that the median of optimality gap is the same for all groups. \n",
        "## Hence, We don’t have sufficient proof to claim that the different types of methods used to lead to statistically significant differences in the acuracy of methods.)\n",
        "## (As the p-value is less than 0.05, we reject the null hypothesis that the median of optimality gap is the same for all groups. \n",
        "## Hence, We don’t have sufficient proof to reject that the different types of methods used to lead to statistically significant differences in the acuracy of methods.)"
      ],
      "metadata": {
        "id": "j24bhY-A-AK1"
      },
      "execution_count": null,
      "outputs": []
    },
    {
      "cell_type": "markdown",
      "source": [
        "## Pruebas de Normalidad de todos los métodos"
      ],
      "metadata": {
        "id": "f5bi4XAqdxjV"
      }
    },
    {
      "cell_type": "code",
      "source": [
        "# conduct the  Shapiro-Wilk Test\n",
        "## https://www.geeksforgeeks.org/how-to-perform-a-shapiro-wilk-test-in-python/\n",
        "## This is a hypotheses test and the two hypotheses are as follows:\n",
        "## Ho(Accepted): Sample is from the normal distributions.(Po>0.05)\n",
        "## Ha(Rejected): Sample is not from the normal distributions.\n",
        "## Example 1: Shapiro-Wilk test on the normally distributed sample in Python\n",
        "## In this example, we will be simply using the shapiro() function from \n",
        "## the scipy.stats library to Conduct a Shapiro-Wilk test on the randomly generated data with 500 data points in python. \n",
        "\n",
        "samples = (harjk,harduc,milp2,lbc1,lbc2,lbc3,lbc4,ks)\n",
        "labels  = ['Harjk','Harduc','MILP2','LB1','LB2','LB3','LB4','KS']\n",
        "normal  = []\n",
        "i       = 0\n",
        "test    = 'Shapiro-Wilk'\n",
        "print('Normality hypothesis test summary ('+filter+')')\n",
        "print('Null hypothesis,Test,Significance,Decision')\n",
        "for s in (samples):\n",
        "  Ho = labels[i]+' '+ 'is from the normal distributions.'\n",
        "  # print(labels[i],':', shapiro(s).statistic, shapiro(s).pvalue)\n",
        "  if shapiro(s).pvalue > 0.05:\n",
        "    decision='We fail to reject the Ho; Ho accepted: samples is from the normal distributions.'\n",
        "    print(labels[i]+' is from the normal distribution,',test,',', round(shapiro(s).pvalue,4),',',decision)\n",
        "    # print(labels[i],'\\t:',round(shapiro(s).statistic,4),'\\t',round(shapiro(s).pvalue,4),'\\tWe fail to reject the null hypothesis; Ho accepted: \\n\\tSample is from the normal distributions.(Po>0.05)')\n",
        "    normal.append(True)\n",
        "  else:\n",
        "    decision='We reject the null hypothesis Ho and accept Ha: samples is not from the normal distributions.'\n",
        "    print(labels[i]+' is from the normal distribution,',test,',', round(shapiro(s).pvalue,4),',',decision)\n",
        "    # print(labels[i],'\\t:',round(shapiro(s).statistic,4),'\\t',round(shapiro(s).pvalue,4),'\\tWe reject the null hypothesis and accept alternative hypothesis Ha: \\n\\tSample is not from the normal distributions.')\n",
        "    normal.append(False)\n",
        "  i = i + 1\n",
        "\n",
        "print('*  Significance level 0.05')\n",
        "print('** Significance level 0.01')\n",
        "## Output Interpretation:\n",
        "## Returns: (statistic: The test statistic, p-value: The p-value for the hypothesis test)\n",
        "## a)Since in the above example, the p-value is 0.73 which is more than the threshold(0.05) which is the alpha(0.05) then we fail to reject the null hypothesis \n",
        "##   i.e. we do (not have sufficient evidence) to say that sample does not come from a normal distribution.\n",
        "## b)Since in the above example, the p-value is 0.0001 which is less than the alpha(0.05) then we reject the null hypothesis \n",
        "##   i.e. we (have sufficient evidence) to say that sample does not come from a normal distribution."
      ],
      "metadata": {
        "id": "7lXF220lEnKZ"
      },
      "execution_count": null,
      "outputs": []
    },
    {
      "cell_type": "markdown",
      "source": [
        "## Estadistica inferencial para los métodos contructivos"
      ],
      "metadata": {
        "id": "PEm4AYwgau0q"
      }
    },
    {
      "cell_type": "markdown",
      "source": [
        "### Pruebas de Homocedasticidad entre los resultados de Harduc y Harjk"
      ],
      "metadata": {
        "id": "XPVgaGKQZMfd"
      }
    },
    {
      "cell_type": "code",
      "source": [
        "## homocedasticidad.\n",
        "## https://www.cienciadedatos.net/documentos/pystats07-test-homocedasticidad-heterocedasticidad-python.html\n",
        "## https://stats.stackexchange.com/questions/135232/bartletts-test-vs-levenes-test\n",
        "## We conducting Levene’s Test or Bartlett’s Test of homogeneity of variance we are dealing with two hypotheses. These two are simply put:\n",
        "## Ho(Accepted): the variances are equal across all samples\n",
        "## Ha(Rejected): the variances are not equal across all samples\n",
        "\n",
        "test    = 'Levene'\n",
        "print('Homoscedasticity hypothesis test summary ('+filter+')')\n",
        "print('Null hypothesis,Test,Significance,Decision')\n",
        "Ho = 'Harduc and Harjk'+': the variances are equal.'\n",
        "\n",
        "# Levene test\n",
        "# ==============================================================================\n",
        "levene_test = stats.levene(harjk, harduc, center='mean')\n",
        "# print(levene_test)\n",
        "equalvar=False\n",
        "if levene_test.pvalue > 0.05:\n",
        "    decision='We fail to reject the Ho; Ho accepted.'\n",
        "    print('Harjk,Harduc'+' the variances are equal across all samples,',test,',', round(levene_test.pvalue,4),',',decision)\n",
        "    # print('[Harjk,Harduc]\\t:',round(levene_test.statistic,4),round(levene_test.pvalue,4),'\\tWe fail to reject the null hypothesis; Ho accepted: the variances are equal across all samples. (Po>0.05)')\n",
        "    equalvar=True\n",
        "else:\n",
        "    decision='We reject the Ho and accept Ha: the variances are not equal.'\n",
        "    print('Harjk,Harduc'+' the variances are equal across all samples,',test,',', round(levene_test.pvalue,4),',',decision)\n",
        "    # print('[Harjk,Harduc]\\t:',round(levene_test.statistic,4),round(levene_test.pvalue,4),'\\tWe reject the null hypothesis and accept Ha: the variances are not equal across all samples. (Po<=0.05)')\n",
        "print('*  Significance level 0.05')\n",
        "print('** Significance level 0.01')\n",
        "print('\\n')\n",
        "\n",
        "\n",
        "# Fligner-Killeen\n",
        "# ==============================================================================\n",
        "fligner_test = stats.fligner(harjk, harduc, center='mean')\n",
        "print(fligner_test)\n",
        "if fligner_test.pvalue > 0.05:\n",
        "    print('[Harjk,Harduc]\\t:',round(fligner_test.statistic,4),round(fligner_test.pvalue,4),'\\tWe fail to reject the null hypothesis; Ho accepted: the variances are equal across all samples. (Po>0.05)')\n",
        "else:\n",
        "    print('[Harjk,Harduc]\\t:',round(fligner_test.statistic,4),round(fligner_test.pvalue,4),'\\tWe reject the null hypothesis and accept Ha: the variances are not equal across all samples. (Po<=0.05)')\n",
        "\n",
        "## Output Interpretation:\n",
        "## a) This means, for example, that if we get a p-value larger than 0.05 we can assume \n",
        "## hat our data is heteroscedastic and we can continue carrying out a parametric test \n",
        "## such as the two-sample t-test. \n",
        "## b) If we, on the other hand, get a statistically \n",
        "## significant result we may want to carry out the Mann-Whitney U test. \n",
        "## Ninguno de los test muestra evidencias para rechazar la hipótesis de que los \n",
        "## dos grupos tienen la misma varianza, homocedasticidad. p-value >>>> 0.05"
      ],
      "metadata": {
        "id": "2nBlWyV6I8an"
      },
      "execution_count": null,
      "outputs": []
    },
    {
      "cell_type": "markdown",
      "source": [
        "## Test of differences between Harduc and Harjk means  \n"
      ],
      "metadata": {
        "id": "h9t2Qzg3fPUS"
      }
    },
    {
      "cell_type": "code",
      "source": [
        "samples = (harduc,harjk)\n",
        "print('differences means test summary between Harduc and Harjk ('+filter+')')\n",
        "print('Null hypothesis,Test,Significance,Decision')\n",
        "\n",
        "labels = ['Harduc','Harjk']\n",
        "means_test('less',labels,samples,alpha=0.05)\n",
        "\n",
        "print('*  Significance level 0.05')\n",
        "print('** Significance level 0.01')\n",
        "print('\\n')\n",
        "\n",
        "## Output Interpretation:\n",
        "## In the above example, the p-value is 0.2 which is less than the threshold(0.05) which is the alpha(0.05) \n",
        "## i.e. p-value<alpha which means the sample is of the same distribution \n",
        "## and the sample distributions are equal if in the case if the p-value>0.05 than it would be opposite."
      ],
      "metadata": {
        "id": "_97b_pAJ-93K"
      },
      "execution_count": null,
      "outputs": []
    },
    {
      "cell_type": "markdown",
      "source": [
        "## Analysis of variance between all methods using ANOVA or Kruskal-wallis \n",
        "\n",
        "https://www.geeksforgeeks.org/how-to-perform-a-kruskal-wallis-test-in-python/\n"
      ],
      "metadata": {
        "id": "KF7loWtrU2rc"
      }
    },
    {
      "cell_type": "code",
      "source": [
        "## Ho(Accepted): The mean for each population is equal.\n",
        "## Ha(Rejected): At least one population mean is different from the rest.\n",
        "## We conduct the ANOVA or Kruskal-wallis test\n",
        "# ==============================================================================\n",
        "labels = ['MILP2','LB1','LB2','LB3','LB4','KS']\n",
        "\n",
        "print('Analysis of variance summary ('+filter+')')\n",
        "print('Null hypothesis,Test,Significance,Decision')\n",
        "Ho = 'MILP2 LB1 LB2 LB3 LB4 KS'+': The mean for each population is equal.'\n",
        "\n",
        "if normal[2]==True and normal[3]==True and normal[4]==True and normal[5]==True and normal[6]==True and normal[7]==True:\n",
        "  test='ANOVA one way'\n",
        "  #print(stats.f_oneway(milp2,lbc1,lbc2,lbc3,lbc4,ks))\n",
        "  if stats.f_oneway(milp2,lbc1,lbc2,lbc3,lbc4,ks).pvalue > 0.05:\n",
        "      decision='We fail to reject the Ho; Ho accepted.'\n",
        "      print(Ho,test,',', round(stats.f_oneway(milp2,lbc1,lbc2,lbc3,lbc4,ks).pvalue,4),',',decision)\n",
        "      # print('[All heuristics]:','\\tWe fail to reject the null hypothesis; Ho accepted:\\n\\tThe mean for each population is equal.')\n",
        "  else:\n",
        "      decision='We reject the Ho and accept Ha: at least one population mean is different from the rest.'\n",
        "      print(Ho,test,',', round(stats.f_oneway(milp2,lbc1,lbc2,lbc3,lbc4,ks).pvalue,4),',',decision)\n",
        "      # print('[All heuristics]:','\\tWe reject the null hypothesis and accept alternative hypothesis Ha:\\n\\tAt least one population mean is different from the rest.')\n",
        "else:\n",
        "  test='Kruskal-wallis test'\n",
        "  #print(stats.kruskal(milp2,lbc1,lbc2,lbc3,lbc4,ks))\n",
        "  if stats.kruskal(milp2,lbc1,lbc2,lbc3,lbc4,ks).pvalue > 0.05:\n",
        "      decision='We fail to reject the Ho; Ho accepted.'\n",
        "      print(Ho,test,',', round(stats.kruskal(milp2,lbc1,lbc2,lbc3,lbc4,ks).pvalue,4),',',decision)\n",
        "      # print('[All heuristics]:','\\tWe fail to reject the null hypothesis; Ho accepted:\\n\\tThe mean for each population is equal.')\n",
        "  else:\n",
        "      decision='We reject the Ho and accept Ha: at least one population mean is different from the rest.'\n",
        "      print(Ho,test,',', round(stats.kruskal(milp2,lbc1,lbc2,lbc3,lbc4,ks).pvalue,4),',',decision)\n",
        "print('*  Significance level 0.05')\n",
        "print('** Significance level 0.01')\n",
        "print('\\n')\n",
        "## Output Interpretation:\n",
        "## Null Hypothesis: There is no significant difference between the given conditions of measurement OR the probability \n",
        "## distributions for all the conditions are the same. (Medians are same)\n",
        "## In this example, the test statistic is 13.3514 and the corresponding p-value is p = 0.00126. \n",
        "## Since this p-value is less than 0.05, we can reject the null hypothesis that the mean response time is the same for all three drugs.\n",
        "## In other words, we have sufficient evidence to conclude that the type of drug used leads to statistically significant differences in response time."
      ],
      "metadata": {
        "id": "jIDlKZerVPc8"
      },
      "execution_count": null,
      "outputs": []
    },
    {
      "cell_type": "markdown",
      "source": [
        "## Post-Hoc analysis"
      ],
      "metadata": {
        "id": "KlYZGEgF4FQg"
      }
    },
    {
      "cell_type": "code",
      "source": [
        "## We applying the Post Hoc analysis with Mann-whitney U Test to know which pairs have a significant difference between them.\n",
        "## The Mann–Whitney U test is applied to independent samples.\n",
        "# ==============================================================================\n",
        "## We conduct the Mann-whitney U {“two-sided”, “greater”, “less”}, optional\n",
        "# ==============================================================================\n",
        "samples= [ milp2,lbc1,lbc2,lbc3,lbc4,ks ]\n",
        "labels = ['MILP2','LB1','LB2','LB3','LB4','KS']\n",
        "means  = []\n",
        "print('\\n RANKING ==============================================================================\\n')\n",
        "i = 0\n",
        "ordered_labels  = []\n",
        "ordered_samples = []\n",
        "for s in samples:\n",
        "  means.append((i,np.mean(s)))\n",
        "  i = i + 1\n",
        "means.sort(key=lambda tup: tup[1], reverse=False) ##reverse=False\n",
        "i = 0\n",
        "for m in means:  \n",
        "  ordered_samples.append(samples[m[0]])\n",
        "  ordered_labels.append(labels[m[0]])\n",
        "  i = i + 1\n",
        "  print(labels[m[0]],m[1])\n",
        "print('\\n Ha:less,alpha=0.05 ==============================================================================\\n')\n",
        "print('Means difference hypothesis test summary ('+filter+')')\n",
        "print('Null hypothesis,Test,Significance,Decision')\n",
        "for i in range(len(ordered_labels)):\n",
        "  for j in range(len(ordered_labels)):\n",
        "    if j > i:\n",
        "      means_test('less',(ordered_labels[i],ordered_labels[j]),(ordered_samples[i],ordered_samples[j]),alpha=0.05)\n",
        "print('\\n Ha:less,alpha=0.01 ==============================================================================\\n')\n",
        "for i in range(len(ordered_labels)):\n",
        "  for j in range(len(ordered_labels)):\n",
        "    if j > i:\n",
        "      means_test('less',(ordered_labels[i],ordered_labels[j]),(ordered_samples[i],ordered_samples[j]),alpha=0.01)"
      ],
      "metadata": {
        "id": "KA0g_tnl3-jf"
      },
      "execution_count": null,
      "outputs": []
    },
    {
      "cell_type": "markdown",
      "source": [
        "## Descartes"
      ],
      "metadata": {
        "id": "-bObL_YW-7P9"
      }
    },
    {
      "cell_type": "code",
      "source": [
        "# Conduct the Kruskal-Wallis Test\n",
        "result = stats.kruskal(milp2,lbc1,lbc2,lbc3,lbc4,ks)\n",
        "\n",
        "# Print the result\n",
        "print(result)\n",
        "#Kruskal-Wallis test discussion:  In this example, the test statistic comes out to be equal to 87 and the corresponding p-value is 2.1856E-17. \n",
        "#(As the p-value is not less than 0.05, we cannot reject the null hypothesis that the median of optimality gap is the same for all groups. Hence, We don’t have sufficient proof to claim that the different types of methods used to lead to statistically significant differences in the acuracy of methods.)\n",
        "#(As the p-value is less than 0.05, we reject the null hypothesis that the median of optimality gap is the same for all groups. Hence, We don’t have sufficient proof to reject that the different types of methods used to lead to statistically significant differences in the acuracy of methods.)"
      ],
      "metadata": {
        "id": "adpMXMMSGO-t"
      },
      "execution_count": null,
      "outputs": []
    },
    {
      "cell_type": "code",
      "source": [
        "## https://www.geeksforgeeks.org/data-visualization-with-python-seaborn/\n",
        "if False:\n",
        "  nor  = np.random.normal(size=100) \n",
        "  nor  = nor + 5\n",
        "  ale  = np.random.uniform(size=100) \n",
        "  nor1 = np.random.normal(size=100) \n",
        "  nor1  = nor1 + 5\n",
        "  ale1 = np.random.uniform(size=100)\n",
        "  ale1  = ale1 + 5\n",
        "  nor2 = np.random.normal(size=100)\n",
        "  nor2  = nor2 + 5\n",
        "  ale2 = np.random.uniform(size=100)  #'N','A','N1','A1','N2','A2',,nor,ale,nor1,ale1,nor2,ale2\n",
        "  ale2  = ale2 + 5\n",
        "  fig, ax = plt.subplots(figsize=(8, 6))\n",
        "  method1 = ['nor' ]*(len(nor))\n",
        "  method2 = ['ale' ]*(len(ale))\n",
        "  method3 = ['nor1']*(len(nor1))\n",
        "  method4 = ['ale1']*(len(ale1))\n",
        "  method5 = ['nor2']*(len(nor2))\n",
        "  method6 = ['ale2']*(len(ale2))\n",
        "  method  = method1 + method2 + method3 + method4 + method5 + method6\n",
        "  data    = np.concatenate((nor,ale,nor1,ale1,nor2,ale2), axis=0)\n",
        "  # initialise data of lists.\n",
        "  data = {'gap'       :data,\n",
        "          'method'  :method}  \n",
        "  df1 = pd.DataFrame( data )\n",
        "  sns.histplot(df1, x=\"gap\", hue=\"method\", element=\"step\") #,bins=15\n",
        "\n",
        "  print('Mann-whitney U test NOR-ALE')\n",
        "  if stats.mannwhitneyu(ale, nor, alternative='less').pvalue > 0.05:\n",
        "      print('[ale,nor]\\t:','We fail to reject the null hypothesis; Ho accepted: The median difference between the pairs follows a symmetric distribution around zero.')\n",
        "  else:\n",
        "      print('[ale,nor]\\t:','We reject the null hypothesis and accept Ha: The median difference is positive α=0.05. Ale\\'s mean is lower than Nor\\'s mean.')\n",
        "\n",
        "  print('kruskal-wallis test nor,ale1,nor1,ale2,nor2') ## ale,\n",
        "  if stats.kruskal(ale,nor,nor1,nor2).pvalue > 0.05:\n",
        "      print('[All heuristics]\\t:','We fail to reject the null hypothesis; Ho accepted: The mean for each population is equal.')\n",
        "  else:\n",
        "      print('[All heuristics]\\t:','We reject the null hypothesis and accept Ha: At least one population mean is different from the rest: α=0.05.')\n"
      ],
      "metadata": {
        "id": "3114uAwrclTI"
      },
      "execution_count": null,
      "outputs": []
    },
    {
      "cell_type": "markdown",
      "source": [
        "### Wilcoxon test\n",
        "https://www.geeksforgeeks.org/how-to-conduct-a-wilcoxon-signed-rank-test-in-python/\n",
        "\n",
        "https://pythonfordatascienceorg.wordpress.com/wilcoxon-sign-ranked-test-python/\n",
        "\n",
        "https://www.cienciadedatos.net/documentos/18_prueba_de_los_rangos_con_signo_de_wilcoxon\n",
        "\n",
        "Comparaxion medias\n",
        "\n",
        "https://www.cienciadedatos.net/documentos/pystats11-wilcoxon-mann-whitney-u-test-python\n",
        "\n",
        "https://www.cienciadedatos.net/documentos/pystats10-t-test-python.html\n",
        "\n",
        "https://www.cienciadedatos.net/documentos/pystats09-analisis-de-varianza-anova-python.html\n",
        "\n",
        "https://www.cienciadedatos.net/documentos/15_inferencia_para_proporciones"
      ],
      "metadata": {
        "id": "CjAQWTIsAtHA"
      }
    }
  ]
}